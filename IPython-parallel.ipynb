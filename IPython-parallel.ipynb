{
 "metadata": {
  "name": "IPython-parallel"
 },
 "nbformat": 3,
 "nbformat_minor": 0,
 "worksheets": [
  {
   "cells": [
    {
     "cell_type": "markdown",
     "metadata": {
      "slideshow": {
       "slide_type": "slide"
      }
     },
     "source": "# IPython parallel\n\nIPython prili\u010dno jednostavno omogu\u0107ava paralelizaciju koda. Dokumentaciju mo\u017eete na\u0107i ovdje: [Using IPython for parallel computing](http://ipython.org/ipython-doc/dev/parallel/).\n\nNo modifikacija IPython notebook u Sagemath oblaku to ne omogu\u0107uje. No u Sagemath oblaku imamo opciju pokretnuti _\u010disti_ Ipython notebook tako \u0161to u terminalu izvr\u0161imo naredbu\n```ipython-notebook run```\nU terminalu \u0107e se pojaviti poruka oblika:\n```\nThe IPython Notebook server is running at\n \n      https://cloud.sagemath.com/8c28ee8d-31fd-428a-ad1e-5ec2ea3cfabe/port/52251/\n```      \nOtvorimo li taj link u pregledniku, dobit \u0107emo _IPython Dashboard_, s popisom notebooka. Ako kliknemo na menu _Clusters_ mo\u017eemo podesiti broj procesora (_# of engines_). Stavimo recimo na 4. "
    },
    {
     "cell_type": "markdown",
     "metadata": {
      "slideshow": {
       "slide_type": "slide"
      }
     },
     "source": "U nastavku \u0107emo pokazati na jednostavnom primjeru kako koristiti paralelizaciju u IPython notebooku."
    },
    {
     "cell_type": "code",
     "collapsed": false,
     "input": "from IPython.parallel import Client",
     "language": "python",
     "metadata": {
      "slideshow": {
       "slide_type": "fragment"
      }
     },
     "outputs": [],
     "prompt_number": 1
    },
    {
     "cell_type": "code",
     "collapsed": false,
     "input": "cli = Client()",
     "language": "python",
     "metadata": {
      "slideshow": {
       "slide_type": "fragment"
      }
     },
     "outputs": [],
     "prompt_number": 2
    },
    {
     "cell_type": "markdown",
     "metadata": {
      "slideshow": {
       "slide_type": "slide"
      }
     },
     "source": "S atributom `ids` dobijamo listu procesora u klasteru:"
    },
    {
     "cell_type": "code",
     "collapsed": false,
     "input": "cli.ids",
     "language": "python",
     "metadata": {
      "slideshow": {
       "slide_type": "fragment"
      }
     },
     "outputs": [
      {
       "metadata": {},
       "output_type": "pyout",
       "prompt_number": 3,
       "text": "[0, 1, 2, 3]"
      }
     ],
     "prompt_number": 3
    },
    {
     "cell_type": "markdown",
     "metadata": {
      "slideshow": {
       "slide_type": "slide"
      }
     },
     "source": "Sada mo\u017eemo izabirati \u0161to se izvodi na kojem procesoru."
    },
    {
     "cell_type": "code",
     "collapsed": false,
     "input": "def getpid():\n    \"\"\" vra\u0107a jedinstveni ID trenutnog procesora \"\"\"\n    import os\n    return os.getpid()",
     "language": "python",
     "metadata": {
      "slideshow": {
       "slide_type": "fragment"
      }
     },
     "outputs": [],
     "prompt_number": 4
    },
    {
     "cell_type": "code",
     "collapsed": false,
     "input": "# procesor u kojem se vrti notebook\ngetpid()",
     "language": "python",
     "metadata": {
      "slideshow": {
       "slide_type": "fragment"
      }
     },
     "outputs": [
      {
       "metadata": {},
       "output_type": "pyout",
       "prompt_number": 5,
       "text": "25198"
      }
     ],
     "prompt_number": 5
    },
    {
     "cell_type": "code",
     "collapsed": false,
     "input": "# na prvom procesoru\ncli[0].apply_sync(getpid)",
     "language": "python",
     "metadata": {
      "slideshow": {
       "slide_type": "fragment"
      }
     },
     "outputs": [
      {
       "metadata": {},
       "output_type": "pyout",
       "prompt_number": 6,
       "text": "5742"
      }
     ],
     "prompt_number": 6
    },
    {
     "cell_type": "code",
     "collapsed": false,
     "input": "# na svim procesorima\ncli[:].apply_sync(getpid)",
     "language": "python",
     "metadata": {
      "slideshow": {
       "slide_type": "fragment"
      }
     },
     "outputs": [
      {
       "metadata": {},
       "output_type": "pyout",
       "prompt_number": 7,
       "text": "[5742, 5724, 5757, 5690]"
      }
     ],
     "prompt_number": 7
    },
    {
     "cell_type": "markdown",
     "metadata": {
      "slideshow": {
       "slide_type": "slide"
      }
     },
     "source": "Najjednostavnije kori\u0161tenje je pomo\u0107u dekoratora:\n\n    @view.parallel(block=True)\n\nPrimjer:"
    },
    {
     "cell_type": "code",
     "collapsed": false,
     "input": "dview = cli[:]",
     "language": "python",
     "metadata": {
      "slideshow": {
       "slide_type": "fragment"
      }
     },
     "outputs": [],
     "prompt_number": 8
    },
    {
     "cell_type": "code",
     "collapsed": false,
     "input": "@dview.parallel(block=True)\ndef dummy_task(delay):\n    \"\"\" funkcija koja ni\u0161ta ne radi \"\"\"\n    import os, time\n\n    t0 = time.time()\n    pid = os.getpid()\n    time.sleep(delay)\n    t1 = time.time()\n    \n    return [pid, t0, t1]",
     "language": "python",
     "metadata": {
      "slideshow": {
       "slide_type": "fragment"
      }
     },
     "outputs": [],
     "prompt_number": 9
    },
    {
     "cell_type": "code",
     "collapsed": false,
     "input": "# generiramo slu\u010dajno ka\u0161njenje\ndelay_times = numpy.random.rand(4)",
     "language": "python",
     "metadata": {
      "slideshow": {
       "slide_type": "fragment"
      }
     },
     "outputs": [],
     "prompt_number": 10
    },
    {
     "cell_type": "markdown",
     "metadata": {
      "slideshow": {
       "slide_type": "slide"
      }
     },
     "source": "Da bi mapirali funkciju `dummy_task` na podatke, koristimo `map` metodu u `dummy_task`:"
    },
    {
     "cell_type": "code",
     "collapsed": false,
     "input": "dummy_task.map(delay_times)",
     "language": "python",
     "metadata": {
      "slideshow": {
       "slide_type": "fragment"
      }
     },
     "outputs": [
      {
       "metadata": {},
       "output_type": "pyout",
       "prompt_number": 11,
       "text": "[[5742, 1396813951.079907, 1396813951.526779],\n [5724, 1396813951.081332, 1396813951.5147],\n [5757, 1396813951.084249, 1396813951.935459],\n [5690, 1396813951.08643, 1396813951.897215]]"
      }
     ],
     "prompt_number": 11
    },
    {
     "cell_type": "markdown",
     "metadata": {
      "slideshow": {
       "slide_type": "slide"
      }
     },
     "source": "Napravimo sada to na vi\u0161e zadataka i vizualizirajmo \u0161to se de\u0161ava:"
    },
    {
     "cell_type": "code",
     "collapsed": false,
     "input": "def visualize_tasks(results):\n    res = numpy.array(results)\n    fig, ax = subplots(figsize=(10, res.shape[1]))\n    \n    yticks = []\n    yticklabels = []\n    tmin = min(res[:,1])\n    for n, pid in enumerate(numpy.unique(res[:,0])):\n        yticks.append(n)\n        yticklabels.append(\"%d\" % pid)\n        for m in numpy.where(res[:,0] == pid)[0]:\n            ax.add_patch(Rectangle((res[m,1] - tmin, n-0.25),\n                         res[m,2] - res[m,1], 0.5, color=\"green\", alpha=0.5))\n        \n    ax.set_ylim(-.5, n+.5)\n    ax.set_xlim(0, max(res[:,2]) - tmin + 0.)\n    ax.set_yticks(yticks)\n    ax.set_yticklabels(yticklabels)\n    ax.set_ylabel(\"PID\")\n    ax.set_xlabel(\"sekunde\")",
     "language": "python",
     "metadata": {
      "slideshow": {
       "slide_type": "fragment"
      }
     },
     "outputs": [],
     "prompt_number": 12
    },
    {
     "cell_type": "code",
     "collapsed": false,
     "input": "delay_times = numpy.random.rand(64)",
     "language": "python",
     "metadata": {
      "slideshow": {
       "slide_type": "slide"
      }
     },
     "outputs": [],
     "prompt_number": 13
    },
    {
     "cell_type": "code",
     "collapsed": false,
     "input": "result = dummy_task.map(delay_times)\nvisualize_tasks(result)",
     "language": "python",
     "metadata": {
      "slideshow": {
       "slide_type": "fragment"
      }
     },
     "outputs": [
      {
       "metadata": {},
       "output_type": "display_data",
       "png": "[encoded data removed]",
       "text": "<matplotlib.figure.Figure at 0x38c5dd0>"
      }
     ],
     "prompt_number": 14
    },
    {
     "cell_type": "markdown",
     "metadata": {
      "slideshow": {
       "slide_type": "slide"
      }
     },
     "source": "Za balansiranje mo\u017eemo koristiti `load_balanced_view` metodu:"
    },
    {
     "cell_type": "code",
     "collapsed": false,
     "input": "lbview = cli.load_balanced_view()",
     "language": "python",
     "metadata": {
      "slideshow": {
       "slide_type": "fragment"
      }
     },
     "outputs": [],
     "prompt_number": 15
    },
    {
     "cell_type": "code",
     "collapsed": false,
     "input": "@lbview.parallel(block=True)\ndef dummy_task_load_balanced(delay):\n    \"\"\" funkcija koja ni\u0161ta ne radi  \"\"\"\n    import os, time\n\n    t0 = time.time()\n    pid = os.getpid()\n    time.sleep(delay)\n    t1 = time.time()\n    \n    return [pid, t0, t1]",
     "language": "python",
     "metadata": {
      "slideshow": {
       "slide_type": "fragment"
      }
     },
     "outputs": [],
     "prompt_number": 16
    },
    {
     "cell_type": "code",
     "collapsed": false,
     "input": "result = dummy_task_load_balanced.map(delay_times)\nvisualize_tasks(result)",
     "language": "python",
     "metadata": {
      "slideshow": {
       "slide_type": "subslide"
      }
     },
     "outputs": [
      {
       "metadata": {},
       "output_type": "display_data",
       "png": "[encoded data removed]",
       "text": "<matplotlib.figure.Figure at 0x3b81310>"
      }
     ],
     "prompt_number": 17
    },
    {
     "cell_type": "markdown",
     "metadata": {
      "slideshow": {
       "slide_type": "fragment"
      }
     },
     "source": "Vidimo da su sada procesori bolje iskori\u0161teni."
    }
   ],
   "metadata": {}
  }
 ]
}