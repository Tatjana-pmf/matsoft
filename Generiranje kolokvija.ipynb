{
 "cells": [
  {
   "cell_type": "markdown",
   "metadata": {},
   "source": [
    "# Skripta za generiranje kolokvija\n",
    "\n",
    "Skripta generira $\\LaTeX$ dokument s slučajno generiranim kolokvijima. Studenti se učitavaju iz datoteke."
   ]
  },
  {
   "cell_type": "markdown",
   "metadata": {},
   "source": [
    "### Najprije definiramo stringove koji sadrže zaglavlje i kraj dokumenta"
   ]
  },
  {
   "cell_type": "code",
   "execution_count": 1,
   "metadata": {},
   "outputs": [],
   "source": [
    "header1 = r\"\"\"\\documentclass[a4paper,11pt]{article}\n",
    "\\usepackage[utf8]{inputenc}\n",
    "\\usepackage[T1]{fontenc}\n",
    "\\usepackage[croatian]{babel}\n",
    "\\usepackage{minted}\n",
    "\\usepackage{amsmath,amsfonts}\n",
    "\\usepackage{graphicx}\n",
    "\\usepackage{booktabs}\n",
    "\\usepackage[hmargin=1.5cm,vmargin=1cm]{geometry}\n",
    "\\pagestyle{empty}\n",
    "\\begin{document}\n",
    "\"\"\"\n",
    "header2 = r\"\"\"\\begin{center}\n",
    "\t{\\LARGE \\textbf{1.\\ kolokvij iz Matematičkog sofvera}}\\\\\n",
    "\t{\\Large\\textbf{12.\\ svibnja 2017.}}\\\\\n",
    "\\end{center}\n",
    "\n",
    "\"\"\"\n",
    "header3=r\"\"\"\\begin{enumerate}\n",
    "\"\"\"\n",
    "footer1 = r\"\"\"\\end{enumerate}\n",
    "\n",
    "\\vspace{5mm}\n",
    "\n",
    "\\textbf{Uputa}: Kolokvij se piše u Jupyter bilježnici (unutar direktorija \\textit{1.\\ kolokvij}) \n",
    "koju sam kreirao u tu svrhu. \n",
    " \n",
    "\n",
    "Drugi zadatak se rješava korištenjem biblioteke \\texttt{Numpy}, \n",
    "treći korištenjem biblioteke \\texttt{Scipy}, četvrti korištenjem \n",
    "biblioteke \\texttt{Matplotlib} a peti korištenjem biblioteke \\texttt{Sympy}.\n",
    "\n",
    "\n",
    "\\vspace{5mm}\n",
    "\n",
    "\\begin{flushright}\n",
    "Potpis studenta:\t\n",
    "\\end{flushright}\n",
    "\t\n",
    "\\newpage\n",
    "\n",
    "\"\"\"\n",
    "footer2=r\"\"\"\n",
    "\\end{document}\n",
    "\"\"\""
   ]
  },
  {
   "cell_type": "markdown",
   "metadata": {},
   "source": [
    "### Učitavanje potrebnih paketa & podataka"
   ]
  },
  {
   "cell_type": "code",
   "execution_count": 2,
   "metadata": {},
   "outputs": [],
   "source": [
    "from numpy import random\n",
    "with open('studenti.txt','r') as f:\n",
    "    studenti = list(f)\n",
    "broj_studenata = len(studenti)\n",
    "broj_zadataka = 30"
   ]
  },
  {
   "cell_type": "markdown",
   "metadata": {},
   "source": [
    "### Kreiranje datoteke"
   ]
  },
  {
   "cell_type": "code",
   "execution_count": 3,
   "metadata": {},
   "outputs": [],
   "source": [
    "datoteka = \"ms_kol1.tex\"\n",
    "\n",
    "with open(datoteka,'w') as f:\n",
    "    f.write(header1+'\\n')\n",
    "    for i in range(broj_studenata):\n",
    "        random.seed()\n",
    "        r=random.randint(1,broj_zadataka,5)\n",
    "        f.write(header2)\n",
    "        f.write(\"\\\\begin{center}{\\large \\\\textbf{Student: \"+studenti[i][:-1]+\"}}\\end{center}\\n\\n\")\n",
    "        f.write(header3)\n",
    "        for j in range(5):\n",
    "            z = str(j+1)+str(r[j]).zfill(2)\n",
    "            f.write('\\\\input zadaci-1/z'+z+'\\n')  \n",
    "        f.write(footer1)\n",
    "    f.write(footer2)"
   ]
  }
 ],
 "metadata": {
  "kernelspec": {
   "display_name": "Python 3",
   "language": "python",
   "name": "python3"
  },
  "language_info": {
   "codemirror_mode": {
    "name": "ipython",
    "version": 3
   },
   "file_extension": ".py",
   "mimetype": "text/x-python",
   "name": "python",
   "nbconvert_exporter": "python",
   "pygments_lexer": "ipython3",
   "version": "3.6.1"
  }
 },
 "nbformat": 4,
 "nbformat_minor": 1
}
