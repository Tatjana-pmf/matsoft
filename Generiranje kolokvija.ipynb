{
 "metadata": {
  "name": ""
 },
 "nbformat": 3,
 "nbformat_minor": 0,
 "worksheets": [
  {
   "cells": [
    {
     "cell_type": "markdown",
     "metadata": {},
     "source": [
      "#Skripta za generiranje kolokvija\n",
      "\n",
      "Skripta generira $\\LaTeX$ dokument s slu\u010dajno generiranim kolokvijima. Studenti se u\u010ditavaju iz datoteke."
     ]
    },
    {
     "cell_type": "markdown",
     "metadata": {},
     "source": [
      "###Najprije definiramo stringove koji sadr\u017ee zaglavlje i kraj dokumenta"
     ]
    },
    {
     "cell_type": "code",
     "collapsed": false,
     "input": [
      "header1 = \"\"\"\\documentclass[a4paper,11pt]{article}\n",
      "\\usepackage[utf8]{inputenc}\n",
      "\\usepackage[T1]{fontenc}\n",
      "\\usepackage[croatian]{babel}\n",
      "\\usepackage{minted}\n",
      "\\usepackage{amsmath,amsfonts}\n",
      "\\usepackage{graphicx}\n",
      "\\usepackage{booktabs}\n",
      "\\usepackage[hmargin=1.5cm,vmargin=1cm]{geometry}\n",
      "\\pagestyle{empty}\n",
      "\\\\begin{document}\n",
      "\"\"\"\n",
      "header2 = \"\"\"\\\\begin{center}\n",
      "\t{\\LARGE \\\\textbf{1.\\ kolokvij iz Matemati\u010dkog sofvera}}\\\\\\\\\n",
      "\t{\\Large\\\\textbf{15.\\ travnja 2014.}}\\\\\\\\\n",
      "\\end{center}\n",
      "\n",
      "\"\"\"\n",
      "header3=\"\"\"\\\\begin{enumerate}\n",
      "\"\"\"\n",
      "footer1 = \"\"\"\\end{enumerate}\n",
      "\n",
      "\\\\vspace{5mm}\n",
      "\n",
      "\\\\textbf{Uputa}: Kolokvij rje\u0161avate unutar projekta pomo\u0107u kojeg ste se registrirali za kolokvij. \n",
      "Cijeli kolokvij rje\u0161avate unutar jednog IPython notebook-a. \n",
      "\n",
      "Drugi zadatak se rje\u0161ava kori\u0161tenjem biblioteke \\\\texttt{Numpy}, tre\u0107i kori\u0161tenjem biblioteke \\\\texttt{Scipy}, \u010detvrti kori\u0161tenjem \n",
      "biblioteke \\\\texttt{Matplotlib} a peti kori\u0161tenjem biblioteke \\\\texttt{Sympy}.\n",
      "\n",
      "\\\\vspace{5mm}\n",
      "\n",
      "\\\\begin{flushright}\n",
      "Potpis studenta:\t\n",
      "\\end{flushright}\n",
      "\t\n",
      "\\\\newpage\n",
      "\n",
      "\"\"\"\n",
      "footer2=\"\"\"\n",
      "\\end{document}\n",
      "\"\"\""
     ],
     "language": "python",
     "metadata": {},
     "outputs": [],
     "prompt_number": 2
    },
    {
     "cell_type": "markdown",
     "metadata": {},
     "source": [
      "###U\u010ditavanje potrebnih paketa & podataka"
     ]
    },
    {
     "cell_type": "code",
     "collapsed": false,
     "input": [
      "from numpy import random\n",
      "f = open('studenti.txt','r')\n",
      "studenti = list(f)\n",
      "f.close()\n",
      "broj_studenata = len(studenti)\n",
      "broj_zadataka = 5"
     ],
     "language": "python",
     "metadata": {},
     "outputs": [],
     "prompt_number": 4
    },
    {
     "cell_type": "markdown",
     "metadata": {},
     "source": [
      "###Kreiranje datoteke"
     ]
    },
    {
     "cell_type": "code",
     "collapsed": false,
     "input": [
      "datoteka = \"ms_kol1.tex\"\n",
      "\n",
      "f = open(datoteka,'w')\n",
      "f.write(header1+'\\n')\n",
      "for i in range(broj_studenata):\n",
      "    random.seed()\n",
      "    r=random.random_integers(1,broj_zadataka,5)\n",
      "    f.write(header2)\n",
      "    f.write(\"\\\\begin{center}{\\large \\\\textbf{Student: \"+studenti[i][:-1]+\"}}\\end{center}\\n\\n\")\n",
      "    f.write(header3)\n",
      "    for j in range(5):\n",
      "        z = str(j+1)+str(r[j]).zfill(2)\n",
      "        f.write('\\\\input zadaci/z'+z+'\\n')  \n",
      "    f.write(footer1)\n",
      "f.write(footer2)\n",
      "f.close()"
     ],
     "language": "python",
     "metadata": {},
     "outputs": [],
     "prompt_number": 3
    }
   ],
   "metadata": {}
  }
 ]
}