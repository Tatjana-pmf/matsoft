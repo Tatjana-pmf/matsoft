{
 "cells": [
  {
   "cell_type": "markdown",
   "metadata": {
    "slideshow": {
     "slide_type": "slide"
    }
   },
   "source": [
    "#Pandas\n",
    "\n",
    "[Pandas](http://pandas.pydata.org/) je biblioteka za analizu podataka. Ilustrirat ćemo njeno korištenje na jednostavnom primjeru analize podataka iz IMDB baze.\n",
    "\n",
    "Također ćemo koristiti biblioteku [pattern](http://www.clips.ua.ac.be/pages/pattern), koja služi za rudarenje podataka s Interneta. No kako iz Sagemath oblaka nemamo pristup IMDBu, podatke sam dohvatio lokalno."
   ]
  },
  {
   "cell_type": "markdown",
   "metadata": {
    "slideshow": {
     "slide_type": "slide"
    }
   },
   "source": [
    "Dohvaćamo podatke s IMDB-a o filmovima sa zemljom porijekla Hrvatska, smimljenim između 1945. i 2015."
   ]
  },
  {
   "cell_type": "code",
   "execution_count": null,
   "metadata": {
    "collapsed": false,
    "slideshow": {
     "slide_type": "fragment"
    }
   },
   "outputs": [],
   "source": [
    "# ovo sam napravio lokalno, ne funkcionira unutar Sagemath oblaka!\n",
    "from pattern import web\n",
    "url = 'http://www.imdb.com/search/title'\n",
    "params = dict(sort='num_votes,desc', start=1, title_type='feature', year='1945,2015',countries='hr', languages='hr')\n",
    "r=[]\n",
    "for i in range(1,150,50):\n",
    "    params['start']=i\n",
    "    r.append(requests.get(url, params=params))\n",
    "    time.sleep(5)"
   ]
  },
  {
   "cell_type": "markdown",
   "metadata": {
    "slideshow": {
     "slide_type": "slide"
    }
   },
   "source": [
    "Parsiranje podataka koje spremamo u datoteku `filmovi.txt`."
   ]
  },
  {
   "cell_type": "code",
   "execution_count": 21,
   "metadata": {
    "collapsed": false,
    "slideshow": {
     "slide_type": "fragment"
    }
   },
   "outputs": [],
   "source": [
    "# ovo sam isto napravio lokalno!\n",
    "with open('filmovi.txt','w') as f:\n",
    "    for i in range(len(r)):\n",
    "        dom = web.Element(r[i].text)\n",
    "        for movie in dom.by_tag('td.title'):    \n",
    "            title = movie.by_tag('a')[0].content\n",
    "            year = movie.by_tag('span.year_type')[0].content\n",
    "            try:\n",
    "                genres = movie.by_tag('span.genre')[0].by_tag('a')\n",
    "                genres = '|'.join([g.content for g in genres])\n",
    "            except:\n",
    "                genres = ''\n",
    "            try:\n",
    "                runtime = movie.by_tag('span.runtime')[0].content\n",
    "            except:\n",
    "                runtime = '0 mins'\n",
    "            try:    \n",
    "                rating = movie.by_tag('span.value')[0].content\n",
    "            except:\n",
    "                rating = '0'\n",
    "            f.write('\\t'.join((title, year, runtime, rating, genres))+'\\n')"
   ]
  },
  {
   "cell_type": "markdown",
   "metadata": {
    "slideshow": {
     "slide_type": "slide"
    }
   },
   "source": [
    "###Analiza podataka pomoću biblioteke Pandas"
   ]
  },
  {
   "cell_type": "markdown",
   "metadata": {
    "slideshow": {
     "slide_type": "fragment"
    }
   },
   "source": [
    "Prebacio sam datoteku `filmovi.txt` na Sagemath oblak."
   ]
  },
  {
   "cell_type": "code",
   "execution_count": 37,
   "metadata": {
    "collapsed": false,
    "slideshow": {
     "slide_type": "fragment"
    }
   },
   "outputs": [
    {
     "name": "stdout",
     "output_type": "stream",
     "text": [
      "Number of rows: 127\n"
     ]
    },
    {
     "data": {
      "text/html": [
       "<div style=\"max-height:1000px;max-width:1500px;overflow:auto;\">\n",
       "<table border=\"1\" class=\"dataframe\">\n",
       "  <thead>\n",
       "    <tr style=\"text-align: right;\">\n",
       "      <th></th>\n",
       "      <th>title</th>\n",
       "      <th>year</th>\n",
       "      <th>runtime</th>\n",
       "      <th>rating</th>\n",
       "      <th>genres</th>\n",
       "    </tr>\n",
       "  </thead>\n",
       "  <tbody>\n",
       "    <tr>\n",
       "      <th>0</th>\n",
       "      <td> The Priest&amp;#x27;s Children</td>\n",
       "      <td> (2013)</td>\n",
       "      <td>  93 mins.</td>\n",
       "      <td> 6.8</td>\n",
       "      <td>   Comedy|Drama</td>\n",
       "    </tr>\n",
       "    <tr>\n",
       "      <th>1</th>\n",
       "      <td>                 Metastases</td>\n",
       "      <td> (2009)</td>\n",
       "      <td>  82 mins.</td>\n",
       "      <td> 7.7</td>\n",
       "      <td>    Crime|Drama</td>\n",
       "    </tr>\n",
       "    <tr>\n",
       "      <th>2</th>\n",
       "      <td>            Fine Dead Girls</td>\n",
       "      <td> (2002)</td>\n",
       "      <td>  77 mins.</td>\n",
       "      <td> 7.3</td>\n",
       "      <td> Drama|Thriller</td>\n",
       "    </tr>\n",
       "    <tr>\n",
       "      <th>3</th>\n",
       "      <td>        Vegetarian Cannibal</td>\n",
       "      <td> (2012)</td>\n",
       "      <td>  85 mins.</td>\n",
       "      <td> 7.3</td>\n",
       "      <td>          Drama</td>\n",
       "    </tr>\n",
       "    <tr>\n",
       "      <th>4</th>\n",
       "      <td>         Sonja and the Bull</td>\n",
       "      <td> (2012)</td>\n",
       "      <td> 103 mins.</td>\n",
       "      <td> 7.2</td>\n",
       "      <td> Comedy|Romance</td>\n",
       "    </tr>\n",
       "  </tbody>\n",
       "</table>\n",
       "</div>"
      ],
      "text/plain": [
       "                        title    year    runtime rating          genres\n",
       "0  The Priest&#x27;s Children  (2013)   93 mins.    6.8    Comedy|Drama\n",
       "1                  Metastases  (2009)   82 mins.    7.7     Crime|Drama\n",
       "2             Fine Dead Girls  (2002)   77 mins.    7.3  Drama|Thriller\n",
       "3         Vegetarian Cannibal  (2012)   85 mins.    7.3           Drama\n",
       "4          Sonja and the Bull  (2012)  103 mins.    7.2  Comedy|Romance"
      ]
     },
     "execution_count": 37,
     "metadata": {},
     "output_type": "execute_result"
    }
   ],
   "source": [
    "import pandas as pd\n",
    "names = ['title', 'year','runtime', 'rating', 'genres']\n",
    "data = pd.read_csv('filmovi.txt', delimiter='\\t', names=names).dropna()\n",
    "print \"Number of rows: %i\" % data.shape[0]\n",
    "data.head()"
   ]
  },
  {
   "cell_type": "code",
   "execution_count": 38,
   "metadata": {
    "collapsed": false,
    "slideshow": {
     "slide_type": "slide"
    }
   },
   "outputs": [
    {
     "data": {
      "text/html": [
       "<div style=\"max-height:1000px;max-width:1500px;overflow:auto;\">\n",
       "<table border=\"1\" class=\"dataframe\">\n",
       "  <thead>\n",
       "    <tr style=\"text-align: right;\">\n",
       "      <th></th>\n",
       "      <th>title</th>\n",
       "      <th>year</th>\n",
       "      <th>runtime</th>\n",
       "      <th>rating</th>\n",
       "      <th>genres</th>\n",
       "    </tr>\n",
       "  </thead>\n",
       "  <tbody>\n",
       "    <tr>\n",
       "      <th>0</th>\n",
       "      <td> The Priest&amp;#x27;s Children</td>\n",
       "      <td> 2013</td>\n",
       "      <td>  93</td>\n",
       "      <td> 6.8</td>\n",
       "      <td>   Comedy|Drama</td>\n",
       "    </tr>\n",
       "    <tr>\n",
       "      <th>1</th>\n",
       "      <td>                 Metastases</td>\n",
       "      <td> 2009</td>\n",
       "      <td>  82</td>\n",
       "      <td> 7.7</td>\n",
       "      <td>    Crime|Drama</td>\n",
       "    </tr>\n",
       "    <tr>\n",
       "      <th>2</th>\n",
       "      <td>            Fine Dead Girls</td>\n",
       "      <td> 2002</td>\n",
       "      <td>  77</td>\n",
       "      <td> 7.3</td>\n",
       "      <td> Drama|Thriller</td>\n",
       "    </tr>\n",
       "    <tr>\n",
       "      <th>3</th>\n",
       "      <td>        Vegetarian Cannibal</td>\n",
       "      <td> 2012</td>\n",
       "      <td>  85</td>\n",
       "      <td> 7.3</td>\n",
       "      <td>          Drama</td>\n",
       "    </tr>\n",
       "    <tr>\n",
       "      <th>4</th>\n",
       "      <td>         Sonja and the Bull</td>\n",
       "      <td> 2012</td>\n",
       "      <td> 103</td>\n",
       "      <td> 7.2</td>\n",
       "      <td> Comedy|Romance</td>\n",
       "    </tr>\n",
       "  </tbody>\n",
       "</table>\n",
       "</div>"
      ],
      "text/plain": [
       "                        title  year  runtime  rating          genres\n",
       "0  The Priest&#x27;s Children  2013       93     6.8    Comedy|Drama\n",
       "1                  Metastases  2009       82     7.7     Crime|Drama\n",
       "2             Fine Dead Girls  2002       77     7.3  Drama|Thriller\n",
       "3         Vegetarian Cannibal  2012       85     7.3           Drama\n",
       "4          Sonja and the Bull  2012      103     7.2  Comedy|Romance"
      ]
     },
     "execution_count": 38,
     "metadata": {},
     "output_type": "execute_result"
    }
   ],
   "source": [
    "clean_runtime = [int(v.split(' ')[0]) for v in data.runtime]\n",
    "data['runtime'] = clean_runtime\n",
    "data['year'] = [int(y[1:-1]) for y in data.year]\n",
    "data.rating[data.rating=='-'] = '0';\n",
    "clean_rating = [float(v) for v in data.rating]\n",
    "data['rating'] = clean_rating\n",
    "data.head()"
   ]
  },
  {
   "cell_type": "code",
   "execution_count": 8,
   "metadata": {
    "collapsed": false,
    "slideshow": {
     "slide_type": "slide"
    }
   },
   "outputs": [
    {
     "data": {
      "text/html": [
       "<div style=\"max-height:1000px;max-width:1500px;overflow:auto;\">\n",
       "<table border=\"1\" class=\"dataframe\">\n",
       "  <thead>\n",
       "    <tr style=\"text-align: right;\">\n",
       "      <th></th>\n",
       "      <th>year</th>\n",
       "      <th>runtime</th>\n",
       "    </tr>\n",
       "  </thead>\n",
       "  <tbody>\n",
       "    <tr>\n",
       "      <th>count</th>\n",
       "      <td>  127.000000</td>\n",
       "      <td> 127.000000</td>\n",
       "    </tr>\n",
       "    <tr>\n",
       "      <th>mean</th>\n",
       "      <td> 2008.984252</td>\n",
       "      <td>  79.574803</td>\n",
       "    </tr>\n",
       "    <tr>\n",
       "      <th>std</th>\n",
       "      <td>    5.937484</td>\n",
       "      <td>  35.645859</td>\n",
       "    </tr>\n",
       "    <tr>\n",
       "      <th>min</th>\n",
       "      <td> 1980.000000</td>\n",
       "      <td>   0.000000</td>\n",
       "    </tr>\n",
       "    <tr>\n",
       "      <th>25%</th>\n",
       "      <td> 2007.500000</td>\n",
       "      <td>  72.500000</td>\n",
       "    </tr>\n",
       "    <tr>\n",
       "      <th>50%</th>\n",
       "      <td> 2011.000000</td>\n",
       "      <td>  87.000000</td>\n",
       "    </tr>\n",
       "    <tr>\n",
       "      <th>75%</th>\n",
       "      <td> 2013.000000</td>\n",
       "      <td> 100.000000</td>\n",
       "    </tr>\n",
       "    <tr>\n",
       "      <th>max</th>\n",
       "      <td> 2015.000000</td>\n",
       "      <td> 200.000000</td>\n",
       "    </tr>\n",
       "  </tbody>\n",
       "</table>\n",
       "</div>"
      ],
      "text/plain": [
       "              year     runtime\n",
       "count   127.000000  127.000000\n",
       "mean   2008.984252   79.574803\n",
       "std       5.937484   35.645859\n",
       "min    1980.000000    0.000000\n",
       "25%    2007.500000   72.500000\n",
       "50%    2011.000000   87.000000\n",
       "75%    2013.000000  100.000000\n",
       "max    2015.000000  200.000000"
      ]
     },
     "execution_count": 8,
     "metadata": {},
     "output_type": "execute_result"
    }
   ],
   "source": [
    "data[['year','runtime', 'rating']].describe()"
   ]
  },
  {
   "cell_type": "code",
   "execution_count": 23,
   "metadata": {
    "collapsed": false,
    "slideshow": {
     "slide_type": "slide"
    }
   },
   "outputs": [],
   "source": [
    "import numpy as np\n",
    "data.runtime[data.runtime==0] = np.nan;"
   ]
  },
  {
   "cell_type": "code",
   "execution_count": 10,
   "metadata": {
    "collapsed": false,
    "slideshow": {
     "slide_type": "fragment"
    }
   },
   "outputs": [
    {
     "data": {
      "text/plain": [
       "count    111.000000\n",
       "mean      91.045045\n",
       "std       20.041043\n",
       "min       46.000000\n",
       "25%       80.000000\n",
       "50%       90.000000\n",
       "75%      100.000000\n",
       "max      200.000000\n",
       "Name: runtime, dtype: float64"
      ]
     },
     "execution_count": 10,
     "metadata": {},
     "output_type": "execute_result"
    }
   ],
   "source": [
    "data.runtime.describe()"
   ]
  },
  {
   "cell_type": "code",
   "execution_count": 11,
   "metadata": {
    "collapsed": false,
    "slideshow": {
     "slide_type": "slide"
    }
   },
   "outputs": [
    {
     "data": {
      "image/png": "[encoded data removed]",
      "text/plain": [
       "<matplotlib.figure.Figure at 0x7fb98d4fde90>"
      ]
     },
     "metadata": {},
     "output_type": "display_data"
    }
   ],
   "source": [
    "import matplotlib.pyplot as plt\n",
    "%matplotlib inline\n",
    "plt.hist(data.year, bins=np.arange(1945, 2015))\n",
    "plt.xlabel(\"Godina produkcije\");"
   ]
  },
  {
   "cell_type": "code",
   "execution_count": 22,
   "metadata": {
    "collapsed": false,
    "slideshow": {
     "slide_type": "slide"
    }
   },
   "outputs": [
    {
     "data": {
      "image/png": "[encoded data removed]",
      "text/plain": [
       "<matplotlib.figure.Figure at 0x7fb98be6c050>"
      ]
     },
     "metadata": {},
     "output_type": "display_data"
    }
   ],
   "source": [
    "plt.hist(data.rating, bins=20)\n",
    "plt.xlabel(\"IMDB ocjena\");"
   ]
  },
  {
   "cell_type": "code",
   "execution_count": 24,
   "metadata": {
    "collapsed": false,
    "slideshow": {
     "slide_type": "slide"
    }
   },
   "outputs": [
    {
     "data": {
      "image/png": "[encoded data removed]",
      "text/plain": [
       "<matplotlib.figure.Figure at 0x7fb98bd82850>"
      ]
     },
     "metadata": {},
     "output_type": "display_data"
    }
   ],
   "source": [
    "plt.scatter(data.year, data.rating, lw=0, alpha=.08, color='k')\n",
    "plt.xlabel(\"Godina\")\n",
    "plt.ylabel(\"IMDB ocjena\");"
   ]
  },
  {
   "cell_type": "code",
   "execution_count": 28,
   "metadata": {
    "collapsed": false,
    "slideshow": {
     "slide_type": "slide"
    }
   },
   "outputs": [
    {
     "data": {
      "text/html": [
       "<div style=\"max-height:1000px;max-width:1500px;overflow:auto;\">\n",
       "<table border=\"1\" class=\"dataframe\">\n",
       "  <thead>\n",
       "    <tr style=\"text-align: right;\">\n",
       "      <th></th>\n",
       "      <th>title</th>\n",
       "      <th>year</th>\n",
       "      <th>rating</th>\n",
       "      <th>genres</th>\n",
       "    </tr>\n",
       "  </thead>\n",
       "  <tbody>\n",
       "    <tr>\n",
       "      <th>46</th>\n",
       "      <td> Larin izbor: Izgubljeni princ</td>\n",
       "      <td> 2012</td>\n",
       "      <td> 3.6</td>\n",
       "      <td> Drama</td>\n",
       "    </tr>\n",
       "  </tbody>\n",
       "</table>\n",
       "</div>"
      ],
      "text/plain": [
       "                            title  year  rating genres\n",
       "46  Larin izbor: Izgubljeni princ  2012     3.6  Drama"
      ]
     },
     "execution_count": 28,
     "metadata": {},
     "output_type": "execute_result"
    }
   ],
   "source": [
    "data.rating[data.rating==0] = np.nan;\n",
    "data[data.rating == data.rating.min()][['title', 'year', 'rating', 'genres']]"
   ]
  },
  {
   "cell_type": "code",
   "execution_count": 29,
   "metadata": {
    "collapsed": false,
    "slideshow": {
     "slide_type": "slide"
    }
   },
   "outputs": [
    {
     "data": {
      "text/html": [
       "<div style=\"max-height:1000px;max-width:1500px;overflow:auto;\">\n",
       "<table border=\"1\" class=\"dataframe\">\n",
       "  <thead>\n",
       "    <tr style=\"text-align: right;\">\n",
       "      <th></th>\n",
       "      <th>title</th>\n",
       "      <th>year</th>\n",
       "      <th>rating</th>\n",
       "      <th>genres</th>\n",
       "    </tr>\n",
       "  </thead>\n",
       "  <tbody>\n",
       "    <tr>\n",
       "      <th>106</th>\n",
       "      <td> Marija&amp;#x27;s Own</td>\n",
       "      <td> 2011</td>\n",
       "      <td> 8.4</td>\n",
       "      <td> Comedy</td>\n",
       "    </tr>\n",
       "  </tbody>\n",
       "</table>\n",
       "</div>"
      ],
      "text/plain": [
       "                 title  year  rating  genres\n",
       "106  Marija&#x27;s Own  2011     8.4  Comedy"
      ]
     },
     "execution_count": 29,
     "metadata": {},
     "output_type": "execute_result"
    }
   ],
   "source": [
    "data[data.rating == data.rating.max()][['title', 'year', 'rating', 'genres']]"
   ]
  },
  {
   "cell_type": "code",
   "execution_count": 30,
   "metadata": {
    "collapsed": false,
    "slideshow": {
     "slide_type": "slide"
    }
   },
   "outputs": [
    {
     "data": {
      "text/html": [
       "<div style=\"max-height:1000px;max-width:1500px;overflow:auto;\">\n",
       "<table border=\"1\" class=\"dataframe\">\n",
       "  <thead>\n",
       "    <tr style=\"text-align: right;\">\n",
       "      <th></th>\n",
       "      <th>title</th>\n",
       "      <th>year</th>\n",
       "      <th>runtime</th>\n",
       "      <th>rating</th>\n",
       "      <th>genres</th>\n",
       "      <th>Action</th>\n",
       "      <th>Adventure</th>\n",
       "      <th>Animation</th>\n",
       "      <th>Biography</th>\n",
       "      <th>Comedy</th>\n",
       "      <th>...</th>\n",
       "      <th>History</th>\n",
       "      <th>Horror</th>\n",
       "      <th>Music</th>\n",
       "      <th>Musical</th>\n",
       "      <th>Mystery</th>\n",
       "      <th>Romance</th>\n",
       "      <th>Sci-Fi</th>\n",
       "      <th>Thriller</th>\n",
       "      <th>War</th>\n",
       "      <th>Western</th>\n",
       "    </tr>\n",
       "  </thead>\n",
       "  <tbody>\n",
       "    <tr>\n",
       "      <th>0</th>\n",
       "      <td> The Priest&amp;#x27;s Children</td>\n",
       "      <td> 2013</td>\n",
       "      <td>  93</td>\n",
       "      <td> 6.8</td>\n",
       "      <td>   Comedy|Drama</td>\n",
       "      <td> False</td>\n",
       "      <td> False</td>\n",
       "      <td> False</td>\n",
       "      <td> False</td>\n",
       "      <td>  True</td>\n",
       "      <td>...</td>\n",
       "      <td> False</td>\n",
       "      <td> False</td>\n",
       "      <td> False</td>\n",
       "      <td> False</td>\n",
       "      <td> False</td>\n",
       "      <td> False</td>\n",
       "      <td> False</td>\n",
       "      <td> False</td>\n",
       "      <td> False</td>\n",
       "      <td> False</td>\n",
       "    </tr>\n",
       "    <tr>\n",
       "      <th>1</th>\n",
       "      <td>                 Metastases</td>\n",
       "      <td> 2009</td>\n",
       "      <td>  82</td>\n",
       "      <td> 7.7</td>\n",
       "      <td>    Crime|Drama</td>\n",
       "      <td> False</td>\n",
       "      <td> False</td>\n",
       "      <td> False</td>\n",
       "      <td> False</td>\n",
       "      <td> False</td>\n",
       "      <td>...</td>\n",
       "      <td> False</td>\n",
       "      <td> False</td>\n",
       "      <td> False</td>\n",
       "      <td> False</td>\n",
       "      <td> False</td>\n",
       "      <td> False</td>\n",
       "      <td> False</td>\n",
       "      <td> False</td>\n",
       "      <td> False</td>\n",
       "      <td> False</td>\n",
       "    </tr>\n",
       "    <tr>\n",
       "      <th>2</th>\n",
       "      <td>            Fine Dead Girls</td>\n",
       "      <td> 2002</td>\n",
       "      <td>  77</td>\n",
       "      <td> 7.3</td>\n",
       "      <td> Drama|Thriller</td>\n",
       "      <td> False</td>\n",
       "      <td> False</td>\n",
       "      <td> False</td>\n",
       "      <td> False</td>\n",
       "      <td> False</td>\n",
       "      <td>...</td>\n",
       "      <td> False</td>\n",
       "      <td> False</td>\n",
       "      <td> False</td>\n",
       "      <td> False</td>\n",
       "      <td> False</td>\n",
       "      <td> False</td>\n",
       "      <td> False</td>\n",
       "      <td>  True</td>\n",
       "      <td> False</td>\n",
       "      <td> False</td>\n",
       "    </tr>\n",
       "    <tr>\n",
       "      <th>3</th>\n",
       "      <td>        Vegetarian Cannibal</td>\n",
       "      <td> 2012</td>\n",
       "      <td>  85</td>\n",
       "      <td> 7.3</td>\n",
       "      <td>          Drama</td>\n",
       "      <td> False</td>\n",
       "      <td> False</td>\n",
       "      <td> False</td>\n",
       "      <td> False</td>\n",
       "      <td> False</td>\n",
       "      <td>...</td>\n",
       "      <td> False</td>\n",
       "      <td> False</td>\n",
       "      <td> False</td>\n",
       "      <td> False</td>\n",
       "      <td> False</td>\n",
       "      <td> False</td>\n",
       "      <td> False</td>\n",
       "      <td> False</td>\n",
       "      <td> False</td>\n",
       "      <td> False</td>\n",
       "    </tr>\n",
       "    <tr>\n",
       "      <th>4</th>\n",
       "      <td>         Sonja and the Bull</td>\n",
       "      <td> 2012</td>\n",
       "      <td> 103</td>\n",
       "      <td> 7.2</td>\n",
       "      <td> Comedy|Romance</td>\n",
       "      <td> False</td>\n",
       "      <td> False</td>\n",
       "      <td> False</td>\n",
       "      <td> False</td>\n",
       "      <td>  True</td>\n",
       "      <td>...</td>\n",
       "      <td> False</td>\n",
       "      <td> False</td>\n",
       "      <td> False</td>\n",
       "      <td> False</td>\n",
       "      <td> False</td>\n",
       "      <td>  True</td>\n",
       "      <td> False</td>\n",
       "      <td> False</td>\n",
       "      <td> False</td>\n",
       "      <td> False</td>\n",
       "    </tr>\n",
       "  </tbody>\n",
       "</table>\n",
       "<p>5 rows × 24 columns</p>\n",
       "</div>"
      ],
      "text/plain": [
       "                        title  year  runtime  rating          genres Action  \\\n",
       "0  The Priest&#x27;s Children  2013       93     6.8    Comedy|Drama  False   \n",
       "1                  Metastases  2009       82     7.7     Crime|Drama  False   \n",
       "2             Fine Dead Girls  2002       77     7.3  Drama|Thriller  False   \n",
       "3         Vegetarian Cannibal  2012       85     7.3           Drama  False   \n",
       "4          Sonja and the Bull  2012      103     7.2  Comedy|Romance  False   \n",
       "\n",
       "  Adventure Animation Biography Comedy   ...   History Horror  Music Musical  \\\n",
       "0     False     False     False   True   ...     False  False  False   False   \n",
       "1     False     False     False  False   ...     False  False  False   False   \n",
       "2     False     False     False  False   ...     False  False  False   False   \n",
       "3     False     False     False  False   ...     False  False  False   False   \n",
       "4     False     False     False   True   ...     False  False  False   False   \n",
       "\n",
       "  Mystery Romance Sci-Fi Thriller    War Western  \n",
       "0   False   False  False    False  False   False  \n",
       "1   False   False  False    False  False   False  \n",
       "2   False   False  False     True  False   False  \n",
       "3   False   False  False    False  False   False  \n",
       "4   False    True  False    False  False   False  \n",
       "\n",
       "[5 rows x 24 columns]"
      ]
     },
     "execution_count": 30,
     "metadata": {},
     "output_type": "execute_result"
    }
   ],
   "source": [
    "genres = set()\n",
    "for m in data.genres:\n",
    "    genres.update(g for g in m.split('|'))\n",
    "genres = sorted(genres)\n",
    "\n",
    "for genre in genres:\n",
    "    data[genre] = [genre in movie.split('|') for movie in data.genres]\n",
    "         \n",
    "data.head()"
   ]
  },
  {
   "cell_type": "code",
   "execution_count": 31,
   "metadata": {
    "collapsed": false,
    "slideshow": {
     "slide_type": "slide"
    }
   },
   "outputs": [
    {
     "data": {
      "text/html": [
       "<div style=\"max-height:1000px;max-width:1500px;overflow:auto;\">\n",
       "<table border=\"1\" class=\"dataframe\">\n",
       "  <thead>\n",
       "    <tr style=\"text-align: right;\">\n",
       "      <th></th>\n",
       "      <th>Genre Count</th>\n",
       "    </tr>\n",
       "  </thead>\n",
       "  <tbody>\n",
       "    <tr>\n",
       "      <th>Action</th>\n",
       "      <td> 11</td>\n",
       "    </tr>\n",
       "    <tr>\n",
       "      <th>Adventure</th>\n",
       "      <td>  6</td>\n",
       "    </tr>\n",
       "    <tr>\n",
       "      <th>Animation</th>\n",
       "      <td>  3</td>\n",
       "    </tr>\n",
       "    <tr>\n",
       "      <th>Biography</th>\n",
       "      <td>  3</td>\n",
       "    </tr>\n",
       "    <tr>\n",
       "      <th>Comedy</th>\n",
       "      <td> 36</td>\n",
       "    </tr>\n",
       "    <tr>\n",
       "      <th>Crime</th>\n",
       "      <td>  9</td>\n",
       "    </tr>\n",
       "    <tr>\n",
       "      <th>Drama</th>\n",
       "      <td> 87</td>\n",
       "    </tr>\n",
       "    <tr>\n",
       "      <th>Family</th>\n",
       "      <td>  9</td>\n",
       "    </tr>\n",
       "    <tr>\n",
       "      <th>Fantasy</th>\n",
       "      <td>  5</td>\n",
       "    </tr>\n",
       "    <tr>\n",
       "      <th>History</th>\n",
       "      <td>  3</td>\n",
       "    </tr>\n",
       "    <tr>\n",
       "      <th>Horror</th>\n",
       "      <td>  3</td>\n",
       "    </tr>\n",
       "    <tr>\n",
       "      <th>Music</th>\n",
       "      <td>  2</td>\n",
       "    </tr>\n",
       "    <tr>\n",
       "      <th>Musical</th>\n",
       "      <td>  1</td>\n",
       "    </tr>\n",
       "    <tr>\n",
       "      <th>Mystery</th>\n",
       "      <td>  2</td>\n",
       "    </tr>\n",
       "    <tr>\n",
       "      <th>Romance</th>\n",
       "      <td>  8</td>\n",
       "    </tr>\n",
       "    <tr>\n",
       "      <th>Sci-Fi</th>\n",
       "      <td>  2</td>\n",
       "    </tr>\n",
       "    <tr>\n",
       "      <th>Thriller</th>\n",
       "      <td> 11</td>\n",
       "    </tr>\n",
       "    <tr>\n",
       "      <th>War</th>\n",
       "      <td> 12</td>\n",
       "    </tr>\n",
       "    <tr>\n",
       "      <th>Western</th>\n",
       "      <td>  2</td>\n",
       "    </tr>\n",
       "  </tbody>\n",
       "</table>\n",
       "</div>"
      ],
      "text/plain": [
       "           Genre Count\n",
       "Action              11\n",
       "Adventure            6\n",
       "Animation            3\n",
       "Biography            3\n",
       "Comedy              36\n",
       "Crime                9\n",
       "Drama               87\n",
       "Family               9\n",
       "Fantasy              5\n",
       "History              3\n",
       "Horror               3\n",
       "Music                2\n",
       "Musical              1\n",
       "Mystery              2\n",
       "Romance              8\n",
       "Sci-Fi               2\n",
       "Thriller            11\n",
       "War                 12\n",
       "Western              2"
      ]
     },
     "execution_count": 31,
     "metadata": {},
     "output_type": "execute_result"
    }
   ],
   "source": [
    "genre_count = data[genres].sum()\n",
    "pd.DataFrame({'Genre Count': genre_count})"
   ]
  },
  {
   "cell_type": "code",
   "execution_count": 33,
   "metadata": {
    "collapsed": false,
    "slideshow": {
     "slide_type": "slide"
    }
   },
   "outputs": [
    {
     "data": {
      "text/html": [
       "<div style=\"max-height:1000px;max-width:1500px;overflow:auto;\">\n",
       "<table border=\"1\" class=\"dataframe\">\n",
       "  <thead>\n",
       "    <tr style=\"text-align: right;\">\n",
       "      <th></th>\n",
       "      <th>title</th>\n",
       "      <th>year</th>\n",
       "      <th>petoljetka</th>\n",
       "    </tr>\n",
       "  </thead>\n",
       "  <tbody>\n",
       "    <tr>\n",
       "      <th>0</th>\n",
       "      <td> The Priest&amp;#x27;s Children</td>\n",
       "      <td> 2013</td>\n",
       "      <td> 2010</td>\n",
       "    </tr>\n",
       "    <tr>\n",
       "      <th>1</th>\n",
       "      <td>                 Metastases</td>\n",
       "      <td> 2009</td>\n",
       "      <td> 2005</td>\n",
       "    </tr>\n",
       "    <tr>\n",
       "      <th>2</th>\n",
       "      <td>            Fine Dead Girls</td>\n",
       "      <td> 2002</td>\n",
       "      <td> 2000</td>\n",
       "    </tr>\n",
       "    <tr>\n",
       "      <th>3</th>\n",
       "      <td>        Vegetarian Cannibal</td>\n",
       "      <td> 2012</td>\n",
       "      <td> 2010</td>\n",
       "    </tr>\n",
       "    <tr>\n",
       "      <th>4</th>\n",
       "      <td>         Sonja and the Bull</td>\n",
       "      <td> 2012</td>\n",
       "      <td> 2010</td>\n",
       "    </tr>\n",
       "  </tbody>\n",
       "</table>\n",
       "</div>"
      ],
      "text/plain": [
       "                        title  year  petoljetka\n",
       "0  The Priest&#x27;s Children  2013        2010\n",
       "1                  Metastases  2009        2005\n",
       "2             Fine Dead Girls  2002        2000\n",
       "3         Vegetarian Cannibal  2012        2010\n",
       "4          Sonja and the Bull  2012        2010"
      ]
     },
     "execution_count": 33,
     "metadata": {},
     "output_type": "execute_result"
    }
   ],
   "source": [
    "petoljetka =  (data.year // 5) * 5\n",
    "\n",
    "tyd = data[['title', 'year']]\n",
    "tyd['petoljetka'] = petoljetka;\n",
    "\n",
    "tyd.head()"
   ]
  },
  {
   "cell_type": "code",
   "execution_count": 34,
   "metadata": {
    "collapsed": false,
    "slideshow": {
     "slide_type": "slide"
    }
   },
   "outputs": [
    {
     "name": "stdout",
     "output_type": "stream",
     "text": [
      "year\n",
      "1980    7.900000\n",
      "1990    7.575000\n",
      "1995    6.940000\n",
      "2000    6.958333\n",
      "2005    6.781481\n",
      "2010    7.167143\n",
      "2015         NaN\n",
      "Name: Petoljetka mean, dtype: float64\n"
     ]
    },
    {
     "data": {
      "image/png": "[encoded data removed]",
      "text/plain": [
       "<matplotlib.figure.Figure at 0x7fb98bc0e510>"
      ]
     },
     "metadata": {},
     "output_type": "display_data"
    }
   ],
   "source": [
    "pet_mean = data.groupby(petoljetka).rating.mean()\n",
    "pet_mean.name = 'Petoljetka mean'\n",
    "print pet_mean\n",
    "\n",
    "plt.plot(pet_mean.index, pet_mean.values, 'o-',\n",
    "        color='r', lw=3, label='Petoljetka prosjek')\n",
    "plt.scatter(data.year, data.rating, alpha=.04, lw=0, color='k')\n",
    "plt.xlabel(\"Godina\")\n",
    "plt.ylabel(\"Ocjena\")\n",
    "plt.legend(frameon=False);"
   ]
  },
  {
   "cell_type": "code",
   "execution_count": 35,
   "metadata": {
    "collapsed": false,
    "slideshow": {
     "slide_type": "slide"
    }
   },
   "outputs": [
    {
     "name": "stdout",
     "output_type": "stream",
     "text": [
      "1980 ['Izgubljeni zavicaj']\n",
      "1991 ['The Time of Warriors']\n",
      "1992 ['Kamenita vrata']\n",
      "1996 ['Putovanje tamnom polutkom']\n",
      "1997 ['Lapitch the Little Shoemaker']\n",
      "1998 ['Transatlantik']\n",
      "1999 ['Red Dust']\n",
      "2000 ['Celestial Body']\n",
      "2001 ['The Miroslav Holdinc Co.']\n",
      "2002 ['24 Hours']\n",
      "2003 ['Bore Lee: U kandzama velegrada']\n",
      "2004 ['The Society of Jesus']\n",
      "2005 ['Snivaj, zlato moje']\n",
      "2006 ['Crveno i crno']\n",
      "2007 ['Play Me a Love Song']\n",
      "2008 ['Blazeni Augustin Kazotic']\n",
      "2009 ['Da mogu...']\n",
      "2010 ['Prokletstvo Krumpira']\n",
      "2011 ['Marija&#x27;s Own']\n",
      "2012 ['Zagreb Stories Vol. 2']\n",
      "2013 ['Simon Magus']\n",
      "2014 ['Vlog']\n",
      "2015 []\n"
     ]
    }
   ],
   "source": [
    "for year, subset in data.groupby('year'):\n",
    "    print year, subset[subset.rating == subset.rating.max()].title.values"
   ]
  }
 ],
 "metadata": {
  "celltoolbar": "Slideshow",
  "kernelspec": {
   "display_name": "Python 2",
   "language": "python",
   "name": "python2"
  },
  "language_info": {
   "codemirror_mode": {
    "name": "ipython",
    "version": 2
   },
   "file_extension": ".py",
   "mimetype": "text/x-python",
   "name": "python",
   "nbconvert_exporter": "python",
   "pygments_lexer": "ipython2",
   "version": "2.7.8"
  },
  "name": "pandas.ipynb"
 },
 "nbformat": 4,
 "nbformat_minor": 0
}
