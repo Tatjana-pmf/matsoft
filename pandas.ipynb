{
 "cells": [
  {
   "cell_type": "markdown",
   "metadata": {
    "slideshow": {
     "slide_type": "slide"
    }
   },
   "source": [
    "# Pandas\n",
    "\n",
    "[Pandas](http://pandas.pydata.org/) je biblioteka za analizu podataka. Ilustrirat ćemo njeno korištenje na jednostavnom primjeru analize podataka iz IMDB baze.\n",
    "\n",
    "Koristit ću i biblioteke [requests](https://github.com/kennethreitz/requests) (za učitavanje web stranica) i [BeautifulSoup](https://www.crummy.com/software/BeautifulSoup/) (za analizu HTML-a). "
   ]
  },
  {
   "cell_type": "code",
   "execution_count": 4,
   "metadata": {
    "collapsed": false,
    "slideshow": {
     "slide_type": "fragment"
    }
   },
   "outputs": [],
   "source": [
    "import requests\n",
    "from bs4 import BeautifulSoup as bs"
   ]
  },
  {
   "cell_type": "markdown",
   "metadata": {
    "slideshow": {
     "slide_type": "slide"
    }
   },
   "source": [
    "Dohvaćamo podatke s IMDB-a o filmovima sa zemljom porijekla Hrvatska, smimljenim između 1945. i 2017."
   ]
  },
  {
   "cell_type": "code",
   "execution_count": 117,
   "metadata": {
    "collapsed": false,
    "slideshow": {
     "slide_type": "fragment"
    }
   },
   "outputs": [],
   "source": [
    "import time\n",
    "url = 'http://www.imdb.com/search/title'\n",
    "params = dict(sort='num_votes,desc', start=1, title_type='feature', year='1945,2017',countries='hr', languages='hr')\n",
    "r=[]\n",
    "for i in range(1,240,50): # takvih filmova ima trenutno 201\n",
    "    params['start']=i\n",
    "    r.append(requests.get(url, params=params))\n",
    "    time.sleep(10)"
   ]
  },
  {
   "cell_type": "markdown",
   "metadata": {
    "slideshow": {
     "slide_type": "slide"
    }
   },
   "source": [
    "Parsiranje podataka koje spremamo u datoteku `filmovi2.txt`."
   ]
  },
  {
   "cell_type": "code",
   "execution_count": 167,
   "metadata": {
    "collapsed": false,
    "slideshow": {
     "slide_type": "fragment"
    }
   },
   "outputs": [],
   "source": [
    "import re\n",
    "with open('filmovi2.txt','w') as f:\n",
    "    for i in range(len(r)):\n",
    "        soup = bs(r[i].text,'html.parser')\n",
    "        for film in soup.find_all('div', class_=\"lister-item\"):\n",
    "            for a in film.find_all('a', href=True):\n",
    "                if '/title/tt'  and 'adv_li_tt' in a['href']:\n",
    "                    title = a.contents[0]\n",
    "            rt = film.find_all('span', class_=\"runtime\")\n",
    "            if rt:\n",
    "                runtime =  rt[0].contents[0]\n",
    "            else:\n",
    "                runtime = '0 mins'\n",
    "            y = film.find_all('span', class_=\"lister-item-year\")\n",
    "            if y: \n",
    "                year = y[0].contents[0]\n",
    "                year = year.replace('(I)','').replace('(III)','').strip()\n",
    "            else:\n",
    "                year = '???'\n",
    "            rat = film.find_all('span', class_='global-sprite rating-star imdb-rating')\n",
    "            if rat:\n",
    "                rating = str(list(rat[0].next_siblings)[1]).replace('<strong>','').replace('</strong>','')\n",
    "            else:\n",
    "                rat = '0'\n",
    "            g = film.find_all('span',class_=\"genre\")\n",
    "            if g: genres =  ' '.join(g[0].contents).replace('\\n','').strip()\n",
    "            d=film.find_all(string =re.compile('Director'))[0]\n",
    "            director = d.next_element.contents[0]\n",
    "            f.write('\\t'.join((title, year, runtime, rating,director, genres))+'\\n')"
   ]
  },
  {
   "cell_type": "code",
   "execution_count": 119,
   "metadata": {
    "collapsed": false,
    "slideshow": {
     "slide_type": "subslide"
    }
   },
   "outputs": [
    {
     "name": "stdout",
     "output_type": "stream",
     "text": [
      "The Hunting Party\t(2007)\t101 min\t6.9\tRichard Shepard\tAdventure, Comedy, Drama\r\n",
      "Karaula\t(2006)\t94 min\t7.7\tRajko Grlic\tAction, Comedy, Drama\r\n",
      "Svecenikova djeca\t(2013)\t96 min\t6.8\tVinko Bresan\tComedy, Drama\r\n",
      "Metastaze\t(2009)\t82 min\t7.8\tBranko Schmidt\tCrime, Drama\r\n",
      "Zvizdan\t(2015)\t123 min\t7.3\tDalibor Matanic\tDrama, Romance, War\r\n",
      "How the War Started on My Island\t(1996)\t97 min\t7.9\tVinko Bresan\tComedy, War\r\n",
      "Ljudozder vegetarijanac\t(2012)\t85 min\t7.2\tBranko Schmidt\tDrama\r\n",
      "Fine mrtve djevojke\t(2002)\t77 min\t7.2\tDalibor Matanic\tDrama, Thriller\r\n",
      "Sonja i bik\t(2012)\t103 min\t7.1\tVlatka Vorkapic\tComedy, Romance\r\n",
      "Petelinji zajtrk\t(2007)\t124 min\t7.6\tMarko Nabersnik\tDrama\r\n"
     ]
    }
   ],
   "source": [
    "!head filmovi2.txt"
   ]
  },
  {
   "cell_type": "markdown",
   "metadata": {
    "slideshow": {
     "slide_type": "slide"
    }
   },
   "source": [
    "### Analiza podataka pomoću biblioteke Pandas"
   ]
  },
  {
   "cell_type": "code",
   "execution_count": 174,
   "metadata": {
    "collapsed": false,
    "slideshow": {
     "slide_type": "fragment"
    }
   },
   "outputs": [
    {
     "name": "stdout",
     "output_type": "stream",
     "text": [
      "Number of rows: 201\n"
     ]
    },
    {
     "data": {
      "text/html": [
       "<div>\n",
       "<table border=\"1\" class=\"dataframe\">\n",
       "  <thead>\n",
       "    <tr style=\"text-align: right;\">\n",
       "      <th></th>\n",
       "      <th>title</th>\n",
       "      <th>year</th>\n",
       "      <th>runtime</th>\n",
       "      <th>rating</th>\n",
       "      <th>director</th>\n",
       "      <th>genres</th>\n",
       "    </tr>\n",
       "  </thead>\n",
       "  <tbody>\n",
       "    <tr>\n",
       "      <th>0</th>\n",
       "      <td>The Hunting Party</td>\n",
       "      <td>(2007)</td>\n",
       "      <td>101 min</td>\n",
       "      <td>6.9</td>\n",
       "      <td>Richard Shepard</td>\n",
       "      <td>Adventure, Comedy, Drama</td>\n",
       "    </tr>\n",
       "    <tr>\n",
       "      <th>1</th>\n",
       "      <td>Karaula</td>\n",
       "      <td>(2006)</td>\n",
       "      <td>94 min</td>\n",
       "      <td>7.7</td>\n",
       "      <td>Rajko Grlic</td>\n",
       "      <td>Action, Comedy, Drama</td>\n",
       "    </tr>\n",
       "    <tr>\n",
       "      <th>2</th>\n",
       "      <td>Svecenikova djeca</td>\n",
       "      <td>(2013)</td>\n",
       "      <td>96 min</td>\n",
       "      <td>6.8</td>\n",
       "      <td>Vinko Bresan</td>\n",
       "      <td>Comedy, Drama</td>\n",
       "    </tr>\n",
       "    <tr>\n",
       "      <th>3</th>\n",
       "      <td>Metastaze</td>\n",
       "      <td>(2009)</td>\n",
       "      <td>82 min</td>\n",
       "      <td>7.8</td>\n",
       "      <td>Branko Schmidt</td>\n",
       "      <td>Crime, Drama</td>\n",
       "    </tr>\n",
       "    <tr>\n",
       "      <th>4</th>\n",
       "      <td>Zvizdan</td>\n",
       "      <td>(2015)</td>\n",
       "      <td>123 min</td>\n",
       "      <td>7.3</td>\n",
       "      <td>Dalibor Matanic</td>\n",
       "      <td>Drama, Romance, War</td>\n",
       "    </tr>\n",
       "  </tbody>\n",
       "</table>\n",
       "</div>"
      ],
      "text/plain": [
       "               title    year  runtime  rating         director  \\\n",
       "0  The Hunting Party  (2007)  101 min     6.9  Richard Shepard   \n",
       "1            Karaula  (2006)   94 min     7.7      Rajko Grlic   \n",
       "2  Svecenikova djeca  (2013)   96 min     6.8     Vinko Bresan   \n",
       "3          Metastaze  (2009)   82 min     7.8   Branko Schmidt   \n",
       "4            Zvizdan  (2015)  123 min     7.3  Dalibor Matanic   \n",
       "\n",
       "                     genres  \n",
       "0  Adventure, Comedy, Drama  \n",
       "1     Action, Comedy, Drama  \n",
       "2             Comedy, Drama  \n",
       "3              Crime, Drama  \n",
       "4       Drama, Romance, War  "
      ]
     },
     "execution_count": 174,
     "metadata": {},
     "output_type": "execute_result"
    }
   ],
   "source": [
    "import pandas as pd\n",
    "names = ['title', 'year','runtime', 'rating', 'director', 'genres']\n",
    "data = pd.read_csv('filmovi2.txt', delimiter='\\t', names=names)\n",
    "print (\"Number of rows: {:d}\".format(data.shape[0]))\n",
    "data.head()"
   ]
  },
  {
   "cell_type": "code",
   "execution_count": 175,
   "metadata": {
    "collapsed": false,
    "slideshow": {
     "slide_type": "slide"
    }
   },
   "outputs": [
    {
     "data": {
      "text/html": [
       "<div>\n",
       "<table border=\"1\" class=\"dataframe\">\n",
       "  <thead>\n",
       "    <tr style=\"text-align: right;\">\n",
       "      <th></th>\n",
       "      <th>title</th>\n",
       "      <th>year</th>\n",
       "      <th>runtime</th>\n",
       "      <th>rating</th>\n",
       "      <th>director</th>\n",
       "      <th>genres</th>\n",
       "    </tr>\n",
       "  </thead>\n",
       "  <tbody>\n",
       "    <tr>\n",
       "      <th>0</th>\n",
       "      <td>The Hunting Party</td>\n",
       "      <td>2007</td>\n",
       "      <td>101</td>\n",
       "      <td>6.9</td>\n",
       "      <td>Richard Shepard</td>\n",
       "      <td>Adventure, Comedy, Drama</td>\n",
       "    </tr>\n",
       "    <tr>\n",
       "      <th>1</th>\n",
       "      <td>Karaula</td>\n",
       "      <td>2006</td>\n",
       "      <td>94</td>\n",
       "      <td>7.7</td>\n",
       "      <td>Rajko Grlic</td>\n",
       "      <td>Action, Comedy, Drama</td>\n",
       "    </tr>\n",
       "    <tr>\n",
       "      <th>2</th>\n",
       "      <td>Svecenikova djeca</td>\n",
       "      <td>2013</td>\n",
       "      <td>96</td>\n",
       "      <td>6.8</td>\n",
       "      <td>Vinko Bresan</td>\n",
       "      <td>Comedy, Drama</td>\n",
       "    </tr>\n",
       "    <tr>\n",
       "      <th>3</th>\n",
       "      <td>Metastaze</td>\n",
       "      <td>2009</td>\n",
       "      <td>82</td>\n",
       "      <td>7.8</td>\n",
       "      <td>Branko Schmidt</td>\n",
       "      <td>Crime, Drama</td>\n",
       "    </tr>\n",
       "    <tr>\n",
       "      <th>4</th>\n",
       "      <td>Zvizdan</td>\n",
       "      <td>2015</td>\n",
       "      <td>123</td>\n",
       "      <td>7.3</td>\n",
       "      <td>Dalibor Matanic</td>\n",
       "      <td>Drama, Romance, War</td>\n",
       "    </tr>\n",
       "  </tbody>\n",
       "</table>\n",
       "</div>"
      ],
      "text/plain": [
       "               title  year  runtime  rating         director  \\\n",
       "0  The Hunting Party  2007      101     6.9  Richard Shepard   \n",
       "1            Karaula  2006       94     7.7      Rajko Grlic   \n",
       "2  Svecenikova djeca  2013       96     6.8     Vinko Bresan   \n",
       "3          Metastaze  2009       82     7.8   Branko Schmidt   \n",
       "4            Zvizdan  2015      123     7.3  Dalibor Matanic   \n",
       "\n",
       "                     genres  \n",
       "0  Adventure, Comedy, Drama  \n",
       "1     Action, Comedy, Drama  \n",
       "2             Comedy, Drama  \n",
       "3              Crime, Drama  \n",
       "4       Drama, Romance, War  "
      ]
     },
     "execution_count": 175,
     "metadata": {},
     "output_type": "execute_result"
    }
   ],
   "source": [
    "# data['runtime'].fillna('0 mins.', inplace=True);\n",
    "clean_runtime = [int(v.split(' ')[0]) for v in data.runtime]\n",
    "data['runtime'] = clean_runtime\n",
    "data['year'] = [int(y[1:-1]) for y in data.year]\n",
    "# data.rating[data.rating=='-'] = '0';\n",
    "clean_rating = [float(v) for v in data.rating]\n",
    "data['rating'] = clean_rating\n",
    "#clean_genres = [g.replace(' ','|') for g in data.genres]\n",
    "#data['genres'] = clean_genres\n",
    "data.head()"
   ]
  },
  {
   "cell_type": "code",
   "execution_count": 176,
   "metadata": {
    "collapsed": false,
    "slideshow": {
     "slide_type": "subslide"
    }
   },
   "outputs": [
    {
     "data": {
      "text/plain": [
       "title       Doktor ludosti\n",
       "year                  2003\n",
       "runtime                  0\n",
       "rating                   7\n",
       "director      Fadil Hadzic\n",
       "genres              Comedy\n",
       "Name: 118, dtype: object"
      ]
     },
     "execution_count": 176,
     "metadata": {},
     "output_type": "execute_result"
    }
   ],
   "source": [
    "data.ix[118]"
   ]
  },
  {
   "cell_type": "code",
   "execution_count": 177,
   "metadata": {
    "collapsed": false,
    "slideshow": {
     "slide_type": "slide"
    }
   },
   "outputs": [
    {
     "data": {
      "text/html": [
       "<div>\n",
       "<table border=\"1\" class=\"dataframe\">\n",
       "  <thead>\n",
       "    <tr style=\"text-align: right;\">\n",
       "      <th></th>\n",
       "      <th>year</th>\n",
       "      <th>runtime</th>\n",
       "      <th>rating</th>\n",
       "    </tr>\n",
       "  </thead>\n",
       "  <tbody>\n",
       "    <tr>\n",
       "      <th>count</th>\n",
       "      <td>201.000000</td>\n",
       "      <td>201.000000</td>\n",
       "      <td>201.000000</td>\n",
       "    </tr>\n",
       "    <tr>\n",
       "      <th>mean</th>\n",
       "      <td>2007.935323</td>\n",
       "      <td>85.029851</td>\n",
       "      <td>7.131841</td>\n",
       "    </tr>\n",
       "    <tr>\n",
       "      <th>std</th>\n",
       "      <td>7.379078</td>\n",
       "      <td>29.859489</td>\n",
       "      <td>0.866534</td>\n",
       "    </tr>\n",
       "    <tr>\n",
       "      <th>min</th>\n",
       "      <td>1970.000000</td>\n",
       "      <td>0.000000</td>\n",
       "      <td>3.700000</td>\n",
       "    </tr>\n",
       "    <tr>\n",
       "      <th>25%</th>\n",
       "      <td>2004.000000</td>\n",
       "      <td>78.000000</td>\n",
       "      <td>6.700000</td>\n",
       "    </tr>\n",
       "    <tr>\n",
       "      <th>50%</th>\n",
       "      <td>2010.000000</td>\n",
       "      <td>90.000000</td>\n",
       "      <td>7.200000</td>\n",
       "    </tr>\n",
       "    <tr>\n",
       "      <th>75%</th>\n",
       "      <td>2013.000000</td>\n",
       "      <td>100.000000</td>\n",
       "      <td>7.600000</td>\n",
       "    </tr>\n",
       "    <tr>\n",
       "      <th>max</th>\n",
       "      <td>2017.000000</td>\n",
       "      <td>200.000000</td>\n",
       "      <td>9.600000</td>\n",
       "    </tr>\n",
       "  </tbody>\n",
       "</table>\n",
       "</div>"
      ],
      "text/plain": [
       "              year     runtime      rating\n",
       "count   201.000000  201.000000  201.000000\n",
       "mean   2007.935323   85.029851    7.131841\n",
       "std       7.379078   29.859489    0.866534\n",
       "min    1970.000000    0.000000    3.700000\n",
       "25%    2004.000000   78.000000    6.700000\n",
       "50%    2010.000000   90.000000    7.200000\n",
       "75%    2013.000000  100.000000    7.600000\n",
       "max    2017.000000  200.000000    9.600000"
      ]
     },
     "execution_count": 177,
     "metadata": {},
     "output_type": "execute_result"
    }
   ],
   "source": [
    "data[['year','runtime', 'rating']].describe()"
   ]
  },
  {
   "cell_type": "code",
   "execution_count": 217,
   "metadata": {
    "collapsed": false,
    "slideshow": {
     "slide_type": "slide"
    }
   },
   "outputs": [],
   "source": [
    "import numpy as np\n",
    "data.replace(0,np.nan, inplace=True);"
   ]
  },
  {
   "cell_type": "code",
   "execution_count": 218,
   "metadata": {
    "collapsed": false,
    "slideshow": {
     "slide_type": "fragment"
    }
   },
   "outputs": [
    {
     "data": {
      "text/html": [
       "<div>\n",
       "<table border=\"1\" class=\"dataframe\">\n",
       "  <thead>\n",
       "    <tr style=\"text-align: right;\">\n",
       "      <th></th>\n",
       "      <th>runtime</th>\n",
       "      <th>rating</th>\n",
       "    </tr>\n",
       "  </thead>\n",
       "  <tbody>\n",
       "    <tr>\n",
       "      <th>count</th>\n",
       "      <td>186.000000</td>\n",
       "      <td>201.000000</td>\n",
       "    </tr>\n",
       "    <tr>\n",
       "      <th>mean</th>\n",
       "      <td>91.887097</td>\n",
       "      <td>7.131841</td>\n",
       "    </tr>\n",
       "    <tr>\n",
       "      <th>std</th>\n",
       "      <td>18.176407</td>\n",
       "      <td>0.866534</td>\n",
       "    </tr>\n",
       "    <tr>\n",
       "      <th>min</th>\n",
       "      <td>46.000000</td>\n",
       "      <td>3.700000</td>\n",
       "    </tr>\n",
       "    <tr>\n",
       "      <th>25%</th>\n",
       "      <td>80.250000</td>\n",
       "      <td>6.700000</td>\n",
       "    </tr>\n",
       "    <tr>\n",
       "      <th>50%</th>\n",
       "      <td>91.500000</td>\n",
       "      <td>7.200000</td>\n",
       "    </tr>\n",
       "    <tr>\n",
       "      <th>75%</th>\n",
       "      <td>100.000000</td>\n",
       "      <td>7.600000</td>\n",
       "    </tr>\n",
       "    <tr>\n",
       "      <th>max</th>\n",
       "      <td>200.000000</td>\n",
       "      <td>9.600000</td>\n",
       "    </tr>\n",
       "  </tbody>\n",
       "</table>\n",
       "</div>"
      ],
      "text/plain": [
       "          runtime      rating\n",
       "count  186.000000  201.000000\n",
       "mean    91.887097    7.131841\n",
       "std     18.176407    0.866534\n",
       "min     46.000000    3.700000\n",
       "25%     80.250000    6.700000\n",
       "50%     91.500000    7.200000\n",
       "75%    100.000000    7.600000\n",
       "max    200.000000    9.600000"
      ]
     },
     "execution_count": 218,
     "metadata": {},
     "output_type": "execute_result"
    }
   ],
   "source": [
    "data[['runtime', 'rating']].describe()"
   ]
  },
  {
   "cell_type": "code",
   "execution_count": 219,
   "metadata": {
    "collapsed": false,
    "slideshow": {
     "slide_type": "slide"
    }
   },
   "outputs": [
    {
     "data": {
      "image/png": "[encoded data removed]",
      "text/plain": [
       "<matplotlib.figure.Figure at 0x7fc6fccea6a0>"
      ]
     },
     "metadata": {},
     "output_type": "display_data"
    }
   ],
   "source": [
    "import numpy as np\n",
    "import matplotlib.pyplot as plt\n",
    "%matplotlib inline\n",
    "plt.hist(data.year, bins=np.arange(1945, 2017))\n",
    "plt.xlabel(\"Godina produkcije\");"
   ]
  },
  {
   "cell_type": "code",
   "execution_count": 220,
   "metadata": {
    "collapsed": false,
    "slideshow": {
     "slide_type": "slide"
    }
   },
   "outputs": [
    {
     "data": {
      "image/png": "[encoded data removed]",
      "text/plain": [
       "<matplotlib.figure.Figure at 0x7fc6fccc39e8>"
      ]
     },
     "metadata": {},
     "output_type": "display_data"
    }
   ],
   "source": [
    "plt.hist(data.rating.dropna(), bins=20)\n",
    "plt.xlabel(\"IMDB ocjena\");"
   ]
  },
  {
   "cell_type": "code",
   "execution_count": 222,
   "metadata": {
    "collapsed": false,
    "slideshow": {
     "slide_type": "slide"
    }
   },
   "outputs": [
    {
     "data": {
      "image/png": "[encoded data removed]",
      "text/plain": [
       "<matplotlib.figure.Figure at 0x7fc7041ba978>"
      ]
     },
     "metadata": {},
     "output_type": "display_data"
    }
   ],
   "source": [
    "plt.scatter(data.year, data.rating, lw=0, color='k')\n",
    "plt.xlabel(\"Godina\")\n",
    "plt.ylabel(\"IMDB ocjena\");"
   ]
  },
  {
   "cell_type": "code",
   "execution_count": 223,
   "metadata": {
    "collapsed": false,
    "slideshow": {
     "slide_type": "slide"
    }
   },
   "outputs": [
    {
     "data": {
      "text/html": [
       "<div>\n",
       "<table border=\"1\" class=\"dataframe\">\n",
       "  <thead>\n",
       "    <tr style=\"text-align: right;\">\n",
       "      <th></th>\n",
       "      <th>title</th>\n",
       "      <th>year</th>\n",
       "      <th>rating</th>\n",
       "      <th>director</th>\n",
       "      <th>genres</th>\n",
       "    </tr>\n",
       "  </thead>\n",
       "  <tbody>\n",
       "    <tr>\n",
       "      <th>83</th>\n",
       "      <td>Larin izbor: Izgubljeni princ</td>\n",
       "      <td>2012</td>\n",
       "      <td>3.7</td>\n",
       "      <td>Tomislav Rukavina</td>\n",
       "      <td>Drama</td>\n",
       "    </tr>\n",
       "  </tbody>\n",
       "</table>\n",
       "</div>"
      ],
      "text/plain": [
       "                            title  year  rating           director genres\n",
       "83  Larin izbor: Izgubljeni princ  2012     3.7  Tomislav Rukavina  Drama"
      ]
     },
     "execution_count": 223,
     "metadata": {},
     "output_type": "execute_result"
    }
   ],
   "source": [
    "data[data.rating == data.rating.min()][['title', 'year', 'rating','director', 'genres']]"
   ]
  },
  {
   "cell_type": "code",
   "execution_count": 224,
   "metadata": {
    "collapsed": false,
    "slideshow": {
     "slide_type": "slide"
    }
   },
   "outputs": [
    {
     "data": {
      "text/html": [
       "<div>\n",
       "<table border=\"1\" class=\"dataframe\">\n",
       "  <thead>\n",
       "    <tr style=\"text-align: right;\">\n",
       "      <th></th>\n",
       "      <th>title</th>\n",
       "      <th>year</th>\n",
       "      <th>rating</th>\n",
       "      <th>director</th>\n",
       "      <th>genres</th>\n",
       "    </tr>\n",
       "  </thead>\n",
       "  <tbody>\n",
       "    <tr>\n",
       "      <th>189</th>\n",
       "      <td>The Second Death of Maximilian Paspa Aka Paspi...</td>\n",
       "      <td>2016</td>\n",
       "      <td>9.6</td>\n",
       "      <td>Zorko Sirotic</td>\n",
       "      <td>Mystery</td>\n",
       "    </tr>\n",
       "  </tbody>\n",
       "</table>\n",
       "</div>"
      ],
      "text/plain": [
       "                                                 title  year  rating  \\\n",
       "189  The Second Death of Maximilian Paspa Aka Paspi...  2016     9.6   \n",
       "\n",
       "          director   genres  \n",
       "189  Zorko Sirotic  Mystery  "
      ]
     },
     "execution_count": 224,
     "metadata": {},
     "output_type": "execute_result"
    }
   ],
   "source": [
    "data[data.rating == data.rating.max()][['title', 'year', 'rating','director',  'genres']]"
   ]
  },
  {
   "cell_type": "code",
   "execution_count": 225,
   "metadata": {
    "collapsed": false,
    "slideshow": {
     "slide_type": "slide"
    }
   },
   "outputs": [
    {
     "data": {
      "text/html": [
       "<div>\n",
       "<table border=\"1\" class=\"dataframe\">\n",
       "  <thead>\n",
       "    <tr style=\"text-align: right;\">\n",
       "      <th></th>\n",
       "      <th>title</th>\n",
       "      <th>year</th>\n",
       "      <th>runtime</th>\n",
       "      <th>rating</th>\n",
       "      <th>director</th>\n",
       "      <th>genres</th>\n",
       "      <th>Adventure</th>\n",
       "      <th>Comedy</th>\n",
       "      <th>Crime</th>\n",
       "      <th>Drama</th>\n",
       "      <th>...</th>\n",
       "      <th>Biography</th>\n",
       "      <th>Comedy</th>\n",
       "      <th>Crime</th>\n",
       "      <th>Drama</th>\n",
       "      <th>Family</th>\n",
       "      <th>Fantasy</th>\n",
       "      <th>Horror</th>\n",
       "      <th>Mystery</th>\n",
       "      <th>Thriller</th>\n",
       "      <th>War</th>\n",
       "    </tr>\n",
       "  </thead>\n",
       "  <tbody>\n",
       "    <tr>\n",
       "      <th>0</th>\n",
       "      <td>The Hunting Party</td>\n",
       "      <td>2007</td>\n",
       "      <td>101.0</td>\n",
       "      <td>6.9</td>\n",
       "      <td>Richard Shepard</td>\n",
       "      <td>Adventure, Comedy, Drama</td>\n",
       "      <td>False</td>\n",
       "      <td>True</td>\n",
       "      <td>False</td>\n",
       "      <td>True</td>\n",
       "      <td>...</td>\n",
       "      <td>False</td>\n",
       "      <td>False</td>\n",
       "      <td>False</td>\n",
       "      <td>False</td>\n",
       "      <td>False</td>\n",
       "      <td>False</td>\n",
       "      <td>False</td>\n",
       "      <td>False</td>\n",
       "      <td>False</td>\n",
       "      <td>False</td>\n",
       "    </tr>\n",
       "    <tr>\n",
       "      <th>1</th>\n",
       "      <td>Karaula</td>\n",
       "      <td>2006</td>\n",
       "      <td>94.0</td>\n",
       "      <td>7.7</td>\n",
       "      <td>Rajko Grlic</td>\n",
       "      <td>Action, Comedy, Drama</td>\n",
       "      <td>False</td>\n",
       "      <td>True</td>\n",
       "      <td>False</td>\n",
       "      <td>True</td>\n",
       "      <td>...</td>\n",
       "      <td>False</td>\n",
       "      <td>False</td>\n",
       "      <td>False</td>\n",
       "      <td>False</td>\n",
       "      <td>False</td>\n",
       "      <td>False</td>\n",
       "      <td>False</td>\n",
       "      <td>False</td>\n",
       "      <td>False</td>\n",
       "      <td>False</td>\n",
       "    </tr>\n",
       "    <tr>\n",
       "      <th>2</th>\n",
       "      <td>Svecenikova djeca</td>\n",
       "      <td>2013</td>\n",
       "      <td>96.0</td>\n",
       "      <td>6.8</td>\n",
       "      <td>Vinko Bresan</td>\n",
       "      <td>Comedy, Drama</td>\n",
       "      <td>False</td>\n",
       "      <td>False</td>\n",
       "      <td>False</td>\n",
       "      <td>True</td>\n",
       "      <td>...</td>\n",
       "      <td>False</td>\n",
       "      <td>True</td>\n",
       "      <td>False</td>\n",
       "      <td>False</td>\n",
       "      <td>False</td>\n",
       "      <td>False</td>\n",
       "      <td>False</td>\n",
       "      <td>False</td>\n",
       "      <td>False</td>\n",
       "      <td>False</td>\n",
       "    </tr>\n",
       "    <tr>\n",
       "      <th>3</th>\n",
       "      <td>Metastaze</td>\n",
       "      <td>2009</td>\n",
       "      <td>82.0</td>\n",
       "      <td>7.8</td>\n",
       "      <td>Branko Schmidt</td>\n",
       "      <td>Crime, Drama</td>\n",
       "      <td>False</td>\n",
       "      <td>False</td>\n",
       "      <td>False</td>\n",
       "      <td>True</td>\n",
       "      <td>...</td>\n",
       "      <td>False</td>\n",
       "      <td>False</td>\n",
       "      <td>True</td>\n",
       "      <td>False</td>\n",
       "      <td>False</td>\n",
       "      <td>False</td>\n",
       "      <td>False</td>\n",
       "      <td>False</td>\n",
       "      <td>False</td>\n",
       "      <td>False</td>\n",
       "    </tr>\n",
       "    <tr>\n",
       "      <th>4</th>\n",
       "      <td>Zvizdan</td>\n",
       "      <td>2015</td>\n",
       "      <td>123.0</td>\n",
       "      <td>7.3</td>\n",
       "      <td>Dalibor Matanic</td>\n",
       "      <td>Drama, Romance, War</td>\n",
       "      <td>False</td>\n",
       "      <td>False</td>\n",
       "      <td>False</td>\n",
       "      <td>False</td>\n",
       "      <td>...</td>\n",
       "      <td>False</td>\n",
       "      <td>False</td>\n",
       "      <td>False</td>\n",
       "      <td>True</td>\n",
       "      <td>False</td>\n",
       "      <td>False</td>\n",
       "      <td>False</td>\n",
       "      <td>False</td>\n",
       "      <td>False</td>\n",
       "      <td>False</td>\n",
       "    </tr>\n",
       "  </tbody>\n",
       "</table>\n",
       "<p>5 rows × 35 columns</p>\n",
       "</div>"
      ],
      "text/plain": [
       "               title  year  runtime  rating         director  \\\n",
       "0  The Hunting Party  2007    101.0     6.9  Richard Shepard   \n",
       "1            Karaula  2006     94.0     7.7      Rajko Grlic   \n",
       "2  Svecenikova djeca  2013     96.0     6.8     Vinko Bresan   \n",
       "3          Metastaze  2009     82.0     7.8   Branko Schmidt   \n",
       "4            Zvizdan  2015    123.0     7.3  Dalibor Matanic   \n",
       "\n",
       "                     genres  Adventure  Comedy  Crime  Drama  ...   Biography  \\\n",
       "0  Adventure, Comedy, Drama      False    True  False   True  ...       False   \n",
       "1     Action, Comedy, Drama      False    True  False   True  ...       False   \n",
       "2             Comedy, Drama      False   False  False   True  ...       False   \n",
       "3              Crime, Drama      False   False  False   True  ...       False   \n",
       "4       Drama, Romance, War      False   False  False  False  ...       False   \n",
       "\n",
       "  Comedy  Crime  Drama Family Fantasy Horror Mystery Thriller    War  \n",
       "0  False  False  False  False   False  False   False    False  False  \n",
       "1  False  False  False  False   False  False   False    False  False  \n",
       "2   True  False  False  False   False  False   False    False  False  \n",
       "3  False   True  False  False   False  False   False    False  False  \n",
       "4  False  False   True  False   False  False   False    False  False  \n",
       "\n",
       "[5 rows x 35 columns]"
      ]
     },
     "execution_count": 225,
     "metadata": {},
     "output_type": "execute_result"
    }
   ],
   "source": [
    "genres = set()\n",
    "for m in data.genres:\n",
    "    genres.update(g for g in m.split(','))\n",
    "genres = sorted(genres)\n",
    "\n",
    "for genre in genres:\n",
    "    data[genre] = [genre in movie.split(',') for movie in data.genres]\n",
    "         \n",
    "data.head()"
   ]
  },
  {
   "cell_type": "code",
   "execution_count": 226,
   "metadata": {
    "collapsed": false,
    "slideshow": {
     "slide_type": "slide"
    }
   },
   "outputs": [
    {
     "data": {
      "text/html": [
       "<div>\n",
       "<table border=\"1\" class=\"dataframe\">\n",
       "  <thead>\n",
       "    <tr style=\"text-align: right;\">\n",
       "      <th></th>\n",
       "      <th>Genre Count</th>\n",
       "    </tr>\n",
       "  </thead>\n",
       "  <tbody>\n",
       "    <tr>\n",
       "      <th>Adventure</th>\n",
       "      <td>2</td>\n",
       "    </tr>\n",
       "    <tr>\n",
       "      <th>Comedy</th>\n",
       "      <td>7</td>\n",
       "    </tr>\n",
       "    <tr>\n",
       "      <th>Crime</th>\n",
       "      <td>4</td>\n",
       "    </tr>\n",
       "    <tr>\n",
       "      <th>Drama</th>\n",
       "      <td>43</td>\n",
       "    </tr>\n",
       "    <tr>\n",
       "      <th>Family</th>\n",
       "      <td>9</td>\n",
       "    </tr>\n",
       "    <tr>\n",
       "      <th>Fantasy</th>\n",
       "      <td>2</td>\n",
       "    </tr>\n",
       "    <tr>\n",
       "      <th>History</th>\n",
       "      <td>5</td>\n",
       "    </tr>\n",
       "    <tr>\n",
       "      <th>Horror</th>\n",
       "      <td>2</td>\n",
       "    </tr>\n",
       "    <tr>\n",
       "      <th>Music</th>\n",
       "      <td>2</td>\n",
       "    </tr>\n",
       "    <tr>\n",
       "      <th>Musical</th>\n",
       "      <td>1</td>\n",
       "    </tr>\n",
       "    <tr>\n",
       "      <th>Mystery</th>\n",
       "      <td>5</td>\n",
       "    </tr>\n",
       "    <tr>\n",
       "      <th>Romance</th>\n",
       "      <td>16</td>\n",
       "    </tr>\n",
       "    <tr>\n",
       "      <th>Sci-Fi</th>\n",
       "      <td>2</td>\n",
       "    </tr>\n",
       "    <tr>\n",
       "      <th>Sport</th>\n",
       "      <td>1</td>\n",
       "    </tr>\n",
       "    <tr>\n",
       "      <th>Thriller</th>\n",
       "      <td>12</td>\n",
       "    </tr>\n",
       "    <tr>\n",
       "      <th>War</th>\n",
       "      <td>19</td>\n",
       "    </tr>\n",
       "    <tr>\n",
       "      <th>Action</th>\n",
       "      <td>15</td>\n",
       "    </tr>\n",
       "    <tr>\n",
       "      <th>Adventure</th>\n",
       "      <td>6</td>\n",
       "    </tr>\n",
       "    <tr>\n",
       "      <th>Animation</th>\n",
       "      <td>3</td>\n",
       "    </tr>\n",
       "    <tr>\n",
       "      <th>Biography</th>\n",
       "      <td>6</td>\n",
       "    </tr>\n",
       "    <tr>\n",
       "      <th>Comedy</th>\n",
       "      <td>49</td>\n",
       "    </tr>\n",
       "    <tr>\n",
       "      <th>Crime</th>\n",
       "      <td>10</td>\n",
       "    </tr>\n",
       "    <tr>\n",
       "      <th>Drama</th>\n",
       "      <td>97</td>\n",
       "    </tr>\n",
       "    <tr>\n",
       "      <th>Family</th>\n",
       "      <td>3</td>\n",
       "    </tr>\n",
       "    <tr>\n",
       "      <th>Fantasy</th>\n",
       "      <td>2</td>\n",
       "    </tr>\n",
       "    <tr>\n",
       "      <th>Horror</th>\n",
       "      <td>3</td>\n",
       "    </tr>\n",
       "    <tr>\n",
       "      <th>Mystery</th>\n",
       "      <td>4</td>\n",
       "    </tr>\n",
       "    <tr>\n",
       "      <th>Thriller</th>\n",
       "      <td>2</td>\n",
       "    </tr>\n",
       "    <tr>\n",
       "      <th>War</th>\n",
       "      <td>1</td>\n",
       "    </tr>\n",
       "  </tbody>\n",
       "</table>\n",
       "</div>"
      ],
      "text/plain": [
       "            Genre Count\n",
       " Adventure            2\n",
       " Comedy               7\n",
       " Crime                4\n",
       " Drama               43\n",
       " Family               9\n",
       " Fantasy              2\n",
       " History              5\n",
       " Horror               2\n",
       " Music                2\n",
       " Musical              1\n",
       " Mystery              5\n",
       " Romance             16\n",
       " Sci-Fi               2\n",
       " Sport                1\n",
       " Thriller            12\n",
       " War                 19\n",
       "Action               15\n",
       "Adventure             6\n",
       "Animation             3\n",
       "Biography             6\n",
       "Comedy               49\n",
       "Crime                10\n",
       "Drama                97\n",
       "Family                3\n",
       "Fantasy               2\n",
       "Horror                3\n",
       "Mystery               4\n",
       "Thriller              2\n",
       "War                   1"
      ]
     },
     "execution_count": 226,
     "metadata": {},
     "output_type": "execute_result"
    }
   ],
   "source": [
    "genre_count = data[genres].sum()\n",
    "pd.DataFrame({'Genre Count': genre_count})"
   ]
  },
  {
   "cell_type": "code",
   "execution_count": 227,
   "metadata": {
    "collapsed": false,
    "slideshow": {
     "slide_type": "slide"
    }
   },
   "outputs": [
    {
     "data": {
      "text/html": [
       "<div>\n",
       "<table border=\"1\" class=\"dataframe\">\n",
       "  <thead>\n",
       "    <tr style=\"text-align: right;\">\n",
       "      <th></th>\n",
       "      <th>title</th>\n",
       "      <th>year</th>\n",
       "      <th>petoljetka</th>\n",
       "    </tr>\n",
       "  </thead>\n",
       "  <tbody>\n",
       "    <tr>\n",
       "      <th>0</th>\n",
       "      <td>The Hunting Party</td>\n",
       "      <td>2007</td>\n",
       "      <td>2005</td>\n",
       "    </tr>\n",
       "    <tr>\n",
       "      <th>1</th>\n",
       "      <td>Karaula</td>\n",
       "      <td>2006</td>\n",
       "      <td>2005</td>\n",
       "    </tr>\n",
       "    <tr>\n",
       "      <th>2</th>\n",
       "      <td>Svecenikova djeca</td>\n",
       "      <td>2013</td>\n",
       "      <td>2010</td>\n",
       "    </tr>\n",
       "    <tr>\n",
       "      <th>3</th>\n",
       "      <td>Metastaze</td>\n",
       "      <td>2009</td>\n",
       "      <td>2005</td>\n",
       "    </tr>\n",
       "    <tr>\n",
       "      <th>4</th>\n",
       "      <td>Zvizdan</td>\n",
       "      <td>2015</td>\n",
       "      <td>2015</td>\n",
       "    </tr>\n",
       "  </tbody>\n",
       "</table>\n",
       "</div>"
      ],
      "text/plain": [
       "               title  year  petoljetka\n",
       "0  The Hunting Party  2007        2005\n",
       "1            Karaula  2006        2005\n",
       "2  Svecenikova djeca  2013        2010\n",
       "3          Metastaze  2009        2005\n",
       "4            Zvizdan  2015        2015"
      ]
     },
     "execution_count": 227,
     "metadata": {},
     "output_type": "execute_result"
    }
   ],
   "source": [
    "petoljetka =  (data.year // 5) * 5\n",
    "\n",
    "tyd = data.loc[:, ('title', 'year')]\n",
    "tyd['petoljetka'] = petoljetka;\n",
    "\n",
    "tyd.head()"
   ]
  },
  {
   "cell_type": "code",
   "execution_count": 228,
   "metadata": {
    "collapsed": false,
    "slideshow": {
     "slide_type": "slide"
    }
   },
   "outputs": [
    {
     "name": "stdout",
     "output_type": "stream",
     "text": [
      "year\n",
      "1970    8.600000\n",
      "1980    7.700000\n",
      "1990    7.114286\n",
      "1995    6.754545\n",
      "2000    6.956000\n",
      "2005    6.973684\n",
      "2010    7.193333\n",
      "2015    7.512500\n",
      "Name: Petoljetka mean, dtype: float64\n"
     ]
    },
    {
     "data": {
      "image/png": "[encoded data removed]",
      "text/plain": [
       "<matplotlib.figure.Figure at 0x7fc6fce2e0b8>"
      ]
     },
     "metadata": {},
     "output_type": "display_data"
    }
   ],
   "source": [
    "pet_mean = data.groupby(petoljetka).rating.mean()\n",
    "pet_mean.name = 'Petoljetka mean'\n",
    "print (pet_mean)\n",
    "\n",
    "plt.plot(pet_mean.index, pet_mean.values, 'o-',\n",
    "        color='r', lw=3, label='Petoljetka prosjek')\n",
    "plt.scatter(data.year, data.rating, alpha=.04, lw=0, color='k')\n",
    "plt.xlabel(\"Godina\")\n",
    "plt.ylabel(\"Ocjena\")\n",
    "plt.legend(frameon=False);"
   ]
  },
  {
   "cell_type": "code",
   "execution_count": 229,
   "metadata": {
    "collapsed": false,
    "slideshow": {
     "slide_type": "slide"
    }
   },
   "outputs": [
    {
     "name": "stdout",
     "output_type": "stream",
     "text": [
      "1970 ['Tko pjeva zlo ne misli']\n",
      "1980 ['Izgubljeni zavicaj']\n",
      "1991 ['Vrijeme ratnika']\n",
      "1992 ['Kamenita vrata']\n",
      "1993 ['Kontesa Dora']\n",
      "1994 ['Vukovar se vraca kuci']\n",
      "1995 ['Washed Out']\n",
      "1996 ['How the War Started on My Island']\n",
      "1997 ['Pont Neuf']\n",
      "1998 ['Kad mrtvi zapjevaju']\n",
      "1999 ['Marsal' 'Dubrovacki suton']\n",
      "2000 ['Je li jasno prijatelju?']\n",
      "2001 ['Holding']\n",
      "2002 ['24 sata' 'Serafin, svjetionicarev sin']\n",
      "2003 ['Konjanik' 'Tu' 'Bore Lee: U kandzama velegrada']\n",
      "2004 ['Nije bed']\n",
      "2005 ['RGB: RedGreenBlue']\n",
      "2006 ['Crveno i crno']\n",
      "2007 ['Pjevajte nesto ljubavno']\n",
      "2008 ['Blazeni Augustin Kazotic']\n",
      "2009 ['Da mogu...']\n",
      "2010 ['Mjesto na kojem je umro posljednji covjek']\n",
      "2011 [\"Marija's Own\"]\n",
      "2012 [\"Once Upon a Winter's Night\"]\n",
      "2013 ['Glazbena kutija']\n",
      "2014 ['Vlog']\n",
      "2015 ['Oporuka']\n",
      "2016 ['The Second Death of Maximilian Paspa Aka Paspin Kut3']\n",
      "2017 ['Uzbuna na Zelenom Vrhu']\n"
     ]
    }
   ],
   "source": [
    "for year, subset in data.groupby('year'):\n",
    "    print (year, subset[subset.rating == subset.rating.max()].title.values)"
   ]
  },
  {
   "cell_type": "code",
   "execution_count": 230,
   "metadata": {
    "collapsed": false,
    "slideshow": {
     "slide_type": "slide"
    }
   },
   "outputs": [
    {
     "data": {
      "text/html": [
       "<table><tr><td><strong>Python verzija</strong></td><td>3.5.3</td></tr><tr><td><strong>kompajler</strong></td><td>GCC 4.8.2 20140120 (Red Hat 4.8.2-15)</td></tr><tr><td><strong>sustav</strong></td><td>Linux</td></tr><tr><td><strong>broj CPU-a</strong></td><td>8</td></tr><tr><td><strong>interpreter</strong></td><td>64bit</td></tr></table><table><tr><td><strong>pandas</strong> verzija</td><td>0.19.2</td></tr><tr><td><strong> numpy</strong> verzija</td><td>1.11.3</td></tr><tr><td><strong>requests</strong> verzija</td><td>2.13.0</td></tr><tr><td><strong> beautifulsoup4</strong> verzija</td><td>4.5.3</td></tr></table>"
      ],
      "text/plain": [
       "<IPython.core.display.HTML object>"
      ]
     },
     "execution_count": 230,
     "metadata": {},
     "output_type": "execute_result"
    }
   ],
   "source": [
    "from verzije import *\n",
    "from IPython.display import HTML\n",
    "HTML(print_sysinfo()+info_packages('pandas, numpy,requests, beautifulsoup4'))"
   ]
  }
 ],
 "metadata": {
  "celltoolbar": "Slideshow",
  "kernelspec": {
   "display_name": "Python 3 (Anaconda)",
   "language": "python",
   "name": "anaconda3"
  },
  "language_info": {
   "codemirror_mode": {
    "name": "ipython",
    "version": 3
   },
   "file_extension": ".py",
   "mimetype": "text/x-python",
   "name": "python",
   "nbconvert_exporter": "python",
   "pygments_lexer": "ipython3",
   "version": "3.5.3"
  },
  "name": "pandas.ipynb"
 },
 "nbformat": 4,
 "nbformat_minor": 0
}
