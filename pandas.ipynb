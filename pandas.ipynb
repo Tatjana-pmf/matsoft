{
 "metadata": {
  "name": ""
 },
 "nbformat": 3,
 "nbformat_minor": 0,
 "worksheets": [
  {
   "cells": [
    {
     "cell_type": "markdown",
     "metadata": {
      "slideshow": {
       "slide_type": "slide"
      }
     },
     "source": [
      "#Pandas\n",
      "\n",
      "[Pandas](http://pandas.pydata.org/) je biblioteka za analizu podataka. Ilustrirat \u0107emo njeno kori\u0161tenje na jednostavnom primjeru analize podataka iz IMDB baze.\n",
      "Tako\u0111er \u0107emo koristiti biblioteku [pattern](http://www.clips.ua.ac.be/pages/pattern), koja slu\u017ei za rudarenje podataka s Interneta. Kako biblioteka pattern nije instalirana na Sagemath oblaku, instalirat \u0107emo je ru\u010dno tako da otvorimo terminal i onda unesemo sljede\u0107e naredbe\n",
      "```\n",
      "sage -sh \n",
      "pip install --user --allow-all-external --allow-unverified  pattern pattern\n",
      "```"
     ]
    },
    {
     "cell_type": "code",
     "collapsed": false,
     "input": [
      "# standardna Python biblioteka\n",
      "import time\n",
      "\n",
      "# API za HTTP protokol\n",
      "import requests\n",
      "\n",
      "# najprije instaliramo paket pattern\n",
      "from pattern import web"
     ],
     "language": "python",
     "metadata": {
      "slideshow": {
       "slide_type": "fragment"
      }
     },
     "outputs": [],
     "prompt_number": 1
    },
    {
     "cell_type": "markdown",
     "metadata": {
      "slideshow": {
       "slide_type": "slide"
      }
     },
     "source": [
      "Dohva\u0107amo podatke s IMDB-a o filmovima sa zemljom porijekla Hrvatska, smimljenim izme\u0111u 1945. i 2012."
     ]
    },
    {
     "cell_type": "code",
     "collapsed": false,
     "input": [
      "url = 'http://www.imdb.com/search/title'\n",
      "params = dict(sort='num_votes,desc', start=1, title_type='feature', year='1945,2012',countries='hr')\n",
      "r=[]\n",
      "for i in range(1,265,50):\n",
      "    params['start']=i\n",
      "    r.append(requests.get(url, params=params))\n",
      "    time.sleep(5)"
     ],
     "language": "python",
     "metadata": {
      "slideshow": {
       "slide_type": "fragment"
      }
     },
     "outputs": [],
     "prompt_number": 20
    },
    {
     "cell_type": "markdown",
     "metadata": {
      "slideshow": {
       "slide_type": "slide"
      }
     },
     "source": [
      "Parsiranje podataka koje spremamo u datoteku `filmovi.txt`."
     ]
    },
    {
     "cell_type": "code",
     "collapsed": false,
     "input": [
      "with open('filmovi.txt','w') as f:\n",
      "    for i in range(len(r)):\n",
      "        dom = web.Element(r[i].text)\n",
      "        for movie in dom.by_tag('td.title'):    \n",
      "            title = movie.by_tag('a')[0].content\n",
      "            year = movie.by_tag('span.year_type')[0].content\n",
      "            try:\n",
      "                genres = movie.by_tag('span.genre')[0].by_tag('a')\n",
      "                genres = '|'.join([g.content for g in genres])\n",
      "            except:\n",
      "                genres = ''\n",
      "            try:\n",
      "                runtime = movie.by_tag('span.runtime')[0].content\n",
      "            except:\n",
      "                runtime = '0'\n",
      "            rating = movie.by_tag('span.value')[0].content\n",
      "            f.write('\\t'.join((title, year, runtime, rating, genres))+'\\n')"
     ],
     "language": "python",
     "metadata": {
      "slideshow": {
       "slide_type": "fragment"
      }
     },
     "outputs": [],
     "prompt_number": 21
    },
    {
     "cell_type": "markdown",
     "metadata": {
      "slideshow": {
       "slide_type": "slide"
      }
     },
     "source": [
      "###Analiza podataka pomo\u0107u biblioteke Pandas"
     ]
    },
    {
     "cell_type": "code",
     "collapsed": false,
     "input": [
      "import pandas as pd\n",
      "names = ['title', 'year','runtime', 'rating', 'genres']\n",
      "data = pd.read_csv('filmovi.txt', delimiter='\\t', names=names).dropna()\n",
      "print \"Number of rows: %i\" % data.shape[0]\n",
      "data.head()"
     ],
     "language": "python",
     "metadata": {
      "slideshow": {
       "slide_type": "fragment"
      }
     },
     "outputs": [
      {
       "output_type": "stream",
       "stream": "stdout",
       "text": [
        "Number of rows: 192\n"
       ]
      },
      {
       "html": [
        "<div style=\"max-height:1000px;max-width:1500px;overflow:auto;\">\n",
        "<table border=\"1\" class=\"dataframe\">\n",
        "  <thead>\n",
        "    <tr style=\"text-align: right;\">\n",
        "      <th></th>\n",
        "      <th>title</th>\n",
        "      <th>year</th>\n",
        "      <th>runtime</th>\n",
        "      <th>rating</th>\n",
        "      <th>genres</th>\n",
        "    </tr>\n",
        "  </thead>\n",
        "  <tbody>\n",
        "    <tr>\n",
        "      <th>0</th>\n",
        "      <td>               The Hunting Party</td>\n",
        "      <td> (2007)</td>\n",
        "      <td> 101 mins.</td>\n",
        "      <td> 6.9</td>\n",
        "      <td> Adventure|Comedy|Drama|Thriller|War</td>\n",
        "    </tr>\n",
        "    <tr>\n",
        "      <th>1</th>\n",
        "      <td>                      The Parade</td>\n",
        "      <td> (2011)</td>\n",
        "      <td> 115 mins.</td>\n",
        "      <td> 7.4</td>\n",
        "      <td>                        Comedy|Drama</td>\n",
        "    </tr>\n",
        "    <tr>\n",
        "      <th>2</th>\n",
        "      <td>              Ginger &amp;#x26; Rosa</td>\n",
        "      <td> (2012)</td>\n",
        "      <td>  90 mins.</td>\n",
        "      <td> 6.2</td>\n",
        "      <td>                               Drama</td>\n",
        "    </tr>\n",
        "    <tr>\n",
        "      <th>3</th>\n",
        "      <td> Grbavica: The Land of My Dreams</td>\n",
        "      <td> (2006)</td>\n",
        "      <td>  90 mins.</td>\n",
        "      <td> 7.3</td>\n",
        "      <td>                               Drama</td>\n",
        "    </tr>\n",
        "    <tr>\n",
        "      <th>4</th>\n",
        "      <td>                 The Border Post</td>\n",
        "      <td> (2006)</td>\n",
        "      <td>  94 mins.</td>\n",
        "      <td> 7.6</td>\n",
        "      <td>                 Action|Comedy|Drama</td>\n",
        "    </tr>\n",
        "  </tbody>\n",
        "</table>\n",
        "<p>5 rows \u00d7 5 columns</p>\n",
        "</div>"
       ],
       "metadata": {},
       "output_type": "pyout",
       "prompt_number": 2,
       "text": [
        "                             title    year    runtime  rating  \\\n",
        "0                The Hunting Party  (2007)  101 mins.     6.9   \n",
        "1                       The Parade  (2011)  115 mins.     7.4   \n",
        "2               Ginger &#x26; Rosa  (2012)   90 mins.     6.2   \n",
        "3  Grbavica: The Land of My Dreams  (2006)   90 mins.     7.3   \n",
        "4                  The Border Post  (2006)   94 mins.     7.6   \n",
        "\n",
        "                                genres  \n",
        "0  Adventure|Comedy|Drama|Thriller|War  \n",
        "1                         Comedy|Drama  \n",
        "2                                Drama  \n",
        "3                                Drama  \n",
        "4                  Action|Comedy|Drama  \n",
        "\n",
        "[5 rows x 5 columns]"
       ]
      }
     ],
     "prompt_number": 2
    },
    {
     "cell_type": "code",
     "collapsed": false,
     "input": [
      "clean_runtime = [int(v.split(' ')[0]) for v in data.runtime]\n",
      "data['runtime'] = clean_runtime\n",
      "data['year'] = [int(y[1:-1]) for y in data.year]\n",
      "data.head()"
     ],
     "language": "python",
     "metadata": {
      "slideshow": {
       "slide_type": "slide"
      }
     },
     "outputs": [
      {
       "html": [
        "<div style=\"max-height:1000px;max-width:1500px;overflow:auto;\">\n",
        "<table border=\"1\" class=\"dataframe\">\n",
        "  <thead>\n",
        "    <tr style=\"text-align: right;\">\n",
        "      <th></th>\n",
        "      <th>title</th>\n",
        "      <th>year</th>\n",
        "      <th>runtime</th>\n",
        "      <th>rating</th>\n",
        "      <th>genres</th>\n",
        "    </tr>\n",
        "  </thead>\n",
        "  <tbody>\n",
        "    <tr>\n",
        "      <th>0</th>\n",
        "      <td>               The Hunting Party</td>\n",
        "      <td> 2007</td>\n",
        "      <td> 101</td>\n",
        "      <td> 6.9</td>\n",
        "      <td> Adventure|Comedy|Drama|Thriller|War</td>\n",
        "    </tr>\n",
        "    <tr>\n",
        "      <th>1</th>\n",
        "      <td>                      The Parade</td>\n",
        "      <td> 2011</td>\n",
        "      <td> 115</td>\n",
        "      <td> 7.4</td>\n",
        "      <td>                        Comedy|Drama</td>\n",
        "    </tr>\n",
        "    <tr>\n",
        "      <th>2</th>\n",
        "      <td>              Ginger &amp;#x26; Rosa</td>\n",
        "      <td> 2012</td>\n",
        "      <td>  90</td>\n",
        "      <td> 6.2</td>\n",
        "      <td>                               Drama</td>\n",
        "    </tr>\n",
        "    <tr>\n",
        "      <th>3</th>\n",
        "      <td> Grbavica: The Land of My Dreams</td>\n",
        "      <td> 2006</td>\n",
        "      <td>  90</td>\n",
        "      <td> 7.3</td>\n",
        "      <td>                               Drama</td>\n",
        "    </tr>\n",
        "    <tr>\n",
        "      <th>4</th>\n",
        "      <td>                 The Border Post</td>\n",
        "      <td> 2006</td>\n",
        "      <td>  94</td>\n",
        "      <td> 7.6</td>\n",
        "      <td>                 Action|Comedy|Drama</td>\n",
        "    </tr>\n",
        "  </tbody>\n",
        "</table>\n",
        "<p>5 rows \u00d7 5 columns</p>\n",
        "</div>"
       ],
       "metadata": {},
       "output_type": "pyout",
       "prompt_number": 3,
       "text": [
        "                             title  year  runtime  rating  \\\n",
        "0                The Hunting Party  2007      101     6.9   \n",
        "1                       The Parade  2011      115     7.4   \n",
        "2               Ginger &#x26; Rosa  2012       90     6.2   \n",
        "3  Grbavica: The Land of My Dreams  2006       90     7.3   \n",
        "4                  The Border Post  2006       94     7.6   \n",
        "\n",
        "                                genres  \n",
        "0  Adventure|Comedy|Drama|Thriller|War  \n",
        "1                         Comedy|Drama  \n",
        "2                                Drama  \n",
        "3                                Drama  \n",
        "4                  Action|Comedy|Drama  \n",
        "\n",
        "[5 rows x 5 columns]"
       ]
      }
     ],
     "prompt_number": 3
    },
    {
     "cell_type": "code",
     "collapsed": false,
     "input": [
      "data[['year','runtime', 'rating']].describe()"
     ],
     "language": "python",
     "metadata": {
      "slideshow": {
       "slide_type": "slide"
      }
     },
     "outputs": [
      {
       "html": [
        "<div style=\"max-height:1000px;max-width:1500px;overflow:auto;\">\n",
        "<table border=\"1\" class=\"dataframe\">\n",
        "  <thead>\n",
        "    <tr style=\"text-align: right;\">\n",
        "      <th></th>\n",
        "      <th>year</th>\n",
        "      <th>runtime</th>\n",
        "      <th>rating</th>\n",
        "    </tr>\n",
        "  </thead>\n",
        "  <tbody>\n",
        "    <tr>\n",
        "      <th>count</th>\n",
        "      <td>  192.000000</td>\n",
        "      <td> 192.000000</td>\n",
        "      <td> 192.000000</td>\n",
        "    </tr>\n",
        "    <tr>\n",
        "      <th>mean</th>\n",
        "      <td> 2004.750000</td>\n",
        "      <td>  79.041667</td>\n",
        "      <td>   7.095312</td>\n",
        "    </tr>\n",
        "    <tr>\n",
        "      <th>std</th>\n",
        "      <td>    6.651379</td>\n",
        "      <td>  37.356754</td>\n",
        "      <td>   0.984928</td>\n",
        "    </tr>\n",
        "    <tr>\n",
        "      <th>min</th>\n",
        "      <td> 1969.000000</td>\n",
        "      <td>   0.000000</td>\n",
        "      <td>   3.700000</td>\n",
        "    </tr>\n",
        "    <tr>\n",
        "      <th>25%</th>\n",
        "      <td> 2001.000000</td>\n",
        "      <td>  73.750000</td>\n",
        "      <td>   6.500000</td>\n",
        "    </tr>\n",
        "    <tr>\n",
        "      <th>50%</th>\n",
        "      <td> 2006.000000</td>\n",
        "      <td>  90.000000</td>\n",
        "      <td>   7.200000</td>\n",
        "    </tr>\n",
        "    <tr>\n",
        "      <th>75%</th>\n",
        "      <td> 2010.000000</td>\n",
        "      <td> 100.250000</td>\n",
        "      <td>   7.700000</td>\n",
        "    </tr>\n",
        "    <tr>\n",
        "      <th>max</th>\n",
        "      <td> 2012.000000</td>\n",
        "      <td> 200.000000</td>\n",
        "      <td>   8.800000</td>\n",
        "    </tr>\n",
        "  </tbody>\n",
        "</table>\n",
        "<p>8 rows \u00d7 3 columns</p>\n",
        "</div>"
       ],
       "metadata": {},
       "output_type": "pyout",
       "prompt_number": 4,
       "text": [
        "              year     runtime      rating\n",
        "count   192.000000  192.000000  192.000000\n",
        "mean   2004.750000   79.041667    7.095312\n",
        "std       6.651379   37.356754    0.984928\n",
        "min    1969.000000    0.000000    3.700000\n",
        "25%    2001.000000   73.750000    6.500000\n",
        "50%    2006.000000   90.000000    7.200000\n",
        "75%    2010.000000  100.250000    7.700000\n",
        "max    2012.000000  200.000000    8.800000\n",
        "\n",
        "[8 rows x 3 columns]"
       ]
      }
     ],
     "prompt_number": 4
    },
    {
     "cell_type": "code",
     "collapsed": false,
     "input": [
      "import numpy as np\n",
      "data.runtime[data.runtime==0] = np.nan"
     ],
     "language": "python",
     "metadata": {
      "slideshow": {
       "slide_type": "slide"
      }
     },
     "outputs": [],
     "prompt_number": 5
    },
    {
     "cell_type": "code",
     "collapsed": false,
     "input": [
      "data.runtime.describe()"
     ],
     "language": "python",
     "metadata": {
      "slideshow": {
       "slide_type": "fragment"
      }
     },
     "outputs": [
      {
       "metadata": {},
       "output_type": "pyout",
       "prompt_number": 6,
       "text": [
        "count    163.000000\n",
        "mean      93.104294\n",
        "std       18.109957\n",
        "min       46.000000\n",
        "25%       83.000000\n",
        "50%       93.000000\n",
        "75%      102.000000\n",
        "max      200.000000\n",
        "Name: runtime, dtype: float64"
       ]
      }
     ],
     "prompt_number": 6
    },
    {
     "cell_type": "code",
     "collapsed": false,
     "input": [
      "import matplotlib.pyplot as plt\n",
      "plt.hist(data.year, bins=np.arange(1945, 2014))\n",
      "plt.xlabel(\"Godina produkcije\");"
     ],
     "language": "python",
     "metadata": {
      "slideshow": {
       "slide_type": "slide"
      }
     },
     "outputs": [
      {
       "metadata": {},
       "output_type": "display_data",
       "png": "[encoded data removed]",
       "text": [
        "<matplotlib.figure.Figure at 0x2077c10>"
       ]
      }
     ],
     "prompt_number": 7
    },
    {
     "cell_type": "code",
     "collapsed": false,
     "input": [
      "plt.hist(data.rating, bins=20)\n",
      "plt.xlabel(\"IMDB ocjena\");"
     ],
     "language": "python",
     "metadata": {
      "slideshow": {
       "slide_type": "slide"
      }
     },
     "outputs": [
      {
       "metadata": {},
       "output_type": "display_data",
       "png": "[encoded data removed]",
       "text": [
        "<matplotlib.figure.Figure at 0x267afd0>"
       ]
      }
     ],
     "prompt_number": 8
    },
    {
     "cell_type": "code",
     "collapsed": false,
     "input": [
      "plt.scatter(data.year, data.rating, lw=0, alpha=.08, color='k')\n",
      "plt.xlabel(\"Godina\")\n",
      "plt.ylabel(\"IMDB ocjena\");"
     ],
     "language": "python",
     "metadata": {
      "slideshow": {
       "slide_type": "slide"
      }
     },
     "outputs": [
      {
       "metadata": {},
       "output_type": "display_data",
       "png": "[encoded data removed]",
       "text": [
        "<matplotlib.figure.Figure at 0x2ba01d0>"
       ]
      }
     ],
     "prompt_number": 9
    },
    {
     "cell_type": "code",
     "collapsed": false,
     "input": [
      "data[data.rating == data.rating.min()][['title', 'year', 'rating', 'genres']]"
     ],
     "language": "python",
     "metadata": {
      "slideshow": {
       "slide_type": "slide"
      }
     },
     "outputs": [
      {
       "html": [
        "<div style=\"max-height:1000px;max-width:1500px;overflow:auto;\">\n",
        "<table border=\"1\" class=\"dataframe\">\n",
        "  <thead>\n",
        "    <tr style=\"text-align: right;\">\n",
        "      <th></th>\n",
        "      <th>title</th>\n",
        "      <th>year</th>\n",
        "      <th>rating</th>\n",
        "      <th>genres</th>\n",
        "    </tr>\n",
        "  </thead>\n",
        "  <tbody>\n",
        "    <tr>\n",
        "      <th>82</th>\n",
        "      <td> Larin izbor: Izgubljeni princ</td>\n",
        "      <td> 2012</td>\n",
        "      <td> 3.7</td>\n",
        "      <td> Drama</td>\n",
        "    </tr>\n",
        "  </tbody>\n",
        "</table>\n",
        "<p>1 rows \u00d7 4 columns</p>\n",
        "</div>"
       ],
       "metadata": {},
       "output_type": "pyout",
       "prompt_number": 10,
       "text": [
        "                            title  year  rating genres\n",
        "82  Larin izbor: Izgubljeni princ  2012     3.7  Drama\n",
        "\n",
        "[1 rows x 4 columns]"
       ]
      }
     ],
     "prompt_number": 10
    },
    {
     "cell_type": "code",
     "collapsed": false,
     "input": [
      "data[data.rating == data.rating.max()][['title', 'year', 'rating', 'genres']]"
     ],
     "language": "python",
     "metadata": {
      "slideshow": {
       "slide_type": "slide"
      }
     },
     "outputs": [
      {
       "html": [
        "<div style=\"max-height:1000px;max-width:1500px;overflow:auto;\">\n",
        "<table border=\"1\" class=\"dataframe\">\n",
        "  <thead>\n",
        "    <tr style=\"text-align: right;\">\n",
        "      <th></th>\n",
        "      <th>title</th>\n",
        "      <th>year</th>\n",
        "      <th>rating</th>\n",
        "      <th>genres</th>\n",
        "    </tr>\n",
        "  </thead>\n",
        "  <tbody>\n",
        "    <tr>\n",
        "      <th>203</th>\n",
        "      <td> Destination Unknown</td>\n",
        "      <td> 2011</td>\n",
        "      <td> 8.8</td>\n",
        "      <td> Adventure|Drama</td>\n",
        "    </tr>\n",
        "  </tbody>\n",
        "</table>\n",
        "<p>1 rows \u00d7 4 columns</p>\n",
        "</div>"
       ],
       "metadata": {},
       "output_type": "pyout",
       "prompt_number": 11,
       "text": [
        "                   title  year  rating           genres\n",
        "203  Destination Unknown  2011     8.8  Adventure|Drama\n",
        "\n",
        "[1 rows x 4 columns]"
       ]
      }
     ],
     "prompt_number": 11
    },
    {
     "cell_type": "code",
     "collapsed": false,
     "input": [
      "genres = set()\n",
      "for m in data.genres:\n",
      "    genres.update(g for g in m.split('|'))\n",
      "genres = sorted(genres)\n",
      "\n",
      "for genre in genres:\n",
      "    data[genre] = [genre in movie.split('|') for movie in data.genres]\n",
      "         \n",
      "data.head()"
     ],
     "language": "python",
     "metadata": {
      "slideshow": {
       "slide_type": "slide"
      }
     },
     "outputs": [
      {
       "html": [
        "<div style=\"max-height:1000px;max-width:1500px;overflow:auto;\">\n",
        "<table border=\"1\" class=\"dataframe\">\n",
        "  <thead>\n",
        "    <tr style=\"text-align: right;\">\n",
        "      <th></th>\n",
        "      <th>title</th>\n",
        "      <th>year</th>\n",
        "      <th>runtime</th>\n",
        "      <th>rating</th>\n",
        "      <th>genres</th>\n",
        "      <th>Action</th>\n",
        "      <th>Adventure</th>\n",
        "      <th>Animation</th>\n",
        "      <th>Biography</th>\n",
        "      <th>Comedy</th>\n",
        "      <th>Crime</th>\n",
        "      <th>Drama</th>\n",
        "      <th>Family</th>\n",
        "      <th>Fantasy</th>\n",
        "      <th>History</th>\n",
        "      <th>Horror</th>\n",
        "      <th>Music</th>\n",
        "      <th>Musical</th>\n",
        "      <th>Mystery</th>\n",
        "      <th>Romance</th>\n",
        "      <th></th>\n",
        "    </tr>\n",
        "  </thead>\n",
        "  <tbody>\n",
        "    <tr>\n",
        "      <th>0</th>\n",
        "      <td>               The Hunting Party</td>\n",
        "      <td> 2007</td>\n",
        "      <td> 101</td>\n",
        "      <td> 6.9</td>\n",
        "      <td> Adventure|Comedy|Drama|Thriller|War</td>\n",
        "      <td> False</td>\n",
        "      <td>  True</td>\n",
        "      <td> False</td>\n",
        "      <td> False</td>\n",
        "      <td>  True</td>\n",
        "      <td> False</td>\n",
        "      <td> True</td>\n",
        "      <td> False</td>\n",
        "      <td> False</td>\n",
        "      <td> False</td>\n",
        "      <td> False</td>\n",
        "      <td> False</td>\n",
        "      <td> False</td>\n",
        "      <td> False</td>\n",
        "      <td> False</td>\n",
        "      <td>...</td>\n",
        "    </tr>\n",
        "    <tr>\n",
        "      <th>1</th>\n",
        "      <td>                      The Parade</td>\n",
        "      <td> 2011</td>\n",
        "      <td> 115</td>\n",
        "      <td> 7.4</td>\n",
        "      <td>                        Comedy|Drama</td>\n",
        "      <td> False</td>\n",
        "      <td> False</td>\n",
        "      <td> False</td>\n",
        "      <td> False</td>\n",
        "      <td>  True</td>\n",
        "      <td> False</td>\n",
        "      <td> True</td>\n",
        "      <td> False</td>\n",
        "      <td> False</td>\n",
        "      <td> False</td>\n",
        "      <td> False</td>\n",
        "      <td> False</td>\n",
        "      <td> False</td>\n",
        "      <td> False</td>\n",
        "      <td> False</td>\n",
        "      <td>...</td>\n",
        "    </tr>\n",
        "    <tr>\n",
        "      <th>2</th>\n",
        "      <td>              Ginger &amp;#x26; Rosa</td>\n",
        "      <td> 2012</td>\n",
        "      <td>  90</td>\n",
        "      <td> 6.2</td>\n",
        "      <td>                               Drama</td>\n",
        "      <td> False</td>\n",
        "      <td> False</td>\n",
        "      <td> False</td>\n",
        "      <td> False</td>\n",
        "      <td> False</td>\n",
        "      <td> False</td>\n",
        "      <td> True</td>\n",
        "      <td> False</td>\n",
        "      <td> False</td>\n",
        "      <td> False</td>\n",
        "      <td> False</td>\n",
        "      <td> False</td>\n",
        "      <td> False</td>\n",
        "      <td> False</td>\n",
        "      <td> False</td>\n",
        "      <td>...</td>\n",
        "    </tr>\n",
        "    <tr>\n",
        "      <th>3</th>\n",
        "      <td> Grbavica: The Land of My Dreams</td>\n",
        "      <td> 2006</td>\n",
        "      <td>  90</td>\n",
        "      <td> 7.3</td>\n",
        "      <td>                               Drama</td>\n",
        "      <td> False</td>\n",
        "      <td> False</td>\n",
        "      <td> False</td>\n",
        "      <td> False</td>\n",
        "      <td> False</td>\n",
        "      <td> False</td>\n",
        "      <td> True</td>\n",
        "      <td> False</td>\n",
        "      <td> False</td>\n",
        "      <td> False</td>\n",
        "      <td> False</td>\n",
        "      <td> False</td>\n",
        "      <td> False</td>\n",
        "      <td> False</td>\n",
        "      <td> False</td>\n",
        "      <td>...</td>\n",
        "    </tr>\n",
        "    <tr>\n",
        "      <th>4</th>\n",
        "      <td>                 The Border Post</td>\n",
        "      <td> 2006</td>\n",
        "      <td>  94</td>\n",
        "      <td> 7.6</td>\n",
        "      <td>                 Action|Comedy|Drama</td>\n",
        "      <td>  True</td>\n",
        "      <td> False</td>\n",
        "      <td> False</td>\n",
        "      <td> False</td>\n",
        "      <td>  True</td>\n",
        "      <td> False</td>\n",
        "      <td> True</td>\n",
        "      <td> False</td>\n",
        "      <td> False</td>\n",
        "      <td> False</td>\n",
        "      <td> False</td>\n",
        "      <td> False</td>\n",
        "      <td> False</td>\n",
        "      <td> False</td>\n",
        "      <td> False</td>\n",
        "      <td>...</td>\n",
        "    </tr>\n",
        "  </tbody>\n",
        "</table>\n",
        "<p>5 rows \u00d7 25 columns</p>\n",
        "</div>"
       ],
       "metadata": {},
       "output_type": "pyout",
       "prompt_number": 12,
       "text": [
        "                             title  year  runtime  rating  \\\n",
        "0                The Hunting Party  2007      101     6.9   \n",
        "1                       The Parade  2011      115     7.4   \n",
        "2               Ginger &#x26; Rosa  2012       90     6.2   \n",
        "3  Grbavica: The Land of My Dreams  2006       90     7.3   \n",
        "4                  The Border Post  2006       94     7.6   \n",
        "\n",
        "                                genres Action Adventure Animation Biography  \\\n",
        "0  Adventure|Comedy|Drama|Thriller|War  False      True     False     False   \n",
        "1                         Comedy|Drama  False     False     False     False   \n",
        "2                                Drama  False     False     False     False   \n",
        "3                                Drama  False     False     False     False   \n",
        "4                  Action|Comedy|Drama   True     False     False     False   \n",
        "\n",
        "  Comedy  Crime Drama Family Fantasy History Horror  Music Musical Mystery  \\\n",
        "0   True  False  True  False   False   False  False  False   False   False   \n",
        "1   True  False  True  False   False   False  False  False   False   False   \n",
        "2  False  False  True  False   False   False  False  False   False   False   \n",
        "3  False  False  True  False   False   False  False  False   False   False   \n",
        "4   True  False  True  False   False   False  False  False   False   False   \n",
        "\n",
        "  Romance      \n",
        "0   False ...  \n",
        "1   False ...  \n",
        "2   False ...  \n",
        "3   False ...  \n",
        "4   False ...  \n",
        "\n",
        "[5 rows x 25 columns]"
       ]
      }
     ],
     "prompt_number": 12
    },
    {
     "cell_type": "code",
     "collapsed": false,
     "input": [
      "genre_count = data[genres].sum()\n",
      "pd.DataFrame({'Genre Count': genre_count})"
     ],
     "language": "python",
     "metadata": {
      "slideshow": {
       "slide_type": "slide"
      }
     },
     "outputs": [
      {
       "html": [
        "<div style=\"max-height:1000px;max-width:1500px;overflow:auto;\">\n",
        "<table border=\"1\" class=\"dataframe\">\n",
        "  <thead>\n",
        "    <tr style=\"text-align: right;\">\n",
        "      <th></th>\n",
        "      <th>Genre Count</th>\n",
        "    </tr>\n",
        "  </thead>\n",
        "  <tbody>\n",
        "    <tr>\n",
        "      <th>Action</th>\n",
        "      <td>  16</td>\n",
        "    </tr>\n",
        "    <tr>\n",
        "      <th>Adventure</th>\n",
        "      <td>   7</td>\n",
        "    </tr>\n",
        "    <tr>\n",
        "      <th>Animation</th>\n",
        "      <td>   3</td>\n",
        "    </tr>\n",
        "    <tr>\n",
        "      <th>Biography</th>\n",
        "      <td>   8</td>\n",
        "    </tr>\n",
        "    <tr>\n",
        "      <th>Comedy</th>\n",
        "      <td>  49</td>\n",
        "    </tr>\n",
        "    <tr>\n",
        "      <th>Crime</th>\n",
        "      <td>  13</td>\n",
        "    </tr>\n",
        "    <tr>\n",
        "      <th>Drama</th>\n",
        "      <td> 135</td>\n",
        "    </tr>\n",
        "    <tr>\n",
        "      <th>Family</th>\n",
        "      <td>   6</td>\n",
        "    </tr>\n",
        "    <tr>\n",
        "      <th>Fantasy</th>\n",
        "      <td>   3</td>\n",
        "    </tr>\n",
        "    <tr>\n",
        "      <th>History</th>\n",
        "      <td>   6</td>\n",
        "    </tr>\n",
        "    <tr>\n",
        "      <th>Horror</th>\n",
        "      <td>   6</td>\n",
        "    </tr>\n",
        "    <tr>\n",
        "      <th>Music</th>\n",
        "      <td>   3</td>\n",
        "    </tr>\n",
        "    <tr>\n",
        "      <th>Musical</th>\n",
        "      <td>   1</td>\n",
        "    </tr>\n",
        "    <tr>\n",
        "      <th>Mystery</th>\n",
        "      <td>   5</td>\n",
        "    </tr>\n",
        "    <tr>\n",
        "      <th>Romance</th>\n",
        "      <td>  18</td>\n",
        "    </tr>\n",
        "    <tr>\n",
        "      <th>Sci-Fi</th>\n",
        "      <td>   6</td>\n",
        "    </tr>\n",
        "    <tr>\n",
        "      <th>Sport</th>\n",
        "      <td>   2</td>\n",
        "    </tr>\n",
        "    <tr>\n",
        "      <th>Thriller</th>\n",
        "      <td>  17</td>\n",
        "    </tr>\n",
        "    <tr>\n",
        "      <th>War</th>\n",
        "      <td>  26</td>\n",
        "    </tr>\n",
        "    <tr>\n",
        "      <th>Western</th>\n",
        "      <td>   1</td>\n",
        "    </tr>\n",
        "  </tbody>\n",
        "</table>\n",
        "<p>20 rows \u00d7 1 columns</p>\n",
        "</div>"
       ],
       "metadata": {},
       "output_type": "pyout",
       "prompt_number": 13,
       "text": [
        "           Genre Count\n",
        "Action              16\n",
        "Adventure            7\n",
        "Animation            3\n",
        "Biography            8\n",
        "Comedy              49\n",
        "Crime               13\n",
        "Drama              135\n",
        "Family               6\n",
        "Fantasy              3\n",
        "History              6\n",
        "Horror               6\n",
        "Music                3\n",
        "Musical              1\n",
        "Mystery              5\n",
        "Romance             18\n",
        "Sci-Fi               6\n",
        "Sport                2\n",
        "Thriller            17\n",
        "War                 26\n",
        "Western              1\n",
        "\n",
        "[20 rows x 1 columns]"
       ]
      }
     ],
     "prompt_number": 13
    },
    {
     "cell_type": "code",
     "collapsed": false,
     "input": [
      "petoljetka =  (data.year // 5) * 5\n",
      "\n",
      "tyd = data[['title', 'year']]\n",
      "tyd['petoljetka'] = petoljetka\n",
      "\n",
      "tyd.head()"
     ],
     "language": "python",
     "metadata": {
      "slideshow": {
       "slide_type": "slide"
      }
     },
     "outputs": [
      {
       "html": [
        "<div style=\"max-height:1000px;max-width:1500px;overflow:auto;\">\n",
        "<table border=\"1\" class=\"dataframe\">\n",
        "  <thead>\n",
        "    <tr style=\"text-align: right;\">\n",
        "      <th></th>\n",
        "      <th>title</th>\n",
        "      <th>year</th>\n",
        "      <th>petoljetka</th>\n",
        "    </tr>\n",
        "  </thead>\n",
        "  <tbody>\n",
        "    <tr>\n",
        "      <th>0</th>\n",
        "      <td>               The Hunting Party</td>\n",
        "      <td> 2007</td>\n",
        "      <td> 2005</td>\n",
        "    </tr>\n",
        "    <tr>\n",
        "      <th>1</th>\n",
        "      <td>                      The Parade</td>\n",
        "      <td> 2011</td>\n",
        "      <td> 2010</td>\n",
        "    </tr>\n",
        "    <tr>\n",
        "      <th>2</th>\n",
        "      <td>              Ginger &amp;#x26; Rosa</td>\n",
        "      <td> 2012</td>\n",
        "      <td> 2010</td>\n",
        "    </tr>\n",
        "    <tr>\n",
        "      <th>3</th>\n",
        "      <td> Grbavica: The Land of My Dreams</td>\n",
        "      <td> 2006</td>\n",
        "      <td> 2005</td>\n",
        "    </tr>\n",
        "    <tr>\n",
        "      <th>4</th>\n",
        "      <td>                 The Border Post</td>\n",
        "      <td> 2006</td>\n",
        "      <td> 2005</td>\n",
        "    </tr>\n",
        "  </tbody>\n",
        "</table>\n",
        "<p>5 rows \u00d7 3 columns</p>\n",
        "</div>"
       ],
       "metadata": {},
       "output_type": "pyout",
       "prompt_number": 14,
       "text": [
        "                             title  year  petoljetka\n",
        "0                The Hunting Party  2007        2005\n",
        "1                       The Parade  2011        2010\n",
        "2               Ginger &#x26; Rosa  2012        2010\n",
        "3  Grbavica: The Land of My Dreams  2006        2005\n",
        "4                  The Border Post  2006        2005\n",
        "\n",
        "[5 rows x 3 columns]"
       ]
      }
     ],
     "prompt_number": 14
    },
    {
     "cell_type": "code",
     "collapsed": false,
     "input": [
      "pet_mean = data.groupby(petoljetka).rating.mean()\n",
      "pet_mean.name = 'Petoljetka mean'\n",
      "print pet_mean\n",
      "\n",
      "plt.plot(pet_mean.index, pet_mean.values, 'o-',\n",
      "        color='r', lw=3, label='Petoljetka prosjek')\n",
      "plt.scatter(data.year, data.rating, alpha=.04, lw=0, color='k')\n",
      "plt.xlabel(\"Godina\")\n",
      "plt.ylabel(\"Ocjena\")\n",
      "plt.legend(frameon=False);"
     ],
     "language": "python",
     "metadata": {
      "slideshow": {
       "slide_type": "slide"
      }
     },
     "outputs": [
      {
       "output_type": "stream",
       "stream": "stdout",
       "text": [
        "year\n",
        "1965    8.600000\n",
        "1980    8.100000\n",
        "1990    7.569231\n",
        "1995    6.920000\n",
        "2000    6.921622\n",
        "2005    6.994915\n",
        "2010    7.239286\n",
        "Name: Petoljetka mean, dtype: float64\n"
       ]
      },
      {
       "metadata": {},
       "output_type": "display_data",
       "png": "[encoded data removed]",
       "text": [
        "<matplotlib.figure.Figure at 0x267b9d0>"
       ]
      }
     ],
     "prompt_number": 15
    },
    {
     "cell_type": "code",
     "collapsed": false,
     "input": [
      "for year, subset in data.groupby('year'):\n",
      "    print year, subset[subset.rating == subset.rating.max()].title.values"
     ],
     "language": "python",
     "metadata": {
      "slideshow": {
       "slide_type": "slide"
      }
     },
     "outputs": [
      {
       "output_type": "stream",
       "stream": "stdout",
       "text": [
        "1969 ['Ljubav i poneka psovka']\n",
        "1980 ['Izgubljeni zavicaj']\n",
        "1990 ['Predvecerje puno skepse']\n",
        "1991 ['The Time of Warriors']\n",
        "1992 ['Luka']\n",
        "1993 ['Spika na spiku']\n",
        "1994 ['Cijena zivota']\n",
        "1995 ['Washed Out']\n",
        "1996 ['How the War Started on My Island']\n",
        "1997 ['Pont Neuf']\n",
        "1998 ['Delusion']\n",
        "1999 ['Marsal']\n",
        "2000 ['Granice svemira']\n",
        "2001 ['Chico']\n",
        "2002 ['Serafim, the Lighthouse Keeper&#x27;s Son']\n",
        "2003 ['The World&#x27;s Greatest Monster']\n",
        "2004 ['No Biggie']\n",
        "2005 ['RGB: RedGreenBlue']\n",
        "2006 ['Crveno i crno']\n",
        "2007 ['Live Fast and Die Young']\n",
        "2008 ['Blazeni Augustin Kazotic']\n",
        "2009 ['Da mogu...']\n",
        "2010 ['Duga']\n",
        "2011 ['Destination Unknown']\n",
        "2012 ['Zagreb Stories Vol. 2' 'Once Upon a Winter&#x27;s Night']"
       ]
      },
      {
       "output_type": "stream",
       "stream": "stdout",
       "text": [
        "\n"
       ]
      }
     ],
     "prompt_number": 16
    }
   ],
   "metadata": {}
  }
 ]
}