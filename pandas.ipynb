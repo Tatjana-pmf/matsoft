{
 "cells": [
  {
   "cell_type": "markdown",
   "metadata": {
    "slideshow": {
     "slide_type": "slide"
    }
   },
   "source": [
    "# Pandas\n",
    "\n",
    "[Pandas](http://pandas.pydata.org/) je biblioteka za analizu podataka. Ilustrirat ćemo njeno korištenje na jednostavnom primjeru analize podataka iz IMDB baze.\n",
    "\n",
    "U ak. godini 2014./15. koristio sam biblioteku [pattern](http://www.clips.ua.ac.be/pages/pattern), koja služi za rudarenje podataka s Interneta. No kako pattern još nije prešao na Python 3, koristit ću [requests](https://github.com/kennethreitz/requests) (za učitavanje web stranica) i [pyquery](https://pythonhosted.org/pyquery/) (za analizu HTML-a). Kako pyquery nije instaliran na Sagemath-u instalirao sam ga lokalno tako što sam u terminalu napisao\n",
    "```\n",
    "anaconda3\n",
    "pip install --user pyquery\n",
    "```"
   ]
  },
  {
   "cell_type": "code",
   "execution_count": 4,
   "metadata": {
    "collapsed": false,
    "slideshow": {
     "slide_type": "fragment"
    }
   },
   "outputs": [],
   "source": [
    "import requests\n",
    "from pyquery import PyQuery as pq"
   ]
  },
  {
   "cell_type": "markdown",
   "metadata": {
    "slideshow": {
     "slide_type": "slide"
    }
   },
   "source": [
    "Dohvaćamo podatke s IMDB-a o filmovima sa zemljom porijekla Hrvatska, smimljenim između 1945. i 2016."
   ]
  },
  {
   "cell_type": "code",
   "execution_count": 6,
   "metadata": {
    "collapsed": false,
    "slideshow": {
     "slide_type": "fragment"
    }
   },
   "outputs": [],
   "source": [
    "import time\n",
    "url = 'http://www.imdb.com/search/title'\n",
    "params = dict(sort='num_votes,desc', start=1, title_type='feature', year='1945,2016',countries='hr', languages='hr')\n",
    "r=[]\n",
    "for i in range(1,150,50): # takvih filmova ima manje od 150\n",
    "    params['start']=i\n",
    "    r.append(requests.get(url, params=params))\n",
    "    time.sleep(5)"
   ]
  },
  {
   "cell_type": "markdown",
   "metadata": {
    "slideshow": {
     "slide_type": "slide"
    }
   },
   "source": [
    "Parsiranje podataka koje spremamo u datoteku `filmovi.txt`."
   ]
  },
  {
   "cell_type": "code",
   "execution_count": 53,
   "metadata": {
    "collapsed": false,
    "slideshow": {
     "slide_type": "fragment"
    }
   },
   "outputs": [],
   "source": [
    "with open('filmovi2.txt','w') as f:\n",
    "    for i in range(len(r)):\n",
    "        dom = pq(r[i].text)\n",
    "        for film in dom.find('td.title'):\n",
    "            film = pq(film)\n",
    "            title = film.find('a').eq(0).text()\n",
    "            year = film.find('span.year_type').text()\n",
    "            rating = film.find('span.value').text()\n",
    "            runtime = film.find('span.runtime').text()\n",
    "            director = film.find('span.credit').find('a').eq(0).text()\n",
    "            genres = film.find('span.genre').find('a').text()\n",
    "            f.write('\\t'.join((title, year, runtime, rating,director, genres))+'\\n')"
   ]
  },
  {
   "cell_type": "code",
   "execution_count": 54,
   "metadata": {
    "collapsed": false,
    "slideshow": {
     "slide_type": "subslide"
    }
   },
   "outputs": [
    {
     "name": "stdout",
     "output_type": "stream",
     "text": [
      "The Priest's Children\t(2013)\t96 mins.\t6.8\tVinko Bresan\tComedy Drama\r\n",
      "Metastases\t(2009)\t82 mins.\t7.7\tBranko Schmidt\tCrime Drama\r\n",
      "Fine Dead Girls\t(2002)\t77 mins.\t7.2\tDalibor Matanic\tDrama Thriller\r\n",
      "Vegetarian Cannibal\t(2012)\t85 mins.\t7.2\tBranko Schmidt\tDrama\r\n",
      "Sonja and the Bull\t(2012)\t103 mins.\t7.2\tVlatka Vorkapic\tComedy Romance\r\n",
      "What Is a Man Without a Moustache?\t(2005)\t109 mins.\t7.1\tHrvoje Hribar\tComedy Drama Romance\r\n",
      "The High Sun\t(2015)\t123 mins.\t7.2\tDalibor Matanic\tDrama Romance\r\n",
      "Play Me a Love Song\t(2007)\t106 mins.\t7.7\tGoran Kulenovic\tComedy\r\n",
      "A Wonderful Night in Split\t(2004)\t100 mins.\t7.2\tArsen A. Ostojic\tDrama Music\r\n",
      "Number 55\t(2014)\t90 mins.\t7.2\tKristijan Milic\tWar\r\n"
     ]
    }
   ],
   "source": [
    "!head filmovi2.txt"
   ]
  },
  {
   "cell_type": "markdown",
   "metadata": {
    "slideshow": {
     "slide_type": "slide"
    }
   },
   "source": [
    "### Analiza podataka pomoću biblioteke Pandas"
   ]
  },
  {
   "cell_type": "code",
   "execution_count": 85,
   "metadata": {
    "collapsed": false,
    "slideshow": {
     "slide_type": "fragment"
    }
   },
   "outputs": [
    {
     "name": "stdout",
     "output_type": "stream",
     "text": [
      "Number of rows: 137\n"
     ]
    },
    {
     "data": {
      "text/html": [
       "<div>\n",
       "<table border=\"1\" class=\"dataframe\">\n",
       "  <thead>\n",
       "    <tr style=\"text-align: right;\">\n",
       "      <th></th>\n",
       "      <th>title</th>\n",
       "      <th>year</th>\n",
       "      <th>runtime</th>\n",
       "      <th>rating</th>\n",
       "      <th>director</th>\n",
       "      <th>genres</th>\n",
       "    </tr>\n",
       "  </thead>\n",
       "  <tbody>\n",
       "    <tr>\n",
       "      <th>0</th>\n",
       "      <td>The Priest's Children</td>\n",
       "      <td>(2013)</td>\n",
       "      <td>96 mins.</td>\n",
       "      <td>6.8</td>\n",
       "      <td>Vinko Bresan</td>\n",
       "      <td>Comedy Drama</td>\n",
       "    </tr>\n",
       "    <tr>\n",
       "      <th>1</th>\n",
       "      <td>Metastases</td>\n",
       "      <td>(2009)</td>\n",
       "      <td>82 mins.</td>\n",
       "      <td>7.7</td>\n",
       "      <td>Branko Schmidt</td>\n",
       "      <td>Crime Drama</td>\n",
       "    </tr>\n",
       "    <tr>\n",
       "      <th>2</th>\n",
       "      <td>Fine Dead Girls</td>\n",
       "      <td>(2002)</td>\n",
       "      <td>77 mins.</td>\n",
       "      <td>7.2</td>\n",
       "      <td>Dalibor Matanic</td>\n",
       "      <td>Drama Thriller</td>\n",
       "    </tr>\n",
       "    <tr>\n",
       "      <th>3</th>\n",
       "      <td>Vegetarian Cannibal</td>\n",
       "      <td>(2012)</td>\n",
       "      <td>85 mins.</td>\n",
       "      <td>7.2</td>\n",
       "      <td>Branko Schmidt</td>\n",
       "      <td>Drama</td>\n",
       "    </tr>\n",
       "    <tr>\n",
       "      <th>4</th>\n",
       "      <td>Sonja and the Bull</td>\n",
       "      <td>(2012)</td>\n",
       "      <td>103 mins.</td>\n",
       "      <td>7.2</td>\n",
       "      <td>Vlatka Vorkapic</td>\n",
       "      <td>Comedy Romance</td>\n",
       "    </tr>\n",
       "  </tbody>\n",
       "</table>\n",
       "</div>"
      ],
      "text/plain": [
       "                   title    year    runtime rating         director  \\\n",
       "0  The Priest's Children  (2013)   96 mins.    6.8     Vinko Bresan   \n",
       "1             Metastases  (2009)   82 mins.    7.7   Branko Schmidt   \n",
       "2        Fine Dead Girls  (2002)   77 mins.    7.2  Dalibor Matanic   \n",
       "3    Vegetarian Cannibal  (2012)   85 mins.    7.2   Branko Schmidt   \n",
       "4     Sonja and the Bull  (2012)  103 mins.    7.2  Vlatka Vorkapic   \n",
       "\n",
       "           genres  \n",
       "0    Comedy Drama  \n",
       "1     Crime Drama  \n",
       "2  Drama Thriller  \n",
       "3           Drama  \n",
       "4  Comedy Romance  "
      ]
     },
     "execution_count": 85,
     "metadata": {},
     "output_type": "execute_result"
    }
   ],
   "source": [
    "import pandas as pd\n",
    "names = ['title', 'year','runtime', 'rating', 'director', 'genres']\n",
    "data = pd.read_csv('filmovi2.txt', delimiter='\\t', names=names)\n",
    "print (\"Number of rows: {:d}\".format(data.shape[0]))\n",
    "data.head()"
   ]
  },
  {
   "cell_type": "code",
   "execution_count": 91,
   "metadata": {
    "collapsed": false,
    "slideshow": {
     "slide_type": "subslide"
    }
   },
   "outputs": [
    {
     "data": {
      "text/plain": [
       "title        Marija's Own\n",
       "year               (2011)\n",
       "runtime               NaN\n",
       "rating                8.9\n",
       "director    Zeljka Sukova\n",
       "genres             Comedy\n",
       "Name: 118, dtype: object"
      ]
     },
     "execution_count": 91,
     "metadata": {},
     "output_type": "execute_result"
    }
   ],
   "source": [
    "data.ix[118]"
   ]
  },
  {
   "cell_type": "code",
   "execution_count": 93,
   "metadata": {
    "collapsed": false,
    "slideshow": {
     "slide_type": "slide"
    }
   },
   "outputs": [
    {
     "name": "stderr",
     "output_type": "stream",
     "text": [
      "/projects/anaconda3/lib/python3.5/site-packages/ipykernel/__main__.py:5: SettingWithCopyWarning: \n",
      "A value is trying to be set on a copy of a slice from a DataFrame\n",
      "\n",
      "See the caveats in the documentation: http://pandas.pydata.org/pandas-docs/stable/indexing.html#indexing-view-versus-copy\n"
     ]
    },
    {
     "data": {
      "text/html": [
       "<div>\n",
       "<table border=\"1\" class=\"dataframe\">\n",
       "  <thead>\n",
       "    <tr style=\"text-align: right;\">\n",
       "      <th></th>\n",
       "      <th>title</th>\n",
       "      <th>year</th>\n",
       "      <th>runtime</th>\n",
       "      <th>rating</th>\n",
       "      <th>director</th>\n",
       "      <th>genres</th>\n",
       "    </tr>\n",
       "  </thead>\n",
       "  <tbody>\n",
       "    <tr>\n",
       "      <th>0</th>\n",
       "      <td>The Priest's Children</td>\n",
       "      <td>2013</td>\n",
       "      <td>96</td>\n",
       "      <td>6.8</td>\n",
       "      <td>Vinko Bresan</td>\n",
       "      <td>Comedy|Drama</td>\n",
       "    </tr>\n",
       "    <tr>\n",
       "      <th>1</th>\n",
       "      <td>Metastases</td>\n",
       "      <td>2009</td>\n",
       "      <td>82</td>\n",
       "      <td>7.7</td>\n",
       "      <td>Branko Schmidt</td>\n",
       "      <td>Crime|Drama</td>\n",
       "    </tr>\n",
       "    <tr>\n",
       "      <th>2</th>\n",
       "      <td>Fine Dead Girls</td>\n",
       "      <td>2002</td>\n",
       "      <td>77</td>\n",
       "      <td>7.2</td>\n",
       "      <td>Dalibor Matanic</td>\n",
       "      <td>Drama|Thriller</td>\n",
       "    </tr>\n",
       "    <tr>\n",
       "      <th>3</th>\n",
       "      <td>Vegetarian Cannibal</td>\n",
       "      <td>2012</td>\n",
       "      <td>85</td>\n",
       "      <td>7.2</td>\n",
       "      <td>Branko Schmidt</td>\n",
       "      <td>Drama</td>\n",
       "    </tr>\n",
       "    <tr>\n",
       "      <th>4</th>\n",
       "      <td>Sonja and the Bull</td>\n",
       "      <td>2012</td>\n",
       "      <td>103</td>\n",
       "      <td>7.2</td>\n",
       "      <td>Vlatka Vorkapic</td>\n",
       "      <td>Comedy|Romance</td>\n",
       "    </tr>\n",
       "  </tbody>\n",
       "</table>\n",
       "</div>"
      ],
      "text/plain": [
       "                   title  year  runtime  rating         director  \\\n",
       "0  The Priest's Children  2013       96     6.8     Vinko Bresan   \n",
       "1             Metastases  2009       82     7.7   Branko Schmidt   \n",
       "2        Fine Dead Girls  2002       77     7.2  Dalibor Matanic   \n",
       "3    Vegetarian Cannibal  2012       85     7.2   Branko Schmidt   \n",
       "4     Sonja and the Bull  2012      103     7.2  Vlatka Vorkapic   \n",
       "\n",
       "           genres  \n",
       "0    Comedy|Drama  \n",
       "1     Crime|Drama  \n",
       "2  Drama|Thriller  \n",
       "3           Drama  \n",
       "4  Comedy|Romance  "
      ]
     },
     "execution_count": 93,
     "metadata": {},
     "output_type": "execute_result"
    }
   ],
   "source": [
    "data['runtime'].fillna('0 mins.', inplace=True);\n",
    "clean_runtime = [int(v.split(' ')[0]) for v in data.runtime]\n",
    "data['runtime'] = clean_runtime\n",
    "data['year'] = [int(y[1:-1]) for y in data.year]\n",
    "data.rating[data.rating=='-'] = '0';\n",
    "clean_rating = [float(v) for v in data.rating]\n",
    "data['rating'] = clean_rating\n",
    "clean_genres = [g.replace(' ','|') for g in data.genres]\n",
    "data['genres'] = clean_genres\n",
    "data.head()"
   ]
  },
  {
   "cell_type": "code",
   "execution_count": 94,
   "metadata": {
    "collapsed": false,
    "slideshow": {
     "slide_type": "subslide"
    }
   },
   "outputs": [
    {
     "data": {
      "text/plain": [
       "title        Marija's Own\n",
       "year                 2011\n",
       "runtime                 0\n",
       "rating                8.9\n",
       "director    Zeljka Sukova\n",
       "genres             Comedy\n",
       "Name: 118, dtype: object"
      ]
     },
     "execution_count": 94,
     "metadata": {},
     "output_type": "execute_result"
    }
   ],
   "source": [
    "data.ix[118]"
   ]
  },
  {
   "cell_type": "code",
   "execution_count": 106,
   "metadata": {
    "collapsed": false,
    "slideshow": {
     "slide_type": "subslide"
    }
   },
   "outputs": [],
   "source": [
    "# ne želim više da mi javlja ova upozorenja\n",
    "pd.options.mode.chained_assignment = None # default='warn'"
   ]
  },
  {
   "cell_type": "code",
   "execution_count": 95,
   "metadata": {
    "collapsed": false,
    "slideshow": {
     "slide_type": "slide"
    }
   },
   "outputs": [
    {
     "data": {
      "text/html": [
       "<div>\n",
       "<table border=\"1\" class=\"dataframe\">\n",
       "  <thead>\n",
       "    <tr style=\"text-align: right;\">\n",
       "      <th></th>\n",
       "      <th>year</th>\n",
       "      <th>runtime</th>\n",
       "      <th>rating</th>\n",
       "    </tr>\n",
       "  </thead>\n",
       "  <tbody>\n",
       "    <tr>\n",
       "      <th>count</th>\n",
       "      <td>137.000000</td>\n",
       "      <td>137.000000</td>\n",
       "      <td>135.000000</td>\n",
       "    </tr>\n",
       "    <tr>\n",
       "      <th>mean</th>\n",
       "      <td>2009.255474</td>\n",
       "      <td>85.430657</td>\n",
       "      <td>6.895556</td>\n",
       "    </tr>\n",
       "    <tr>\n",
       "      <th>std</th>\n",
       "      <td>6.067063</td>\n",
       "      <td>29.791628</td>\n",
       "      <td>1.612769</td>\n",
       "    </tr>\n",
       "    <tr>\n",
       "      <th>min</th>\n",
       "      <td>1980.000000</td>\n",
       "      <td>0.000000</td>\n",
       "      <td>0.000000</td>\n",
       "    </tr>\n",
       "    <tr>\n",
       "      <th>25%</th>\n",
       "      <td>2008.000000</td>\n",
       "      <td>77.000000</td>\n",
       "      <td>6.750000</td>\n",
       "    </tr>\n",
       "    <tr>\n",
       "      <th>50%</th>\n",
       "      <td>2011.000000</td>\n",
       "      <td>90.000000</td>\n",
       "      <td>7.200000</td>\n",
       "    </tr>\n",
       "    <tr>\n",
       "      <th>75%</th>\n",
       "      <td>2013.000000</td>\n",
       "      <td>100.000000</td>\n",
       "      <td>7.700000</td>\n",
       "    </tr>\n",
       "    <tr>\n",
       "      <th>max</th>\n",
       "      <td>2016.000000</td>\n",
       "      <td>200.000000</td>\n",
       "      <td>9.500000</td>\n",
       "    </tr>\n",
       "  </tbody>\n",
       "</table>\n",
       "</div>"
      ],
      "text/plain": [
       "              year     runtime      rating\n",
       "count   137.000000  137.000000  135.000000\n",
       "mean   2009.255474   85.430657    6.895556\n",
       "std       6.067063   29.791628    1.612769\n",
       "min    1980.000000    0.000000    0.000000\n",
       "25%    2008.000000   77.000000    6.750000\n",
       "50%    2011.000000   90.000000    7.200000\n",
       "75%    2013.000000  100.000000    7.700000\n",
       "max    2016.000000  200.000000    9.500000"
      ]
     },
     "execution_count": 95,
     "metadata": {},
     "output_type": "execute_result"
    }
   ],
   "source": [
    "data[['year','runtime', 'rating']].describe()"
   ]
  },
  {
   "cell_type": "code",
   "execution_count": 107,
   "metadata": {
    "collapsed": false,
    "slideshow": {
     "slide_type": "slide"
    }
   },
   "outputs": [],
   "source": [
    "import numpy as np\n",
    "data.runtime[data.runtime==0] = np.nan;\n",
    "data.runtime[data.rating==0] = np.nan;"
   ]
  },
  {
   "cell_type": "code",
   "execution_count": 108,
   "metadata": {
    "collapsed": false,
    "slideshow": {
     "slide_type": "fragment"
    }
   },
   "outputs": [
    {
     "data": {
      "text/html": [
       "<div>\n",
       "<table border=\"1\" class=\"dataframe\">\n",
       "  <thead>\n",
       "    <tr style=\"text-align: right;\">\n",
       "      <th></th>\n",
       "      <th>runtime</th>\n",
       "      <th>rating</th>\n",
       "    </tr>\n",
       "  </thead>\n",
       "  <tbody>\n",
       "    <tr>\n",
       "      <th>count</th>\n",
       "      <td>123.000000</td>\n",
       "      <td>130.000000</td>\n",
       "    </tr>\n",
       "    <tr>\n",
       "      <th>mean</th>\n",
       "      <td>91.495935</td>\n",
       "      <td>7.160769</td>\n",
       "    </tr>\n",
       "    <tr>\n",
       "      <th>std</th>\n",
       "      <td>19.450810</td>\n",
       "      <td>0.887685</td>\n",
       "    </tr>\n",
       "    <tr>\n",
       "      <th>min</th>\n",
       "      <td>46.000000</td>\n",
       "      <td>3.800000</td>\n",
       "    </tr>\n",
       "    <tr>\n",
       "      <th>25%</th>\n",
       "      <td>80.000000</td>\n",
       "      <td>6.800000</td>\n",
       "    </tr>\n",
       "    <tr>\n",
       "      <th>50%</th>\n",
       "      <td>90.000000</td>\n",
       "      <td>7.200000</td>\n",
       "    </tr>\n",
       "    <tr>\n",
       "      <th>75%</th>\n",
       "      <td>100.500000</td>\n",
       "      <td>7.700000</td>\n",
       "    </tr>\n",
       "    <tr>\n",
       "      <th>max</th>\n",
       "      <td>200.000000</td>\n",
       "      <td>9.500000</td>\n",
       "    </tr>\n",
       "  </tbody>\n",
       "</table>\n",
       "</div>"
      ],
      "text/plain": [
       "          runtime      rating\n",
       "count  123.000000  130.000000\n",
       "mean    91.495935    7.160769\n",
       "std     19.450810    0.887685\n",
       "min     46.000000    3.800000\n",
       "25%     80.000000    6.800000\n",
       "50%     90.000000    7.200000\n",
       "75%    100.500000    7.700000\n",
       "max    200.000000    9.500000"
      ]
     },
     "execution_count": 108,
     "metadata": {},
     "output_type": "execute_result"
    }
   ],
   "source": [
    "data[['runtime', 'rating']].describe()"
   ]
  },
  {
   "cell_type": "code",
   "execution_count": 109,
   "metadata": {
    "collapsed": false,
    "slideshow": {
     "slide_type": "slide"
    }
   },
   "outputs": [
    {
     "data": {
      "image/png": "[encoded data removed]",
      "text/plain": [
       "<matplotlib.figure.Figure at 0x7f8009900d68>"
      ]
     },
     "metadata": {},
     "output_type": "display_data"
    }
   ],
   "source": [
    "import numpy as np\n",
    "import matplotlib.pyplot as plt\n",
    "%matplotlib inline\n",
    "plt.hist(data.year, bins=np.arange(1945, 2016))\n",
    "plt.xlabel(\"Godina produkcije\");"
   ]
  },
  {
   "cell_type": "code",
   "execution_count": 116,
   "metadata": {
    "collapsed": false,
    "slideshow": {
     "slide_type": "slide"
    }
   },
   "outputs": [
    {
     "data": {
      "image/png": "[encoded data removed]",
      "text/plain": [
       "<matplotlib.figure.Figure at 0x7f80098d3710>"
      ]
     },
     "metadata": {},
     "output_type": "display_data"
    }
   ],
   "source": [
    "plt.hist(data.rating.dropna(), bins=20)\n",
    "plt.xlabel(\"IMDB ocjena\");"
   ]
  },
  {
   "cell_type": "code",
   "execution_count": 117,
   "metadata": {
    "collapsed": false,
    "slideshow": {
     "slide_type": "slide"
    }
   },
   "outputs": [
    {
     "data": {
      "image/png": "[encoded data removed]",
      "text/plain": [
       "<matplotlib.figure.Figure at 0x7f8009867b00>"
      ]
     },
     "metadata": {},
     "output_type": "display_data"
    }
   ],
   "source": [
    "plt.scatter(data.year, data.rating, lw=0, alpha=.08, color='k')\n",
    "plt.xlabel(\"Godina\")\n",
    "plt.ylabel(\"IMDB ocjena\");"
   ]
  },
  {
   "cell_type": "code",
   "execution_count": 118,
   "metadata": {
    "collapsed": false,
    "slideshow": {
     "slide_type": "slide"
    }
   },
   "outputs": [
    {
     "data": {
      "text/html": [
       "<div>\n",
       "<table border=\"1\" class=\"dataframe\">\n",
       "  <thead>\n",
       "    <tr style=\"text-align: right;\">\n",
       "      <th></th>\n",
       "      <th>title</th>\n",
       "      <th>year</th>\n",
       "      <th>rating</th>\n",
       "      <th>director</th>\n",
       "      <th>genres</th>\n",
       "    </tr>\n",
       "  </thead>\n",
       "  <tbody>\n",
       "    <tr>\n",
       "      <th>54</th>\n",
       "      <td>Larin izbor: Izgubljeni princ</td>\n",
       "      <td>2012</td>\n",
       "      <td>3.8</td>\n",
       "      <td>Tomislav Rukavina</td>\n",
       "      <td>Drama</td>\n",
       "    </tr>\n",
       "  </tbody>\n",
       "</table>\n",
       "</div>"
      ],
      "text/plain": [
       "                            title  year  rating           director genres\n",
       "54  Larin izbor: Izgubljeni princ  2012     3.8  Tomislav Rukavina  Drama"
      ]
     },
     "execution_count": 118,
     "metadata": {},
     "output_type": "execute_result"
    }
   ],
   "source": [
    "data.rating[data.rating==0] = np.nan;\n",
    "data[data.rating == data.rating.min()][['title', 'year', 'rating','director', 'genres']]"
   ]
  },
  {
   "cell_type": "code",
   "execution_count": 119,
   "metadata": {
    "collapsed": false,
    "slideshow": {
     "slide_type": "slide"
    }
   },
   "outputs": [
    {
     "data": {
      "text/html": [
       "<div>\n",
       "<table border=\"1\" class=\"dataframe\">\n",
       "  <thead>\n",
       "    <tr style=\"text-align: right;\">\n",
       "      <th></th>\n",
       "      <th>title</th>\n",
       "      <th>year</th>\n",
       "      <th>rating</th>\n",
       "      <th>director</th>\n",
       "      <th>genres</th>\n",
       "    </tr>\n",
       "  </thead>\n",
       "  <tbody>\n",
       "    <tr>\n",
       "      <th>128</th>\n",
       "      <td>Goran</td>\n",
       "      <td>2016</td>\n",
       "      <td>9.5</td>\n",
       "      <td>Nevio Marasovic</td>\n",
       "      <td>Drama|Thriller</td>\n",
       "    </tr>\n",
       "  </tbody>\n",
       "</table>\n",
       "</div>"
      ],
      "text/plain": [
       "     title  year  rating         director          genres\n",
       "128  Goran  2016     9.5  Nevio Marasovic  Drama|Thriller"
      ]
     },
     "execution_count": 119,
     "metadata": {},
     "output_type": "execute_result"
    }
   ],
   "source": [
    "data[data.rating == data.rating.max()][['title', 'year', 'rating','director',  'genres']]"
   ]
  },
  {
   "cell_type": "code",
   "execution_count": 120,
   "metadata": {
    "collapsed": false,
    "slideshow": {
     "slide_type": "slide"
    }
   },
   "outputs": [
    {
     "data": {
      "text/html": [
       "<div>\n",
       "<table border=\"1\" class=\"dataframe\">\n",
       "  <thead>\n",
       "    <tr style=\"text-align: right;\">\n",
       "      <th></th>\n",
       "      <th>title</th>\n",
       "      <th>year</th>\n",
       "      <th>runtime</th>\n",
       "      <th>rating</th>\n",
       "      <th>director</th>\n",
       "      <th>genres</th>\n",
       "      <th>Action</th>\n",
       "      <th>Adventure</th>\n",
       "      <th>Animation</th>\n",
       "      <th>Biography</th>\n",
       "      <th>...</th>\n",
       "      <th>History</th>\n",
       "      <th>Horror</th>\n",
       "      <th>Music</th>\n",
       "      <th>Musical</th>\n",
       "      <th>Mystery</th>\n",
       "      <th>Romance</th>\n",
       "      <th>Sci-Fi</th>\n",
       "      <th>Thriller</th>\n",
       "      <th>War</th>\n",
       "      <th>Western</th>\n",
       "    </tr>\n",
       "  </thead>\n",
       "  <tbody>\n",
       "    <tr>\n",
       "      <th>0</th>\n",
       "      <td>The Priest's Children</td>\n",
       "      <td>2013</td>\n",
       "      <td>96.0</td>\n",
       "      <td>6.8</td>\n",
       "      <td>Vinko Bresan</td>\n",
       "      <td>Comedy|Drama</td>\n",
       "      <td>False</td>\n",
       "      <td>False</td>\n",
       "      <td>False</td>\n",
       "      <td>False</td>\n",
       "      <td>...</td>\n",
       "      <td>False</td>\n",
       "      <td>False</td>\n",
       "      <td>False</td>\n",
       "      <td>False</td>\n",
       "      <td>False</td>\n",
       "      <td>False</td>\n",
       "      <td>False</td>\n",
       "      <td>False</td>\n",
       "      <td>False</td>\n",
       "      <td>False</td>\n",
       "    </tr>\n",
       "    <tr>\n",
       "      <th>1</th>\n",
       "      <td>Metastases</td>\n",
       "      <td>2009</td>\n",
       "      <td>82.0</td>\n",
       "      <td>7.7</td>\n",
       "      <td>Branko Schmidt</td>\n",
       "      <td>Crime|Drama</td>\n",
       "      <td>False</td>\n",
       "      <td>False</td>\n",
       "      <td>False</td>\n",
       "      <td>False</td>\n",
       "      <td>...</td>\n",
       "      <td>False</td>\n",
       "      <td>False</td>\n",
       "      <td>False</td>\n",
       "      <td>False</td>\n",
       "      <td>False</td>\n",
       "      <td>False</td>\n",
       "      <td>False</td>\n",
       "      <td>False</td>\n",
       "      <td>False</td>\n",
       "      <td>False</td>\n",
       "    </tr>\n",
       "    <tr>\n",
       "      <th>2</th>\n",
       "      <td>Fine Dead Girls</td>\n",
       "      <td>2002</td>\n",
       "      <td>77.0</td>\n",
       "      <td>7.2</td>\n",
       "      <td>Dalibor Matanic</td>\n",
       "      <td>Drama|Thriller</td>\n",
       "      <td>False</td>\n",
       "      <td>False</td>\n",
       "      <td>False</td>\n",
       "      <td>False</td>\n",
       "      <td>...</td>\n",
       "      <td>False</td>\n",
       "      <td>False</td>\n",
       "      <td>False</td>\n",
       "      <td>False</td>\n",
       "      <td>False</td>\n",
       "      <td>False</td>\n",
       "      <td>False</td>\n",
       "      <td>True</td>\n",
       "      <td>False</td>\n",
       "      <td>False</td>\n",
       "    </tr>\n",
       "    <tr>\n",
       "      <th>3</th>\n",
       "      <td>Vegetarian Cannibal</td>\n",
       "      <td>2012</td>\n",
       "      <td>85.0</td>\n",
       "      <td>7.2</td>\n",
       "      <td>Branko Schmidt</td>\n",
       "      <td>Drama</td>\n",
       "      <td>False</td>\n",
       "      <td>False</td>\n",
       "      <td>False</td>\n",
       "      <td>False</td>\n",
       "      <td>...</td>\n",
       "      <td>False</td>\n",
       "      <td>False</td>\n",
       "      <td>False</td>\n",
       "      <td>False</td>\n",
       "      <td>False</td>\n",
       "      <td>False</td>\n",
       "      <td>False</td>\n",
       "      <td>False</td>\n",
       "      <td>False</td>\n",
       "      <td>False</td>\n",
       "    </tr>\n",
       "    <tr>\n",
       "      <th>4</th>\n",
       "      <td>Sonja and the Bull</td>\n",
       "      <td>2012</td>\n",
       "      <td>103.0</td>\n",
       "      <td>7.2</td>\n",
       "      <td>Vlatka Vorkapic</td>\n",
       "      <td>Comedy|Romance</td>\n",
       "      <td>False</td>\n",
       "      <td>False</td>\n",
       "      <td>False</td>\n",
       "      <td>False</td>\n",
       "      <td>...</td>\n",
       "      <td>False</td>\n",
       "      <td>False</td>\n",
       "      <td>False</td>\n",
       "      <td>False</td>\n",
       "      <td>False</td>\n",
       "      <td>True</td>\n",
       "      <td>False</td>\n",
       "      <td>False</td>\n",
       "      <td>False</td>\n",
       "      <td>False</td>\n",
       "    </tr>\n",
       "  </tbody>\n",
       "</table>\n",
       "<p>5 rows × 25 columns</p>\n",
       "</div>"
      ],
      "text/plain": [
       "                   title  year  runtime  rating         director  \\\n",
       "0  The Priest's Children  2013     96.0     6.8     Vinko Bresan   \n",
       "1             Metastases  2009     82.0     7.7   Branko Schmidt   \n",
       "2        Fine Dead Girls  2002     77.0     7.2  Dalibor Matanic   \n",
       "3    Vegetarian Cannibal  2012     85.0     7.2   Branko Schmidt   \n",
       "4     Sonja and the Bull  2012    103.0     7.2  Vlatka Vorkapic   \n",
       "\n",
       "           genres Action Adventure Animation Biography   ...   History Horror  \\\n",
       "0    Comedy|Drama  False     False     False     False   ...     False  False   \n",
       "1     Crime|Drama  False     False     False     False   ...     False  False   \n",
       "2  Drama|Thriller  False     False     False     False   ...     False  False   \n",
       "3           Drama  False     False     False     False   ...     False  False   \n",
       "4  Comedy|Romance  False     False     False     False   ...     False  False   \n",
       "\n",
       "   Music Musical Mystery Romance Sci-Fi Thriller    War Western  \n",
       "0  False   False   False   False  False    False  False   False  \n",
       "1  False   False   False   False  False    False  False   False  \n",
       "2  False   False   False   False  False     True  False   False  \n",
       "3  False   False   False   False  False    False  False   False  \n",
       "4  False   False   False    True  False    False  False   False  \n",
       "\n",
       "[5 rows x 25 columns]"
      ]
     },
     "execution_count": 120,
     "metadata": {},
     "output_type": "execute_result"
    }
   ],
   "source": [
    "genres = set()\n",
    "for m in data.genres:\n",
    "    genres.update(g for g in m.split('|'))\n",
    "genres = sorted(genres)\n",
    "\n",
    "for genre in genres:\n",
    "    data[genre] = [genre in movie.split('|') for movie in data.genres]\n",
    "         \n",
    "data.head()"
   ]
  },
  {
   "cell_type": "code",
   "execution_count": 121,
   "metadata": {
    "collapsed": false,
    "slideshow": {
     "slide_type": "slide"
    }
   },
   "outputs": [
    {
     "data": {
      "text/html": [
       "<div>\n",
       "<table border=\"1\" class=\"dataframe\">\n",
       "  <thead>\n",
       "    <tr style=\"text-align: right;\">\n",
       "      <th></th>\n",
       "      <th>Genre Count</th>\n",
       "    </tr>\n",
       "  </thead>\n",
       "  <tbody>\n",
       "    <tr>\n",
       "      <th>Action</th>\n",
       "      <td>11</td>\n",
       "    </tr>\n",
       "    <tr>\n",
       "      <th>Adventure</th>\n",
       "      <td>6</td>\n",
       "    </tr>\n",
       "    <tr>\n",
       "      <th>Animation</th>\n",
       "      <td>3</td>\n",
       "    </tr>\n",
       "    <tr>\n",
       "      <th>Biography</th>\n",
       "      <td>4</td>\n",
       "    </tr>\n",
       "    <tr>\n",
       "      <th>Comedy</th>\n",
       "      <td>39</td>\n",
       "    </tr>\n",
       "    <tr>\n",
       "      <th>Crime</th>\n",
       "      <td>10</td>\n",
       "    </tr>\n",
       "    <tr>\n",
       "      <th>Drama</th>\n",
       "      <td>93</td>\n",
       "    </tr>\n",
       "    <tr>\n",
       "      <th>Family</th>\n",
       "      <td>10</td>\n",
       "    </tr>\n",
       "    <tr>\n",
       "      <th>Fantasy</th>\n",
       "      <td>5</td>\n",
       "    </tr>\n",
       "    <tr>\n",
       "      <th>History</th>\n",
       "      <td>3</td>\n",
       "    </tr>\n",
       "    <tr>\n",
       "      <th>Horror</th>\n",
       "      <td>4</td>\n",
       "    </tr>\n",
       "    <tr>\n",
       "      <th>Music</th>\n",
       "      <td>2</td>\n",
       "    </tr>\n",
       "    <tr>\n",
       "      <th>Musical</th>\n",
       "      <td>2</td>\n",
       "    </tr>\n",
       "    <tr>\n",
       "      <th>Mystery</th>\n",
       "      <td>4</td>\n",
       "    </tr>\n",
       "    <tr>\n",
       "      <th>Romance</th>\n",
       "      <td>10</td>\n",
       "    </tr>\n",
       "    <tr>\n",
       "      <th>Sci-Fi</th>\n",
       "      <td>2</td>\n",
       "    </tr>\n",
       "    <tr>\n",
       "      <th>Thriller</th>\n",
       "      <td>14</td>\n",
       "    </tr>\n",
       "    <tr>\n",
       "      <th>War</th>\n",
       "      <td>14</td>\n",
       "    </tr>\n",
       "    <tr>\n",
       "      <th>Western</th>\n",
       "      <td>1</td>\n",
       "    </tr>\n",
       "  </tbody>\n",
       "</table>\n",
       "</div>"
      ],
      "text/plain": [
       "           Genre Count\n",
       "Action              11\n",
       "Adventure            6\n",
       "Animation            3\n",
       "Biography            4\n",
       "Comedy              39\n",
       "Crime               10\n",
       "Drama               93\n",
       "Family              10\n",
       "Fantasy              5\n",
       "History              3\n",
       "Horror               4\n",
       "Music                2\n",
       "Musical              2\n",
       "Mystery              4\n",
       "Romance             10\n",
       "Sci-Fi               2\n",
       "Thriller            14\n",
       "War                 14\n",
       "Western              1"
      ]
     },
     "execution_count": 121,
     "metadata": {},
     "output_type": "execute_result"
    }
   ],
   "source": [
    "genre_count = data[genres].sum()\n",
    "pd.DataFrame({'Genre Count': genre_count})"
   ]
  },
  {
   "cell_type": "code",
   "execution_count": 122,
   "metadata": {
    "collapsed": false,
    "slideshow": {
     "slide_type": "slide"
    }
   },
   "outputs": [
    {
     "data": {
      "text/html": [
       "<div>\n",
       "<table border=\"1\" class=\"dataframe\">\n",
       "  <thead>\n",
       "    <tr style=\"text-align: right;\">\n",
       "      <th></th>\n",
       "      <th>title</th>\n",
       "      <th>year</th>\n",
       "      <th>petoljetka</th>\n",
       "    </tr>\n",
       "  </thead>\n",
       "  <tbody>\n",
       "    <tr>\n",
       "      <th>0</th>\n",
       "      <td>The Priest's Children</td>\n",
       "      <td>2013</td>\n",
       "      <td>2010</td>\n",
       "    </tr>\n",
       "    <tr>\n",
       "      <th>1</th>\n",
       "      <td>Metastases</td>\n",
       "      <td>2009</td>\n",
       "      <td>2005</td>\n",
       "    </tr>\n",
       "    <tr>\n",
       "      <th>2</th>\n",
       "      <td>Fine Dead Girls</td>\n",
       "      <td>2002</td>\n",
       "      <td>2000</td>\n",
       "    </tr>\n",
       "    <tr>\n",
       "      <th>3</th>\n",
       "      <td>Vegetarian Cannibal</td>\n",
       "      <td>2012</td>\n",
       "      <td>2010</td>\n",
       "    </tr>\n",
       "    <tr>\n",
       "      <th>4</th>\n",
       "      <td>Sonja and the Bull</td>\n",
       "      <td>2012</td>\n",
       "      <td>2010</td>\n",
       "    </tr>\n",
       "  </tbody>\n",
       "</table>\n",
       "</div>"
      ],
      "text/plain": [
       "                   title  year  petoljetka\n",
       "0  The Priest's Children  2013        2010\n",
       "1             Metastases  2009        2005\n",
       "2        Fine Dead Girls  2002        2000\n",
       "3    Vegetarian Cannibal  2012        2010\n",
       "4     Sonja and the Bull  2012        2010"
      ]
     },
     "execution_count": 122,
     "metadata": {},
     "output_type": "execute_result"
    }
   ],
   "source": [
    "petoljetka =  (data.year // 5) * 5\n",
    "\n",
    "#tyd = data[['title', 'year']] na ovo se buni, \n",
    "#pa koristim .loc (http://pandas.pydata.org/pandas-docs/stable/indexing.html#indexing-view-versus-copy)\n",
    "tyd = data.loc[:, ('title', 'year')]\n",
    "tyd['petoljetka'] = petoljetka;\n",
    "\n",
    "tyd.head()"
   ]
  },
  {
   "cell_type": "code",
   "execution_count": 123,
   "metadata": {
    "collapsed": false,
    "slideshow": {
     "slide_type": "slide"
    }
   },
   "outputs": [
    {
     "name": "stdout",
     "output_type": "stream",
     "text": [
      "year\n",
      "1980    7.800000\n",
      "1990    7.525000\n",
      "1995    7.116667\n",
      "2000    6.900000\n",
      "2005    6.874074\n",
      "2010    7.245588\n",
      "2015    7.481818\n",
      "Name: Petoljetka mean, dtype: float64\n"
     ]
    },
    {
     "data": {
      "image/png": "[encoded data removed]",
      "text/plain": [
       "<matplotlib.figure.Figure at 0x7f800bff2f60>"
      ]
     },
     "metadata": {},
     "output_type": "display_data"
    }
   ],
   "source": [
    "pet_mean = data.groupby(petoljetka).rating.mean()\n",
    "pet_mean.name = 'Petoljetka mean'\n",
    "print (pet_mean)\n",
    "\n",
    "plt.plot(pet_mean.index, pet_mean.values, 'o-',\n",
    "        color='r', lw=3, label='Petoljetka prosjek')\n",
    "plt.scatter(data.year, data.rating, alpha=.04, lw=0, color='k')\n",
    "plt.xlabel(\"Godina\")\n",
    "plt.ylabel(\"Ocjena\")\n",
    "plt.legend(frameon=False);"
   ]
  },
  {
   "cell_type": "code",
   "execution_count": 124,
   "metadata": {
    "collapsed": false,
    "slideshow": {
     "slide_type": "slide"
    }
   },
   "outputs": [
    {
     "name": "stdout",
     "output_type": "stream",
     "text": [
      "1980 ['Izgubljeni zavicaj']\n",
      "1991 ['The Time of Warriors']\n",
      "1992 ['Kamenita vrata']\n",
      "1996 ['Putovanje tamnom polutkom']\n",
      "1997 ['Treca zena']\n",
      "1998 ['Transatlantik']\n",
      "1999 ['Red Dust']\n",
      "2000 ['Celestial Body']\n",
      "2001 ['The Miroslav Holdinc Co.']\n",
      "2002 ['24 Hours']\n",
      "2003 ['Bore Lee: U kandzama velegrada']\n",
      "2004 ['The Society of Jesus']\n",
      "2005 ['Snivaj, zlato moje']\n",
      "2006 ['Crveno i crno']\n",
      "2007 ['Play Me a Love Song']\n",
      "2008 ['Blazeni Augustin Kazotic']\n",
      "2009 ['Da mogu...']\n",
      "2010 ['Prokletstvo Krumpira']\n",
      "2011 ['Bella Biondina']\n",
      "2012 [\"Once Upon a Winter's Night\"]\n",
      "2013 ['Glazbena kutija']\n",
      "2014 ['Vlog']\n",
      "2015 ['Memoirs of a Broken Mind']\n",
      "2016 ['Goran']\n"
     ]
    }
   ],
   "source": [
    "for year, subset in data.groupby('year'):\n",
    "    print (year, subset[subset.rating == subset.rating.max()].title.values)"
   ]
  },
  {
   "cell_type": "code",
   "execution_count": 125,
   "metadata": {
    "collapsed": false,
    "slideshow": {
     "slide_type": "slide"
    }
   },
   "outputs": [
    {
     "data": {
      "text/html": [
       "<table><tr><td><strong>Python verzija</strong></td><td>3.5.1</td></tr><tr><td><strong>kompajler</strong></td><td>GCC 4.4.7 20120313 (Red Hat 4.4.7-1)</td></tr><tr><td><strong>sustav</strong></td><td>Linux</td></tr><tr><td><strong>broj CPU-a</strong></td><td>8</td></tr><tr><td><strong>interpreter</strong></td><td>64bit</td></tr></table><table><tr><td><strong>pandas</strong> verzija</td><td>0.18.0</td></tr><tr><td><strong> numpy</strong> verzija</td><td>1.10.4</td></tr><tr><td><strong>requests</strong> verzija</td><td>2.9.1</td></tr><tr><td><strong> pyquery</strong> verzija</td><td>1.2.11</td></tr></table>"
      ],
      "text/plain": [
       "<IPython.core.display.HTML object>"
      ]
     },
     "execution_count": 125,
     "metadata": {},
     "output_type": "execute_result"
    }
   ],
   "source": [
    "from verzije import *\n",
    "from IPython.display import HTML\n",
    "HTML(print_sysinfo()+info_packages('pandas, numpy,requests, pyquery'))"
   ]
  }
 ],
 "metadata": {
  "celltoolbar": "Slideshow",
  "kernelspec": {
   "display_name": "Anaconda (Python 3)",
   "language": "python",
   "name": "anaconda3"
  },
  "language_info": {
   "codemirror_mode": {
    "name": "ipython",
    "version": 3
   },
   "file_extension": ".py",
   "mimetype": "text/x-python",
   "name": "python",
   "nbconvert_exporter": "python",
   "pygments_lexer": "ipython3",
   "version": "3.5.1"
  },
  "name": "pandas.ipynb"
 },
 "nbformat": 4,
 "nbformat_minor": 0
}
