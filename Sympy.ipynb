{
 "metadata": {
  "name": ""
 },
 "nbformat": 3,
 "nbformat_minor": 0,
 "worksheets": [
  {
   "cells": [
    {
     "cell_type": "markdown",
     "metadata": {
      "slideshow": {
       "slide_type": "slide"
      }
     },
     "source": [
      "# Sympy \n",
      "\n",
      "[Sympy](http://sympy.org) je Python biblioteka za simboli\u010dku matematiku. Prednost Sympy-ja je \u0161to je potpuno napisan u Pythonu (\u0161to je i prednost i mana). Mi \u0107emo u nastavku kolegiju obraditi i puno mo\u0107niji Sage, koji je [CAS](http://en.wikipedia.org/wiki/Computer_algebra_system) u klasi Mathematice i Maplea. No Sage nije biblioteka u Pythonu, ve\u0107 CAS koji koristi Python kao programski jezik.\n",
      "\n",
      "Kori\u0161tenje Sympy-ja po\u010dinje kao i kod ostalih biblioteka, s importiranjem."
     ]
    },
    {
     "cell_type": "code",
     "collapsed": false,
     "input": [
      "from sympy import *"
     ],
     "language": "python",
     "metadata": {
      "slideshow": {
       "slide_type": "fragment"
      }
     },
     "outputs": [],
     "prompt_number": 115
    },
    {
     "cell_type": "markdown",
     "metadata": {
      "slideshow": {
       "slide_type": "fragment"
      }
     },
     "source": [
      "Da bi dobili lijepi $\\LaTeX$ izlaz:"
     ]
    },
    {
     "cell_type": "code",
     "collapsed": false,
     "input": [
      "from sympy import init_printing\n",
      "init_printing()"
     ],
     "language": "python",
     "metadata": {
      "slideshow": {
       "slide_type": "fragment"
      }
     },
     "outputs": [],
     "prompt_number": 116
    },
    {
     "cell_type": "markdown",
     "metadata": {
      "slideshow": {
       "slide_type": "slide"
      }
     },
     "source": [
      "## Simboli\u010dke varijable\n",
      "\n",
      "Kako je Sympy samo Python paket, trebamo deklarirati koje simbole \u0107emo koristiti kao simboli\u010dke vatrijable. To mo\u017eemo napraviti na dva na\u010dina:"
     ]
    },
    {
     "cell_type": "code",
     "collapsed": false,
     "input": [
      "x = Symbol('x')"
     ],
     "language": "python",
     "metadata": {
      "slideshow": {
       "slide_type": "fragment"
      }
     },
     "outputs": [],
     "prompt_number": 117
    },
    {
     "cell_type": "code",
     "collapsed": false,
     "input": [
      "(pi + x)**2"
     ],
     "language": "python",
     "metadata": {
      "slideshow": {
       "slide_type": "fragment"
      }
     },
     "outputs": [
      {
       "latex": [
        "$$\\left(x + \\pi\\right)^{2}$$"
       ],
       "metadata": {},
       "output_type": "pyout",
       "png": "[encoded data removed]",
       "prompt_number": 118,
       "text": [
        "       2\n",
        "(x + \u03c0) "
       ]
      }
     ],
     "prompt_number": 118
    },
    {
     "cell_type": "code",
     "collapsed": false,
     "input": [
      "a, b, c = symbols(\"stranica_a, stranica_b, stranica_c\")"
     ],
     "language": "python",
     "metadata": {
      "slideshow": {
       "slide_type": "subslide"
      }
     },
     "outputs": [],
     "prompt_number": 119
    },
    {
     "cell_type": "code",
     "collapsed": false,
     "input": [
      "type(a)"
     ],
     "language": "python",
     "metadata": {
      "slideshow": {
       "slide_type": "fragment"
      }
     },
     "outputs": [
      {
       "metadata": {},
       "output_type": "pyout",
       "prompt_number": 120,
       "text": [
        "sympy.core.symbol.Symbol"
       ]
      }
     ],
     "prompt_number": 120
    },
    {
     "cell_type": "code",
     "collapsed": false,
     "input": [
      "a"
     ],
     "language": "python",
     "metadata": {
      "slideshow": {
       "slide_type": "fragment"
      }
     },
     "outputs": [
      {
       "latex": [
        "$$stranica_{a}$$"
       ],
       "metadata": {},
       "output_type": "pyout",
       "png": "[encoded data removed]",
       "prompt_number": 121,
       "text": [
        "stranica\u2090"
       ]
      }
     ],
     "prompt_number": 121
    },
    {
     "cell_type": "code",
     "collapsed": false,
     "input": [
      "a, b, c = symbols(\"alpha, beta, gamma\")\n",
      "a**2+b**2+c**2"
     ],
     "language": "python",
     "metadata": {
      "slideshow": {
       "slide_type": "subslide"
      }
     },
     "outputs": [
      {
       "latex": [
        "$$\\alpha^{2} + \\beta^{2} + \\gamma^{2}$$"
       ],
       "metadata": {},
       "output_type": "pyout",
       "png": "[encoded data removed]",
       "prompt_number": 122,
       "text": [
        " 2    2    2\n",
        "\u03b1  + \u03b2  + \u03b3 "
       ]
      }
     ],
     "prompt_number": 122
    },
    {
     "cell_type": "code",
     "collapsed": false,
     "input": [
      "symbols(\"x:5\")"
     ],
     "language": "python",
     "metadata": {
      "slideshow": {
       "slide_type": "fragment"
      }
     },
     "outputs": [
      {
       "latex": [
        "$$\\begin{pmatrix}x_{0}, & x_{1}, & x_{2}, & x_{3}, & x_{4}\\end{pmatrix}$$"
       ],
       "metadata": {},
       "output_type": "pyout",
       "png": "[encoded data removed]",
       "prompt_number": 123,
       "text": [
        "(x\u2080, x\u2081, x\u2082, x\u2083, x\u2084)"
       ]
      }
     ],
     "prompt_number": 123
    },
    {
     "cell_type": "markdown",
     "metadata": {
      "slideshow": {
       "slide_type": "subslide"
      }
     },
     "source": [
      "Mo\u017eemo navoditi i dodatne pretpostavke:"
     ]
    },
    {
     "cell_type": "code",
     "collapsed": false,
     "input": [
      "x = Symbol('x', real=True)"
     ],
     "language": "python",
     "metadata": {
      "slideshow": {
       "slide_type": "fragment"
      }
     },
     "outputs": [],
     "prompt_number": 124
    },
    {
     "cell_type": "code",
     "collapsed": false,
     "input": [
      "x.is_imaginary"
     ],
     "language": "python",
     "metadata": {
      "slideshow": {
       "slide_type": "fragment"
      }
     },
     "outputs": [
      {
       "metadata": {},
       "output_type": "pyout",
       "prompt_number": 125,
       "text": [
        "False"
       ]
      }
     ],
     "prompt_number": 125
    },
    {
     "cell_type": "code",
     "collapsed": false,
     "input": [
      "x = Symbol('x', positive=True)"
     ],
     "language": "python",
     "metadata": {
      "slideshow": {
       "slide_type": "fragment"
      }
     },
     "outputs": [],
     "prompt_number": 126
    },
    {
     "cell_type": "code",
     "collapsed": false,
     "input": [
      "x > 0"
     ],
     "language": "python",
     "metadata": {
      "slideshow": {
       "slide_type": "fragment"
      }
     },
     "outputs": [
      {
       "metadata": {},
       "output_type": "pyout",
       "prompt_number": 127,
       "text": [
        "True"
       ]
      }
     ],
     "prompt_number": 127
    },
    {
     "cell_type": "markdown",
     "metadata": {
      "slideshow": {
       "slide_type": "subslide"
      }
     },
     "source": [
      "Mo\u017eemo kreirati i apstraktne funkcije: "
     ]
    },
    {
     "cell_type": "code",
     "collapsed": false,
     "input": [
      "f = Function('f')\n",
      "f(0)"
     ],
     "language": "python",
     "metadata": {
      "slideshow": {
       "slide_type": "fragment"
      }
     },
     "outputs": [
      {
       "latex": [
        "$$f{\\left (0 \\right )}$$"
       ],
       "metadata": {},
       "output_type": "pyout",
       "png": "[encoded data removed]",
       "prompt_number": 128,
       "text": [
        "f(0)"
       ]
      }
     ],
     "prompt_number": 128
    },
    {
     "cell_type": "code",
     "collapsed": false,
     "input": [
      "g = Function('g')(x)\n",
      "g.diff(x), g.diff(a)"
     ],
     "language": "python",
     "metadata": {
      "slideshow": {
       "slide_type": "fragment"
      }
     },
     "outputs": [
      {
       "latex": [
        "$$\\begin{pmatrix}\\frac{d}{d x} g{\\left (x \\right )}, & 0\\end{pmatrix}$$"
       ],
       "metadata": {},
       "output_type": "pyout",
       "png": "[encoded data removed]",
       "prompt_number": 129,
       "text": [
        "\u239bd          \u239e\n",
        "\u239c\u2500\u2500(g(x)), 0\u239f\n",
        "\u239ddx         \u23a0"
       ]
      }
     ],
     "prompt_number": 129
    },
    {
     "cell_type": "markdown",
     "metadata": {
      "slideshow": {
       "slide_type": "slide"
      }
     },
     "source": [
      "### Kompleksni brojevi\n",
      "\n",
      "Imaginarna jedinica se ozna\u010dava s `I`. "
     ]
    },
    {
     "cell_type": "code",
     "collapsed": false,
     "input": [
      "1+1*I"
     ],
     "language": "python",
     "metadata": {
      "slideshow": {
       "slide_type": "fragment"
      }
     },
     "outputs": [
      {
       "latex": [
        "$$1 + i$$"
       ],
       "metadata": {},
       "output_type": "pyout",
       "png": "[encoded data removed]",
       "prompt_number": 130,
       "text": [
        "1 + \u2148"
       ]
      }
     ],
     "prompt_number": 130
    },
    {
     "cell_type": "code",
     "collapsed": false,
     "input": [
      "I**2"
     ],
     "language": "python",
     "metadata": {
      "slideshow": {
       "slide_type": "fragment"
      }
     },
     "outputs": [
      {
       "latex": [
        "$$-1$$"
       ],
       "metadata": {},
       "output_type": "pyout",
       "png": "[encoded data removed]",
       "prompt_number": 131,
       "text": [
        "-1"
       ]
      }
     ],
     "prompt_number": 131
    },
    {
     "cell_type": "code",
     "collapsed": false,
     "input": [
      "(x * I + 1)**2"
     ],
     "language": "python",
     "metadata": {
      "slideshow": {
       "slide_type": "fragment"
      }
     },
     "outputs": [
      {
       "latex": [
        "$$\\left(i x + 1\\right)^{2}$$"
       ],
       "metadata": {},
       "output_type": "pyout",
       "png": "[encoded data removed]",
       "prompt_number": 132,
       "text": [
        "         2\n",
        "(\u2148\u22c5x + 1) "
       ]
      }
     ],
     "prompt_number": 132
    },
    {
     "cell_type": "markdown",
     "metadata": {
      "slideshow": {
       "slide_type": "slide"
      }
     },
     "source": [
      "### Razlomci\n",
      "\n",
      "Postoje tri numeri\u010dka tipa: `Real`, `Rational`, `Integer`: "
     ]
    },
    {
     "cell_type": "code",
     "collapsed": false,
     "input": [
      "r1 = Rational(4,5)\n",
      "r2 = Rational(5,4)"
     ],
     "language": "python",
     "metadata": {
      "slideshow": {
       "slide_type": "fragment"
      }
     },
     "outputs": [],
     "prompt_number": 133
    },
    {
     "cell_type": "code",
     "collapsed": false,
     "input": [
      "r1"
     ],
     "language": "python",
     "metadata": {
      "slideshow": {
       "slide_type": "fragment"
      }
     },
     "outputs": [
      {
       "latex": [
        "$$\\frac{4}{5}$$"
       ],
       "metadata": {},
       "output_type": "pyout",
       "png": "[encoded data removed]",
       "prompt_number": 134,
       "text": [
        "4/5"
       ]
      }
     ],
     "prompt_number": 134
    },
    {
     "cell_type": "code",
     "collapsed": false,
     "input": [
      "r1+r2"
     ],
     "language": "python",
     "metadata": {
      "slideshow": {
       "slide_type": "fragment"
      }
     },
     "outputs": [
      {
       "latex": [
        "$$\\frac{41}{20}$$"
       ],
       "metadata": {},
       "output_type": "pyout",
       "png": "[encoded data removed]",
       "prompt_number": 135,
       "text": [
        "41\n",
        "\u2500\u2500\n",
        "20"
       ]
      }
     ],
     "prompt_number": 135
    },
    {
     "cell_type": "code",
     "collapsed": false,
     "input": [
      "r1/r2"
     ],
     "language": "python",
     "metadata": {
      "slideshow": {
       "slide_type": "subslide"
      }
     },
     "outputs": [
      {
       "latex": [
        "$$\\frac{16}{25}$$"
       ],
       "metadata": {},
       "output_type": "pyout",
       "png": "[encoded data removed]",
       "prompt_number": 136,
       "text": [
        "16\n",
        "\u2500\u2500\n",
        "25"
       ]
      }
     ],
     "prompt_number": 136
    },
    {
     "cell_type": "code",
     "collapsed": false,
     "input": [
      "denom(r1)"
     ],
     "language": "python",
     "metadata": {
      "slideshow": {
       "slide_type": "fragment"
      }
     },
     "outputs": [
      {
       "latex": [
        "$$5$$"
       ],
       "metadata": {},
       "output_type": "pyout",
       "png": "[encoded data removed]",
       "prompt_number": 137,
       "text": [
        "5"
       ]
      }
     ],
     "prompt_number": 137
    },
    {
     "cell_type": "markdown",
     "metadata": {
      "slideshow": {
       "slide_type": "slide"
      }
     },
     "source": [
      "### Numeri\u010dka evaluacija\n",
      "\n",
      "SymPy mo\u017ee ra\u010dunati u proizvoljnoj to\u010dnosti te ima predefinirane matemati\u010dke konstante kao: `pi`, `e` te `oo` za beskona\u010dnost.\n",
      "\n",
      "Funkcija `evalf` ili metoda `N` s ulaznom varijablom `n` ra\u010dunaju izraz na `n` decimala."
     ]
    },
    {
     "cell_type": "code",
     "collapsed": false,
     "input": [
      "pi.evalf(n=50)"
     ],
     "language": "python",
     "metadata": {
      "slideshow": {
       "slide_type": "fragment"
      }
     },
     "outputs": [
      {
       "latex": [
        "$$3.1415926535897932384626433832795028841971693993751$$"
       ],
       "metadata": {},
       "output_type": "pyout",
       "png": "[encoded data removed]",
       "prompt_number": 138,
       "text": [
        "3.1415926535897932384626433832795028841971693993751"
       ]
      }
     ],
     "prompt_number": 138
    },
    {
     "cell_type": "code",
     "collapsed": false,
     "input": [
      "y = (x + pi)**2"
     ],
     "language": "python",
     "metadata": {
      "slideshow": {
       "slide_type": "fragment"
      }
     },
     "outputs": [],
     "prompt_number": 139
    },
    {
     "cell_type": "code",
     "collapsed": false,
     "input": [
      "N(y, 5)"
     ],
     "language": "python",
     "metadata": {
      "slideshow": {
       "slide_type": "fragment"
      }
     },
     "outputs": [
      {
       "latex": [
        "$$\\left(x + 3.1416\\right)^{2}$$"
       ],
       "metadata": {},
       "output_type": "pyout",
       "png": "[encoded data removed]",
       "prompt_number": 140,
       "text": [
        "            2\n",
        "(x + 3.1416) "
       ]
      }
     ],
     "prompt_number": 140
    },
    {
     "cell_type": "markdown",
     "metadata": {
      "slideshow": {
       "slide_type": "subslide"
      }
     },
     "source": [
      "Ukoliko \u017eelimo zamijeniti varijablu s konkretnim brojem, to mo\u017eemo u\u010diniti koriste\u0107i funkciju `subs`:"
     ]
    },
    {
     "cell_type": "code",
     "collapsed": false,
     "input": [
      "y.subs(x, 1.5)"
     ],
     "language": "python",
     "metadata": {
      "slideshow": {
       "slide_type": "fragment"
      }
     },
     "outputs": [
      {
       "latex": [
        "$$\\left(1.5 + \\pi\\right)^{2}$$"
       ],
       "metadata": {},
       "output_type": "pyout",
       "png": "[encoded data removed]",
       "prompt_number": 141,
       "text": [
        "         2\n",
        "(1.5 + \u03c0) "
       ]
      }
     ],
     "prompt_number": 141
    },
    {
     "cell_type": "code",
     "collapsed": false,
     "input": [
      "N(y.subs(x, 1.5))"
     ],
     "language": "python",
     "metadata": {
      "slideshow": {
       "slide_type": "fragment"
      }
     },
     "outputs": [
      {
       "latex": [
        "$$21.5443823618587$$"
       ],
       "metadata": {},
       "output_type": "pyout",
       "png": "[encoded data removed]",
       "prompt_number": 142,
       "text": [
        "21.5443823618587"
       ]
      }
     ],
     "prompt_number": 142
    },
    {
     "cell_type": "markdown",
     "metadata": {
      "slideshow": {
       "slide_type": "subslide"
      }
     },
     "source": [
      "No `subs` mo\u017eemo korisiti i op\u0107enitije:"
     ]
    },
    {
     "cell_type": "code",
     "collapsed": false,
     "input": [
      "y.subs(x, a+pi)"
     ],
     "language": "python",
     "metadata": {
      "slideshow": {
       "slide_type": "fragment"
      }
     },
     "outputs": [
      {
       "latex": [
        "$$\\left(\\alpha + 2 \\pi\\right)^{2}$$"
       ],
       "metadata": {},
       "output_type": "pyout",
       "png": "[encoded data removed]",
       "prompt_number": 143,
       "text": [
        "         2\n",
        "(\u03b1 + 2\u22c5\u03c0) "
       ]
      }
     ],
     "prompt_number": 143
    },
    {
     "cell_type": "markdown",
     "metadata": {
      "slideshow": {
       "slide_type": "slide"
      }
     },
     "source": [
      "Sympy i Numpy se mogu simultano koristiti:"
     ]
    },
    {
     "cell_type": "code",
     "collapsed": false,
     "input": [
      "import numpy"
     ],
     "language": "python",
     "metadata": {
      "slideshow": {
       "slide_type": "fragment"
      }
     },
     "outputs": [],
     "prompt_number": 144
    },
    {
     "cell_type": "code",
     "collapsed": false,
     "input": [
      "x_vec = numpy.arange(0, 10, 0.1)"
     ],
     "language": "python",
     "metadata": {
      "slideshow": {
       "slide_type": "fragment"
      }
     },
     "outputs": [],
     "prompt_number": 145
    },
    {
     "cell_type": "code",
     "collapsed": false,
     "input": [
      "y_vec = numpy.array([N(((x + pi)**2).subs(x, xx)) for xx in x_vec])"
     ],
     "language": "python",
     "metadata": {
      "slideshow": {
       "slide_type": "fragment"
      }
     },
     "outputs": [],
     "prompt_number": 146
    },
    {
     "cell_type": "code",
     "collapsed": false,
     "input": [
      "fig, ax = subplots()\n",
      "ax.plot(x_vec, y_vec);"
     ],
     "language": "python",
     "metadata": {
      "slideshow": {
       "slide_type": "subslide"
      }
     },
     "outputs": [
      {
       "metadata": {},
       "output_type": "display_data",
       "png": "[encoded data removed]",
       "text": [
        "<matplotlib.figure.Figure at 0xa100190>"
       ]
      }
     ],
     "prompt_number": 147
    },
    {
     "cell_type": "markdown",
     "metadata": {
      "slideshow": {
       "slide_type": "subslide"
      }
     },
     "source": [
      "Efikasniji kod se posti\u017ee funkcijom `lambdify` koja kompajlira Sympy izraz u funkciju:"
     ]
    },
    {
     "cell_type": "code",
     "collapsed": false,
     "input": [
      " # prvi argument je lista varijabli funkcije f, u ovom slu\u010daju funckcija je x -> f(x)\n",
      "f = lambdify([x], (x + pi)**2, 'numpy')"
     ],
     "language": "python",
     "metadata": {
      "slideshow": {
       "slide_type": "fragment"
      }
     },
     "outputs": [],
     "prompt_number": 148
    },
    {
     "cell_type": "code",
     "collapsed": false,
     "input": [
      "y_vec = f(x_vec)"
     ],
     "language": "python",
     "metadata": {
      "slideshow": {
       "slide_type": "fragment"
      }
     },
     "outputs": [],
     "prompt_number": 149
    },
    {
     "cell_type": "markdown",
     "metadata": {
      "slideshow": {
       "slide_type": "subslide"
      }
     },
     "source": [
      "Razlika u brzini izvo\u0111enja:"
     ]
    },
    {
     "cell_type": "code",
     "collapsed": false,
     "input": [
      "%%timeit\n",
      "\n",
      "y_vec = numpy.array([N(((x + pi)**2).subs(x, xx)) for xx in x_vec])"
     ],
     "language": "python",
     "metadata": {
      "slideshow": {
       "slide_type": "fragment"
      }
     },
     "outputs": [
      {
       "output_type": "stream",
       "stream": "stdout",
       "text": [
        "10 loops, best of 3: 35.8 ms per loop\n"
       ]
      }
     ],
     "prompt_number": 150
    },
    {
     "cell_type": "code",
     "collapsed": false,
     "input": [
      "%%timeit\n",
      "\n",
      "y_vec = f(x_vec)"
     ],
     "language": "python",
     "metadata": {
      "slideshow": {
       "slide_type": "fragment"
      }
     },
     "outputs": [
      {
       "output_type": "stream",
       "stream": "stdout",
       "text": [
        "100000 loops, best of 3: 5.78 \u00b5s per loop\n"
       ]
      }
     ],
     "prompt_number": 151
    },
    {
     "cell_type": "markdown",
     "metadata": {
      "slideshow": {
       "slide_type": "slide"
      }
     },
     "source": [
      "Pretvaranje stringa u Sympy izraz:"
     ]
    },
    {
     "cell_type": "code",
     "collapsed": false,
     "input": [
      "string = '1/(x-1) + 1/(x+1) + x + 1'\n",
      "izraz = sympify(string)\n",
      "izraz"
     ],
     "language": "python",
     "metadata": {
      "slideshow": {
       "slide_type": "fragment"
      }
     },
     "outputs": [
      {
       "latex": [
        "$$x + 1 + \\frac{1}{x + 1} + \\frac{1}{x - 1}$$"
       ],
       "metadata": {},
       "output_type": "pyout",
       "png": "[encoded data removed]",
       "prompt_number": 152,
       "text": [
        "          1       1  \n",
        "x + 1 + \u2500\u2500\u2500\u2500\u2500 + \u2500\u2500\u2500\u2500\u2500\n",
        "        x + 1   x - 1"
       ]
      }
     ],
     "prompt_number": 152
    },
    {
     "cell_type": "markdown",
     "metadata": {
      "slideshow": {
       "slide_type": "slide"
      }
     },
     "source": [
      "## Algebarske manipulacije"
     ]
    },
    {
     "cell_type": "code",
     "collapsed": false,
     "input": [
      "together(izraz)"
     ],
     "language": "python",
     "metadata": {
      "slideshow": {
       "slide_type": "fragment"
      }
     },
     "outputs": [
      {
       "latex": [
        "$$\\frac{1}{\\left(x - 1\\right) \\left(x + 1\\right)} \\left(x \\left(x - 1\\right) \\left(x + 1\\right) + 2 x + \\left(x - 1\\right) \\left(x + 1\\right)\\right)$$"
       ],
       "metadata": {},
       "output_type": "pyout",
       "png": "[encoded data removed]",
       "prompt_number": 153,
       "text": [
        "x\u22c5(x - 1)\u22c5(x + 1) + 2\u22c5x + (x - 1)\u22c5(x + 1)\n",
        "\u2500\u2500\u2500\u2500\u2500\u2500\u2500\u2500\u2500\u2500\u2500\u2500\u2500\u2500\u2500\u2500\u2500\u2500\u2500\u2500\u2500\u2500\u2500\u2500\u2500\u2500\u2500\u2500\u2500\u2500\u2500\u2500\u2500\u2500\u2500\u2500\u2500\u2500\u2500\u2500\u2500\n",
        "             (x - 1)\u22c5(x + 1)             "
       ]
      }
     ],
     "prompt_number": 153
    },
    {
     "cell_type": "code",
     "collapsed": false,
     "input": [
      "cancel(together(izraz))"
     ],
     "language": "python",
     "metadata": {
      "slideshow": {
       "slide_type": "fragment"
      }
     },
     "outputs": [
      {
       "latex": [
        "$$\\frac{1}{x^{2} - 1} \\left(x^{3} + x^{2} + x - 1\\right)$$"
       ],
       "metadata": {},
       "output_type": "pyout",
       "png": "[encoded data removed]",
       "prompt_number": 154,
       "text": [
        " 3    2        \n",
        "x  + x  + x - 1\n",
        "\u2500\u2500\u2500\u2500\u2500\u2500\u2500\u2500\u2500\u2500\u2500\u2500\u2500\u2500\u2500\n",
        "      2        \n",
        "     x  - 1    "
       ]
      }
     ],
     "prompt_number": 154
    },
    {
     "cell_type": "code",
     "collapsed": false,
     "input": [
      "(x+1)*(x+2)*(x+3)"
     ],
     "language": "python",
     "metadata": {
      "slideshow": {
       "slide_type": "fragment"
      }
     },
     "outputs": [
      {
       "latex": [
        "$$\\left(x + 1\\right) \\left(x + 2\\right) \\left(x + 3\\right)$$"
       ],
       "metadata": {},
       "output_type": "pyout",
       "png": "[encoded data removed]",
       "prompt_number": 155,
       "text": [
        "(x + 1)\u22c5(x + 2)\u22c5(x + 3)"
       ]
      }
     ],
     "prompt_number": 155
    },
    {
     "cell_type": "code",
     "collapsed": false,
     "input": [
      "expand((x+1)*(x+2)*(x+3))"
     ],
     "language": "python",
     "metadata": {
      "slideshow": {
       "slide_type": "subslide"
      }
     },
     "outputs": [
      {
       "latex": [
        "$$x^{3} + 6 x^{2} + 11 x + 6$$"
       ],
       "metadata": {},
       "output_type": "pyout",
       "png": "[encoded data removed]",
       "prompt_number": 156,
       "text": [
        " 3      2           \n",
        "x  + 6\u22c5x  + 11\u22c5x + 6"
       ]
      }
     ],
     "prompt_number": 156
    },
    {
     "cell_type": "markdown",
     "metadata": {
      "slideshow": {
       "slide_type": "fragment"
      }
     },
     "source": [
      "`expand` prima dodatne argumente. Npr. `trig=True`:"
     ]
    },
    {
     "cell_type": "code",
     "collapsed": false,
     "input": [
      "sin(a+b)"
     ],
     "language": "python",
     "metadata": {
      "slideshow": {
       "slide_type": "fragment"
      }
     },
     "outputs": [
      {
       "latex": [
        "$$\\sin{\\left (\\alpha + \\beta \\right )}$$"
       ],
       "metadata": {},
       "output_type": "pyout",
       "png": "[encoded data removed]",
       "prompt_number": 157,
       "text": [
        "sin(\u03b1 + \u03b2)"
       ]
      }
     ],
     "prompt_number": 157
    },
    {
     "cell_type": "code",
     "collapsed": false,
     "input": [
      "expand(sin(a+b), trig=True)"
     ],
     "language": "python",
     "metadata": {
      "slideshow": {
       "slide_type": "fragment"
      }
     },
     "outputs": [
      {
       "latex": [
        "$$\\sin{\\left (\\alpha \\right )} \\cos{\\left (\\beta \\right )} + \\sin{\\left (\\beta \\right )} \\cos{\\left (\\alpha \\right )}$$"
       ],
       "metadata": {},
       "output_type": "pyout",
       "png": "[encoded data removed]",
       "prompt_number": 158,
       "text": [
        "sin(\u03b1)\u22c5cos(\u03b2) + sin(\u03b2)\u22c5cos(\u03b1)"
       ]
      }
     ],
     "prompt_number": 158
    },
    {
     "cell_type": "code",
     "collapsed": false,
     "input": [
      "factor(x**3 + 6 * x**2 + 11*x + 6)"
     ],
     "language": "python",
     "metadata": {
      "slideshow": {
       "slide_type": "subslide"
      }
     },
     "outputs": [
      {
       "latex": [
        "$$\\left(x + 1\\right) \\left(x + 2\\right) \\left(x + 3\\right)$$"
       ],
       "metadata": {},
       "output_type": "pyout",
       "png": "[encoded data removed]",
       "prompt_number": 159,
       "text": [
        "(x + 1)\u22c5(x + 2)\u22c5(x + 3)"
       ]
      }
     ],
     "prompt_number": 159
    },
    {
     "cell_type": "code",
     "collapsed": false,
     "input": [
      "simplify((x+1)*(x+2)*(x+3))"
     ],
     "language": "python",
     "metadata": {
      "slideshow": {
       "slide_type": "fragment"
      }
     },
     "outputs": [
      {
       "latex": [
        "$$\\left(x + 1\\right) \\left(x + 2\\right) \\left(x + 3\\right)$$"
       ],
       "metadata": {},
       "output_type": "pyout",
       "png": "[encoded data removed]",
       "prompt_number": 229,
       "text": [
        "(x + 1)\u22c5(x + 2)\u22c5(x + 3)"
       ]
      }
     ],
     "prompt_number": 229
    },
    {
     "cell_type": "code",
     "collapsed": false,
     "input": [
      "simplify(sin(a)**2 + cos(a)**2)"
     ],
     "language": "python",
     "metadata": {
      "slideshow": {
       "slide_type": "fragment"
      }
     },
     "outputs": [
      {
       "latex": [
        "$$1$$"
       ],
       "metadata": {},
       "output_type": "pyout",
       "png": "[encoded data removed]",
       "prompt_number": 230,
       "text": [
        "1"
       ]
      }
     ],
     "prompt_number": 230
    },
    {
     "cell_type": "code",
     "collapsed": false,
     "input": [
      "simplify(cos(x)/sin(x))"
     ],
     "language": "python",
     "metadata": {
      "slideshow": {
       "slide_type": "fragment"
      }
     },
     "outputs": [
      {
       "latex": [
        "$$\\frac{1}{\\tan{\\left (x \\right )}}$$"
       ],
       "metadata": {},
       "output_type": "pyout",
       "png": "[encoded data removed]",
       "prompt_number": 231,
       "text": [
        "  1   \n",
        "\u2500\u2500\u2500\u2500\u2500\u2500\n",
        "tan(x)"
       ]
      }
     ],
     "prompt_number": 231
    },
    {
     "cell_type": "code",
     "collapsed": false,
     "input": [
      "f1 = 1/((a+1)*(a+2))"
     ],
     "language": "python",
     "metadata": {
      "slideshow": {
       "slide_type": "subslide"
      }
     },
     "outputs": [],
     "prompt_number": 213
    },
    {
     "cell_type": "code",
     "collapsed": false,
     "input": [
      "f1"
     ],
     "language": "python",
     "metadata": {
      "slideshow": {
       "slide_type": "fragment"
      }
     },
     "outputs": [
      {
       "latex": [
        "$$\\frac{1}{\\left(\\alpha + 1\\right) \\left(\\alpha + 2\\right)}$$"
       ],
       "metadata": {},
       "output_type": "pyout",
       "png": "[encoded data removed]",
       "prompt_number": 214,
       "text": [
        "       1       \n",
        "\u2500\u2500\u2500\u2500\u2500\u2500\u2500\u2500\u2500\u2500\u2500\u2500\u2500\u2500\u2500\n",
        "(\u03b1 + 1)\u22c5(\u03b1 + 2)"
       ]
      }
     ],
     "prompt_number": 214
    },
    {
     "cell_type": "code",
     "collapsed": false,
     "input": [
      "apart(f1)"
     ],
     "language": "python",
     "metadata": {
      "slideshow": {
       "slide_type": "fragment"
      }
     },
     "outputs": [
      {
       "latex": [
        "$$- \\frac{1}{\\alpha + 2} + \\frac{1}{\\alpha + 1}$$"
       ],
       "metadata": {},
       "output_type": "pyout",
       "png": "[encoded data removed]",
       "prompt_number": 215,
       "text": [
        "    1       1  \n",
        "- \u2500\u2500\u2500\u2500\u2500 + \u2500\u2500\u2500\u2500\u2500\n",
        "  \u03b1 + 2   \u03b1 + 1"
       ]
      }
     ],
     "prompt_number": 215
    },
    {
     "cell_type": "code",
     "collapsed": false,
     "input": [
      "f2 = 1/(a+2) + 1/(a+3)"
     ],
     "language": "python",
     "metadata": {
      "slideshow": {
       "slide_type": "subslide"
      }
     },
     "outputs": [],
     "prompt_number": 217
    },
    {
     "cell_type": "code",
     "collapsed": false,
     "input": [
      "f2"
     ],
     "language": "python",
     "metadata": {
      "slideshow": {
       "slide_type": "fragment"
      }
     },
     "outputs": [
      {
       "latex": [
        "$$\\frac{1}{\\alpha + 3} + \\frac{1}{\\alpha + 2}$$"
       ],
       "metadata": {},
       "output_type": "pyout",
       "png": "[encoded data removed]",
       "prompt_number": 218,
       "text": [
        "  1       1  \n",
        "\u2500\u2500\u2500\u2500\u2500 + \u2500\u2500\u2500\u2500\u2500\n",
        "\u03b1 + 3   \u03b1 + 2"
       ]
      }
     ],
     "prompt_number": 218
    },
    {
     "cell_type": "code",
     "collapsed": false,
     "input": [
      "together(f2)"
     ],
     "language": "python",
     "metadata": {
      "slideshow": {
       "slide_type": "fragment"
      }
     },
     "outputs": [
      {
       "latex": [
        "$$\\frac{2 \\alpha + 5}{\\left(\\alpha + 2\\right) \\left(\\alpha + 3\\right)}$$"
       ],
       "metadata": {},
       "output_type": "pyout",
       "png": "[encoded data removed]",
       "prompt_number": 168,
       "text": [
        "    2\u22c5\u03b1 + 5    \n",
        "\u2500\u2500\u2500\u2500\u2500\u2500\u2500\u2500\u2500\u2500\u2500\u2500\u2500\u2500\u2500\n",
        "(\u03b1 + 2)\u22c5(\u03b1 + 3)"
       ]
      }
     ],
     "prompt_number": 168
    },
    {
     "cell_type": "code",
     "collapsed": false,
     "input": [
      "simplify(f2)"
     ],
     "language": "python",
     "metadata": {
      "slideshow": {
       "slide_type": "fragment"
      }
     },
     "outputs": [
      {
       "latex": [
        "$$\\frac{2 \\alpha + 5}{\\left(\\alpha + 2\\right) \\left(\\alpha + 3\\right)}$$"
       ],
       "metadata": {},
       "output_type": "pyout",
       "png": "[encoded data removed]",
       "prompt_number": 169,
       "text": [
        "    2\u22c5\u03b1 + 5    \n",
        "\u2500\u2500\u2500\u2500\u2500\u2500\u2500\u2500\u2500\u2500\u2500\u2500\u2500\u2500\u2500\n",
        "(\u03b1 + 2)\u22c5(\u03b1 + 3)"
       ]
      }
     ],
     "prompt_number": 169
    },
    {
     "cell_type": "markdown",
     "metadata": {
      "slideshow": {
       "slide_type": "slide"
      }
     },
     "source": [
      "## Analiza"
     ]
    },
    {
     "cell_type": "markdown",
     "metadata": {
      "slideshow": {
       "slide_type": "slide"
      }
     },
     "source": [
      "### Deriviranje"
     ]
    },
    {
     "cell_type": "code",
     "collapsed": false,
     "input": [
      "y"
     ],
     "language": "python",
     "metadata": {
      "slideshow": {
       "slide_type": "fragment"
      }
     },
     "outputs": [
      {
       "latex": [
        "$$\\left(x + \\pi\\right)^{2}$$"
       ],
       "metadata": {},
       "output_type": "pyout",
       "png": "[encoded data removed]",
       "prompt_number": 170,
       "text": [
        "       2\n",
        "(x + \u03c0) "
       ]
      }
     ],
     "prompt_number": 170
    },
    {
     "cell_type": "code",
     "collapsed": false,
     "input": [
      "diff(y**2, x)"
     ],
     "language": "python",
     "metadata": {
      "slideshow": {
       "slide_type": "fragment"
      }
     },
     "outputs": [
      {
       "latex": [
        "$$4 \\left(x + \\pi\\right)^{3}$$"
       ],
       "metadata": {},
       "output_type": "pyout",
       "png": "[encoded data removed]",
       "prompt_number": 171,
       "text": [
        "         3\n",
        "4\u22c5(x + \u03c0) "
       ]
      }
     ],
     "prompt_number": 171
    },
    {
     "cell_type": "markdown",
     "metadata": {
      "slideshow": {
       "slide_type": "subslide"
      }
     },
     "source": [
      "Vi\u0161e derivacije:"
     ]
    },
    {
     "cell_type": "code",
     "collapsed": false,
     "input": [
      "diff(y**2, x, x)"
     ],
     "language": "python",
     "metadata": {
      "slideshow": {
       "slide_type": "fragment"
      }
     },
     "outputs": [
      {
       "latex": [
        "$$12 \\left(x + \\pi\\right)^{2}$$"
       ],
       "metadata": {},
       "output_type": "pyout",
       "png": "[encoded data removed]",
       "prompt_number": 172,
       "text": [
        "          2\n",
        "12\u22c5(x + \u03c0) "
       ]
      }
     ],
     "prompt_number": 172
    },
    {
     "cell_type": "code",
     "collapsed": false,
     "input": [
      "diff(y**2, x, 2)"
     ],
     "language": "python",
     "metadata": {
      "slideshow": {
       "slide_type": "fragment"
      }
     },
     "outputs": [
      {
       "latex": [
        "$$12 \\left(x + \\pi\\right)^{2}$$"
       ],
       "metadata": {},
       "output_type": "pyout",
       "png": "[encoded data removed]",
       "prompt_number": 173,
       "text": [
        "          2\n",
        "12\u22c5(x + \u03c0) "
       ]
      }
     ],
     "prompt_number": 173
    },
    {
     "cell_type": "code",
     "collapsed": false,
     "input": [
      "x, y, z = symbols(\"x,y,z\")"
     ],
     "language": "python",
     "metadata": {
      "slideshow": {
       "slide_type": "subslide"
      }
     },
     "outputs": [],
     "prompt_number": 174
    },
    {
     "cell_type": "code",
     "collapsed": false,
     "input": [
      "f = sin(x*y) + cos(y*z)"
     ],
     "language": "python",
     "metadata": {
      "slideshow": {
       "slide_type": "fragment"
      }
     },
     "outputs": [],
     "prompt_number": 175
    },
    {
     "cell_type": "markdown",
     "metadata": {
      "slideshow": {
       "slide_type": "fragment"
      }
     },
     "source": [
      "\u017delimo izra\u010dunati $$\\frac{d^3f}{dxdy^2}$$"
     ]
    },
    {
     "cell_type": "code",
     "collapsed": false,
     "input": [
      "diff(f, x, 1, y, 2)"
     ],
     "language": "python",
     "metadata": {
      "slideshow": {
       "slide_type": "fragment"
      }
     },
     "outputs": [
      {
       "latex": [
        "$$- x \\left(x y \\cos{\\left (x y \\right )} + 2 \\sin{\\left (x y \\right )}\\right)$$"
       ],
       "metadata": {},
       "output_type": "pyout",
       "png": "[encoded data removed]",
       "prompt_number": 176,
       "text": [
        "-x\u22c5(x\u22c5y\u22c5cos(x\u22c5y) + 2\u22c5sin(x\u22c5y))"
       ]
      }
     ],
     "prompt_number": 176
    },
    {
     "cell_type": "markdown",
     "metadata": {
      "slideshow": {
       "slide_type": "slide"
      }
     },
     "source": [
      "### Integracija"
     ]
    },
    {
     "cell_type": "code",
     "collapsed": false,
     "input": [
      "f"
     ],
     "language": "python",
     "metadata": {
      "slideshow": {
       "slide_type": "fragment"
      }
     },
     "outputs": [
      {
       "latex": [
        "$$\\sin{\\left (x y \\right )} + \\cos{\\left (y z \\right )}$$"
       ],
       "metadata": {},
       "output_type": "pyout",
       "png": "[encoded data removed]",
       "prompt_number": 177,
       "text": [
        "sin(x\u22c5y) + cos(y\u22c5z)"
       ]
      }
     ],
     "prompt_number": 177
    },
    {
     "cell_type": "code",
     "collapsed": false,
     "input": [
      "integrate(f, x)"
     ],
     "language": "python",
     "metadata": {
      "slideshow": {
       "slide_type": "fragment"
      }
     },
     "outputs": [
      {
       "latex": [
        "$$x \\cos{\\left (y z \\right )} + \\begin{cases} 0 & \\text{for}\\: y = 0 \\\\- \\frac{1}{y} \\cos{\\left (x y \\right )} & \\text{otherwise} \\end{cases}$$"
       ],
       "metadata": {},
       "output_type": "pyout",
       "png": "[encoded data removed]",
       "prompt_number": 178,
       "text": [
        "             \u239b\u23a7    0       for y = 0\u239e\n",
        "             \u239c\u23aa                     \u239f\n",
        "x\u22c5cos(y\u22c5z) + \u239c\u23a8-cos(x\u22c5y)            \u239f\n",
        "             \u239c\u23aa\u2500\u2500\u2500\u2500\u2500\u2500\u2500\u2500\u2500\u2500  otherwise\u239f\n",
        "             \u239d\u23a9    y                \u23a0"
       ]
      }
     ],
     "prompt_number": 178
    },
    {
     "cell_type": "markdown",
     "metadata": {
      "slideshow": {
       "slide_type": "subslide"
      }
     },
     "source": [
      "Definitni integrali:"
     ]
    },
    {
     "cell_type": "code",
     "collapsed": false,
     "input": [
      "integrate(f, (x, -1, 1))"
     ],
     "language": "python",
     "metadata": {
      "slideshow": {
       "slide_type": "fragment"
      }
     },
     "outputs": [
      {
       "latex": [
        "$$2 \\cos{\\left (y z \\right )}$$"
       ],
       "metadata": {},
       "output_type": "pyout",
       "png": "[encoded data removed]",
       "prompt_number": 179,
       "text": [
        "2\u22c5cos(y\u22c5z)"
       ]
      }
     ],
     "prompt_number": 179
    },
    {
     "cell_type": "markdown",
     "metadata": {
      "slideshow": {
       "slide_type": "subslide"
      }
     },
     "source": [
      "Nepravi integrali:"
     ]
    },
    {
     "cell_type": "code",
     "collapsed": false,
     "input": [
      "integrate(exp(-x**2), (x, -oo, oo))"
     ],
     "language": "python",
     "metadata": {
      "slideshow": {
       "slide_type": "fragment"
      }
     },
     "outputs": [
      {
       "latex": [
        "$$\\sqrt{\\pi}$$"
       ],
       "metadata": {},
       "output_type": "pyout",
       "png": "[encoded data removed]",
       "prompt_number": 180,
       "text": [
        "  ___\n",
        "\u2572\u2571 \u03c0 "
       ]
      }
     ],
     "prompt_number": 180
    },
    {
     "cell_type": "markdown",
     "metadata": {
      "slideshow": {
       "slide_type": "slide"
      }
     },
     "source": [
      "### Sume i produkti"
     ]
    },
    {
     "cell_type": "code",
     "collapsed": false,
     "input": [
      "n = Symbol(\"n\")"
     ],
     "language": "python",
     "metadata": {
      "slideshow": {
       "slide_type": "fragment"
      }
     },
     "outputs": [],
     "prompt_number": 181
    },
    {
     "cell_type": "code",
     "collapsed": false,
     "input": [
      "Sum(1/n**2, (n, 1, 10))"
     ],
     "language": "python",
     "metadata": {
      "slideshow": {
       "slide_type": "fragment"
      }
     },
     "outputs": [
      {
       "latex": [
        "$$\\sum_{n=1}^{10} \\frac{1}{n^{2}}$$"
       ],
       "metadata": {},
       "output_type": "pyout",
       "png": "[encoded data removed]",
       "prompt_number": 182,
       "text": [
        "  10    \n",
        " ____   \n",
        " \u2572      \n",
        "  \u2572   1 \n",
        "   \u2572  \u2500\u2500\n",
        "   \u2571   2\n",
        "  \u2571   n \n",
        " \u2571      \n",
        " \u203e\u203e\u203e\u203e   \n",
        "n = 1   "
       ]
      }
     ],
     "prompt_number": 182
    },
    {
     "cell_type": "code",
     "collapsed": false,
     "input": [
      "Sum(1/n**2, (n,1, 10)).evalf()"
     ],
     "language": "python",
     "metadata": {
      "slideshow": {
       "slide_type": "subslide"
      }
     },
     "outputs": [
      {
       "latex": [
        "$$1.54976773116654$$"
       ],
       "metadata": {},
       "output_type": "pyout",
       "png": "[encoded data removed]",
       "prompt_number": 183,
       "text": [
        "1.54976773116654"
       ]
      }
     ],
     "prompt_number": 183
    },
    {
     "cell_type": "code",
     "collapsed": false,
     "input": [
      "Sum(1/n**2, (n, 1, oo)).evalf()"
     ],
     "language": "python",
     "metadata": {
      "slideshow": {
       "slide_type": "fragment"
      }
     },
     "outputs": [
      {
       "latex": [
        "$$1.64493406684823$$"
       ],
       "metadata": {},
       "output_type": "pyout",
       "png": "[encoded data removed]",
       "prompt_number": 184,
       "text": [
        "1.64493406684823"
       ]
      }
     ],
     "prompt_number": 184
    },
    {
     "cell_type": "code",
     "collapsed": false,
     "input": [
      "Product(n, (n, 1, 10))"
     ],
     "language": "python",
     "metadata": {
      "slideshow": {
       "slide_type": "subslide"
      }
     },
     "outputs": [
      {
       "latex": [
        "$$\\prod_{n=1}^{10} n$$"
       ],
       "metadata": {},
       "output_type": "pyout",
       "png": "[encoded data removed]",
       "prompt_number": 185,
       "text": [
        "  10   \n",
        "\u252c\u2500\u2500\u2500\u252c  \n",
        "\u2502   \u2502 n\n",
        "\u2502   \u2502  \n",
        "n = 1  "
       ]
      }
     ],
     "prompt_number": 185
    },
    {
     "cell_type": "markdown",
     "metadata": {
      "slideshow": {
       "slide_type": "slide"
      }
     },
     "source": [
      "### Limesi"
     ]
    },
    {
     "cell_type": "code",
     "collapsed": false,
     "input": [
      "limit(sin(x)/x, x, 0)"
     ],
     "language": "python",
     "metadata": {
      "slideshow": {
       "slide_type": "fragment"
      }
     },
     "outputs": [
      {
       "latex": [
        "$$1$$"
       ],
       "metadata": {},
       "output_type": "pyout",
       "png": "[encoded data removed]",
       "prompt_number": 186,
       "text": [
        "1"
       ]
      }
     ],
     "prompt_number": 186
    },
    {
     "cell_type": "code",
     "collapsed": false,
     "input": [
      "f"
     ],
     "language": "python",
     "metadata": {
      "slideshow": {
       "slide_type": "subslide"
      }
     },
     "outputs": [
      {
       "latex": [
        "$$\\sin{\\left (x y \\right )} + \\cos{\\left (y z \\right )}$$"
       ],
       "metadata": {},
       "output_type": "pyout",
       "png": "[encoded data removed]",
       "prompt_number": 187,
       "text": [
        "sin(x\u22c5y) + cos(y\u22c5z)"
       ]
      }
     ],
     "prompt_number": 187
    },
    {
     "cell_type": "code",
     "collapsed": false,
     "input": [
      "diff(f, x)"
     ],
     "language": "python",
     "metadata": {
      "slideshow": {
       "slide_type": "fragment"
      }
     },
     "outputs": [
      {
       "latex": [
        "$$y \\cos{\\left (x y \\right )}$$"
       ],
       "metadata": {},
       "output_type": "pyout",
       "png": "[encoded data removed]",
       "prompt_number": 188,
       "text": [
        "y\u22c5cos(x\u22c5y)"
       ]
      }
     ],
     "prompt_number": 188
    },
    {
     "cell_type": "markdown",
     "metadata": {
      "slideshow": {
       "slide_type": "fragment"
      }
     },
     "source": [
      "$$ \\frac{\\mathrm{d}f(x,y)}{\\mathrm{d}x} = \\lim_{h\\to 0}\\frac{f(x+h,y)-f(x,y)}{h}$$"
     ]
    },
    {
     "cell_type": "code",
     "collapsed": false,
     "input": [
      "h = Symbol(\"h\")"
     ],
     "language": "python",
     "metadata": {
      "slideshow": {
       "slide_type": "fragment"
      }
     },
     "outputs": [],
     "prompt_number": 189
    },
    {
     "cell_type": "code",
     "collapsed": false,
     "input": [
      "limit((f.subs(x, x+h) - f)/h, h, 0)"
     ],
     "language": "python",
     "metadata": {
      "slideshow": {
       "slide_type": "fragment"
      }
     },
     "outputs": [
      {
       "latex": [
        "$$y \\cos{\\left (x y \\right )}$$"
       ],
       "metadata": {},
       "output_type": "pyout",
       "png": "[encoded data removed]",
       "prompt_number": 190,
       "text": [
        "y\u22c5cos(x\u22c5y)"
       ]
      }
     ],
     "prompt_number": 190
    },
    {
     "cell_type": "code",
     "collapsed": false,
     "input": [
      "limit(1/x, x, 0, dir=\"+\")"
     ],
     "language": "python",
     "metadata": {
      "slideshow": {
       "slide_type": "subslide"
      }
     },
     "outputs": [
      {
       "latex": [
        "$$\\infty$$"
       ],
       "metadata": {},
       "output_type": "pyout",
       "png": "[encoded data removed]",
       "prompt_number": 191,
       "text": [
        "\u221e"
       ]
      }
     ],
     "prompt_number": 191
    },
    {
     "cell_type": "code",
     "collapsed": false,
     "input": [
      "limit(1/x, x, 0, dir=\"-\")"
     ],
     "language": "python",
     "metadata": {
      "slideshow": {
       "slide_type": "fragment"
      }
     },
     "outputs": [
      {
       "latex": [
        "$$-\\infty$$"
       ],
       "metadata": {},
       "output_type": "pyout",
       "png": "[encoded data removed]",
       "prompt_number": 192,
       "text": [
        "-\u221e"
       ]
      }
     ],
     "prompt_number": 192
    },
    {
     "cell_type": "markdown",
     "metadata": {
      "slideshow": {
       "slide_type": "slide"
      }
     },
     "source": [
      "### (Taylorovi) redovi"
     ]
    },
    {
     "cell_type": "code",
     "collapsed": false,
     "input": [
      "series(exp(x), x)"
     ],
     "language": "python",
     "metadata": {
      "slideshow": {
       "slide_type": "fragment"
      }
     },
     "outputs": [
      {
       "latex": [
        "$$1 + x + \\frac{x^{2}}{2} + \\frac{x^{3}}{6} + \\frac{x^{4}}{24} + \\frac{x^{5}}{120} + \\mathcal{O}\\left(x^{6}\\right)$$"
       ],
       "metadata": {},
       "output_type": "pyout",
       "png": "[encoded data removed]",
       "prompt_number": 193,
       "text": [
        "         2    3    4     5        \n",
        "        x    x    x     x     \u239b 6\u239e\n",
        "1 + x + \u2500\u2500 + \u2500\u2500 + \u2500\u2500 + \u2500\u2500\u2500 + O\u239dx \u23a0\n",
        "        2    6    24   120        "
       ]
      }
     ],
     "prompt_number": 193
    },
    {
     "cell_type": "markdown",
     "metadata": {
      "slideshow": {
       "slide_type": "fragment"
      }
     },
     "source": [
      "Rastav oko $x=1$:"
     ]
    },
    {
     "cell_type": "code",
     "collapsed": false,
     "input": [
      "series(exp(x), x, 1)"
     ],
     "language": "python",
     "metadata": {
      "slideshow": {
       "slide_type": "fragment"
      }
     },
     "outputs": [
      {
       "latex": [
        "$$e + e x + \\frac{e x^{2}}{2} + \\frac{e x^{3}}{6} + \\frac{e x^{4}}{24} + \\frac{e x^{5}}{120} + \\mathcal{O}\\left(x^{6}\\right)$$"
       ],
       "metadata": {},
       "output_type": "pyout",
       "png": "[encoded data removed]",
       "prompt_number": 194,
       "text": [
        "             2      3      4      5        \n",
        "          \u212f\u22c5x    \u212f\u22c5x    \u212f\u22c5x    \u212f\u22c5x     \u239b 6\u239e\n",
        "\u212f + \u212f\u22c5x + \u2500\u2500\u2500\u2500 + \u2500\u2500\u2500\u2500 + \u2500\u2500\u2500\u2500 + \u2500\u2500\u2500\u2500 + O\u239dx \u23a0\n",
        "           2      6      24    120         "
       ]
      }
     ],
     "prompt_number": 194
    },
    {
     "cell_type": "code",
     "collapsed": false,
     "input": [
      "series(exp(x), x, 1, 10)"
     ],
     "language": "python",
     "metadata": {
      "slideshow": {
       "slide_type": "subslide"
      }
     },
     "outputs": [
      {
       "latex": [
        "$$e + e x + \\frac{e x^{2}}{2} + \\frac{e x^{3}}{6} + \\frac{e x^{4}}{24} + \\frac{e x^{5}}{120} + \\frac{e x^{6}}{720} + \\frac{e x^{7}}{5040} + \\frac{e x^{8}}{40320} + \\frac{e x^{9}}{362880} + \\mathcal{O}\\left(x^{10}\\right)$$"
       ],
       "metadata": {},
       "output_type": "pyout",
       "png": "[encoded data removed]",
       "prompt_number": 195,
       "text": [
        "             2      3      4      5      6      7       8       9          \n",
        "          \u212f\u22c5x    \u212f\u22c5x    \u212f\u22c5x    \u212f\u22c5x    \u212f\u22c5x    \u212f\u22c5x     \u212f\u22c5x     \u212f\u22c5x      \u239b 10\u239e\n",
        "\u212f + \u212f\u22c5x + \u2500\u2500\u2500\u2500 + \u2500\u2500\u2500\u2500 + \u2500\u2500\u2500\u2500 + \u2500\u2500\u2500\u2500 + \u2500\u2500\u2500\u2500 + \u2500\u2500\u2500\u2500 + \u2500\u2500\u2500\u2500\u2500 + \u2500\u2500\u2500\u2500\u2500\u2500 + O\u239dx  \u23a0\n",
        "           2      6      24    120    720    5040   40320   362880         "
       ]
      }
     ],
     "prompt_number": 195
    },
    {
     "cell_type": "code",
     "collapsed": false,
     "input": [
      "s1 = cos(x).series(x, 0, 5)\n",
      "s1"
     ],
     "language": "python",
     "metadata": {
      "slideshow": {
       "slide_type": "fragment"
      }
     },
     "outputs": [
      {
       "latex": [
        "$$1 - \\frac{x^{2}}{2} + \\frac{x^{4}}{24} + \\mathcal{O}\\left(x^{5}\\right)$$"
       ],
       "metadata": {},
       "output_type": "pyout",
       "png": "[encoded data removed]",
       "prompt_number": 196,
       "text": [
        "     2    4        \n",
        "    x    x     \u239b 5\u239e\n",
        "1 - \u2500\u2500 + \u2500\u2500 + O\u239dx \u23a0\n",
        "    2    24        "
       ]
      }
     ],
     "prompt_number": 196
    },
    {
     "cell_type": "code",
     "collapsed": false,
     "input": [
      "s2 = sin(x).series(x, 0, 2)\n",
      "s2"
     ],
     "language": "python",
     "metadata": {
      "slideshow": {
       "slide_type": "fragment"
      }
     },
     "outputs": [
      {
       "latex": [
        "$$x + \\mathcal{O}\\left(x^{2}\\right)$$"
       ],
       "metadata": {},
       "output_type": "pyout",
       "png": "[encoded data removed]",
       "prompt_number": 197,
       "text": [
        "     \u239b 2\u239e\n",
        "x + O\u239dx \u23a0"
       ]
      }
     ],
     "prompt_number": 197
    },
    {
     "cell_type": "code",
     "collapsed": false,
     "input": [
      "expand(s1 * s2)"
     ],
     "language": "python",
     "metadata": {
      "slideshow": {
       "slide_type": "fragment"
      }
     },
     "outputs": [
      {
       "latex": [
        "$$x + \\mathcal{O}\\left(x^{2}\\right)$$"
       ],
       "metadata": {},
       "output_type": "pyout",
       "png": "[encoded data removed]",
       "prompt_number": 198,
       "text": [
        "     \u239b 2\u239e\n",
        "x + O\u239dx \u23a0"
       ]
      }
     ],
     "prompt_number": 198
    },
    {
     "cell_type": "markdown",
     "metadata": {
      "slideshow": {
       "slide_type": "subslide"
      }
     },
     "source": [
      "S metodom `removeO` se mo\u017eemo rije\u0161iti $\\mathcal{O}$ dijela:"
     ]
    },
    {
     "cell_type": "code",
     "collapsed": false,
     "input": [
      "expand(s1.removeO() * s2.removeO())"
     ],
     "language": "python",
     "metadata": {
      "slideshow": {
       "slide_type": "fragment"
      }
     },
     "outputs": [
      {
       "latex": [
        "$$\\frac{x^{5}}{24} - \\frac{x^{3}}{2} + x$$"
       ],
       "metadata": {},
       "output_type": "pyout",
       "png": "[encoded data removed]",
       "prompt_number": 199,
       "text": [
        " 5    3    \n",
        "x    x     \n",
        "\u2500\u2500 - \u2500\u2500 + x\n",
        "24   2     "
       ]
      }
     ],
     "prompt_number": 199
    },
    {
     "cell_type": "markdown",
     "metadata": {
      "slideshow": {
       "slide_type": "fragment"
      }
     },
     "source": [
      "Ali oprezno s time:"
     ]
    },
    {
     "cell_type": "code",
     "collapsed": false,
     "input": [
      "(cos(x)*sin(x)).series(x, 0, 6)"
     ],
     "language": "python",
     "metadata": {
      "slideshow": {
       "slide_type": "fragment"
      }
     },
     "outputs": [
      {
       "latex": [
        "$$x - \\frac{2 x^{3}}{3} + \\frac{2 x^{5}}{15} + \\mathcal{O}\\left(x^{6}\\right)$$"
       ],
       "metadata": {},
       "output_type": "pyout",
       "png": "[encoded data removed]",
       "prompt_number": 219,
       "text": [
        "       3      5        \n",
        "    2\u22c5x    2\u22c5x     \u239b 6\u239e\n",
        "x - \u2500\u2500\u2500\u2500 + \u2500\u2500\u2500\u2500 + O\u239dx \u23a0\n",
        "     3      15         "
       ]
      }
     ],
     "prompt_number": 219
    },
    {
     "cell_type": "markdown",
     "metadata": {
      "slideshow": {
       "slide_type": "subslide"
      }
     },
     "source": [
      "Reziduumi:"
     ]
    },
    {
     "cell_type": "code",
     "collapsed": false,
     "input": [
      "residue(2/sin(x), x, 0)"
     ],
     "language": "python",
     "metadata": {
      "slideshow": {
       "slide_type": "fragment"
      }
     },
     "outputs": [
      {
       "latex": [
        "$$2$$"
       ],
       "metadata": {},
       "output_type": "pyout",
       "png": "[encoded data removed]",
       "prompt_number": 220,
       "text": [
        "2"
       ]
      }
     ],
     "prompt_number": 220
    },
    {
     "cell_type": "markdown",
     "metadata": {
      "slideshow": {
       "slide_type": "slide"
      }
     },
     "source": [
      "## Linearna algebra"
     ]
    },
    {
     "cell_type": "markdown",
     "metadata": {
      "slideshow": {
       "slide_type": "slide"
      }
     },
     "source": [
      "### Matrice"
     ]
    },
    {
     "cell_type": "code",
     "collapsed": false,
     "input": [
      "m11, m12, m21, m22 = symbols(\"m11, m12, m21, m22\")\n",
      "b1, b2 = symbols(\"b1, b2\")"
     ],
     "language": "python",
     "metadata": {
      "slideshow": {
       "slide_type": "fragment"
      }
     },
     "outputs": [],
     "prompt_number": 221
    },
    {
     "cell_type": "code",
     "collapsed": false,
     "input": [
      "A = Matrix([[m11, m12],[m21, m22]])\n",
      "A"
     ],
     "language": "python",
     "metadata": {
      "slideshow": {
       "slide_type": "fragment"
      }
     },
     "outputs": [
      {
       "latex": [
        "$$\\left[\\begin{matrix}m_{11} & m_{12}\\\\m_{21} & m_{22}\\end{matrix}\\right]$$"
       ],
       "metadata": {},
       "output_type": "pyout",
       "png": "[encoded data removed]",
       "prompt_number": 222,
       "text": [
        "\u23a1m\u2081\u2081  m\u2081\u2082\u23a4\n",
        "\u23a2        \u23a5\n",
        "\u23a3m\u2082\u2081  m\u2082\u2082\u23a6"
       ]
      }
     ],
     "prompt_number": 222
    },
    {
     "cell_type": "code",
     "collapsed": false,
     "input": [
      "b = Matrix([[b1], [b2]])\n",
      "b"
     ],
     "language": "python",
     "metadata": {
      "slideshow": {
       "slide_type": "subslide"
      }
     },
     "outputs": [
      {
       "latex": [
        "$$\\left[\\begin{matrix}b_{1}\\\\b_{2}\\end{matrix}\\right]$$"
       ],
       "metadata": {},
       "output_type": "pyout",
       "png": "[encoded data removed]",
       "prompt_number": 223,
       "text": [
        "\u23a1b\u2081\u23a4\n",
        "\u23a2  \u23a5\n",
        "\u23a3b\u2082\u23a6"
       ]
      }
     ],
     "prompt_number": 223
    },
    {
     "cell_type": "code",
     "collapsed": false,
     "input": [
      "A**2"
     ],
     "language": "python",
     "metadata": {
      "slideshow": {
       "slide_type": "fragment"
      }
     },
     "outputs": [
      {
       "latex": [
        "$$\\left[\\begin{matrix}m_{11}^{2} + m_{12} m_{21} & m_{11} m_{12} + m_{12} m_{22}\\\\m_{11} m_{21} + m_{21} m_{22} & m_{12} m_{21} + m_{22}^{2}\\end{matrix}\\right]$$"
       ],
       "metadata": {},
       "output_type": "pyout",
       "png": "[encoded data removed]",
       "prompt_number": 224,
       "text": [
        "\u23a1    2                               \u23a4\n",
        "\u23a2 m\u2081\u2081  + m\u2081\u2082\u22c5m\u2082\u2081    m\u2081\u2081\u22c5m\u2081\u2082 + m\u2081\u2082\u22c5m\u2082\u2082\u23a5\n",
        "\u23a2                                    \u23a5\n",
        "\u23a2                                 2  \u23a5\n",
        "\u23a3m\u2081\u2081\u22c5m\u2082\u2081 + m\u2082\u2081\u22c5m\u2082\u2082   m\u2081\u2082\u22c5m\u2082\u2081 + m\u2082\u2082   \u23a6"
       ]
      }
     ],
     "prompt_number": 224
    },
    {
     "cell_type": "code",
     "collapsed": false,
     "input": [
      "A * b"
     ],
     "language": "python",
     "metadata": {
      "slideshow": {
       "slide_type": "subslide"
      }
     },
     "outputs": [
      {
       "latex": [
        "$$\\left[\\begin{matrix}b_{1} m_{11} + b_{2} m_{12}\\\\b_{1} m_{21} + b_{2} m_{22}\\end{matrix}\\right]$$"
       ],
       "metadata": {},
       "output_type": "pyout",
       "png": "[encoded data removed]",
       "prompt_number": 225,
       "text": [
        "\u23a1b\u2081\u22c5m\u2081\u2081 + b\u2082\u22c5m\u2081\u2082\u23a4\n",
        "\u23a2               \u23a5\n",
        "\u23a3b\u2081\u22c5m\u2082\u2081 + b\u2082\u22c5m\u2082\u2082\u23a6"
       ]
      }
     ],
     "prompt_number": 225
    },
    {
     "cell_type": "code",
     "collapsed": false,
     "input": [
      "A.det()"
     ],
     "language": "python",
     "metadata": {
      "slideshow": {
       "slide_type": "fragment"
      }
     },
     "outputs": [
      {
       "latex": [
        "$$m_{11} m_{22} - m_{12} m_{21}$$"
       ],
       "metadata": {},
       "output_type": "pyout",
       "png": "[encoded data removed]",
       "prompt_number": 226,
       "text": [
        "m\u2081\u2081\u22c5m\u2082\u2082 - m\u2081\u2082\u22c5m\u2082\u2081"
       ]
      }
     ],
     "prompt_number": 226
    },
    {
     "cell_type": "code",
     "collapsed": false,
     "input": [
      "A.inv()"
     ],
     "language": "python",
     "metadata": {
      "slideshow": {
       "slide_type": "subslide"
      }
     },
     "outputs": [
      {
       "latex": [
        "$$\\left[\\begin{matrix}\\frac{1}{m_{11}} + \\frac{m_{12} m_{21}}{m_{11}^{2} \\left(m_{22} - \\frac{m_{12} m_{21}}{m_{11}}\\right)} & - \\frac{m_{12}}{m_{11} \\left(m_{22} - \\frac{m_{12} m_{21}}{m_{11}}\\right)}\\\\- \\frac{m_{21}}{m_{11} \\left(m_{22} - \\frac{m_{12} m_{21}}{m_{11}}\\right)} & \\frac{1}{m_{22} - \\frac{m_{12} m_{21}}{m_{11}}}\\end{matrix}\\right]$$"
       ],
       "metadata": {},
       "output_type": "pyout",
       "png": "[encoded data removed]",
       "prompt_number": 228,
       "text": [
        "\u23a1 1          m\u2081\u2082\u22c5m\u2082\u2081                -m\u2081\u2082        \u23a4\n",
        "\u23a2\u2500\u2500\u2500 + \u2500\u2500\u2500\u2500\u2500\u2500\u2500\u2500\u2500\u2500\u2500\u2500\u2500\u2500\u2500\u2500\u2500\u2500\u2500\u2500  \u2500\u2500\u2500\u2500\u2500\u2500\u2500\u2500\u2500\u2500\u2500\u2500\u2500\u2500\u2500\u2500\u2500\u2500\u2500\u23a5\n",
        "\u23a2m\u2081\u2081      2 \u239b      m\u2081\u2082\u22c5m\u2082\u2081\u239e      \u239b      m\u2081\u2082\u22c5m\u2082\u2081\u239e\u23a5\n",
        "\u23a2      m\u2081\u2081 \u22c5\u239cm\u2082\u2082 - \u2500\u2500\u2500\u2500\u2500\u2500\u2500\u239f  m\u2081\u2081\u22c5\u239cm\u2082\u2082 - \u2500\u2500\u2500\u2500\u2500\u2500\u2500\u239f\u23a5\n",
        "\u23a2           \u239d        m\u2081\u2081  \u23a0      \u239d        m\u2081\u2081  \u23a0\u23a5\n",
        "\u23a2                                               \u23a5\n",
        "\u23a2          -m\u2082\u2081                       1         \u23a5\n",
        "\u23a2   \u2500\u2500\u2500\u2500\u2500\u2500\u2500\u2500\u2500\u2500\u2500\u2500\u2500\u2500\u2500\u2500\u2500\u2500\u2500         \u2500\u2500\u2500\u2500\u2500\u2500\u2500\u2500\u2500\u2500\u2500\u2500\u2500   \u23a5\n",
        "\u23a2       \u239b      m\u2081\u2082\u22c5m\u2082\u2081\u239e               m\u2081\u2082\u22c5m\u2082\u2081   \u23a5\n",
        "\u23a2   m\u2081\u2081\u22c5\u239cm\u2082\u2082 - \u2500\u2500\u2500\u2500\u2500\u2500\u2500\u239f         m\u2082\u2082 - \u2500\u2500\u2500\u2500\u2500\u2500\u2500   \u23a5\n",
        "\u23a3       \u239d        m\u2081\u2081  \u23a0                 m\u2081\u2081     \u23a6"
       ]
      }
     ],
     "prompt_number": 228
    },
    {
     "cell_type": "markdown",
     "metadata": {
      "slideshow": {
       "slide_type": "slide"
      }
     },
     "source": [
      "## Rje\u0161avanje jednad\u017ebi"
     ]
    },
    {
     "cell_type": "code",
     "collapsed": false,
     "input": [
      "solve(x**2 - 1, x)"
     ],
     "language": "python",
     "metadata": {
      "slideshow": {
       "slide_type": "fragment"
      }
     },
     "outputs": [
      {
       "latex": [
        "$$\\begin{bmatrix}-1, & 1\\end{bmatrix}$$"
       ],
       "metadata": {},
       "output_type": "pyout",
       "png": "[encoded data removed]",
       "prompt_number": 209,
       "text": [
        "[-1, 1]"
       ]
      }
     ],
     "prompt_number": 209
    },
    {
     "cell_type": "code",
     "collapsed": false,
     "input": [
      "solve(x**4 - x**2 - 1, x)"
     ],
     "language": "python",
     "metadata": {
      "slideshow": {
       "slide_type": "fragment"
      }
     },
     "outputs": [
      {
       "latex": [
        "$$\\begin{bmatrix}- i \\sqrt{- \\frac{1}{2} + \\frac{\\sqrt{5}}{2}}, & i \\sqrt{- \\frac{1}{2} + \\frac{\\sqrt{5}}{2}}, & - \\sqrt{\\frac{1}{2} + \\frac{\\sqrt{5}}{2}}, & \\sqrt{\\frac{1}{2} + \\frac{\\sqrt{5}}{2}}\\end{bmatrix}$$"
       ],
       "metadata": {},
       "output_type": "pyout",
       "png": "[encoded data removed]",
       "prompt_number": 210,
       "text": [
        "\u23a1        _____________         _____________        ___________       ________\n",
        "\u23a2       \u2571         ___         \u2571         ___        \u2571       ___       \u2571       _\n",
        "\u23a2      \u2571    1   \u2572\u2571 5         \u2571    1   \u2572\u2571 5        \u2571  1   \u2572\u2571 5       \u2571  1   \u2572\u2571 \n",
        "\u23a2-\u2148\u22c5  \u2571   - \u2500 + \u2500\u2500\u2500\u2500\u2500 , \u2148\u22c5  \u2571   - \u2500 + \u2500\u2500\u2500\u2500\u2500 , -  \u2571   \u2500 + \u2500\u2500\u2500\u2500\u2500 ,   \u2571   \u2500 + \u2500\u2500\u2500\n",
        "\u23a3   \u2572\u2571      2     2       \u2572\u2571      2     2      \u2572\u2571    2     2     \u2572\u2571    2     2\n",
        "\n",
        "___\u23a4\n",
        "__ \u23a5\n",
        "5  \u23a5\n",
        "\u2500\u2500 \u23a5\n",
        "   \u23a6"
       ]
      }
     ],
     "prompt_number": 210
    },
    {
     "cell_type": "markdown",
     "metadata": {
      "slideshow": {
       "slide_type": "subslide"
      }
     },
     "source": [
      "Sustavi jednad\u017ebi:"
     ]
    },
    {
     "cell_type": "code",
     "collapsed": false,
     "input": [
      "solve([x + y - 1, x - y - 1], [x,y])"
     ],
     "language": "python",
     "metadata": {
      "slideshow": {
       "slide_type": "fragment"
      }
     },
     "outputs": [
      {
       "latex": [
        "$$\\begin{Bmatrix}x : 1, & y : 0\\end{Bmatrix}$$"
       ],
       "metadata": {},
       "output_type": "pyout",
       "png": "[encoded data removed]",
       "prompt_number": 211,
       "text": [
        "{x: 1, y: 0}"
       ]
      }
     ],
     "prompt_number": 211
    },
    {
     "cell_type": "code",
     "collapsed": false,
     "input": [
      "solve([x + y - a, x - y - c], [x,y])"
     ],
     "language": "python",
     "metadata": {
      "slideshow": {
       "slide_type": "fragment"
      }
     },
     "outputs": [
      {
       "latex": [
        "$$\\begin{Bmatrix}x : \\frac{\\alpha}{2} + \\frac{\\gamma}{2}, & y : \\frac{\\alpha}{2} - \\frac{\\gamma}{2}\\end{Bmatrix}$$"
       ],
       "metadata": {},
       "output_type": "pyout",
       "png": "[encoded data removed]",
       "prompt_number": 212,
       "text": [
        "\u23a7   \u03b1   \u03b3     \u03b1   \u03b3\u23ab\n",
        "\u23a8x: \u2500 + \u2500, y: \u2500 - \u2500\u23ac\n",
        "\u23a9   2   2     2   2\u23ad"
       ]
      }
     ],
     "prompt_number": 212
    },
    {
     "cell_type": "markdown",
     "metadata": {
      "slideshow": {
       "slide_type": "slide"
      }
     },
     "source": [
      "##Zadaci za vje\u017ebanje\n",
      "\n",
      "- Napi\u0161ite funkciju koja prima listu izraza, varijablu i to\u010dku, a ispisuje vrijednost svakog izraza s liste u toj to\u010dki. Funkcija treba izgledati ovako\n",
      "\n",
      "```\n",
      "def evaluiraj(izrazi, x, x0):\n",
      "\"\"\"\n",
      "Za svaki izraz iz izrazi funkcija ispisuje vrijednost izraza za x = x0\n",
      "\"\"\"\n",
      "```\n",
      "\n",
      "- Izra\u010dunajte \n",
      "$$\\frac{d}{dx}\\sin(x)e^x,\\quad\n",
      "\\frac{\\partial}{\\partial x}\\sin(xy)e^x,\\quad\n",
      "\\frac{\\partial^2}{\\partial x\\partial y}\\sin(xy)e^x.$$"
     ]
    },
    {
     "cell_type": "markdown",
     "metadata": {
      "slideshow": {
       "slide_type": "subslide"
      }
     },
     "source": [
      "- Izraz `(x**2 + 3*x + 1)/(x**3 + 2*x**2 + x)` pojednostavite do izraza `1/(x**2 + 2*x + 1) + 1/x`\n",
      "- Izraz `(a**b)**c)` pojednostavite do izraza `a**(b*c)`\n",
      "- Napi\u0161ite funkciju koja rje\u0161ava (egzaktno) kvadratnu jednad\u017ebu."
     ]
    }
   ],
   "metadata": {}
  }
 ]
}