{
 "cells": [
  {
   "cell_type": "markdown",
   "metadata": {
    "slideshow": {
     "slide_type": "slide"
    }
   },
   "source": [
    "# Julia\n",
    "Julia je novi jezik, nastao 2012. godine.\n",
    "Julia je dinamički jezik koji se može kompajlirati te dobiti vrlo dobre performanse (često u rangu C-a).\n",
    "Ima sličnosti s Pythonom, ali i s Lispom. Prvenstvena namjena mu je znanstveno računanje, ali dizajniran je tako da i u domeni nespecijaliziranih programskih jezika može naći svoje mjesto. "
   ]
  },
  {
   "cell_type": "code",
   "execution_count": 1,
   "metadata": {
    "collapsed": false,
    "slideshow": {
     "slide_type": "slide"
    }
   },
   "outputs": [
    {
     "data": {
      "text/plain": [
       "f (generic function with 1 method)"
      ]
     },
     "execution_count": 1,
     "metadata": {},
     "output_type": "execute_result"
    }
   ],
   "source": [
    "f(x, y) = 1 + 2x*y^2"
   ]
  },
  {
   "cell_type": "code",
   "execution_count": 2,
   "metadata": {
    "collapsed": false,
    "slideshow": {
     "slide_type": "fragment"
    }
   },
   "outputs": [
    {
     "data": {
      "text/plain": [
       "33"
      ]
     },
     "execution_count": 2,
     "metadata": {},
     "output_type": "execute_result"
    }
   ],
   "source": [
    "f(1,4)"
   ]
  },
  {
   "cell_type": "code",
   "execution_count": 3,
   "metadata": {
    "collapsed": false,
    "slideshow": {
     "slide_type": "slide"
    }
   },
   "outputs": [
    {
     "data": {
      "text/plain": [
       "3"
      ]
     },
     "execution_count": 3,
     "metadata": {},
     "output_type": "execute_result"
    }
   ],
   "source": [
    "α=3"
   ]
  },
  {
   "cell_type": "code",
   "execution_count": 4,
   "metadata": {
    "collapsed": false,
    "slideshow": {
     "slide_type": "fragment"
    }
   },
   "outputs": [
    {
     "name": "stdout",
     "output_type": "stream",
     "text": [
      "α=3\n"
     ]
    }
   ],
   "source": [
    "println(\"α=\", α)"
   ]
  },
  {
   "cell_type": "code",
   "execution_count": 5,
   "metadata": {
    "collapsed": false,
    "slideshow": {
     "slide_type": "fragment"
    }
   },
   "outputs": [
    {
     "name": "stdout",
     "output_type": "stream",
     "text": [
      "Sinus od 3 je 0.1411200080598672\n"
     ]
    }
   ],
   "source": [
    "μ=3\n",
    "println(\"Sinus od $μ je $(sin(μ))\")"
   ]
  },
  {
   "cell_type": "code",
   "execution_count": 6,
   "metadata": {
    "collapsed": false,
    "slideshow": {
     "slide_type": "slide"
    }
   },
   "outputs": [
    {
     "data": {
      "text/plain": [
       "-8446744073709551616"
      ]
     },
     "execution_count": 6,
     "metadata": {},
     "output_type": "execute_result"
    }
   ],
   "source": [
    "10^19"
   ]
  },
  {
   "cell_type": "code",
   "execution_count": 7,
   "metadata": {
    "collapsed": false,
    "slideshow": {
     "slide_type": "fragment"
    }
   },
   "outputs": [
    {
     "data": {
      "text/plain": [
       "10000000000000000000"
      ]
     },
     "execution_count": 7,
     "metadata": {},
     "output_type": "execute_result"
    }
   ],
   "source": [
    "BigInt(10)^19"
   ]
  },
  {
   "cell_type": "code",
   "execution_count": 8,
   "metadata": {
    "collapsed": false,
    "slideshow": {
     "slide_type": "slide"
    }
   },
   "outputs": [
    {
     "data": {
      "text/plain": [
       "3"
      ]
     },
     "execution_count": 8,
     "metadata": {},
     "output_type": "execute_result"
    }
   ],
   "source": [
    "a = int8(1)\n",
    "b = int8(2)\n",
    "a + b"
   ]
  },
  {
   "cell_type": "code",
   "execution_count": 9,
   "metadata": {
    "collapsed": false,
    "slideshow": {
     "slide_type": "fragment"
    }
   },
   "outputs": [
    {
     "data": {
      "text/plain": [
       "Int64"
      ]
     },
     "execution_count": 9,
     "metadata": {},
     "output_type": "execute_result"
    }
   ],
   "source": [
    "typeof(ans)"
   ]
  },
  {
   "cell_type": "code",
   "execution_count": 10,
   "metadata": {
    "collapsed": false,
    "slideshow": {
     "slide_type": "fragment"
    }
   },
   "outputs": [
    {
     "data": {
      "text/plain": [
       "9223372036854775807"
      ]
     },
     "execution_count": 10,
     "metadata": {},
     "output_type": "execute_result"
    }
   ],
   "source": [
    "typemax(Int64)"
   ]
  },
  {
   "cell_type": "code",
   "execution_count": 11,
   "metadata": {
    "collapsed": false,
    "slideshow": {
     "slide_type": "slide"
    }
   },
   "outputs": [
    {
     "data": {
      "text/plain": [
       "1.0 + 3.5im"
      ]
     },
     "execution_count": 11,
     "metadata": {},
     "output_type": "execute_result"
    }
   ],
   "source": [
    "c = 1+3.5im"
   ]
  },
  {
   "cell_type": "code",
   "execution_count": 12,
   "metadata": {
    "collapsed": false,
    "slideshow": {
     "slide_type": "fragment"
    }
   },
   "outputs": [
    {
     "data": {
      "text/plain": [
       "-11.25 + 7.0im"
      ]
     },
     "execution_count": 12,
     "metadata": {},
     "output_type": "execute_result"
    }
   ],
   "source": [
    "c^2"
   ]
  },
  {
   "cell_type": "code",
   "execution_count": 13,
   "metadata": {
    "collapsed": false,
    "slideshow": {
     "slide_type": "fragment"
    }
   },
   "outputs": [
    {
     "data": {
      "text/plain": [
       "(1.0,3.5)"
      ]
     },
     "execution_count": 13,
     "metadata": {},
     "output_type": "execute_result"
    }
   ],
   "source": [
    "c.re, c.im"
   ]
  },
  {
   "cell_type": "code",
   "execution_count": 14,
   "metadata": {
    "collapsed": false,
    "slideshow": {
     "slide_type": "slide"
    }
   },
   "outputs": [
    {
     "data": {
      "text/plain": [
       "3//4"
      ]
     },
     "execution_count": 14,
     "metadata": {},
     "output_type": "execute_result"
    }
   ],
   "source": [
    "3//4"
   ]
  },
  {
   "cell_type": "code",
   "execution_count": 15,
   "metadata": {
    "collapsed": false,
    "slideshow": {
     "slide_type": "fragment"
    }
   },
   "outputs": [
    {
     "data": {
      "text/plain": [
       "Rational{Int64} (constructor with 1 method)"
      ]
     },
     "execution_count": 15,
     "metadata": {},
     "output_type": "execute_result"
    }
   ],
   "source": [
    "typeof(ans)"
   ]
  },
  {
   "cell_type": "code",
   "execution_count": 16,
   "metadata": {
    "collapsed": false,
    "slideshow": {
     "slide_type": "fragment"
    }
   },
   "outputs": [
    {
     "data": {
      "text/plain": [
       "3//4"
      ]
     },
     "execution_count": 16,
     "metadata": {},
     "output_type": "execute_result"
    }
   ],
   "source": [
    "//(3, 4)"
   ]
  },
  {
   "cell_type": "code",
   "execution_count": 17,
   "metadata": {
    "collapsed": false,
    "slideshow": {
     "slide_type": "fragment"
    }
   },
   "outputs": [
    {
     "data": {
      "text/plain": [
       "// (generic function with 8 methods)"
      ]
     },
     "execution_count": 17,
     "metadata": {},
     "output_type": "execute_result"
    }
   ],
   "source": [
    "//"
   ]
  },
  {
   "cell_type": "code",
   "execution_count": 49,
   "metadata": {
    "collapsed": false,
    "slideshow": {
     "slide_type": "subslide"
    }
   },
   "outputs": [
    {
     "data": {
      "text/html": [
       "8 methods for generic function <b>//</b>:<ul><li> //(n::<b>Integer</b>,d::<b>Integer</b>) at <a href=\"https://github.com/JuliaLang/julia/tree/cb9bcae93a32b42cec02585c387396ff11836aed/base/rational.jl#L15\" target=\"_blank\">rational.jl:15</a><li> //(x::<b>Rational{T<:Integer}</b>,y::<b>Integer</b>) at <a href=\"https://github.com/JuliaLang/julia/tree/cb9bcae93a32b42cec02585c387396ff11836aed/base/rational.jl#L16\" target=\"_blank\">rational.jl:16</a><li> //(x::<b>Integer</b>,y::<b>Rational{T<:Integer}</b>) at <a href=\"https://github.com/JuliaLang/julia/tree/cb9bcae93a32b42cec02585c387396ff11836aed/base/rational.jl#L17\" target=\"_blank\">rational.jl:17</a><li> //(x::<b>Rational{T<:Integer}</b>,y::<b>Rational{T<:Integer}</b>) at <a href=\"https://github.com/JuliaLang/julia/tree/cb9bcae93a32b42cec02585c387396ff11836aed/base/rational.jl#L18\" target=\"_blank\">rational.jl:18</a><li> //(x::<b>Complex{T<:Real}</b>,y::<b>Real</b>) at <a href=\"https://github.com/JuliaLang/julia/tree/cb9bcae93a32b42cec02585c387396ff11836aed/base/rational.jl#L19\" target=\"_blank\">rational.jl:19</a><li> //(x::<b>Real</b>,y::<b>Complex{T<:Real}</b>) at <a href=\"https://github.com/JuliaLang/julia/tree/cb9bcae93a32b42cec02585c387396ff11836aed/base/rational.jl#L20\" target=\"_blank\">rational.jl:20</a><li> //(x::<b>Complex{T<:Real}</b>,y::<b>Complex{T<:Real}</b>) at <a href=\"https://github.com/JuliaLang/julia/tree/cb9bcae93a32b42cec02585c387396ff11836aed/base/rational.jl#L23\" target=\"_blank\">rational.jl:23</a><li> //(X::<b>AbstractArray{T,N}</b>,y::<b>Number</b>) at <a href=\"https://github.com/JuliaLang/julia/tree/cb9bcae93a32b42cec02585c387396ff11836aed/base/rational.jl#L28\" target=\"_blank\">rational.jl:28</a></ul>"
      ],
      "text/plain": [
       "# 8 methods for generic function \"//\":\n",
       "//(n::Integer,d::Integer) at rational.jl:15\n",
       "//(x::Rational{T<:Integer},y::Integer) at rational.jl:16\n",
       "//(x::Integer,y::Rational{T<:Integer}) at rational.jl:17\n",
       "//(x::Rational{T<:Integer},y::Rational{T<:Integer}) at rational.jl:18\n",
       "//(x::Complex{T<:Real},y::Real) at rational.jl:19\n",
       "//(x::Real,y::Complex{T<:Real}) at rational.jl:20\n",
       "//(x::Complex{T<:Real},y::Complex{T<:Real}) at rational.jl:23\n",
       "//(X::AbstractArray{T,N},y::Number) at rational.jl:28"
      ]
     },
     "execution_count": 49,
     "metadata": {},
     "output_type": "execute_result"
    }
   ],
   "source": [
    "methods(//)"
   ]
  },
  {
   "cell_type": "code",
   "execution_count": 18,
   "metadata": {
    "collapsed": false,
    "slideshow": {
     "slide_type": "slide"
    }
   },
   "outputs": [
    {
     "data": {
      "text/plain": [
       "3-element Array{Int64,1}:\n",
       " 3\n",
       " 4\n",
       " 5"
      ]
     },
     "execution_count": 18,
     "metadata": {},
     "output_type": "execute_result"
    }
   ],
   "source": [
    "l = [3, 4, 5]"
   ]
  },
  {
   "cell_type": "code",
   "execution_count": 19,
   "metadata": {
    "collapsed": false,
    "slideshow": {
     "slide_type": "fragment"
    }
   },
   "outputs": [
    {
     "data": {
      "text/plain": [
       "3"
      ]
     },
     "execution_count": 19,
     "metadata": {},
     "output_type": "execute_result"
    }
   ],
   "source": [
    "l[1]"
   ]
  },
  {
   "cell_type": "code",
   "execution_count": 20,
   "metadata": {
    "collapsed": false,
    "slideshow": {
     "slide_type": "fragment"
    }
   },
   "outputs": [
    {
     "data": {
      "text/plain": [
       "2-element Array{Int64,1}:\n",
       " 3\n",
       " 4"
      ]
     },
     "execution_count": 20,
     "metadata": {},
     "output_type": "execute_result"
    }
   ],
   "source": [
    "l[1:2]"
   ]
  },
  {
   "cell_type": "code",
   "execution_count": 21,
   "metadata": {
    "collapsed": false,
    "slideshow": {
     "slide_type": "subslide"
    }
   },
   "outputs": [
    {
     "data": {
      "text/plain": [
       "2-element Array{Int64,1}:\n",
       " 4\n",
       " 5"
      ]
     },
     "execution_count": 21,
     "metadata": {},
     "output_type": "execute_result"
    }
   ],
   "source": [
    "l[2:end]"
   ]
  },
  {
   "cell_type": "code",
   "execution_count": 22,
   "metadata": {
    "collapsed": false,
    "slideshow": {
     "slide_type": "fragment"
    }
   },
   "outputs": [
    {
     "data": {
      "text/plain": [
       "2-element Array{Int64,1}:\n",
       " 3\n",
       " 4"
      ]
     },
     "execution_count": 22,
     "metadata": {},
     "output_type": "execute_result"
    }
   ],
   "source": [
    "l[1:end-1]"
   ]
  },
  {
   "cell_type": "code",
   "execution_count": 23,
   "metadata": {
    "collapsed": false,
    "slideshow": {
     "slide_type": "slide"
    }
   },
   "outputs": [
    {
     "data": {
      "text/plain": [
       "3-element Array{Float64,1}:\n",
       " 4.4\n",
       " 5.5\n",
       " 6.6"
      ]
     },
     "execution_count": 23,
     "metadata": {},
     "output_type": "execute_result"
    }
   ],
   "source": [
    "a = [1.1, 2.2, 3.3]\n",
    "b = [4.4, 5.5, 6.6]"
   ]
  },
  {
   "cell_type": "code",
   "execution_count": 24,
   "metadata": {
    "collapsed": false,
    "slideshow": {
     "slide_type": "fragment"
    }
   },
   "outputs": [
    {
     "data": {
      "text/plain": [
       "38.72"
      ]
     },
     "execution_count": 24,
     "metadata": {},
     "output_type": "execute_result"
    }
   ],
   "source": [
    "dot(a,b)"
   ]
  },
  {
   "cell_type": "code",
   "execution_count": 25,
   "metadata": {
    "collapsed": false,
    "slideshow": {
     "slide_type": "fragment"
    }
   },
   "outputs": [
    {
     "ename": "LoadError",
     "evalue": "`*` has no method matching *(::Array{Float64,1}, ::Array{Float64,1})\nwhile loading In[25], in expression starting on line 1",
     "output_type": "error",
     "traceback": [
      "`*` has no method matching *(::Array{Float64,1}, ::Array{Float64,1})\nwhile loading In[25], in expression starting on line 1",
      ""
     ]
    }
   ],
   "source": [
    "a*b"
   ]
  },
  {
   "cell_type": "code",
   "execution_count": 26,
   "metadata": {
    "collapsed": false,
    "slideshow": {
     "slide_type": "subslide"
    }
   },
   "outputs": [
    {
     "data": {
      "text/plain": [
       "3-element Array{Float64,1}:\n",
       "  4.84\n",
       " 12.1 \n",
       " 21.78"
      ]
     },
     "execution_count": 26,
     "metadata": {},
     "output_type": "execute_result"
    }
   ],
   "source": [
    "a.*b"
   ]
  },
  {
   "cell_type": "code",
   "execution_count": 27,
   "metadata": {
    "collapsed": false,
    "slideshow": {
     "slide_type": "fragment"
    }
   },
   "outputs": [
    {
     "data": {
      "text/plain": [
       "4.115823125451335"
      ]
     },
     "execution_count": 27,
     "metadata": {},
     "output_type": "execute_result"
    }
   ],
   "source": [
    "norm(a)"
   ]
  },
  {
   "cell_type": "code",
   "execution_count": 28,
   "metadata": {
    "collapsed": false,
    "slideshow": {
     "slide_type": "subslide"
    }
   },
   "outputs": [
    {
     "data": {
      "text/plain": [
       "38.72"
      ]
     },
     "execution_count": 28,
     "metadata": {},
     "output_type": "execute_result"
    }
   ],
   "source": [
    "a⋅b"
   ]
  },
  {
   "cell_type": "code",
   "execution_count": 29,
   "metadata": {
    "collapsed": false,
    "slideshow": {
     "slide_type": "fragment"
    }
   },
   "outputs": [
    {
     "data": {
      "text/plain": [
       "3-element Array{Float64,1}:\n",
       " -3.63\n",
       "  7.26\n",
       " -3.63"
      ]
     },
     "execution_count": 29,
     "metadata": {},
     "output_type": "execute_result"
    }
   ],
   "source": [
    "a×b"
   ]
  },
  {
   "cell_type": "code",
   "execution_count": 30,
   "metadata": {
    "collapsed": false,
    "slideshow": {
     "slide_type": "slide"
    }
   },
   "outputs": [
    {
     "data": {
      "text/plain": [
       "norm (generic function with 15 methods)"
      ]
     },
     "execution_count": 30,
     "metadata": {},
     "output_type": "execute_result"
    }
   ],
   "source": [
    "Ψ = norm"
   ]
  },
  {
   "cell_type": "code",
   "execution_count": 31,
   "metadata": {
    "collapsed": false,
    "slideshow": {
     "slide_type": "fragment"
    }
   },
   "outputs": [
    {
     "data": {
      "text/plain": [
       "4.115823125451335"
      ]
     },
     "execution_count": 31,
     "metadata": {},
     "output_type": "execute_result"
    }
   ],
   "source": [
    "Ψ(a)"
   ]
  },
  {
   "cell_type": "code",
   "execution_count": 32,
   "metadata": {
    "collapsed": false,
    "slideshow": {
     "slide_type": "slide"
    }
   },
   "outputs": [
    {
     "name": "stderr",
     "output_type": "stream",
     "text": [
      "INFO: Loading help data...\n"
     ]
    },
    {
     "name": "stdout",
     "output_type": "stream",
     "text": [
      "Base.norm(A[, p])\n",
      "\n",
      "   Compute the \"p\"-norm of a vector or the operator norm of a matrix\n",
      "   \"A\", defaulting to the \"p=2\"-norm.\n",
      "\n",
      "   For vectors, \"p\" can assume any numeric value (even though not\n",
      "   all values produce a mathematically valid vector norm). In\n",
      "   particular, \"norm(A, Inf)\" returns the largest value in\n",
      "   \"abs(A)\", whereas \"norm(A, -Inf)\" returns the smallest.\n",
      "\n",
      "   For matrices, valid values of \"p\" are \"1\", \"2\", or \"Inf\".\n",
      "   (Note that for sparse matrices, \"p=2\" is currently not\n",
      "   implemented.) Use \"vecnorm()\" to compute the Frobenius norm.\n"
     ]
    }
   ],
   "source": [
    "help(\"norm\")"
   ]
  },
  {
   "cell_type": "code",
   "execution_count": 33,
   "metadata": {
    "collapsed": false,
    "slideshow": {
     "slide_type": "slide"
    }
   },
   "outputs": [
    {
     "name": "stdout",
     "output_type": "stream",
     "text": [
      "Suma je 55\n"
     ]
    }
   ],
   "source": [
    "suma = 0\n",
    "for i = 1:10\n",
    "    suma += i\n",
    "end\n",
    "println(\"Suma je $suma\")"
   ]
  },
  {
   "cell_type": "code",
   "execution_count": 34,
   "metadata": {
    "collapsed": false,
    "slideshow": {
     "slide_type": "slide"
    }
   },
   "outputs": [
    {
     "data": {
      "text/plain": [
       "6-element Array{Any,1}:\n",
       "  1\n",
       "  9\n",
       " 25\n",
       " 49\n",
       " 81\n",
       " 49"
      ]
     },
     "execution_count": 34,
     "metadata": {},
     "output_type": "execute_result"
    }
   ],
   "source": [
    "kvadrati = [i^2 for i in [1:2:10, 7]]"
   ]
  },
  {
   "cell_type": "code",
   "execution_count": 35,
   "metadata": {
    "collapsed": false,
    "slideshow": {
     "slide_type": "slide"
    }
   },
   "outputs": [
    {
     "data": {
      "text/plain": [
       "2x2 Array{Int64,2}:\n",
       " 2  1\n",
       " 1  1"
      ]
     },
     "execution_count": 35,
     "metadata": {},
     "output_type": "execute_result"
    }
   ],
   "source": [
    "M = [2 1; 1 1]"
   ]
  },
  {
   "cell_type": "code",
   "execution_count": 36,
   "metadata": {
    "collapsed": false,
    "slideshow": {
     "slide_type": "fragment"
    }
   },
   "outputs": [
    {
     "data": {
      "text/plain": [
       "2-element Array{Int64,1}:\n",
       " 2\n",
       " 1"
      ]
     },
     "execution_count": 36,
     "metadata": {},
     "output_type": "execute_result"
    }
   ],
   "source": [
    "M[:,1]"
   ]
  },
  {
   "cell_type": "code",
   "execution_count": 37,
   "metadata": {
    "collapsed": false,
    "slideshow": {
     "slide_type": "subslide"
    }
   },
   "outputs": [
    {
     "data": {
      "text/plain": [
       "0.72322178614349"
      ]
     },
     "execution_count": 37,
     "metadata": {},
     "output_type": "execute_result"
    }
   ],
   "source": [
    "rand()"
   ]
  },
  {
   "cell_type": "code",
   "execution_count": 38,
   "metadata": {
    "collapsed": false,
    "slideshow": {
     "slide_type": "fragment"
    }
   },
   "outputs": [
    {
     "data": {
      "text/plain": [
       "2-element Array{Int64,1}:\n",
       " 1\n",
       " 2"
      ]
     },
     "execution_count": 38,
     "metadata": {},
     "output_type": "execute_result"
    }
   ],
   "source": [
    "v = [1, 2]"
   ]
  },
  {
   "cell_type": "code",
   "execution_count": 39,
   "metadata": {
    "collapsed": false,
    "slideshow": {
     "slide_type": "subslide"
    }
   },
   "outputs": [
    {
     "data": {
      "text/plain": [
       "2-element Array{Int64,1}:\n",
       " 4\n",
       " 3"
      ]
     },
     "execution_count": 39,
     "metadata": {},
     "output_type": "execute_result"
    }
   ],
   "source": [
    "M*v"
   ]
  },
  {
   "cell_type": "code",
   "execution_count": 40,
   "metadata": {
    "collapsed": false,
    "slideshow": {
     "slide_type": "subslide"
    }
   },
   "outputs": [
    {
     "data": {
      "text/plain": [
       "5"
      ]
     },
     "execution_count": 40,
     "metadata": {},
     "output_type": "execute_result"
    }
   ],
   "source": [
    "dot(v,v)"
   ]
  },
  {
   "cell_type": "code",
   "execution_count": 41,
   "metadata": {
    "collapsed": false,
    "slideshow": {
     "slide_type": "subslide"
    }
   },
   "outputs": [
    {
     "data": {
      "text/plain": [
       "100x100 Array{Float64,2}:\n",
       " 0.498759   0.274196   0.589413   …  0.153458   0.619451    0.27949  \n",
       " 0.719717   0.826101   0.427449      0.0244593  0.287578    0.803427 \n",
       " 0.46495    0.666569   0.445141      0.394023   0.552363    0.845297 \n",
       " 0.62161    0.546013   0.053935      0.0037514  0.839461    0.0261154\n",
       " 0.679678   0.233125   0.926472      0.702835   0.723128    0.33435  \n",
       " 0.871057   0.454973   0.973416   …  0.542395   0.195786    0.326218 \n",
       " 0.772791   0.595738   0.165141      0.973998   0.93593     0.468537 \n",
       " 0.190604   0.659578   0.347895      0.401351   0.00163175  0.168997 \n",
       " 0.402977   0.633266   0.407776      0.0575996  0.0180004   0.984783 \n",
       " 0.799693   0.217843   0.547923      0.838008   0.807401    0.584833 \n",
       " 0.10244    0.713315   0.366207   …  0.147993   0.942292    0.424088 \n",
       " 0.720196   0.798814   0.0063958     0.462493   0.398022    0.169792 \n",
       " 0.709976   0.182717   0.89811       0.697845   0.0861736   0.91016  \n",
       " ⋮                                ⋱                                  \n",
       " 0.615244   0.45939    0.43621       0.409139   0.341898    0.851863 \n",
       " 0.344895   0.177248   0.0667519     0.362256   0.718962    0.218053 \n",
       " 0.669554   0.406999   0.446691   …  0.464869   0.567327    0.905654 \n",
       " 0.0423579  0.110037   0.0740047     0.257069   0.945204    0.419148 \n",
       " 0.230494   0.783674   0.331423      0.135564   0.357581    0.191223 \n",
       " 0.671712   0.0570886  0.243782      0.102181   0.731265    0.60933  \n",
       " 0.250782   0.36427    0.535552      0.110384   0.94387     0.622238 \n",
       " 0.872399   0.663241   0.020523   …  0.505353   0.0952803   0.334245 \n",
       " 0.197847   0.126436   0.49971       0.498747   0.0570641   0.396144 \n",
       " 0.298556   0.975028   0.768644      0.633898   0.174557    0.0114129\n",
       " 0.313028   0.402161   0.53713       0.213563   0.368242    0.533381 \n",
       " 0.908659   0.597903   0.664473      0.074661   0.439573    0.423343 "
      ]
     },
     "execution_count": 41,
     "metadata": {},
     "output_type": "execute_result"
    }
   ],
   "source": [
    "M = rand(100, 100)"
   ]
  },
  {
   "cell_type": "code",
   "execution_count": 42,
   "metadata": {
    "collapsed": false,
    "slideshow": {
     "slide_type": "subslide"
    }
   },
   "outputs": [
    {
     "data": {
      "text/plain": [
       "(Complex{Float64}[49.701+0.0im,-0.859719+2.80618im,-0.859719-2.80618im,-2.74915+1.03178im,-2.74915-1.03178im,0.121286+2.73719im,0.121286-2.73719im,2.85713+0.0im,-1.96124+1.74568im,-1.96124-1.74568im  …  0.58345+0.701612im,0.58345-0.701612im,-0.296554+0.669892im,-0.296554-0.669892im,0.152363+0.766425im,0.152363-0.766425im,0.7291+0.0im,-0.231498+0.429732im,-0.231498-0.429732im,-0.21801+0.0im],\n",
       "100x100 Array{Complex{Float64},2}:\n",
       " -0.0958905+0.0im   -0.011006+0.000879971im  …    0.0822483+0.0im\n",
       " -0.0915043+0.0im    0.126051-0.0153475im         0.0121654+0.0im\n",
       "  -0.100584+0.0im  -0.0468398+0.00335504im      -0.00861666+0.0im\n",
       "  -0.103628+0.0im   -0.132166+0.0516289im           0.13413+0.0im\n",
       "  -0.107549+0.0im  -0.0368467+0.0924351im          0.106635+0.0im\n",
       "  -0.110298+0.0im   0.0220754+0.031356im     …    0.0742793+0.0im\n",
       "  -0.100696+0.0im    0.160927-0.0321456im         0.0851815+0.0im\n",
       " -0.0999685+0.0im  -0.0386907-0.000216099im       -0.106434+0.0im\n",
       " -0.0948583+0.0im  -0.0944342-0.0178288im         0.0977924+0.0im\n",
       "  -0.107821+0.0im   0.0384104-0.00595665im        0.0622934+0.0im\n",
       "  -0.102495+0.0im  -0.0170681-0.0270224im    …     0.101523+0.0im\n",
       " -0.0964083+0.0im  -0.0362044-0.131024im         -0.0357241+0.0im\n",
       "  -0.100657+0.0im   0.0145569+0.0837791im         -0.172518+0.0im\n",
       "           ⋮                                 ⋱                   \n",
       "  -0.100163+0.0im  -0.0215136-0.0278235im         -0.118032+0.0im\n",
       "  -0.098626+0.0im   0.0595757-0.0684264im         0.0620999+0.0im\n",
       "  -0.105003+0.0im  -0.0309406-0.0247656im    …   -0.0269955+0.0im\n",
       " -0.0815514+0.0im  -0.0206278+0.0579197im          0.240139+0.0im\n",
       "  -0.104804+0.0im   0.0127117-0.098399im          0.0980373+0.0im\n",
       " -0.0934077+0.0im  -0.0609865+0.0470559im        -0.0476011+0.0im\n",
       " -0.0993604+0.0im   0.0923321-0.0284961im          0.184045+0.0im\n",
       " -0.0885486+0.0im   0.0119031-0.0218686im    …    0.0056021+0.0im\n",
       " -0.0928038+0.0im  0.00226051+0.136121im           0.117784+0.0im\n",
       "   -0.10732+0.0im   0.0691847-0.0166997im         0.0796547+0.0im\n",
       "  -0.103768+0.0im   0.0399378-0.0191867im         0.0927157+0.0im\n",
       "  -0.092657+0.0im   -0.107977+0.0241075im        -0.0863977+0.0im)"
      ]
     },
     "execution_count": 42,
     "metadata": {},
     "output_type": "execute_result"
    }
   ],
   "source": [
    "@time lamb, vv = eig(M)"
   ]
  },
  {
   "cell_type": "code",
   "execution_count": 43,
   "metadata": {
    "collapsed": false,
    "slideshow": {
     "slide_type": "subslide"
    }
   },
   "outputs": [
    {
     "data": {
      "text/plain": [
       "(\n",
       "100x100 Array{Float64,2}:\n",
       " 1.0        0.0           0.0        …   0.0        0.0        0.0\n",
       " 0.136277   1.0           0.0            0.0        0.0        0.0\n",
       " 0.225522  -0.0173393     1.0            0.0        0.0        0.0\n",
       " 0.998833  -0.246152     -0.362372       0.0        0.0        0.0\n",
       " 0.566393   0.841798      0.358908       0.0        0.0        0.0\n",
       " 0.394518   0.0838154     0.147972   …   0.0        0.0        0.0\n",
       " 0.942467   0.794178     -0.757383       0.0        0.0        0.0\n",
       " 0.333998   0.91536       0.478842       0.0        0.0        0.0\n",
       " 0.978236   0.111627     -0.582108       0.0        0.0        0.0\n",
       " 0.118411   0.780802     -0.0447548      0.0        0.0        0.0\n",
       " 0.777376   0.431475     -0.60648    …   0.0        0.0        0.0\n",
       " 0.920449   0.729353     -0.852392       0.0        0.0        0.0\n",
       " 0.941963   0.781237     -0.166392       0.0        0.0        0.0\n",
       " ⋮                                   ⋱                            \n",
       " 0.683711   0.0733574     0.523892       0.0        0.0        0.0\n",
       " 0.254811   0.872667      0.550927       0.0        0.0        0.0\n",
       " 0.655933   0.396443     -0.377345   …   0.0        0.0        0.0\n",
       " 0.25227    0.319956      0.316751       0.0        0.0        0.0\n",
       " 0.432402   0.806865     -0.132099       0.0        0.0        0.0\n",
       " 0.199021   0.0830108     0.406716       0.0        0.0        0.0\n",
       " 0.405368   0.564579     -0.0560564      0.0        0.0        0.0\n",
       " 0.450517   0.428089     -0.419781   …   0.0        0.0        0.0\n",
       " 0.659957  -0.000294676   0.341597       0.0        0.0        0.0\n",
       " 0.849397   0.556299     -0.201348       1.0        0.0        0.0\n",
       " 0.673526   0.258939     -0.116093      -0.519574   1.0        0.0\n",
       " 0.310713   0.0181021     0.572865      -0.894581  -0.0572717  1.0,\n",
       "\n",
       "100x100 Array{Float64,2}:\n",
       " 0.994103  0.239039  0.686234  0.220825   …   0.570739    0.626982   \n",
       " 0.0       0.950031  0.31188   0.835595       0.164962    0.405559   \n",
       " 0.0       0.0       0.829193  0.0285939      0.74626     0.727818   \n",
       " 0.0       0.0       0.0       0.947932       0.434867   -0.0582917  \n",
       " 0.0       0.0       0.0       0.0           -0.120997   -0.852354   \n",
       " 0.0       0.0       0.0       0.0        …   0.168246    0.315832   \n",
       " 0.0       0.0       0.0       0.0            0.669836   -0.165595   \n",
       " 0.0       0.0       0.0       0.0           -0.339522   -0.616752   \n",
       " 0.0       0.0       0.0       0.0           -0.0101286   0.000862391\n",
       " 0.0       0.0       0.0       0.0            0.445422   -0.567412   \n",
       " 0.0       0.0       0.0       0.0        …   0.48532    -0.326192   \n",
       " 0.0       0.0       0.0       0.0           -0.330502    1.17027    \n",
       " 0.0       0.0       0.0       0.0            0.0238236  -0.245821   \n",
       " ⋮                                        ⋱                          \n",
       " 0.0       0.0       0.0       0.0            0.948863   -0.247675   \n",
       " 0.0       0.0       0.0       0.0           -0.153795   -0.465628   \n",
       " 0.0       0.0       0.0       0.0        …  -0.884778   -1.00402    \n",
       " 0.0       0.0       0.0       0.0            0.435106   -0.216735   \n",
       " 0.0       0.0       0.0       0.0            0.898156    1.79335    \n",
       " 0.0       0.0       0.0       0.0            0.265741   -0.860682   \n",
       " 0.0       0.0       0.0       0.0            0.408385    2.50701    \n",
       " 0.0       0.0       0.0       0.0        …  -0.301755   -1.41285    \n",
       " 0.0       0.0       0.0       0.0            0.140251   -3.9898     \n",
       " 0.0       0.0       0.0       0.0           -0.0454323   1.7795     \n",
       " 0.0       0.0       0.0       0.0           -1.36073    -1.40147    \n",
       " 0.0       0.0       0.0       0.0            0.0         1.78561    ,\n",
       "\n",
       "Int32[37,21,54,55,34,56,15,78,79,80  …  57,95,51,97,9,87,44,46,91,83])"
      ]
     },
     "execution_count": 43,
     "metadata": {},
     "output_type": "execute_result"
    }
   ],
   "source": [
    "lu(M)"
   ]
  },
  {
   "cell_type": "code",
   "execution_count": 44,
   "metadata": {
    "collapsed": false,
    "slideshow": {
     "slide_type": "subslide"
    }
   },
   "outputs": [
    {
     "data": {
      "text/plain": [
       "49.85545691676682"
      ]
     },
     "execution_count": 44,
     "metadata": {},
     "output_type": "execute_result"
    }
   ],
   "source": [
    "norm(M)"
   ]
  },
  {
   "cell_type": "code",
   "execution_count": 45,
   "metadata": {
    "collapsed": false,
    "slideshow": {
     "slide_type": "slide"
    }
   },
   "outputs": [
    {
     "data": {
      "text/plain": [
       "normakvadrata (generic function with 1 method)"
      ]
     },
     "execution_count": 45,
     "metadata": {},
     "output_type": "execute_result"
    }
   ],
   "source": [
    "function normakvadrata(M)\n",
    "    norm(M^2)\n",
    "end"
   ]
  },
  {
   "cell_type": "code",
   "execution_count": 46,
   "metadata": {
    "collapsed": false,
    "slideshow": {
     "slide_type": "fragment"
    }
   },
   "outputs": [
    {
     "data": {
      "text/plain": [
       "2478.0012881396424"
      ]
     },
     "execution_count": 46,
     "metadata": {},
     "output_type": "execute_result"
    }
   ],
   "source": [
    "normakvadrata(M)"
   ]
  },
  {
   "cell_type": "code",
   "execution_count": 55,
   "metadata": {
    "collapsed": false,
    "slideshow": {
     "slide_type": "slide"
    }
   },
   "outputs": [
    {
     "data": {
      "text/plain": [
       "+ (generic function with 143 methods)"
      ]
     },
     "execution_count": 55,
     "metadata": {},
     "output_type": "execute_result"
    }
   ],
   "source": [
    "+(s1::String, s2::String) = string(s1, s2)"
   ]
  },
  {
   "cell_type": "code",
   "execution_count": 56,
   "metadata": {
    "collapsed": false,
    "slideshow": {
     "slide_type": "fragment"
    }
   },
   "outputs": [
    {
     "data": {
      "text/plain": [
       "\"Prvi drugi\""
      ]
     },
     "execution_count": 56,
     "metadata": {},
     "output_type": "execute_result"
    }
   ],
   "source": [
    "\"Prvi\" + \" drugi\""
   ]
  },
  {
   "cell_type": "code",
   "execution_count": 57,
   "metadata": {
    "collapsed": false,
    "slideshow": {
     "slide_type": "fragment"
    }
   },
   "outputs": [
    {
     "ename": "LoadError",
     "evalue": "`+` has no method matching +(::ASCIIString, ::Int64)\nwhile loading In[57], in expression starting on line 1",
     "output_type": "error",
     "traceback": [
      "`+` has no method matching +(::ASCIIString, ::Int64)\nwhile loading In[57], in expression starting on line 1",
      ""
     ]
    }
   ],
   "source": [
    "\"Vrijednost od x je \" + 3"
   ]
  },
  {
   "cell_type": "code",
   "execution_count": 58,
   "metadata": {
    "collapsed": false,
    "slideshow": {
     "slide_type": "subslide"
    }
   },
   "outputs": [
    {
     "data": {
      "text/plain": [
       "+ (generic function with 144 methods)"
      ]
     },
     "execution_count": 58,
     "metadata": {},
     "output_type": "execute_result"
    }
   ],
   "source": [
    "+(s::String, x::Number) = s + \"$(2x)\""
   ]
  },
  {
   "cell_type": "code",
   "execution_count": 59,
   "metadata": {
    "collapsed": false,
    "slideshow": {
     "slide_type": "fragment"
    }
   },
   "outputs": [
    {
     "data": {
      "text/plain": [
       "\"Vrijednost od x je 6\""
      ]
     },
     "execution_count": 59,
     "metadata": {},
     "output_type": "execute_result"
    }
   ],
   "source": [
    "\"Vrijednost od x je \" + 3"
   ]
  },
  {
   "cell_type": "code",
   "execution_count": 60,
   "metadata": {
    "collapsed": true,
    "slideshow": {
     "slide_type": "slide"
    }
   },
   "outputs": [],
   "source": [
    "immutable Vector2D\n",
    "    x::Float64\n",
    "    y::Float64\n",
    "end"
   ]
  },
  {
   "cell_type": "code",
   "execution_count": 61,
   "metadata": {
    "collapsed": false,
    "slideshow": {
     "slide_type": "fragment"
    }
   },
   "outputs": [],
   "source": [
    "v = Vector2D(3, 4);\n",
    "w = Vector2D(5, 6);"
   ]
  },
  {
   "cell_type": "code",
   "execution_count": 62,
   "metadata": {
    "collapsed": false,
    "slideshow": {
     "slide_type": "fragment"
    }
   },
   "outputs": [
    {
     "ename": "LoadError",
     "evalue": "`+` has no method matching +(::Vector2D, ::Vector2D)\nwhile loading In[62], in expression starting on line 1",
     "output_type": "error",
     "traceback": [
      "`+` has no method matching +(::Vector2D, ::Vector2D)\nwhile loading In[62], in expression starting on line 1",
      ""
     ]
    }
   ],
   "source": [
    "v + w"
   ]
  },
  {
   "cell_type": "code",
   "execution_count": 63,
   "metadata": {
    "collapsed": false,
    "slideshow": {
     "slide_type": "subslide"
    }
   },
   "outputs": [
    {
     "data": {
      "text/plain": [
       "+ (generic function with 145 methods)"
      ]
     },
     "execution_count": 63,
     "metadata": {},
     "output_type": "execute_result"
    }
   ],
   "source": [
    "+(v::Vector2D, w::Vector2D) = Vector2D(v.x+w.x, v.y+w.y)"
   ]
  },
  {
   "cell_type": "code",
   "execution_count": 64,
   "metadata": {
    "collapsed": false,
    "slideshow": {
     "slide_type": "fragment"
    }
   },
   "outputs": [
    {
     "data": {
      "text/plain": [
       "Vector2D(8.0,10.0)"
      ]
     },
     "execution_count": 64,
     "metadata": {},
     "output_type": "execute_result"
    }
   ],
   "source": [
    "v+w"
   ]
  },
  {
   "cell_type": "code",
   "execution_count": 65,
   "metadata": {
    "collapsed": false,
    "slideshow": {
     "slide_type": "fragment"
    }
   },
   "outputs": [
    {
     "data": {
      "text/plain": [
       "* (generic function with 127 methods)"
      ]
     },
     "execution_count": 65,
     "metadata": {},
     "output_type": "execute_result"
    }
   ],
   "source": [
    "*(v::Vector2D, α::Number) = Vector2D(v.x*α, v.y*α)\n",
    "*(α::Number, v::Vector2D) = Vector2D(v.x*α, v.y*α)"
   ]
  },
  {
   "cell_type": "code",
   "execution_count": 66,
   "metadata": {
    "collapsed": false,
    "slideshow": {
     "slide_type": "fragment"
    }
   },
   "outputs": [
    {
     "data": {
      "text/plain": [
       "Vector2D(10.5,14.0)"
      ]
     },
     "execution_count": 66,
     "metadata": {},
     "output_type": "execute_result"
    }
   ],
   "source": [
    "v * 3.5"
   ]
  },
  {
   "cell_type": "code",
   "execution_count": 67,
   "metadata": {
    "collapsed": false,
    "slideshow": {
     "slide_type": "fragment"
    }
   },
   "outputs": [
    {
     "data": {
      "text/plain": [
       "Vector2D(10.5,14.0)"
      ]
     },
     "execution_count": 67,
     "metadata": {},
     "output_type": "execute_result"
    }
   ],
   "source": [
    "3.5 * v"
   ]
  },
  {
   "cell_type": "code",
   "execution_count": 68,
   "metadata": {
    "collapsed": false,
    "slideshow": {
     "slide_type": "subslide"
    }
   },
   "outputs": [
    {
     "data": {
      "text/html": [
       "145 methods for generic function <b>+</b>:<ul><li> +(x::<b>Bool</b>) at <a href=\"https://github.com/JuliaLang/julia/tree/cb9bcae93a32b42cec02585c387396ff11836aed/base/bool.jl#L36\" target=\"_blank\">bool.jl:36</a><li> +(x::<b>Bool</b>,y::<b>Bool</b>) at <a href=\"https://github.com/JuliaLang/julia/tree/cb9bcae93a32b42cec02585c387396ff11836aed/base/bool.jl#L39\" target=\"_blank\">bool.jl:39</a><li> +(y::<b>FloatingPoint</b>,x::<b>Bool</b>) at <a href=\"https://github.com/JuliaLang/julia/tree/cb9bcae93a32b42cec02585c387396ff11836aed/base/bool.jl#L49\" target=\"_blank\">bool.jl:49</a><li> +(A::<b>BitArray{N}</b>,B::<b>BitArray{N}</b>) at <a href=\"https://github.com/JuliaLang/julia/tree/cb9bcae93a32b42cec02585c387396ff11836aed/base/bitarray.jl#L848\" target=\"_blank\">bitarray.jl:848</a><li> +(A::<b>Union(DenseArray{Bool,N},SubArray{Bool,N,A<:DenseArray{T,N},I<:(Union(Int64,Range{Int64})...,)})</b>,B::<b>Union(DenseArray{Bool,N},SubArray{Bool,N,A<:DenseArray{T,N},I<:(Union(Int64,Range{Int64})...,)})</b>) at <a href=\"https://github.com/JuliaLang/julia/tree/cb9bcae93a32b42cec02585c387396ff11836aed/base/array.jl#L801\" target=\"_blank\">array.jl:801</a><li> +<i>{S,T}</i>(A::<b>Union(SubArray{S,N,A<:DenseArray{T,N},I<:(Union(Int64,Range{Int64})...,)},DenseArray{S,N})</b>,B::<b>Union(DenseArray{T,N},SubArray{T,N,A<:DenseArray{T,N},I<:(Union(Int64,Range{Int64})...,)})</b>) at <a href=\"https://github.com/JuliaLang/julia/tree/cb9bcae93a32b42cec02585c387396ff11836aed/base/array.jl#L723\" target=\"_blank\">array.jl:723</a><li> +<i>{T<:Union(Int32,Int16,Int8)}</i>(x::<b>T<:Union(Int32,Int16,Int8)</b>,y::<b>T<:Union(Int32,Int16,Int8)</b>) at <a href=\"https://github.com/JuliaLang/julia/tree/cb9bcae93a32b42cec02585c387396ff11836aed/base/int.jl#L16\" target=\"_blank\">int.jl:16</a><li> +<i>{T<:Union(Uint16,Uint32,Uint8)}</i>(x::<b>T<:Union(Uint16,Uint32,Uint8)</b>,y::<b>T<:Union(Uint16,Uint32,Uint8)</b>) at <a href=\"https://github.com/JuliaLang/julia/tree/cb9bcae93a32b42cec02585c387396ff11836aed/base/int.jl#L20\" target=\"_blank\">int.jl:20</a><li> +(x::<b>Int64</b>,y::<b>Int64</b>) at <a href=\"https://github.com/JuliaLang/julia/tree/cb9bcae93a32b42cec02585c387396ff11836aed/base/int.jl#L33\" target=\"_blank\">int.jl:33</a><li> +(x::<b>Uint64</b>,y::<b>Uint64</b>) at <a href=\"https://github.com/JuliaLang/julia/tree/cb9bcae93a32b42cec02585c387396ff11836aed/base/int.jl#L34\" target=\"_blank\">int.jl:34</a><li> +(x::<b>Int128</b>,y::<b>Int128</b>) at <a href=\"https://github.com/JuliaLang/julia/tree/cb9bcae93a32b42cec02585c387396ff11836aed/base/int.jl#L35\" target=\"_blank\">int.jl:35</a><li> +(x::<b>Uint128</b>,y::<b>Uint128</b>) at <a href=\"https://github.com/JuliaLang/julia/tree/cb9bcae93a32b42cec02585c387396ff11836aed/base/int.jl#L36\" target=\"_blank\">int.jl:36</a><li> +(x::<b>Float32</b>,y::<b>Float32</b>) at <a href=\"https://github.com/JuliaLang/julia/tree/cb9bcae93a32b42cec02585c387396ff11836aed/base/float.jl#L119\" target=\"_blank\">float.jl:119</a><li> +(x::<b>Float64</b>,y::<b>Float64</b>) at <a href=\"https://github.com/JuliaLang/julia/tree/cb9bcae93a32b42cec02585c387396ff11836aed/base/float.jl#L120\" target=\"_blank\">float.jl:120</a><li> +(z::<b>Complex{T<:Real}</b>,w::<b>Complex{T<:Real}</b>) at <a href=\"https://github.com/JuliaLang/julia/tree/cb9bcae93a32b42cec02585c387396ff11836aed/base/complex.jl#L110\" target=\"_blank\">complex.jl:110</a><li> +(x::<b>Real</b>,z::<b>Complex{T<:Real}</b>) at <a href=\"https://github.com/JuliaLang/julia/tree/cb9bcae93a32b42cec02585c387396ff11836aed/base/complex.jl#L120\" target=\"_blank\">complex.jl:120</a><li> +(z::<b>Complex{T<:Real}</b>,x::<b>Real</b>) at <a href=\"https://github.com/JuliaLang/julia/tree/cb9bcae93a32b42cec02585c387396ff11836aed/base/complex.jl#L121\" target=\"_blank\">complex.jl:121</a><li> +(x::<b>Rational{T<:Integer}</b>,y::<b>Rational{T<:Integer}</b>) at <a href=\"https://github.com/JuliaLang/julia/tree/cb9bcae93a32b42cec02585c387396ff11836aed/base/rational.jl#L113\" target=\"_blank\">rational.jl:113</a><li> +(x::<b>Char</b>,y::<b>Char</b>) at <a href=\"https://github.com/JuliaLang/julia/tree/cb9bcae93a32b42cec02585c387396ff11836aed/base/char.jl#L23\" target=\"_blank\">char.jl:23</a><li> +(x::<b>Char</b>,y::<b>Integer</b>) at <a href=\"https://github.com/JuliaLang/julia/tree/cb9bcae93a32b42cec02585c387396ff11836aed/base/char.jl#L26\" target=\"_blank\">char.jl:26</a><li> +(x::<b>Integer</b>,y::<b>Char</b>) at <a href=\"https://github.com/JuliaLang/julia/tree/cb9bcae93a32b42cec02585c387396ff11836aed/base/char.jl#L27\" target=\"_blank\">char.jl:27</a><li> +(a::<b>Float16</b>,b::<b>Float16</b>) at <a href=\"https://github.com/JuliaLang/julia/tree/cb9bcae93a32b42cec02585c387396ff11836aed/base/float16.jl#L132\" target=\"_blank\">float16.jl:132</a><li> +(x::<b>BigInt</b>,y::<b>BigInt</b>) at <a href=\"https://github.com/JuliaLang/julia/tree/cb9bcae93a32b42cec02585c387396ff11836aed/base/gmp.jl#L195\" target=\"_blank\">gmp.jl:195</a><li> +(a::<b>BigInt</b>,b::<b>BigInt</b>,c::<b>BigInt</b>) at <a href=\"https://github.com/JuliaLang/julia/tree/cb9bcae93a32b42cec02585c387396ff11836aed/base/gmp.jl#L218\" target=\"_blank\">gmp.jl:218</a><li> +(a::<b>BigInt</b>,b::<b>BigInt</b>,c::<b>BigInt</b>,d::<b>BigInt</b>) at <a href=\"https://github.com/JuliaLang/julia/tree/cb9bcae93a32b42cec02585c387396ff11836aed/base/gmp.jl#L224\" target=\"_blank\">gmp.jl:224</a><li> +(a::<b>BigInt</b>,b::<b>BigInt</b>,c::<b>BigInt</b>,d::<b>BigInt</b>,e::<b>BigInt</b>) at <a href=\"https://github.com/JuliaLang/julia/tree/cb9bcae93a32b42cec02585c387396ff11836aed/base/gmp.jl#L231\" target=\"_blank\">gmp.jl:231</a><li> +(x::<b>BigInt</b>,c::<b>Union(Uint16,Uint32,Uint8,Uint64)</b>) at <a href=\"https://github.com/JuliaLang/julia/tree/cb9bcae93a32b42cec02585c387396ff11836aed/base/gmp.jl#L243\" target=\"_blank\">gmp.jl:243</a><li> +(c::<b>Union(Uint16,Uint32,Uint8,Uint64)</b>,x::<b>BigInt</b>) at <a href=\"https://github.com/JuliaLang/julia/tree/cb9bcae93a32b42cec02585c387396ff11836aed/base/gmp.jl#L247\" target=\"_blank\">gmp.jl:247</a><li> +(x::<b>BigInt</b>,c::<b>Union(Int64,Int32,Int16,Int8)</b>) at <a href=\"https://github.com/JuliaLang/julia/tree/cb9bcae93a32b42cec02585c387396ff11836aed/base/gmp.jl#L259\" target=\"_blank\">gmp.jl:259</a><li> +(c::<b>Union(Int64,Int32,Int16,Int8)</b>,x::<b>BigInt</b>) at <a href=\"https://github.com/JuliaLang/julia/tree/cb9bcae93a32b42cec02585c387396ff11836aed/base/gmp.jl#L260\" target=\"_blank\">gmp.jl:260</a><li> +(x::<b>BigFloat</b>,y::<b>BigFloat</b>) at <a href=\"https://github.com/JuliaLang/julia/tree/cb9bcae93a32b42cec02585c387396ff11836aed/base/mpfr.jl#L149\" target=\"_blank\">mpfr.jl:149</a><li> +(x::<b>BigFloat</b>,c::<b>Union(Uint16,Uint32,Uint8,Uint64)</b>) at <a href=\"https://github.com/JuliaLang/julia/tree/cb9bcae93a32b42cec02585c387396ff11836aed/base/mpfr.jl#L156\" target=\"_blank\">mpfr.jl:156</a><li> +(c::<b>Union(Uint16,Uint32,Uint8,Uint64)</b>,x::<b>BigFloat</b>) at <a href=\"https://github.com/JuliaLang/julia/tree/cb9bcae93a32b42cec02585c387396ff11836aed/base/mpfr.jl#L160\" target=\"_blank\">mpfr.jl:160</a><li> +(x::<b>BigFloat</b>,c::<b>Union(Int64,Int32,Int16,Int8)</b>) at <a href=\"https://github.com/JuliaLang/julia/tree/cb9bcae93a32b42cec02585c387396ff11836aed/base/mpfr.jl#L164\" target=\"_blank\">mpfr.jl:164</a><li> +(c::<b>Union(Int64,Int32,Int16,Int8)</b>,x::<b>BigFloat</b>) at <a href=\"https://github.com/JuliaLang/julia/tree/cb9bcae93a32b42cec02585c387396ff11836aed/base/mpfr.jl#L168\" target=\"_blank\">mpfr.jl:168</a><li> +(x::<b>BigFloat</b>,c::<b>Union(Float64,Float32,Float16)</b>) at <a href=\"https://github.com/JuliaLang/julia/tree/cb9bcae93a32b42cec02585c387396ff11836aed/base/mpfr.jl#L172\" target=\"_blank\">mpfr.jl:172</a><li> +(c::<b>Union(Float64,Float32,Float16)</b>,x::<b>BigFloat</b>) at <a href=\"https://github.com/JuliaLang/julia/tree/cb9bcae93a32b42cec02585c387396ff11836aed/base/mpfr.jl#L176\" target=\"_blank\">mpfr.jl:176</a><li> +(x::<b>BigFloat</b>,c::<b>BigInt</b>) at <a href=\"https://github.com/JuliaLang/julia/tree/cb9bcae93a32b42cec02585c387396ff11836aed/base/mpfr.jl#L180\" target=\"_blank\">mpfr.jl:180</a><li> +(c::<b>BigInt</b>,x::<b>BigFloat</b>) at <a href=\"https://github.com/JuliaLang/julia/tree/cb9bcae93a32b42cec02585c387396ff11836aed/base/mpfr.jl#L184\" target=\"_blank\">mpfr.jl:184</a><li> +(a::<b>BigFloat</b>,b::<b>BigFloat</b>,c::<b>BigFloat</b>) at <a href=\"https://github.com/JuliaLang/julia/tree/cb9bcae93a32b42cec02585c387396ff11836aed/base/mpfr.jl#L255\" target=\"_blank\">mpfr.jl:255</a><li> +(a::<b>BigFloat</b>,b::<b>BigFloat</b>,c::<b>BigFloat</b>,d::<b>BigFloat</b>) at <a href=\"https://github.com/JuliaLang/julia/tree/cb9bcae93a32b42cec02585c387396ff11836aed/base/mpfr.jl#L261\" target=\"_blank\">mpfr.jl:261</a><li> +(a::<b>BigFloat</b>,b::<b>BigFloat</b>,c::<b>BigFloat</b>,d::<b>BigFloat</b>,e::<b>BigFloat</b>) at <a href=\"https://github.com/JuliaLang/julia/tree/cb9bcae93a32b42cec02585c387396ff11836aed/base/mpfr.jl#L268\" target=\"_blank\">mpfr.jl:268</a><li> +(x::<b>MathConst{sym}</b>,y::<b>MathConst{sym}</b>) at <a href=\"https://github.com/JuliaLang/julia/tree/cb9bcae93a32b42cec02585c387396ff11836aed/base/constants.jl#L23\" target=\"_blank\">constants.jl:23</a><li> +<i>{f}</i>(x::<b>Fixed32{f}</b>,y::<b>Fixed32{f}</b>) at <a href=\"https://github.com/JeffBezanson/FixedPointNumbers.jl/tree/ecd12759ba78b1180e206e9940ca2100c583a4fd/src/fixed32.jl#L30\" target=\"_blank\">/projects/8e820e8f-ade8-415c-9a08-74ad6baaa8fe/.julia/v0.3/FixedPointNumbers/src/fixed32.jl:30</a><li> +<i>{T,f}</i>(x::<b>UfixedBase{T,f}</b>,y::<b>UfixedBase{T,f}</b>) at <a href=\"https://github.com/JeffBezanson/FixedPointNumbers.jl/tree/ecd12759ba78b1180e206e9940ca2100c583a4fd/src/ufixed.jl#L85\" target=\"_blank\">/projects/8e820e8f-ade8-415c-9a08-74ad6baaa8fe/.julia/v0.3/FixedPointNumbers/src/ufixed.jl:85</a><li> +<i>{T<:Number}</i>(x::<b>T<:Number</b>,y::<b>T<:Number</b>) at <a href=\"https://github.com/JuliaLang/julia/tree/cb9bcae93a32b42cec02585c387396ff11836aed/base/promotion.jl#L188\" target=\"_blank\">promotion.jl:188</a><li> +<i>{T<:FloatingPoint}</i>(x::<b>Bool</b>,y::<b>T<:FloatingPoint</b>) at <a href=\"https://github.com/JuliaLang/julia/tree/cb9bcae93a32b42cec02585c387396ff11836aed/base/bool.jl#L46\" target=\"_blank\">bool.jl:46</a><li> +(x::<b>Number</b>,y::<b>Number</b>) at <a href=\"https://github.com/JuliaLang/julia/tree/cb9bcae93a32b42cec02585c387396ff11836aed/base/promotion.jl#L158\" target=\"_blank\">promotion.jl:158</a><li> +(x::<b>Integer</b>,y::<b>Ptr{T}</b>) at <a href=\"https://github.com/JuliaLang/julia/tree/cb9bcae93a32b42cec02585c387396ff11836aed/base/pointer.jl#L68\" target=\"_blank\">pointer.jl:68</a><li> +(x::<b>Bool</b>,A::<b>AbstractArray{Bool,N}</b>) at <a href=\"https://github.com/JuliaLang/julia/tree/cb9bcae93a32b42cec02585c387396ff11836aed/base/array.jl#L771\" target=\"_blank\">array.jl:771</a><li> +<i>{P<:Period}</i>(x::<b>Real</b>,y::<b>P<:Period</b>) at <a href=\"https://github.com/quinnj/Dates.jl/tree/333857d4166346beac830592dd0f407d6a44b6c6/src/dates/periods.jl#L58\" target=\"_blank\">/projects/8e820e8f-ade8-415c-9a08-74ad6baaa8fe/.julia/v0.3/Dates/src/dates/periods.jl:58</a><li> +(x::<b>Number</b>) at <a href=\"https://github.com/JuliaLang/julia/tree/cb9bcae93a32b42cec02585c387396ff11836aed/base/operators.jl#L71\" target=\"_blank\">operators.jl:71</a><li> +(r1::<b>OrdinalRange{T,S}</b>,r2::<b>OrdinalRange{T,S}</b>) at <a href=\"https://github.com/JuliaLang/julia/tree/cb9bcae93a32b42cec02585c387396ff11836aed/base/operators.jl#L325\" target=\"_blank\">operators.jl:325</a><li> +<i>{T<:FloatingPoint}</i>(r1::<b>FloatRange{T<:FloatingPoint}</b>,r2::<b>FloatRange{T<:FloatingPoint}</b>) at <a href=\"https://github.com/JuliaLang/julia/tree/cb9bcae93a32b42cec02585c387396ff11836aed/base/operators.jl#L331\" target=\"_blank\">operators.jl:331</a><li> +(r1::<b>FloatRange{T<:FloatingPoint}</b>,r2::<b>FloatRange{T<:FloatingPoint}</b>) at <a href=\"https://github.com/JuliaLang/julia/tree/cb9bcae93a32b42cec02585c387396ff11836aed/base/operators.jl#L348\" target=\"_blank\">operators.jl:348</a><li> +(r1::<b>FloatRange{T<:FloatingPoint}</b>,r2::<b>OrdinalRange{T,S}</b>) at <a href=\"https://github.com/JuliaLang/julia/tree/cb9bcae93a32b42cec02585c387396ff11836aed/base/operators.jl#L349\" target=\"_blank\">operators.jl:349</a><li> +(r1::<b>OrdinalRange{T,S}</b>,r2::<b>FloatRange{T<:FloatingPoint}</b>) at <a href=\"https://github.com/JuliaLang/julia/tree/cb9bcae93a32b42cec02585c387396ff11836aed/base/operators.jl#L350\" target=\"_blank\">operators.jl:350</a><li> +(x::<b>Ptr{T}</b>,y::<b>Integer</b>) at <a href=\"https://github.com/JuliaLang/julia/tree/cb9bcae93a32b42cec02585c387396ff11836aed/base/pointer.jl#L66\" target=\"_blank\">pointer.jl:66</a><li> +<i>{S,T<:Real}</i>(A::<b>Union(SubArray{S,N,A<:DenseArray{T,N},I<:(Union(Int64,Range{Int64})...,)},DenseArray{S,N})</b>,B::<b>Range{T<:Real}</b>) at <a href=\"https://github.com/JuliaLang/julia/tree/cb9bcae93a32b42cec02585c387396ff11836aed/base/array.jl#L731\" target=\"_blank\">array.jl:731</a><li> +<i>{S<:Real,T}</i>(A::<b>Range{S<:Real}</b>,B::<b>Union(DenseArray{T,N},SubArray{T,N,A<:DenseArray{T,N},I<:(Union(Int64,Range{Int64})...,)})</b>) at <a href=\"https://github.com/JuliaLang/julia/tree/cb9bcae93a32b42cec02585c387396ff11836aed/base/array.jl#L740\" target=\"_blank\">array.jl:740</a><li> +(A::<b>AbstractArray{Bool,N}</b>,x::<b>Bool</b>) at <a href=\"https://github.com/JuliaLang/julia/tree/cb9bcae93a32b42cec02585c387396ff11836aed/base/array.jl#L770\" target=\"_blank\">array.jl:770</a><li> +<i>{Tv,Ti}</i>(A::<b>SparseMatrixCSC{Tv,Ti}</b>,B::<b>SparseMatrixCSC{Tv,Ti}</b>) at <a href=\"https://github.com/JuliaLang/julia/tree/cb9bcae93a32b42cec02585c387396ff11836aed/base/sparse/sparsematrix.jl#L552\" target=\"_blank\">sparse/sparsematrix.jl:552</a><li> +<i>{TvA,TiA,TvB,TiB}</i>(A::<b>SparseMatrixCSC{TvA,TiA}</b>,B::<b>SparseMatrixCSC{TvB,TiB}</b>) at <a href=\"https://github.com/JuliaLang/julia/tree/cb9bcae93a32b42cec02585c387396ff11836aed/base/sparse/sparsematrix.jl#L544\" target=\"_blank\">sparse/sparsematrix.jl:544</a><li> +(A::<b>SparseMatrixCSC{Tv,Ti<:Integer}</b>,B::<b>Array{T,N}</b>) at <a href=\"https://github.com/JuliaLang/julia/tree/cb9bcae93a32b42cec02585c387396ff11836aed/base/sparse/sparsematrix.jl#L643\" target=\"_blank\">sparse/sparsematrix.jl:643</a><li> +(A::<b>Array{T,N}</b>,B::<b>SparseMatrixCSC{Tv,Ti<:Integer}</b>) at <a href=\"https://github.com/JuliaLang/julia/tree/cb9bcae93a32b42cec02585c387396ff11836aed/base/sparse/sparsematrix.jl#L645\" target=\"_blank\">sparse/sparsematrix.jl:645</a><li> +(A::<b>SymTridiagonal{T}</b>,B::<b>SymTridiagonal{T}</b>) at <a href=\"https://github.com/JuliaLang/julia/tree/cb9bcae93a32b42cec02585c387396ff11836aed/base/linalg/tridiag.jl#L57\" target=\"_blank\">linalg/tridiag.jl:57</a><li> +(A::<b>Tridiagonal{T}</b>,B::<b>Tridiagonal{T}</b>) at <a href=\"https://github.com/JuliaLang/julia/tree/cb9bcae93a32b42cec02585c387396ff11836aed/base/linalg/tridiag.jl#L247\" target=\"_blank\">linalg/tridiag.jl:247</a><li> +(A::<b>Tridiagonal{T}</b>,B::<b>SymTridiagonal{T}</b>) at <a href=\"https://github.com/JuliaLang/julia/tree/cb9bcae93a32b42cec02585c387396ff11836aed/base/linalg/special.jl#L99\" target=\"_blank\">linalg/special.jl:99</a><li> +(A::<b>SymTridiagonal{T}</b>,B::<b>Tridiagonal{T}</b>) at <a href=\"https://github.com/JuliaLang/julia/tree/cb9bcae93a32b42cec02585c387396ff11836aed/base/linalg/special.jl#L98\" target=\"_blank\">linalg/special.jl:98</a><li> +<i>{T,MT,uplo}</i>(A::<b>Triangular{T,MT,uplo,IsUnit}</b>,B::<b>Triangular{T,MT,uplo,IsUnit}</b>) at <a href=\"https://github.com/JuliaLang/julia/tree/cb9bcae93a32b42cec02585c387396ff11836aed/base/linalg/triangular.jl#L11\" target=\"_blank\">linalg/triangular.jl:11</a><li> +<i>{T,MT,uplo1,uplo2}</i>(A::<b>Triangular{T,MT,uplo1,IsUnit}</b>,B::<b>Triangular{T,MT,uplo2,IsUnit}</b>) at <a href=\"https://github.com/JuliaLang/julia/tree/cb9bcae93a32b42cec02585c387396ff11836aed/base/linalg/triangular.jl#L12\" target=\"_blank\">linalg/triangular.jl:12</a><li> +(Da::<b>Diagonal{T}</b>,Db::<b>Diagonal{T}</b>) at <a href=\"https://github.com/JuliaLang/julia/tree/cb9bcae93a32b42cec02585c387396ff11836aed/base/linalg/diagonal.jl#L47\" target=\"_blank\">linalg/diagonal.jl:47</a><li> +(A::<b>Bidiagonal{T}</b>,B::<b>Bidiagonal{T}</b>) at <a href=\"https://github.com/JuliaLang/julia/tree/cb9bcae93a32b42cec02585c387396ff11836aed/base/linalg/bidiag.jl#L92\" target=\"_blank\">linalg/bidiag.jl:92</a><li> +<i>{T}</i>(B::<b>BitArray{2}</b>,J::<b>UniformScaling{T}</b>) at <a href=\"https://github.com/JuliaLang/julia/tree/cb9bcae93a32b42cec02585c387396ff11836aed/base/linalg/uniformscaling.jl#L26\" target=\"_blank\">linalg/uniformscaling.jl:26</a><li> +(A::<b>Diagonal{T}</b>,B::<b>Bidiagonal{T}</b>) at <a href=\"https://github.com/JuliaLang/julia/tree/cb9bcae93a32b42cec02585c387396ff11836aed/base/linalg/special.jl#L89\" target=\"_blank\">linalg/special.jl:89</a><li> +(A::<b>Bidiagonal{T}</b>,B::<b>Diagonal{T}</b>) at <a href=\"https://github.com/JuliaLang/julia/tree/cb9bcae93a32b42cec02585c387396ff11836aed/base/linalg/special.jl#L90\" target=\"_blank\">linalg/special.jl:90</a><li> +(A::<b>Diagonal{T}</b>,B::<b>Tridiagonal{T}</b>) at <a href=\"https://github.com/JuliaLang/julia/tree/cb9bcae93a32b42cec02585c387396ff11836aed/base/linalg/special.jl#L89\" target=\"_blank\">linalg/special.jl:89</a><li> +(A::<b>Tridiagonal{T}</b>,B::<b>Diagonal{T}</b>) at <a href=\"https://github.com/JuliaLang/julia/tree/cb9bcae93a32b42cec02585c387396ff11836aed/base/linalg/special.jl#L90\" target=\"_blank\">linalg/special.jl:90</a><li> +(A::<b>Diagonal{T}</b>,B::<b>Triangular{T,S<:AbstractArray{T,2},UpLo,IsUnit}</b>) at <a href=\"https://github.com/JuliaLang/julia/tree/cb9bcae93a32b42cec02585c387396ff11836aed/base/linalg/special.jl#L89\" target=\"_blank\">linalg/special.jl:89</a><li> +(A::<b>Triangular{T,S<:AbstractArray{T,2},UpLo,IsUnit}</b>,B::<b>Diagonal{T}</b>) at <a href=\"https://github.com/JuliaLang/julia/tree/cb9bcae93a32b42cec02585c387396ff11836aed/base/linalg/special.jl#L90\" target=\"_blank\">linalg/special.jl:90</a><li> +(A::<b>Diagonal{T}</b>,B::<b>Array{T,2}</b>) at <a href=\"https://github.com/JuliaLang/julia/tree/cb9bcae93a32b42cec02585c387396ff11836aed/base/linalg/special.jl#L89\" target=\"_blank\">linalg/special.jl:89</a><li> +(A::<b>Array{T,2}</b>,B::<b>Diagonal{T}</b>) at <a href=\"https://github.com/JuliaLang/julia/tree/cb9bcae93a32b42cec02585c387396ff11836aed/base/linalg/special.jl#L90\" target=\"_blank\">linalg/special.jl:90</a><li> +(A::<b>Bidiagonal{T}</b>,B::<b>Tridiagonal{T}</b>) at <a href=\"https://github.com/JuliaLang/julia/tree/cb9bcae93a32b42cec02585c387396ff11836aed/base/linalg/special.jl#L89\" target=\"_blank\">linalg/special.jl:89</a><li> +(A::<b>Tridiagonal{T}</b>,B::<b>Bidiagonal{T}</b>) at <a href=\"https://github.com/JuliaLang/julia/tree/cb9bcae93a32b42cec02585c387396ff11836aed/base/linalg/special.jl#L90\" target=\"_blank\">linalg/special.jl:90</a><li> +(A::<b>Bidiagonal{T}</b>,B::<b>Triangular{T,S<:AbstractArray{T,2},UpLo,IsUnit}</b>) at <a href=\"https://github.com/JuliaLang/julia/tree/cb9bcae93a32b42cec02585c387396ff11836aed/base/linalg/special.jl#L89\" target=\"_blank\">linalg/special.jl:89</a><li> +(A::<b>Triangular{T,S<:AbstractArray{T,2},UpLo,IsUnit}</b>,B::<b>Bidiagonal{T}</b>) at <a href=\"https://github.com/JuliaLang/julia/tree/cb9bcae93a32b42cec02585c387396ff11836aed/base/linalg/special.jl#L90\" target=\"_blank\">linalg/special.jl:90</a><li> +(A::<b>Bidiagonal{T}</b>,B::<b>Array{T,2}</b>) at <a href=\"https://github.com/JuliaLang/julia/tree/cb9bcae93a32b42cec02585c387396ff11836aed/base/linalg/special.jl#L89\" target=\"_blank\">linalg/special.jl:89</a><li> +(A::<b>Array{T,2}</b>,B::<b>Bidiagonal{T}</b>) at <a href=\"https://github.com/JuliaLang/julia/tree/cb9bcae93a32b42cec02585c387396ff11836aed/base/linalg/special.jl#L90\" target=\"_blank\">linalg/special.jl:90</a><li> +(A::<b>Tridiagonal{T}</b>,B::<b>Triangular{T,S<:AbstractArray{T,2},UpLo,IsUnit}</b>) at <a href=\"https://github.com/JuliaLang/julia/tree/cb9bcae93a32b42cec02585c387396ff11836aed/base/linalg/special.jl#L89\" target=\"_blank\">linalg/special.jl:89</a><li> +(A::<b>Triangular{T,S<:AbstractArray{T,2},UpLo,IsUnit}</b>,B::<b>Tridiagonal{T}</b>) at <a href=\"https://github.com/JuliaLang/julia/tree/cb9bcae93a32b42cec02585c387396ff11836aed/base/linalg/special.jl#L90\" target=\"_blank\">linalg/special.jl:90</a><li> +(A::<b>Tridiagonal{T}</b>,B::<b>Array{T,2}</b>) at <a href=\"https://github.com/JuliaLang/julia/tree/cb9bcae93a32b42cec02585c387396ff11836aed/base/linalg/special.jl#L89\" target=\"_blank\">linalg/special.jl:89</a><li> +(A::<b>Array{T,2}</b>,B::<b>Tridiagonal{T}</b>) at <a href=\"https://github.com/JuliaLang/julia/tree/cb9bcae93a32b42cec02585c387396ff11836aed/base/linalg/special.jl#L90\" target=\"_blank\">linalg/special.jl:90</a><li> +(A::<b>Triangular{T,S<:AbstractArray{T,2},UpLo,IsUnit}</b>,B::<b>Array{T,2}</b>) at <a href=\"https://github.com/JuliaLang/julia/tree/cb9bcae93a32b42cec02585c387396ff11836aed/base/linalg/special.jl#L89\" target=\"_blank\">linalg/special.jl:89</a><li> +(A::<b>Array{T,2}</b>,B::<b>Triangular{T,S<:AbstractArray{T,2},UpLo,IsUnit}</b>) at <a href=\"https://github.com/JuliaLang/julia/tree/cb9bcae93a32b42cec02585c387396ff11836aed/base/linalg/special.jl#L90\" target=\"_blank\">linalg/special.jl:90</a><li> +(A::<b>SymTridiagonal{T}</b>,B::<b>Triangular{T,S<:AbstractArray{T,2},UpLo,IsUnit}</b>) at <a href=\"https://github.com/JuliaLang/julia/tree/cb9bcae93a32b42cec02585c387396ff11836aed/base/linalg/special.jl#L98\" target=\"_blank\">linalg/special.jl:98</a><li> +(A::<b>Triangular{T,S<:AbstractArray{T,2},UpLo,IsUnit}</b>,B::<b>SymTridiagonal{T}</b>) at <a href=\"https://github.com/JuliaLang/julia/tree/cb9bcae93a32b42cec02585c387396ff11836aed/base/linalg/special.jl#L99\" target=\"_blank\">linalg/special.jl:99</a><li> +(A::<b>SymTridiagonal{T}</b>,B::<b>Array{T,2}</b>) at <a href=\"https://github.com/JuliaLang/julia/tree/cb9bcae93a32b42cec02585c387396ff11836aed/base/linalg/special.jl#L98\" target=\"_blank\">linalg/special.jl:98</a><li> +(A::<b>Array{T,2}</b>,B::<b>SymTridiagonal{T}</b>) at <a href=\"https://github.com/JuliaLang/julia/tree/cb9bcae93a32b42cec02585c387396ff11836aed/base/linalg/special.jl#L99\" target=\"_blank\">linalg/special.jl:99</a><li> +(A::<b>Diagonal{T}</b>,B::<b>SymTridiagonal{T}</b>) at <a href=\"https://github.com/JuliaLang/julia/tree/cb9bcae93a32b42cec02585c387396ff11836aed/base/linalg/special.jl#L107\" target=\"_blank\">linalg/special.jl:107</a><li> +(A::<b>SymTridiagonal{T}</b>,B::<b>Diagonal{T}</b>) at <a href=\"https://github.com/JuliaLang/julia/tree/cb9bcae93a32b42cec02585c387396ff11836aed/base/linalg/special.jl#L108\" target=\"_blank\">linalg/special.jl:108</a><li> +(A::<b>Bidiagonal{T}</b>,B::<b>SymTridiagonal{T}</b>) at <a href=\"https://github.com/JuliaLang/julia/tree/cb9bcae93a32b42cec02585c387396ff11836aed/base/linalg/special.jl#L107\" target=\"_blank\">linalg/special.jl:107</a><li> +(A::<b>SymTridiagonal{T}</b>,B::<b>Bidiagonal{T}</b>) at <a href=\"https://github.com/JuliaLang/julia/tree/cb9bcae93a32b42cec02585c387396ff11836aed/base/linalg/special.jl#L108\" target=\"_blank\">linalg/special.jl:108</a><li> +<i>{T<:Number}</i>(x::<b>AbstractArray{T<:Number,N}</b>) at <a href=\"https://github.com/JuliaLang/julia/tree/cb9bcae93a32b42cec02585c387396ff11836aed/base/abstractarray.jl#L362\" target=\"_blank\">abstractarray.jl:362</a><li> +(A::<b>AbstractArray{T,N}</b>,x::<b>Number</b>) at <a href=\"https://github.com/JuliaLang/julia/tree/cb9bcae93a32b42cec02585c387396ff11836aed/base/array.jl#L774\" target=\"_blank\">array.jl:774</a><li> +(x::<b>Number</b>,A::<b>AbstractArray{T,N}</b>) at <a href=\"https://github.com/JuliaLang/julia/tree/cb9bcae93a32b42cec02585c387396ff11836aed/base/array.jl#L775\" target=\"_blank\">array.jl:775</a><li> +(J1::<b>UniformScaling{T<:Number}</b>,J2::<b>UniformScaling{T<:Number}</b>) at <a href=\"https://github.com/JuliaLang/julia/tree/cb9bcae93a32b42cec02585c387396ff11836aed/base/linalg/uniformscaling.jl#L25\" target=\"_blank\">linalg/uniformscaling.jl:25</a><li> +(J::<b>UniformScaling{T<:Number}</b>,B::<b>BitArray{2}</b>) at <a href=\"https://github.com/JuliaLang/julia/tree/cb9bcae93a32b42cec02585c387396ff11836aed/base/linalg/uniformscaling.jl#L27\" target=\"_blank\">linalg/uniformscaling.jl:27</a><li> +(J::<b>UniformScaling{T<:Number}</b>,A::<b>AbstractArray{T,2}</b>) at <a href=\"https://github.com/JuliaLang/julia/tree/cb9bcae93a32b42cec02585c387396ff11836aed/base/linalg/uniformscaling.jl#L28\" target=\"_blank\">linalg/uniformscaling.jl:28</a><li> +(J::<b>UniformScaling{T<:Number}</b>,x::<b>Number</b>) at <a href=\"https://github.com/JuliaLang/julia/tree/cb9bcae93a32b42cec02585c387396ff11836aed/base/linalg/uniformscaling.jl#L29\" target=\"_blank\">linalg/uniformscaling.jl:29</a><li> +(x::<b>Number</b>,J::<b>UniformScaling{T<:Number}</b>) at <a href=\"https://github.com/JuliaLang/julia/tree/cb9bcae93a32b42cec02585c387396ff11836aed/base/linalg/uniformscaling.jl#L30\" target=\"_blank\">linalg/uniformscaling.jl:30</a><li> +<i>{TA,TJ}</i>(A::<b>AbstractArray{TA,2}</b>,J::<b>UniformScaling{TJ}</b>) at <a href=\"https://github.com/JuliaLang/julia/tree/cb9bcae93a32b42cec02585c387396ff11836aed/base/linalg/uniformscaling.jl#L33\" target=\"_blank\">linalg/uniformscaling.jl:33</a><li> +<i>{T}</i>(a::<b>HierarchicalValue{T}</b>,b::<b>HierarchicalValue{T}</b>) at <a href=\"https://github.com/JuliaLang/julia/tree/cb9bcae93a32b42cec02585c387396ff11836aed/base/pkg/resolve/versionweight.jl#L19\" target=\"_blank\">pkg/resolve/versionweight.jl:19</a><li> +(a::<b>VWPreBuildItem</b>,b::<b>VWPreBuildItem</b>) at <a href=\"https://github.com/JuliaLang/julia/tree/cb9bcae93a32b42cec02585c387396ff11836aed/base/pkg/resolve/versionweight.jl#L82\" target=\"_blank\">pkg/resolve/versionweight.jl:82</a><li> +(a::<b>VWPreBuild</b>,b::<b>VWPreBuild</b>) at <a href=\"https://github.com/JuliaLang/julia/tree/cb9bcae93a32b42cec02585c387396ff11836aed/base/pkg/resolve/versionweight.jl#L120\" target=\"_blank\">pkg/resolve/versionweight.jl:120</a><li> +(a::<b>VersionWeight</b>,b::<b>VersionWeight</b>) at <a href=\"https://github.com/JuliaLang/julia/tree/cb9bcae93a32b42cec02585c387396ff11836aed/base/pkg/resolve/versionweight.jl#L164\" target=\"_blank\">pkg/resolve/versionweight.jl:164</a><li> +(a::<b>FieldValue</b>,b::<b>FieldValue</b>) at <a href=\"https://github.com/JuliaLang/julia/tree/cb9bcae93a32b42cec02585c387396ff11836aed/base/pkg/resolve/fieldvalue.jl#L41\" target=\"_blank\">pkg/resolve/fieldvalue.jl:41</a><li> +(a::<b>Vec2</b>,b::<b>Vec2</b>) at <a href=\"https://github.com/JuliaLang/julia/tree/cb9bcae93a32b42cec02585c387396ff11836aed/base/graphics.jl#L60\" target=\"_blank\">graphics.jl:60</a><li> +(bb1::<b>BoundingBox</b>,bb2::<b>BoundingBox</b>) at <a href=\"https://github.com/JuliaLang/julia/tree/cb9bcae93a32b42cec02585c387396ff11836aed/base/graphics.jl#L123\" target=\"_blank\">graphics.jl:123</a><li> +<i>{P<:Period}</i>(x::<b>P<:Period</b>,y::<b>P<:Period</b>) at <a href=\"https://github.com/quinnj/Dates.jl/tree/333857d4166346beac830592dd0f407d6a44b6c6/src/dates/periods.jl#L55\" target=\"_blank\">/projects/8e820e8f-ade8-415c-9a08-74ad6baaa8fe/.julia/v0.3/Dates/src/dates/periods.jl:55</a><li> +<i>{P<:Period}</i>(x::<b>P<:Period</b>,y::<b>Real</b>) at <a href=\"https://github.com/quinnj/Dates.jl/tree/333857d4166346beac830592dd0f407d6a44b6c6/src/dates/periods.jl#L57\" target=\"_blank\">/projects/8e820e8f-ade8-415c-9a08-74ad6baaa8fe/.julia/v0.3/Dates/src/dates/periods.jl:57</a><li> +(x::<b>Period</b>,y::<b>Period</b>) at <a href=\"https://github.com/quinnj/Dates.jl/tree/333857d4166346beac830592dd0f407d6a44b6c6/src/dates/periods.jl#L108\" target=\"_blank\">/projects/8e820e8f-ade8-415c-9a08-74ad6baaa8fe/.julia/v0.3/Dates/src/dates/periods.jl:108</a><li> +(x::<b>CompoundPeriod</b>,y::<b>Period</b>) at <a href=\"https://github.com/quinnj/Dates.jl/tree/333857d4166346beac830592dd0f407d6a44b6c6/src/dates/periods.jl#L109\" target=\"_blank\">/projects/8e820e8f-ade8-415c-9a08-74ad6baaa8fe/.julia/v0.3/Dates/src/dates/periods.jl:109</a><li> +(dt::<b>DateTime</b>,y::<b>Year</b>) at <a href=\"https://github.com/quinnj/Dates.jl/tree/333857d4166346beac830592dd0f407d6a44b6c6/src/dates/arithmetic.jl#L17\" target=\"_blank\">/projects/8e820e8f-ade8-415c-9a08-74ad6baaa8fe/.julia/v0.3/Dates/src/dates/arithmetic.jl:17</a><li> +(dt::<b>Date</b>,y::<b>Year</b>) at <a href=\"https://github.com/quinnj/Dates.jl/tree/333857d4166346beac830592dd0f407d6a44b6c6/src/dates/arithmetic.jl#L21\" target=\"_blank\">/projects/8e820e8f-ade8-415c-9a08-74ad6baaa8fe/.julia/v0.3/Dates/src/dates/arithmetic.jl:21</a><li> +(dt::<b>DateTime</b>,z::<b>Month</b>) at <a href=\"https://github.com/quinnj/Dates.jl/tree/333857d4166346beac830592dd0f407d6a44b6c6/src/dates/arithmetic.jl#L41\" target=\"_blank\">/projects/8e820e8f-ade8-415c-9a08-74ad6baaa8fe/.julia/v0.3/Dates/src/dates/arithmetic.jl:41</a><li> +(dt::<b>Date</b>,z::<b>Month</b>) at <a href=\"https://github.com/quinnj/Dates.jl/tree/333857d4166346beac830592dd0f407d6a44b6c6/src/dates/arithmetic.jl#L47\" target=\"_blank\">/projects/8e820e8f-ade8-415c-9a08-74ad6baaa8fe/.julia/v0.3/Dates/src/dates/arithmetic.jl:47</a><li> +(x::<b>Date</b>,y::<b>Week</b>) at <a href=\"https://github.com/quinnj/Dates.jl/tree/333857d4166346beac830592dd0f407d6a44b6c6/src/dates/arithmetic.jl#L64\" target=\"_blank\">/projects/8e820e8f-ade8-415c-9a08-74ad6baaa8fe/.julia/v0.3/Dates/src/dates/arithmetic.jl:64</a><li> +(x::<b>Date</b>,y::<b>Day</b>) at <a href=\"https://github.com/quinnj/Dates.jl/tree/333857d4166346beac830592dd0f407d6a44b6c6/src/dates/arithmetic.jl#L66\" target=\"_blank\">/projects/8e820e8f-ade8-415c-9a08-74ad6baaa8fe/.julia/v0.3/Dates/src/dates/arithmetic.jl:66</a><li> +(x::<b>DateTime</b>,y::<b>Period</b>) at <a href=\"https://github.com/quinnj/Dates.jl/tree/333857d4166346beac830592dd0f407d6a44b6c6/src/dates/arithmetic.jl#L68\" target=\"_blank\">/projects/8e820e8f-ade8-415c-9a08-74ad6baaa8fe/.julia/v0.3/Dates/src/dates/arithmetic.jl:68</a><li> +(a::<b>TimeType</b>,b::<b>Period</b>,c::<b>Period</b>) at <a href=\"https://github.com/quinnj/Dates.jl/tree/333857d4166346beac830592dd0f407d6a44b6c6/src/dates/periods.jl#L115\" target=\"_blank\">/projects/8e820e8f-ade8-415c-9a08-74ad6baaa8fe/.julia/v0.3/Dates/src/dates/periods.jl:115</a><li> +(a::<b>TimeType</b>,b::<b>Period</b>,c::<b>Period</b>,d::<b>Period...</b>) at <a href=\"https://github.com/quinnj/Dates.jl/tree/333857d4166346beac830592dd0f407d6a44b6c6/src/dates/periods.jl#L117\" target=\"_blank\">/projects/8e820e8f-ade8-415c-9a08-74ad6baaa8fe/.julia/v0.3/Dates/src/dates/periods.jl:117</a><li> +(x::<b>TimeType</b>,y::<b>CompoundPeriod</b>) at <a href=\"https://github.com/quinnj/Dates.jl/tree/333857d4166346beac830592dd0f407d6a44b6c6/src/dates/periods.jl#L121\" target=\"_blank\">/projects/8e820e8f-ade8-415c-9a08-74ad6baaa8fe/.julia/v0.3/Dates/src/dates/periods.jl:121</a><li> +(x::<b>CompoundPeriod</b>,y::<b>TimeType</b>) at <a href=\"https://github.com/quinnj/Dates.jl/tree/333857d4166346beac830592dd0f407d6a44b6c6/src/dates/periods.jl#L126\" target=\"_blank\">/projects/8e820e8f-ade8-415c-9a08-74ad6baaa8fe/.julia/v0.3/Dates/src/dates/periods.jl:126</a><li> +(x::<b>Instant</b>,y::<b>Instant</b>) at <a href=\"https://github.com/quinnj/Dates.jl/tree/333857d4166346beac830592dd0f407d6a44b6c6/src/dates/arithmetic.jl#L3\" target=\"_blank\">/projects/8e820e8f-ade8-415c-9a08-74ad6baaa8fe/.julia/v0.3/Dates/src/dates/arithmetic.jl:3</a><li> +(x::<b>Instant</b>) at <a href=\"https://github.com/quinnj/Dates.jl/tree/333857d4166346beac830592dd0f407d6a44b6c6/src/dates/arithmetic.jl#L5\" target=\"_blank\">/projects/8e820e8f-ade8-415c-9a08-74ad6baaa8fe/.julia/v0.3/Dates/src/dates/arithmetic.jl:5</a><li> +(x::<b>TimeType</b>,y::<b>TimeType</b>) at <a href=\"https://github.com/quinnj/Dates.jl/tree/333857d4166346beac830592dd0f407d6a44b6c6/src/dates/arithmetic.jl#L10\" target=\"_blank\">/projects/8e820e8f-ade8-415c-9a08-74ad6baaa8fe/.julia/v0.3/Dates/src/dates/arithmetic.jl:10</a><li> +(x::<b>TimeType</b>) at <a href=\"https://github.com/quinnj/Dates.jl/tree/333857d4166346beac830592dd0f407d6a44b6c6/src/dates/arithmetic.jl#L12\" target=\"_blank\">/projects/8e820e8f-ade8-415c-9a08-74ad6baaa8fe/.julia/v0.3/Dates/src/dates/arithmetic.jl:12</a><li> +(y::<b>Period</b>,x::<b>TimeType</b>) at <a href=\"https://github.com/quinnj/Dates.jl/tree/333857d4166346beac830592dd0f407d6a44b6c6/src/dates/arithmetic.jl#L70\" target=\"_blank\">/projects/8e820e8f-ade8-415c-9a08-74ad6baaa8fe/.julia/v0.3/Dates/src/dates/arithmetic.jl:70</a><li> +<i>{T<:Number}</i>(a::<b>XYZ{T<:Number}</b>,b::<b>XYZ{T<:Number}</b>) at <a href=\"https://github.com/JuliaLang/Color.jl/tree/9aa3265a9bb239a152be4fa6ed37c7d903ec8bd2/src/colorspaces.jl#L333\" target=\"_blank\">/projects/8e820e8f-ade8-415c-9a08-74ad6baaa8fe/.julia/v0.3/Color/src/colorspaces.jl:333</a><li> +<i>{T<:ColorValue{T}}</i>(a::<b>T<:ColorValue{T}</b>,b::<b>T<:ColorValue{T}</b>) at <a href=\"https://github.com/JuliaLang/Color.jl/tree/9aa3265a9bb239a152be4fa6ed37c7d903ec8bd2/src/colorspaces.jl#L337\" target=\"_blank\">/projects/8e820e8f-ade8-415c-9a08-74ad6baaa8fe/.julia/v0.3/Color/src/colorspaces.jl:337</a><li> +(s1::<b>String</b>,s2::<b>String</b>) at In[55]:1<li> +(s::<b>String</b>,x::<b>Number</b>) at In[58]:1<li> +(v::<b>Vector2D</b>,w::<b>Vector2D</b>) at In[63]:1<li> +(a,b,c) at <a href=\"https://github.com/JuliaLang/julia/tree/cb9bcae93a32b42cec02585c387396ff11836aed/base/operators.jl#L82\" target=\"_blank\">operators.jl:82</a><li> +(a,b,c,xs...) at <a href=\"https://github.com/JuliaLang/julia/tree/cb9bcae93a32b42cec02585c387396ff11836aed/base/operators.jl#L83\" target=\"_blank\">operators.jl:83</a></ul>"
      ],
      "text/plain": [
       "# 145 methods for generic function \"+\":\n",
       "+(x::Bool) at bool.jl:36\n",
       "+(x::Bool,y::Bool) at bool.jl:39\n",
       "+(y::FloatingPoint,x::Bool) at bool.jl:49\n",
       "+(A::BitArray{N},B::BitArray{N}) at bitarray.jl:848\n",
       "+(A::Union(DenseArray{Bool,N},SubArray{Bool,N,A<:DenseArray{T,N},I<:(Union(Int64,Range{Int64})...,)}),B::Union(DenseArray{Bool,N},SubArray{Bool,N,A<:DenseArray{T,N},I<:(Union(Int64,Range{Int64})...,)})) at array.jl:801\n",
       "+{S,T}(A::Union(SubArray{S,N,A<:DenseArray{T,N},I<:(Union(Int64,Range{Int64})...,)},DenseArray{S,N}),B::Union(DenseArray{T,N},SubArray{T,N,A<:DenseArray{T,N},I<:(Union(Int64,Range{Int64})...,)})) at array.jl:723\n",
       "+{T<:Union(Int32,Int16,Int8)}(x::T<:Union(Int32,Int16,Int8),y::T<:Union(Int32,Int16,Int8)) at int.jl:16\n",
       "+{T<:Union(Uint16,Uint32,Uint8)}(x::T<:Union(Uint16,Uint32,Uint8),y::T<:Union(Uint16,Uint32,Uint8)) at int.jl:20\n",
       "+(x::Int64,y::Int64) at int.jl:33\n",
       "+(x::Uint64,y::Uint64) at int.jl:34\n",
       "+(x::Int128,y::Int128) at int.jl:35\n",
       "+(x::Uint128,y::Uint128) at int.jl:36\n",
       "+(x::Float32,y::Float32) at float.jl:119\n",
       "+(x::Float64,y::Float64) at float.jl:120\n",
       "+(z::Complex{T<:Real},w::Complex{T<:Real}) at complex.jl:110\n",
       "+(x::Real,z::Complex{T<:Real}) at complex.jl:120\n",
       "+(z::Complex{T<:Real},x::Real) at complex.jl:121\n",
       "+(x::Rational{T<:Integer},y::Rational{T<:Integer}) at rational.jl:113\n",
       "+(x::Char,y::Char) at char.jl:23\n",
       "+(x::Char,y::Integer) at char.jl:26\n",
       "+(x::Integer,y::Char) at char.jl:27\n",
       "+(a::Float16,b::Float16) at float16.jl:132\n",
       "+(x::BigInt,y::BigInt) at gmp.jl:195\n",
       "+(a::BigInt,b::BigInt,c::BigInt) at gmp.jl:218\n",
       "+(a::BigInt,b::BigInt,c::BigInt,d::BigInt) at gmp.jl:224\n",
       "+(a::BigInt,b::BigInt,c::BigInt,d::BigInt,e::BigInt) at gmp.jl:231\n",
       "+(x::BigInt,c::Union(Uint16,Uint32,Uint8,Uint64)) at gmp.jl:243\n",
       "+(c::Union(Uint16,Uint32,Uint8,Uint64),x::BigInt) at gmp.jl:247\n",
       "+(x::BigInt,c::Union(Int64,Int32,Int16,Int8)) at gmp.jl:259\n",
       "+(c::Union(Int64,Int32,Int16,Int8),x::BigInt) at gmp.jl:260\n",
       "+(x::BigFloat,y::BigFloat) at mpfr.jl:149\n",
       "+(x::BigFloat,c::Union(Uint16,Uint32,Uint8,Uint64)) at mpfr.jl:156\n",
       "+(c::Union(Uint16,Uint32,Uint8,Uint64),x::BigFloat) at mpfr.jl:160\n",
       "+(x::BigFloat,c::Union(Int64,Int32,Int16,Int8)) at mpfr.jl:164\n",
       "+(c::Union(Int64,Int32,Int16,Int8),x::BigFloat) at mpfr.jl:168\n",
       "+(x::BigFloat,c::Union(Float64,Float32,Float16)) at mpfr.jl:172\n",
       "+(c::Union(Float64,Float32,Float16),x::BigFloat) at mpfr.jl:176\n",
       "+(x::BigFloat,c::BigInt) at mpfr.jl:180\n",
       "+(c::BigInt,x::BigFloat) at mpfr.jl:184\n",
       "+(a::BigFloat,b::BigFloat,c::BigFloat) at mpfr.jl:255\n",
       "+(a::BigFloat,b::BigFloat,c::BigFloat,d::BigFloat) at mpfr.jl:261\n",
       "+(a::BigFloat,b::BigFloat,c::BigFloat,d::BigFloat,e::BigFloat) at mpfr.jl:268\n",
       "+(x::MathConst{sym},y::MathConst{sym}) at constants.jl:23\n",
       "+{f}(x::Fixed32{f},y::Fixed32{f}) at /projects/8e820e8f-ade8-415c-9a08-74ad6baaa8fe/.julia/v0.3/FixedPointNumbers/src/fixed32.jl:30\n",
       "+{T,f}(x::UfixedBase{T,f},y::UfixedBase{T,f}) at /projects/8e820e8f-ade8-415c-9a08-74ad6baaa8fe/.julia/v0.3/FixedPointNumbers/src/ufixed.jl:85\n",
       "+{T<:Number}(x::T<:Number,y::T<:Number) at promotion.jl:188\n",
       "+{T<:FloatingPoint}(x::Bool,y::T<:FloatingPoint) at bool.jl:46\n",
       "+(x::Number,y::Number) at promotion.jl:158\n",
       "+(x::Integer,y::Ptr{T}) at pointer.jl:68\n",
       "+(x::Bool,A::AbstractArray{Bool,N}) at array.jl:771\n",
       "+{P<:Period}(x::Real,y::P<:Period) at /projects/8e820e8f-ade8-415c-9a08-74ad6baaa8fe/.julia/v0.3/Dates/src/dates/periods.jl:58\n",
       "+(x::Number) at operators.jl:71\n",
       "+(r1::OrdinalRange{T,S},r2::OrdinalRange{T,S}) at operators.jl:325\n",
       "+{T<:FloatingPoint}(r1::FloatRange{T<:FloatingPoint},r2::FloatRange{T<:FloatingPoint}) at operators.jl:331\n",
       "+(r1::FloatRange{T<:FloatingPoint},r2::FloatRange{T<:FloatingPoint}) at operators.jl:348\n",
       "+(r1::FloatRange{T<:FloatingPoint},r2::OrdinalRange{T,S}) at operators.jl:349\n",
       "+(r1::OrdinalRange{T,S},r2::FloatRange{T<:FloatingPoint}) at operators.jl:350\n",
       "+(x::Ptr{T},y::Integer) at pointer.jl:66\n",
       "+{S,T<:Real}(A::Union(SubArray{S,N,A<:DenseArray{T,N},I<:(Union(Int64,Range{Int64})...,)},DenseArray{S,N}),B::Range{T<:Real}) at array.jl:731\n",
       "+{S<:Real,T}(A::Range{S<:Real},B::Union(DenseArray{T,N},SubArray{T,N,A<:DenseArray{T,N},I<:(Union(Int64,Range{Int64})...,)})) at array.jl:740\n",
       "+(A::AbstractArray{Bool,N},x::Bool) at array.jl:770\n",
       "+{Tv,Ti}(A::SparseMatrixCSC{Tv,Ti},B::SparseMatrixCSC{Tv,Ti}) at sparse/sparsematrix.jl:552\n",
       "+{TvA,TiA,TvB,TiB}(A::SparseMatrixCSC{TvA,TiA},B::SparseMatrixCSC{TvB,TiB}) at sparse/sparsematrix.jl:544\n",
       "+(A::SparseMatrixCSC{Tv,Ti<:Integer},B::Array{T,N}) at sparse/sparsematrix.jl:643\n",
       "+(A::Array{T,N},B::SparseMatrixCSC{Tv,Ti<:Integer}) at sparse/sparsematrix.jl:645\n",
       "+(A::SymTridiagonal{T},B::SymTridiagonal{T}) at linalg/tridiag.jl:57\n",
       "+(A::Tridiagonal{T},B::Tridiagonal{T}) at linalg/tridiag.jl:247\n",
       "+(A::Tridiagonal{T},B::SymTridiagonal{T}) at linalg/special.jl:99\n",
       "+(A::SymTridiagonal{T},B::Tridiagonal{T}) at linalg/special.jl:98\n",
       "+{T,MT,uplo}(A::Triangular{T,MT,uplo,IsUnit},B::Triangular{T,MT,uplo,IsUnit}) at linalg/triangular.jl:11\n",
       "+{T,MT,uplo1,uplo2}(A::Triangular{T,MT,uplo1,IsUnit},B::Triangular{T,MT,uplo2,IsUnit}) at linalg/triangular.jl:12\n",
       "+(Da::Diagonal{T},Db::Diagonal{T}) at linalg/diagonal.jl:47\n",
       "+(A::Bidiagonal{T},B::Bidiagonal{T}) at linalg/bidiag.jl:92\n",
       "+{T}(B::BitArray{2},J::UniformScaling{T}) at linalg/uniformscaling.jl:26\n",
       "+(A::Diagonal{T},B::Bidiagonal{T}) at linalg/special.jl:89\n",
       "+(A::Bidiagonal{T},B::Diagonal{T}) at linalg/special.jl:90\n",
       "+(A::Diagonal{T},B::Tridiagonal{T}) at linalg/special.jl:89\n",
       "+(A::Tridiagonal{T},B::Diagonal{T}) at linalg/special.jl:90\n",
       "+(A::Diagonal{T},B::Triangular{T,S<:AbstractArray{T,2},UpLo,IsUnit}) at linalg/special.jl:89\n",
       "+(A::Triangular{T,S<:AbstractArray{T,2},UpLo,IsUnit},B::Diagonal{T}) at linalg/special.jl:90\n",
       "+(A::Diagonal{T},B::Array{T,2}) at linalg/special.jl:89\n",
       "+(A::Array{T,2},B::Diagonal{T}) at linalg/special.jl:90\n",
       "+(A::Bidiagonal{T},B::Tridiagonal{T}) at linalg/special.jl:89\n",
       "+(A::Tridiagonal{T},B::Bidiagonal{T}) at linalg/special.jl:90\n",
       "+(A::Bidiagonal{T},B::Triangular{T,S<:AbstractArray{T,2},UpLo,IsUnit}) at linalg/special.jl:89\n",
       "+(A::Triangular{T,S<:AbstractArray{T,2},UpLo,IsUnit},B::Bidiagonal{T}) at linalg/special.jl:90\n",
       "+(A::Bidiagonal{T},B::Array{T,2}) at linalg/special.jl:89\n",
       "+(A::Array{T,2},B::Bidiagonal{T}) at linalg/special.jl:90\n",
       "+(A::Tridiagonal{T},B::Triangular{T,S<:AbstractArray{T,2},UpLo,IsUnit}) at linalg/special.jl:89\n",
       "+(A::Triangular{T,S<:AbstractArray{T,2},UpLo,IsUnit},B::Tridiagonal{T}) at linalg/special.jl:90\n",
       "+(A::Tridiagonal{T},B::Array{T,2}) at linalg/special.jl:89\n",
       "+(A::Array{T,2},B::Tridiagonal{T}) at linalg/special.jl:90\n",
       "+(A::Triangular{T,S<:AbstractArray{T,2},UpLo,IsUnit},B::Array{T,2}) at linalg/special.jl:89\n",
       "+(A::Array{T,2},B::Triangular{T,S<:AbstractArray{T,2},UpLo,IsUnit}) at linalg/special.jl:90\n",
       "+(A::SymTridiagonal{T},B::Triangular{T,S<:AbstractArray{T,2},UpLo,IsUnit}) at linalg/special.jl:98\n",
       "+(A::Triangular{T,S<:AbstractArray{T,2},UpLo,IsUnit},B::SymTridiagonal{T}) at linalg/special.jl:99\n",
       "+(A::SymTridiagonal{T},B::Array{T,2}) at linalg/special.jl:98\n",
       "+(A::Array{T,2},B::SymTridiagonal{T}) at linalg/special.jl:99\n",
       "+(A::Diagonal{T},B::SymTridiagonal{T}) at linalg/special.jl:107\n",
       "+(A::SymTridiagonal{T},B::Diagonal{T}) at linalg/special.jl:108\n",
       "+(A::Bidiagonal{T},B::SymTridiagonal{T}) at linalg/special.jl:107\n",
       "+(A::SymTridiagonal{T},B::Bidiagonal{T}) at linalg/special.jl:108\n",
       "+{T<:Number}(x::AbstractArray{T<:Number,N}) at abstractarray.jl:362\n",
       "+(A::AbstractArray{T,N},x::Number) at array.jl:774\n",
       "+(x::Number,A::AbstractArray{T,N}) at array.jl:775\n",
       "+(J1::UniformScaling{T<:Number},J2::UniformScaling{T<:Number}) at linalg/uniformscaling.jl:25\n",
       "+(J::UniformScaling{T<:Number},B::BitArray{2}) at linalg/uniformscaling.jl:27\n",
       "+(J::UniformScaling{T<:Number},A::AbstractArray{T,2}) at linalg/uniformscaling.jl:28\n",
       "+(J::UniformScaling{T<:Number},x::Number) at linalg/uniformscaling.jl:29\n",
       "+(x::Number,J::UniformScaling{T<:Number}) at linalg/uniformscaling.jl:30\n",
       "+{TA,TJ}(A::AbstractArray{TA,2},J::UniformScaling{TJ}) at linalg/uniformscaling.jl:33\n",
       "+{T}(a::HierarchicalValue{T},b::HierarchicalValue{T}) at pkg/resolve/versionweight.jl:19\n",
       "+(a::VWPreBuildItem,b::VWPreBuildItem) at pkg/resolve/versionweight.jl:82\n",
       "+(a::VWPreBuild,b::VWPreBuild) at pkg/resolve/versionweight.jl:120\n",
       "+(a::VersionWeight,b::VersionWeight) at pkg/resolve/versionweight.jl:164\n",
       "+(a::FieldValue,b::FieldValue) at pkg/resolve/fieldvalue.jl:41\n",
       "+(a::Vec2,b::Vec2) at graphics.jl:60\n",
       "+(bb1::BoundingBox,bb2::BoundingBox) at graphics.jl:123\n",
       "+{P<:Period}(x::P<:Period,y::P<:Period) at /projects/8e820e8f-ade8-415c-9a08-74ad6baaa8fe/.julia/v0.3/Dates/src/dates/periods.jl:55\n",
       "+{P<:Period}(x::P<:Period,y::Real) at /projects/8e820e8f-ade8-415c-9a08-74ad6baaa8fe/.julia/v0.3/Dates/src/dates/periods.jl:57\n",
       "+(x::Period,y::Period) at /projects/8e820e8f-ade8-415c-9a08-74ad6baaa8fe/.julia/v0.3/Dates/src/dates/periods.jl:108\n",
       "+(x::CompoundPeriod,y::Period) at /projects/8e820e8f-ade8-415c-9a08-74ad6baaa8fe/.julia/v0.3/Dates/src/dates/periods.jl:109\n",
       "+(dt::DateTime,y::Year) at /projects/8e820e8f-ade8-415c-9a08-74ad6baaa8fe/.julia/v0.3/Dates/src/dates/arithmetic.jl:17\n",
       "+(dt::Date,y::Year) at /projects/8e820e8f-ade8-415c-9a08-74ad6baaa8fe/.julia/v0.3/Dates/src/dates/arithmetic.jl:21\n",
       "+(dt::DateTime,z::Month) at /projects/8e820e8f-ade8-415c-9a08-74ad6baaa8fe/.julia/v0.3/Dates/src/dates/arithmetic.jl:41\n",
       "+(dt::Date,z::Month) at /projects/8e820e8f-ade8-415c-9a08-74ad6baaa8fe/.julia/v0.3/Dates/src/dates/arithmetic.jl:47\n",
       "+(x::Date,y::Week) at /projects/8e820e8f-ade8-415c-9a08-74ad6baaa8fe/.julia/v0.3/Dates/src/dates/arithmetic.jl:64\n",
       "+(x::Date,y::Day) at /projects/8e820e8f-ade8-415c-9a08-74ad6baaa8fe/.julia/v0.3/Dates/src/dates/arithmetic.jl:66\n",
       "+(x::DateTime,y::Period) at /projects/8e820e8f-ade8-415c-9a08-74ad6baaa8fe/.julia/v0.3/Dates/src/dates/arithmetic.jl:68\n",
       "+(a::TimeType,b::Period,c::Period) at /projects/8e820e8f-ade8-415c-9a08-74ad6baaa8fe/.julia/v0.3/Dates/src/dates/periods.jl:115\n",
       "+(a::TimeType,b::Period,c::Period,d::Period...) at /projects/8e820e8f-ade8-415c-9a08-74ad6baaa8fe/.julia/v0.3/Dates/src/dates/periods.jl:117\n",
       "+(x::TimeType,y::CompoundPeriod) at /projects/8e820e8f-ade8-415c-9a08-74ad6baaa8fe/.julia/v0.3/Dates/src/dates/periods.jl:121\n",
       "+(x::CompoundPeriod,y::TimeType) at /projects/8e820e8f-ade8-415c-9a08-74ad6baaa8fe/.julia/v0.3/Dates/src/dates/periods.jl:126\n",
       "+(x::Instant,y::Instant) at /projects/8e820e8f-ade8-415c-9a08-74ad6baaa8fe/.julia/v0.3/Dates/src/dates/arithmetic.jl:3\n",
       "+(x::Instant) at /projects/8e820e8f-ade8-415c-9a08-74ad6baaa8fe/.julia/v0.3/Dates/src/dates/arithmetic.jl:5\n",
       "+(x::TimeType,y::TimeType) at /projects/8e820e8f-ade8-415c-9a08-74ad6baaa8fe/.julia/v0.3/Dates/src/dates/arithmetic.jl:10\n",
       "+(x::TimeType) at /projects/8e820e8f-ade8-415c-9a08-74ad6baaa8fe/.julia/v0.3/Dates/src/dates/arithmetic.jl:12\n",
       "+(y::Period,x::TimeType) at /projects/8e820e8f-ade8-415c-9a08-74ad6baaa8fe/.julia/v0.3/Dates/src/dates/arithmetic.jl:70\n",
       "+{T<:Number}(a::XYZ{T<:Number},b::XYZ{T<:Number}) at /projects/8e820e8f-ade8-415c-9a08-74ad6baaa8fe/.julia/v0.3/Color/src/colorspaces.jl:333\n",
       "+{T<:ColorValue{T}}(a::T<:ColorValue{T},b::T<:ColorValue{T}) at /projects/8e820e8f-ade8-415c-9a08-74ad6baaa8fe/.julia/v0.3/Color/src/colorspaces.jl:337\n",
       "+(s1::String,s2::String) at In[55]:1\n",
       "+(s::String,x::Number) at In[58]:1\n",
       "+(v::Vector2D,w::Vector2D) at In[63]:1\n",
       "+(a,b,c) at operators.jl:82\n",
       "+(a,b,c,xs...) at operators.jl:83"
      ]
     },
     "execution_count": 68,
     "metadata": {},
     "output_type": "execute_result"
    }
   ],
   "source": [
    "methods(+)"
   ]
  },
  {
   "cell_type": "code",
   "execution_count": 69,
   "metadata": {
    "collapsed": false,
    "slideshow": {
     "slide_type": "slide"
    }
   },
   "outputs": [
    {
     "data": {
      "text/plain": [
       "sum2 (generic function with 1 method)"
      ]
     },
     "execution_count": 69,
     "metadata": {},
     "output_type": "execute_result"
    }
   ],
   "source": [
    "function sum1(N::Int)\n",
    "    total = 0\n",
    "    \n",
    "    for i in 1:N\n",
    "        total += i/2\n",
    "    end\n",
    "    \n",
    "    total\n",
    "end\n",
    "\n",
    "function sum2(N::Int)\n",
    "    total = 0.0\n",
    "    \n",
    "    for i in 1:N\n",
    "        total += i/2\n",
    "    end\n",
    "    \n",
    "    total\n",
    "end"
   ]
  },
  {
   "cell_type": "code",
   "execution_count": 70,
   "metadata": {
    "collapsed": false,
    "slideshow": {
     "slide_type": "subslide"
    }
   },
   "outputs": [
    {
     "data": {
      "text/plain": [
       "(27.5,27.5)"
      ]
     },
     "execution_count": 70,
     "metadata": {},
     "output_type": "execute_result"
    }
   ],
   "source": [
    "sum1(10), sum2(10)"
   ]
  },
  {
   "cell_type": "code",
   "execution_count": 71,
   "metadata": {
    "collapsed": false,
    "slideshow": {
     "slide_type": "fragment"
    }
   },
   "outputs": [
    {
     "name": "stdout",
     "output_type": "stream",
     "text": [
      "elapsed time: 0.972562322 seconds (320003184 bytes allocated, 51.30% gc time)\n",
      "elapsed time: 0.014834619 seconds (96 bytes allocated)\n"
     ]
    },
    {
     "data": {
      "text/plain": [
       "2.50000025e13"
      ]
     },
     "execution_count": 71,
     "metadata": {},
     "output_type": "execute_result"
    }
   ],
   "source": [
    "N = 10000000\n",
    "\n",
    "@time sum1(N)\n",
    "@time sum2(N)"
   ]
  },
  {
   "cell_type": "code",
   "execution_count": 72,
   "metadata": {
    "collapsed": false,
    "slideshow": {
     "slide_type": "subslide"
    }
   },
   "outputs": [
    {
     "data": {
      "text/plain": [
       "1-element Array{Any,1}:\n",
       " :($(Expr(:lambda, {:N}, {{:total,symbol(\"#s233\"),symbol(\"#s232\"),symbol(\"#s231\"),:i,:_var0,:_var1},{{:N,Int64,0},{:total,Float64,2},{symbol(\"#s233\"),UnitRange{Int64},18},{symbol(\"#s232\"),Int64,2},{symbol(\"#s231\"),(Int64,Int64),18},{:i,Int64,18},{:_var0,Int64,18},{:_var1,Int64,18}},{}}, :(begin  # In[69], line 12:\n",
       "        total = 0.0 # line 14:\n",
       "        #s233 = $(Expr(:new, UnitRange{Int64}, 1, :(((top(getfield))(Intrinsics,:select_value))((top(sle_int))(1,N::Int64)::Bool,N::Int64,(top(box))(Int64,(top(sub_int))(1,1))::Int64)::Int64)))::UnitRange{Int64}\n",
       "        #s232 = (top(getfield))(#s233::UnitRange{Int64},:start)::Int64\n",
       "        unless (top(box))(Bool,(top(not_int))(#s232::Int64 === (top(box))(Int64,(top(add_int))((top(getfield))(#s233::UnitRange{Int64},:stop)::Int64,1))::Int64::Bool))::Bool goto 1\n",
       "        2: \n",
       "        _var0 = #s232::Int64\n",
       "        _var1 = (top(box))(Int64,(top(add_int))(#s232::Int64,1))::Int64\n",
       "        i = _var0::Int64\n",
       "        #s232 = _var1::Int64 # line 15:\n",
       "        total = (top(box))(Float64,(top(add_float))(total::Float64,(top(box))(Float64,(top(div_float))((top(box))(Float64,(top(sitofp))(Float64,i::Int64))::Float64,(top(box))(Float64,(top(sitofp))(Float64,2))::Float64))::Float64))::Float64\n",
       "        3: \n",
       "        unless (top(box))(Bool,(top(not_int))((top(box))(Bool,(top(not_int))(#s232::Int64 === (top(box))(Int64,(top(add_int))((top(getfield))(#s233::UnitRange{Int64},:stop)::Int64,1))::Int64::Bool))::Bool))::Bool goto 2\n",
       "        1: \n",
       "        0:  # line 18:\n",
       "        return total::Float64\n",
       "    end::Float64))))"
      ]
     },
     "execution_count": 72,
     "metadata": {},
     "output_type": "execute_result"
    }
   ],
   "source": [
    "code_typed(sum2, (Int,))"
   ]
  },
  {
   "cell_type": "code",
   "execution_count": 73,
   "metadata": {
    "collapsed": false,
    "slideshow": {
     "slide_type": "subslide"
    }
   },
   "outputs": [
    {
     "name": "stdout",
     "output_type": "stream",
     "text": [
      "\n",
      "define double @julia_sum2_22795(i64) {\n",
      "top:\n",
      "  %1 = icmp sgt i64 %0, 0, !dbg !9355\n",
      "  br i1 %1, label %L, label %L3, !dbg !9355\n",
      "\n",
      "L:                                                ; preds = %top, %L\n",
      "  %total.0 = phi double [ %5, %L ], [ 0.000000e+00, %top ]\n",
      "  %\"#s232.0\" = phi i64 [ %2, %L ], [ 1, %top ]\n",
      "  %2 = add i64 %\"#s232.0\", 1, !dbg !9355\n",
      "  %3 = sitofp i64 %\"#s232.0\" to double, !dbg !9356\n",
      "  %4 = fmul double %3, 5.000000e-01, !dbg !9356\n",
      "  %5 = fadd double %total.0, %4, !dbg !9356\n",
      "  %6 = icmp eq i64 %\"#s232.0\", %0, !dbg !9356\n",
      "  br i1 %6, label %L3, label %L, !dbg !9356\n",
      "\n",
      "L3:                                               ; preds = %L, %top\n",
      "  %total.1 = phi double [ 0.000000e+00, %top ], [ %5, %L ]\n",
      "  ret double %total.1, !dbg !9357\n",
      "}\n"
     ]
    }
   ],
   "source": [
    "code_llvm(sum2, (Int, ))"
   ]
  },
  {
   "cell_type": "code",
   "execution_count": 74,
   "metadata": {
    "collapsed": false,
    "slideshow": {
     "slide_type": "subslide"
    }
   },
   "outputs": [
    {
     "name": "stdout",
     "output_type": "stream",
     "text": [
      "\t.text\n",
      "Filename: In[69]\n",
      "Source line: 15\n",
      "\tpush\tRBP\n",
      "\tmov\tRBP, RSP\n",
      "\txorps\tXMM0, XMM0\n",
      "\ttest\tRDI, RDI\n",
      "\tjle\t47\n",
      "\tmov\tEAX, 1\n",
      "\tmovabs\tRCX, 140481969459824\n",
      "\tmovsd\tXMM1, QWORD PTR [RCX]\n",
      "Source line: 15\n",
      "\txorps\tXMM2, XMM2\n",
      "\tcvtsi2sd\tXMM2, RAX\n",
      "\tmulsd\tXMM2, XMM1\n",
      "\taddsd\tXMM0, XMM2\n",
      "Source line: 14\n",
      "\tinc\tRAX\n",
      "Source line: 15\n",
      "\tdec\tRDI\n",
      "\tjne\t-28\n",
      "Source line: 18\n",
      "\tpop\tRBP\n",
      "\tret\n"
     ]
    }
   ],
   "source": [
    "code_native(sum2, (Int,))"
   ]
  },
  {
   "cell_type": "code",
   "execution_count": 75,
   "metadata": {
    "collapsed": false,
    "slideshow": {
     "slide_type": "slide"
    }
   },
   "outputs": [],
   "source": [
    "#instalirao sam s Pkg.add(\"PyCall\")\n",
    "using PyCall"
   ]
  },
  {
   "cell_type": "code",
   "execution_count": 76,
   "metadata": {
    "collapsed": false,
    "slideshow": {
     "slide_type": "fragment"
    }
   },
   "outputs": [
    {
     "data": {
      "text/plain": [
       "3x4 Array{Float64,2}:\n",
       " 0.204852  0.0548087  0.664496  0.753985\n",
       " 0.920138  0.3342     0.88458   0.830015\n",
       " 0.769597  0.483396   0.4446    0.495534"
      ]
     },
     "execution_count": 76,
     "metadata": {},
     "output_type": "execute_result"
    }
   ],
   "source": [
    "@pyimport numpy.random as nprandom\n",
    "nprandom.rand(3,4)"
   ]
  },
  {
   "cell_type": "code",
   "execution_count": 77,
   "metadata": {
    "collapsed": false,
    "slideshow": {
     "slide_type": "subslide"
    }
   },
   "outputs": [
    {
     "data": {
      "text/plain": [
       "(anonymous function)"
      ]
     },
     "execution_count": 77,
     "metadata": {},
     "output_type": "execute_result"
    }
   ],
   "source": [
    "objective = x -> cos(x) - x #ekvivalent lambda funkcijama u Pythonu"
   ]
  },
  {
   "cell_type": "code",
   "execution_count": 78,
   "metadata": {
    "collapsed": false,
    "slideshow": {
     "slide_type": "fragment"
    }
   },
   "outputs": [
    {
     "data": {
      "text/plain": [
       "0.7390851332151607"
      ]
     },
     "execution_count": 78,
     "metadata": {},
     "output_type": "execute_result"
    }
   ],
   "source": [
    "@pyimport scipy.optimize as so\n",
    "so.newton(objective, 1)"
   ]
  },
  {
   "cell_type": "code",
   "execution_count": 79,
   "metadata": {
    "collapsed": false,
    "slideshow": {
     "slide_type": "slide"
    }
   },
   "outputs": [
    {
     "data": {
      "text/plain": [
       "52404180"
      ]
     },
     "execution_count": 79,
     "metadata": {},
     "output_type": "execute_result"
    }
   ],
   "source": [
    "t = ccall( (:clock, \"libc\"), Int32, ())"
   ]
  },
  {
   "cell_type": "code",
   "execution_count": 80,
   "metadata": {
    "collapsed": false,
    "slideshow": {
     "slide_type": "subslide"
    }
   },
   "outputs": [
    {
     "name": "stdout",
     "output_type": "stream",
     "text": [
      "Base.ccall((symbol, library) or fptr, RetType, (ArgType1, ...), ArgVar1, ...)\n",
      "\n",
      "   Call function in C-exported shared library, specified by\n",
      "   \"(function name, library)\" tuple, where each component is a\n",
      "   String or :Symbol. Alternatively, ccall may be used to call a\n",
      "   function pointer returned by dlsym, but note that this usage is\n",
      "   generally discouraged to facilitate future static compilation. Note\n",
      "   that the argument type tuple must be a literal tuple, and not a\n",
      "   tuple-valued variable or expression.\n"
     ]
    }
   ],
   "source": [
    "help(\"ccall\")"
   ]
  },
  {
   "cell_type": "code",
   "execution_count": 81,
   "metadata": {
    "collapsed": false,
    "slideshow": {
     "slide_type": "slide"
    }
   },
   "outputs": [
    {
     "data": {
      "text/plain": [
       "es (generic function with 1 method)"
      ]
     },
     "execution_count": 81,
     "metadata": {},
     "output_type": "execute_result"
    }
   ],
   "source": [
    "function es(n::Int64)\n",
    "    l = ones(Bool, n)\n",
    "    l[1] = false\n",
    "    for i in 2:int64(sqrt(n))\n",
    "        if l[i]\n",
    "            for j in (i*i):i:n\n",
    "                l[j] = false\n",
    "            end\n",
    "        end\n",
    "    end\n",
    "    return filter(x -> l[x],1:n)\n",
    "end"
   ]
  }
 ],
 "metadata": {
  "celltoolbar": "Slideshow",
  "kernelspec": {
   "display_name": "Julia",
   "language": "julia",
   "name": "julia 0.3"
  },
  "language_info": {
   "name": "julia",
   "version": "0.3.10"
  },
  "name": "Julia.ipynb"
 },
 "nbformat": 4,
 "nbformat_minor": 0
}
