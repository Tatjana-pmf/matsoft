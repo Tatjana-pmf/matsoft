{
 "cells": [
  {
   "cell_type": "markdown",
   "metadata": {},
   "source": [
    "Neki primjeri korištenja LaTeXa unutar IPython notebooka\n",
    "======\n",
    "\n",
    "neka lista\n",
    "\n",
    "- sdgfsg\n",
    "- sgsfjgdfg\n",
    "- sdgjdfgh"
   ]
  },
  {
   "cell_type": "markdown",
   "metadata": {},
   "source": [
    "Ovo je matematika\n",
    "$$\\begin{align}\n",
    "a & = b + c\\\\\n",
    "b +c & = 1+2+3+4+5+6\n",
    "\\end{align}$$"
   ]
  },
  {
   "cell_type": "markdown",
   "metadata": {},
   "source": [
    "I ovo\n",
    "$$\n",
    "\\left. f(x) \\right\\rvert_{x=0} = 0\n",
    "$$"
   ]
  },
  {
   "cell_type": "markdown",
   "metadata": {},
   "source": [
    "I ovo\n",
    "$$\n",
    "\\begin{aligned}\n",
    "u_x&=v_y\\\\\\\\ u_y&=-v_x\n",
    "\\end{aligned}\n",
    "$$"
   ]
  },
  {
   "cell_type": "markdown",
   "metadata": {},
   "source": [
    "$$\n",
    "\\begin{bmatrix}\n",
    "1 & 2 & 3 & \\ldots &  n \\\\\n",
    "2 & 3 & 4 & \\ldots & n \\\\\n",
    "\\vdots & \\vdots & \\vdots & \\ddots & \\vdots \\\\\n",
    "n & n+1 & n+2 & \\ldots & 2n\n",
    "\\end{bmatrix}\n",
    "$$"
   ]
  },
  {
   "cell_type": "markdown",
   "metadata": {},
   "source": [
    "$$\\begin{multline*}\n",
    "e^x=1+x+ ... +\\frac{x^8}{8!}\\\\\n",
    "+\\frac{x^9}{9!}+\\frac{x^{10}}{10!}\n",
    "\\end{multline*}$$"
   ]
  },
  {
   "cell_type": "markdown",
   "metadata": {},
   "source": [
    "$$\n",
    "\\begin{equation}\n",
    "e^{i\\pi}=-1\n",
    "\\end{equation}\n",
    "$$"
   ]
  },
  {
   "cell_type": "markdown",
   "metadata": {},
   "source": [
    "$$ \\overbrace{a+b+\\cdots+z}^n\n",
    "\\qquad \n",
    "\\underbrace{1\\cdot 2\\cdots n}_{n!}$$"
   ]
  },
  {
   "cell_type": "markdown",
   "metadata": {},
   "source": [
    "$$ x\\mathbin\\Box y=x^2+y^2$$"
   ]
  },
  {
   "cell_type": "markdown",
   "metadata": {},
   "source": [
    "$$ V=\\{ x\\in\\mathbb{N}\\colon x \\text{ je potencija broja }2\\}$$"
   ]
  },
  {
   "cell_type": "markdown",
   "metadata": {},
   "source": [
    "$$ \\sqrt{2-\\sqrt{2+\\sqrt{2+\\sqrt{2+\\sqrt{2}}}}}$$"
   ]
  },
  {
   "cell_type": "markdown",
   "metadata": {},
   "source": [
    "$$\n",
    "\\begin{align}\n",
    "   F( z ) & = \\sum^\\infty_{n=0} f_n z^n             \\\\\n",
    "     & = z + \\sum^\\infty_{n=2}(f_{n-1}+f_{n-2}) z^n \\\\\n",
    "     & = z + F( z )/z + F( z )/z^2                  \\\\\n",
    "     & = z / (1 - z - z^2)                          \\,.\n",
    "\\end{align}\n",
    "$$"
   ]
  },
  {
   "cell_type": "markdown",
   "metadata": {},
   "source": [
    "$\\alpha$"
   ]
  }
 ],
 "metadata": {
  "kernelspec": {
   "display_name": "Python 2",
   "language": "python",
   "name": "python2"
  },
  "language_info": {
   "codemirror_mode": {
    "name": "ipython",
    "version": 2
   },
   "file_extension": ".py",
   "mimetype": "text/x-python",
   "name": "python",
   "nbconvert_exporter": "python",
   "pygments_lexer": "ipython2",
   "version": "2.7.9"
  },
  "name": "LaTeX.ipynb"
 },
 "nbformat": 4,
 "nbformat_minor": 0
}
