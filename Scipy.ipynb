{
 "metadata": {
  "name": ""
 },
 "nbformat": 3,
 "nbformat_minor": 0,
 "worksheets": [
  {
   "cells": [
    {
     "cell_type": "markdown",
     "metadata": {
      "slideshow": {
       "slide_type": "slide"
      }
     },
     "source": [
      "SciPy\n",
      "====="
     ]
    },
    {
     "cell_type": "markdown",
     "metadata": {
      "slideshow": {
       "slide_type": "slide"
      }
     },
     "source": [
      "## \u0160to je SciPy?\n",
      "\n",
      "SciPy je nadgradnja NumPy paketa, i sadr\u017ei veliki broj numeri\u010dkih algoritama za cijeli niz podru\u010dja. Ovdje su pobrojana neka nama zanimljivija:\n",
      "\n",
      "* Specijalne funkcije ([scipy.special](http://docs.scipy.org/doc/scipy/reference/special.html))\n",
      "* Integracija ([scipy.integrate](http://docs.scipy.org/doc/scipy/reference/integrate.html))\n",
      "* Optimizacija ([scipy.optimize](http://docs.scipy.org/doc/scipy/reference/optimize.html))\n",
      "* Interpolacija ([scipy.interpolate](http://docs.scipy.org/doc/scipy/reference/interpolate.html))\n",
      "* Fourierova transformacija ([scipy.fftpack](http://docs.scipy.org/doc/scipy/reference/fftpack.html))\n",
      "* Linearna algebra ([scipy.linalg](http://docs.scipy.org/doc/scipy/reference/linalg.html))\n",
      "* Linearna algebra s rijetkim matricama ([scipy.sparse](http://docs.scipy.org/doc/scipy/reference/sparse.html))\n",
      "* Statistika ([scipy.stats](http://docs.scipy.org/doc/scipy/reference/stats.html))\n",
      "* Procesiranje slika ([scipy.ndimage](http://docs.scipy.org/doc/scipy/reference/ndimage.html))\n",
      "\n",
      "Za zadnja dva podru\u010dja postoje i napredniji paketi. Za slike smo ve\u0107 npr. koristili *scikit-image*), a za statistiku \u0107emo korititi *pandas* paket."
     ]
    },
    {
     "cell_type": "markdown",
     "metadata": {
      "slideshow": {
       "slide_type": "slide"
      }
     },
     "source": [
      "SciPy paket u\u010ditavamo pomo\u0107u `scipy` modula."
     ]
    },
    {
     "cell_type": "code",
     "collapsed": false,
     "input": [
      "from scipy import *"
     ],
     "language": "python",
     "metadata": {
      "slideshow": {
       "slide_type": "fragment"
      }
     },
     "outputs": [],
     "prompt_number": 76
    },
    {
     "cell_type": "markdown",
     "metadata": {
      "slideshow": {
       "slide_type": "fragment"
      }
     },
     "source": [
      "Narvno, mo\u017eemo u\u010ditati i samo podpaket koji nas zanima, u ovom slu\u010daju za linearnu algebru. "
     ]
    },
    {
     "cell_type": "code",
     "collapsed": false,
     "input": [
      "import scipy.linalg as la"
     ],
     "language": "python",
     "metadata": {
      "slideshow": {
       "slide_type": "fragment"
      }
     },
     "outputs": [],
     "prompt_number": 77
    },
    {
     "cell_type": "markdown",
     "metadata": {
      "slideshow": {
       "slide_type": "slide"
      }
     },
     "source": [
      "## Specijalne funkcije\n",
      "\n",
      "Kao primjer pogledajmo Besselove funkcije:"
     ]
    },
    {
     "cell_type": "code",
     "collapsed": false,
     "input": [
      "# jn, yn: Besselove funkcije prvog i drugog reda s realnim stupnjem\n",
      "# jn_zeros, yn_zeros: ra\u010dunaju pripadne nulto\u010dke\n",
      "from scipy.special import jn, yn, jn_zeros, yn_zeros"
     ],
     "language": "python",
     "metadata": {
      "slideshow": {
       "slide_type": "fragment"
      }
     },
     "outputs": [],
     "prompt_number": 78
    },
    {
     "cell_type": "code",
     "collapsed": false,
     "input": [
      "n = 0    # stupanj\n",
      "x = 0.0\n",
      "\n",
      "print \"J_%d(%f) = %f\" % (n, x, jn(n, x))\n",
      "\n",
      "x = 1.0\n",
      "print \"Y_%d(%f) = %f\" % (n, x, yn(n, x))"
     ],
     "language": "python",
     "metadata": {
      "slideshow": {
       "slide_type": "subslide"
      }
     },
     "outputs": [
      {
       "output_type": "stream",
       "stream": "stdout",
       "text": [
        "J_0(0.000000) = 1.000000\n",
        "Y_0(1.000000) = 0.088257\n"
       ]
      }
     ],
     "prompt_number": 79
    },
    {
     "cell_type": "code",
     "collapsed": false,
     "input": [
      "from pylab import *"
     ],
     "language": "python",
     "metadata": {
      "slideshow": {
       "slide_type": "fragment"
      }
     },
     "outputs": [],
     "prompt_number": 80
    },
    {
     "cell_type": "code",
     "collapsed": false,
     "input": [
      "x = linspace(0, 10, 100)\n",
      "\n",
      "fig, ax = subplots()\n",
      "for n in range(4):\n",
      "    ax.plot(x, jn(n, x), label=r\"$J_%d(x)$\" % n)\n",
      "ax.legend();"
     ],
     "language": "python",
     "metadata": {
      "slideshow": {
       "slide_type": "subslide"
      }
     },
     "outputs": [
      {
       "metadata": {},
       "output_type": "display_data",
       "png": "[encoded data removed]",
       "text": [
        "<matplotlib.figure.Figure at 0x2f9e990>"
       ]
      }
     ],
     "prompt_number": 81
    },
    {
     "cell_type": "code",
     "collapsed": false,
     "input": [
      "n = 0 # stupanj\n",
      "m = 4 # broj nulto\u010daka za izra\u010dunati\n",
      "jn_zeros(n, m)"
     ],
     "language": "python",
     "metadata": {
      "slideshow": {
       "slide_type": "subslide"
      }
     },
     "outputs": [
      {
       "metadata": {},
       "output_type": "pyout",
       "prompt_number": 82,
       "text": [
        "array([  2.40482556,   5.52007811,   8.65372791,  11.79153444])"
       ]
      }
     ],
     "prompt_number": 82
    },
    {
     "cell_type": "markdown",
     "metadata": {
      "slideshow": {
       "slide_type": "slide"
      }
     },
     "source": [
      "## Numeri\u010dka integracija"
     ]
    },
    {
     "cell_type": "code",
     "collapsed": false,
     "input": [
      "from scipy.integrate import quad, dblquad, tplquad"
     ],
     "language": "python",
     "metadata": {
      "slideshow": {
       "slide_type": "fragment"
      }
     },
     "outputs": [],
     "prompt_number": 83
    },
    {
     "cell_type": "markdown",
     "metadata": {
      "slideshow": {
       "slide_type": "subslide"
      }
     },
     "source": [
      "`quad` funkcija se koriste za numeri\u010dku integracije (quad ... jer se na engleskom taj proces zove kvadratura). `dblquad` slu\u017ei za dvostruke, a `tplquad` za  trostruke integrale.\n",
      "\n",
      "Jednostavan primjer, ra\u010dunamo \n",
      "\\begin{equation*} \\int_0^1 x\\, \\mathrm{d}x \\end{equation*}"
     ]
    },
    {
     "cell_type": "code",
     "collapsed": false,
     "input": [
      "def f(x):\n",
      "    return x"
     ],
     "language": "python",
     "metadata": {
      "slideshow": {
       "slide_type": "fragment"
      }
     },
     "outputs": [],
     "prompt_number": 84
    },
    {
     "cell_type": "code",
     "collapsed": false,
     "input": [
      "x_donje = 0\n",
      "x_gornje = 1\n",
      "\n",
      "rez, abserr = quad(f, x_donje, x_gornje)\n",
      "\n",
      "print \"Rezultat =\", rez, \", apsolutna gre\u0161ka =\", abserr "
     ],
     "language": "python",
     "metadata": {
      "slideshow": {
       "slide_type": "fragment"
      }
     },
     "outputs": [
      {
       "output_type": "stream",
       "stream": "stdout",
       "text": [
        "Rezultat = 0.5 , apsolutna gre\u0161ka = 5.55111512313e-15\n"
       ]
      }
     ],
     "prompt_number": 85
    },
    {
     "cell_type": "markdown",
     "metadata": {
      "slideshow": {
       "slide_type": "subslide"
      }
     },
     "source": [
      "Ove funkcije imaju puno opcionalnih argumenata. Ako \u017eelimo funkciji koju integriramo proslijediti dodatne parametre (vidi [ovdje](http://docs.scipy.org/doc/scipy/reference/generated/scipy.integrate.quad.html)), mo\u017eemo korisiti varijablu `args`."
     ]
    },
    {
     "cell_type": "code",
     "collapsed": false,
     "input": [
      "def integrand(x, n):\n",
      "    \"\"\"\n",
      "    Besselova funkcija prvog tipa stupnja n. \n",
      "    \"\"\"\n",
      "    return jn(n, x)\n",
      "\n",
      "\n",
      "x_d = 0\n",
      "x_g = 10\n",
      "\n",
      "rez, abserr = quad(integrand, x_d, x_g, args=(3,))\n",
      "\n",
      "print rez, abserr "
     ],
     "language": "python",
     "metadata": {
      "slideshow": {
       "slide_type": "fragment"
      }
     },
     "outputs": [
      {
       "output_type": "stream",
       "stream": "stdout",
       "text": [
        "0.736675137081 9.38925687719e-13\n"
       ]
      }
     ],
     "prompt_number": 86
    },
    {
     "cell_type": "markdown",
     "metadata": {
      "slideshow": {
       "slide_type": "subslide"
      }
     },
     "source": [
      "Kori\u0161tenje anonimnih funkcija:"
     ]
    },
    {
     "cell_type": "code",
     "collapsed": false,
     "input": [
      "rez, abserr = quad(lambda x: exp(-x ** 2), -Inf, Inf)\n",
      "\n",
      "print \"numeri\u010dki  =\", rez, abserr\n",
      "\n",
      "egzaktno = sqrt(pi)\n",
      "print \"egzaktno =\", egzaktno"
     ],
     "language": "python",
     "metadata": {
      "slideshow": {
       "slide_type": "fragment"
      }
     },
     "outputs": [
      {
       "output_type": "stream",
       "stream": "stdout",
       "text": [
        "numeri\u010dki  = 1.77245385091 1.42026367844e-08\n",
        "egzaktno = 1.77245385091\n"
       ]
      }
     ],
     "prompt_number": 87
    },
    {
     "cell_type": "markdown",
     "metadata": {
      "slideshow": {
       "slide_type": "subslide"
      }
     },
     "source": [
      "U vi\u0161e dimenzija:\n",
      "\n",
      "\\begin{equation*}\n",
      "\\int_a^b \\int_{g(x)}^{h(x)} f(x,y)\\,\\mathrm{d}y\\mathrm{d}x\n",
      "\\end{equation*}"
     ]
    },
    {
     "cell_type": "code",
     "collapsed": false,
     "input": [
      "def integrand(x, y):\n",
      "    return exp(-x**2-y**2)\n",
      "\n",
      "x_d = 0  \n",
      "x_g = 10\n",
      "y_d = 0\n",
      "y_g = 10\n",
      "# ovdje je a = x_d, b = x_g, g(x) = y_d, h(x) = y_g\n",
      "# g(x) i h(x) trebaju biti funkcije!\n",
      "rez, abserr = dblquad(integrand, x_d, x_g, lambda x : y_d, lambda x: y_g)\n",
      "\n",
      "print rez, abserr "
     ],
     "language": "python",
     "metadata": {
      "slideshow": {
       "slide_type": "fragment"
      }
     },
     "outputs": [
      {
       "output_type": "stream",
       "stream": "stdout",
       "text": [
        "0.785398163397 1.6382299432e-13\n"
       ]
      }
     ],
     "prompt_number": 88
    },
    {
     "cell_type": "markdown",
     "metadata": {
      "slideshow": {
       "slide_type": "slide"
      }
     },
     "source": [
      "### Obi\u010dne diferencijalne jednad\u017ebe (ODJ)\n",
      "\n",
      "SciPy nudi dvije mogu\u0107nosti rje\u0161avanja ODJ: Funkciju `odeint` i klasu `ode`. Mi \u0107emo prikazati `odeint`."
     ]
    },
    {
     "cell_type": "code",
     "collapsed": false,
     "input": [
      "from scipy.integrate import odeint, ode"
     ],
     "language": "python",
     "metadata": {
      "slideshow": {
       "slide_type": "fragment"
      }
     },
     "outputs": [],
     "prompt_number": 89
    },
    {
     "cell_type": "markdown",
     "metadata": {
      "slideshow": {
       "slide_type": "subslide"
      }
     },
     "source": [
      "Sustav ODJ zapisujemo kao:\n",
      "\n",
      "$y' = f(y, t)$\n",
      "\n",
      "gdje je \n",
      "\n",
      "$y = [y_1(t), y_2(t), ..., y_n(t)]$, \n",
      "\n",
      "Jo\u0161 trebamo i po\u010detne uvjete $y(0)$.\n",
      "\n",
      "Ovo je sintaksa:\n",
      "\n",
      "    y_t = odeint(f, y_0, t)\n",
      "\n",
      "+ `t` je niz vremena za koje \u017eelimo rije\u0161iti ODJ \n",
      "+ `y_t` je niz s jednim retkom za svaki trenutak iz `t`, a stupci daje rje\u0161enje `y_i(t)` u tom trenutku"
     ]
    },
    {
     "cell_type": "markdown",
     "metadata": {
      "slideshow": {
       "slide_type": "slide"
      }
     },
     "source": [
      "#### Dvostruko njihalo"
     ]
    },
    {
     "cell_type": "markdown",
     "metadata": {
      "slideshow": {
       "slide_type": "fragment"
      }
     },
     "source": [
      "Opis problema: [http://en.wikipedia.org/wiki/Double_pendulum](http://en.wikipedia.org/wiki/Double_pendulum)"
     ]
    },
    {
     "cell_type": "code",
     "collapsed": false,
     "input": [
      "from IPython.display import Image\n",
      "Image(url='http://upload.wikimedia.org/wikipedia/commons/c/c9/Double-compound-pendulum-dimensioned.svg')"
     ],
     "language": "python",
     "metadata": {
      "slideshow": {
       "slide_type": "fragment"
      }
     },
     "outputs": [
      {
       "html": [
        "<img src=\"http://upload.wikimedia.org/wikipedia/commons/c/c9/Double-compound-pendulum-dimensioned.svg\"/>"
       ],
       "metadata": {},
       "output_type": "pyout",
       "prompt_number": 90,
       "text": [
        "<IPython.core.display.Image at 0x2966710>"
       ]
      }
     ],
     "prompt_number": 90
    },
    {
     "cell_type": "markdown",
     "metadata": {
      "slideshow": {
       "slide_type": "subslide"
      }
     },
     "source": [
      "Ovo su jednad\u017ee s wiki stranice:\n",
      "\n",
      "${\\dot \\theta_1} = \\frac{6}{m\\ell^2} \\frac{ 2 p_{\\theta_1} - 3 \\cos(\\theta_1-\\theta_2) p_{\\theta_2}}{16 - 9 \\cos^2(\\theta_1-\\theta_2)}$\n",
      "\n",
      "${\\dot \\theta_2} = \\frac{6}{m\\ell^2} \\frac{ 8 p_{\\theta_2} - 3 \\cos(\\theta_1-\\theta_2) p_{\\theta_1}}{16 - 9 \\cos^2(\\theta_1-\\theta_2)}.$\n",
      "\n",
      "${\\dot p_{\\theta_1}} = -\\frac{1}{2} m \\ell^2 \\left [ {\\dot \\theta_1} {\\dot \\theta_2} \\sin (\\theta_1-\\theta_2) + 3 \\frac{g}{\\ell} \\sin \\theta_1 \\right ]$\n",
      "\n",
      "${\\dot p_{\\theta_2}} = -\\frac{1}{2} m \\ell^2 \\left [ -{\\dot \\theta_1} {\\dot \\theta_2} \\sin (\\theta_1-\\theta_2) +  \\frac{g}{\\ell} \\sin \\theta_2 \\right]$\n",
      "\n",
      "Definiramo:\n",
      "\n",
      "$x = [\\theta_1, \\theta_2, p_{\\theta_1}, p_{\\theta_2}]$"
     ]
    },
    {
     "cell_type": "code",
     "collapsed": false,
     "input": [
      "g = 9.82\n",
      "L = 0.5\n",
      "m = 0.1\n",
      "\n",
      "def dx(x, t):\n",
      "    \"\"\"\n",
      "    Desna strana ODJ\n",
      "    \"\"\"\n",
      "    x1, x2, x3, x4 = x[0], x[1], x[2], x[3]\n",
      "    \n",
      "    dx1 = 6.0/(m*L**2) * (2 * x3 - 3 * cos(x1-x2) * x4)/(16 - 9 * cos(x1-x2)**2)\n",
      "    dx2 = 6.0/(m*L**2) * (8 * x4 - 3 * cos(x1-x2) * x3)/(16 - 9 * cos(x1-x2)**2)\n",
      "    dx3 = -0.5 * m * L**2 * ( dx1 * dx2 * sin(x1-x2) + 3 * (g/L) * sin(x1))\n",
      "    dx4 = -0.5 * m * L**2 * (-dx1 * dx2 * sin(x1-x2) + (g/L) * sin(x2))\n",
      "    \n",
      "    return [dx1, dx2, dx3, dx4]"
     ],
     "language": "python",
     "metadata": {
      "slideshow": {
       "slide_type": "subslide"
      }
     },
     "outputs": [],
     "prompt_number": 91
    },
    {
     "cell_type": "code",
     "collapsed": false,
     "input": [
      "# po\u010detni uvjet\n",
      "x0 = [pi/4, pi/2, 0, 0]"
     ],
     "language": "python",
     "metadata": {
      "slideshow": {
       "slide_type": "subslide"
      }
     },
     "outputs": [],
     "prompt_number": 92
    },
    {
     "cell_type": "code",
     "collapsed": false,
     "input": [
      "# niz vremena\n",
      "t = linspace(0, 10, 250)"
     ],
     "language": "python",
     "metadata": {
      "slideshow": {
       "slide_type": "fragment"
      }
     },
     "outputs": [],
     "prompt_number": 93
    },
    {
     "cell_type": "code",
     "collapsed": false,
     "input": [
      "# rje\u0161enje ODJ\n",
      "x = odeint(dx, x0, t)"
     ],
     "language": "python",
     "metadata": {
      "slideshow": {
       "slide_type": "fragment"
      }
     },
     "outputs": [],
     "prompt_number": 94
    },
    {
     "cell_type": "code",
     "collapsed": false,
     "input": [
      "# nacrtajmo rje\u0161enje\n",
      "# crtamo kuteve\n",
      "fig, axes = subplots(1,2, figsize=(12,4))\n",
      "axes[0].plot(t, x[:, 0], 'r', label=\"theta1\")\n",
      "axes[0].plot(t, x[:, 1], 'b', label=\"theta2\")\n",
      "x1 = + L * sin(x[:, 0])\n",
      "y1 = - L * cos(x[:, 0])\n",
      "x2 = x1 + L * sin(x[:, 1])\n",
      "y2 = y1 - L * cos(x[:, 1])\n",
      "axes[1].plot(x1, y1, 'r', label=\"njihalo1\")\n",
      "axes[1].plot(x2, y2, 'b', label=\"njihalo2\")\n",
      "axes[1].set_ylim([-1, 0])\n",
      "axes[1].set_xlim([1, -1]);"
     ],
     "language": "python",
     "metadata": {
      "slideshow": {
       "slide_type": "subslide"
      }
     },
     "outputs": [
      {
       "metadata": {},
       "output_type": "display_data",
       "png": "[encoded data removed]",
       "text": [
        "<matplotlib.figure.Figure at 0x29666d0>"
       ]
      }
     ],
     "prompt_number": 95
    },
    {
     "cell_type": "markdown",
     "metadata": {
      "slideshow": {
       "slide_type": "subslide"
      }
     },
     "source": [
      "Jednostavna animacija, kasnije \u0107emo vidjeti kako mo\u017eemo napravit bolju animaciju."
     ]
    },
    {
     "cell_type": "code",
     "collapsed": false,
     "input": [
      "from IPython.display import clear_output\n",
      "import time"
     ],
     "language": "python",
     "metadata": {
      "slideshow": {
       "slide_type": "fragment"
      }
     },
     "outputs": [],
     "prompt_number": 96
    },
    {
     "cell_type": "code",
     "collapsed": false,
     "input": [
      "fig, ax = subplots(figsize=(4,4))\n",
      "for t_idx, tt in enumerate(t[:200]):\n",
      "    x1 = + L * sin(x[t_idx, 0])\n",
      "    y1 = - L * cos(x[t_idx, 0])\n",
      "    x2 = x1 + L * sin(x[t_idx, 1])\n",
      "    y2 = y1 - L * cos(x[t_idx, 1])    \n",
      "    ax.cla()    \n",
      "    ax.plot([0, x1], [0, y1], 'r.-')\n",
      "    ax.plot([x1, x2], [y1, y2], 'b.-')\n",
      "    ax.set_ylim([-1.5, 0.5])\n",
      "    ax.set_xlim([1, -1])\n",
      "    display(fig)\n",
      "    clear_output()    \n",
      "    time.sleep(0.1)"
     ],
     "language": "python",
     "metadata": {
      "slideshow": {
       "slide_type": "subslide"
      }
     },
     "outputs": [
      {
       "metadata": {},
       "output_type": "display_data",
       "png": "[encoded data removed]",
       "text": [
        "<matplotlib.figure.Figure at 0x3073ad0>"
       ]
      }
     ],
     "prompt_number": 97
    },
    {
     "cell_type": "markdown",
     "metadata": {
      "slideshow": {
       "slide_type": "slide"
      }
     },
     "source": [
      "#### Prigu\u0161eni dinami\u010dki oscilator"
     ]
    },
    {
     "cell_type": "markdown",
     "metadata": {
      "slideshow": {
       "slide_type": "fragment"
      }
     },
     "source": [
      "Opis problema mo\u017eete pro\u010ditati ovdje: [http://en.wikipedia.org/wiki/Damping](http://en.wikipedia.org/wiki/Damping)\n",
      "\n",
      "Jednad\u017eba je\n",
      "\n",
      "\\begin{equation} \\frac{\\mathrm{d}^2x}{\\mathrm{d}t^2} + 2\\zeta\\omega_0\\frac{\\mathrm{d}x}{\\mathrm{d}t} + \\omega^2_0 x = 0 \\end{equation}\n",
      "\n",
      "+ $x$ pozicija oscilatora, \n",
      "+ $\\omega_0$ frekvencija,\n",
      "+ $\\zeta$ koeficijent gu\u0161enja. \n",
      "\n",
      "Definiramo $p = \\frac{\\mathrm{d}x}{\\mathrm{d}t}$:\n",
      "\n",
      "\\begin{equation} \\frac{\\mathrm{d}p}{\\mathrm{d}t} = - 2\\zeta\\omega_0 p - \\omega^2_0 x \\end{equation}\n",
      "\n",
      "\\begin{equation} \\frac{\\mathrm{d}x}{\\mathrm{d}t} = p \\end{equation}"
     ]
    },
    {
     "cell_type": "code",
     "collapsed": false,
     "input": [
      "def dy(y, t, zeta, w0):\n",
      "    \"\"\"\n",
      "    Desna strana ODJ za harmoni\u010dki oscilator\n",
      "    \"\"\"\n",
      "    x, p = y[0], y[1]\n",
      "    \n",
      "    dx = p\n",
      "    dp = -2 * zeta * w0 * p - w0**2 * x\n",
      "\n",
      "    return [dx, dp]"
     ],
     "language": "python",
     "metadata": {
      "slideshow": {
       "slide_type": "subslide"
      }
     },
     "outputs": [],
     "prompt_number": 98
    },
    {
     "cell_type": "code",
     "collapsed": false,
     "input": [
      "# po\u010detno stanje: \n",
      "y0 = [1.0, 0.0]"
     ],
     "language": "python",
     "metadata": {
      "slideshow": {
       "slide_type": "subslide"
      }
     },
     "outputs": [],
     "prompt_number": 99
    },
    {
     "cell_type": "code",
     "collapsed": false,
     "input": [
      "# vremena, frekvencija\n",
      "t = linspace(0, 10, 1000)\n",
      "w0 = 2*pi*1.0"
     ],
     "language": "python",
     "metadata": {
      "slideshow": {
       "slide_type": "fragment"
      }
     },
     "outputs": [],
     "prompt_number": 100
    },
    {
     "cell_type": "code",
     "collapsed": false,
     "input": [
      "# rje\u0161avamo ODJ za tri vrste prigu\u0161enja\n",
      "\n",
      "y1 = odeint(dy, y0, t, args=(0.0, w0)) # negu\u0161eno\n",
      "y2 = odeint(dy, y0, t, args=(0.2, w0)) # podgu\u0161eno\n",
      "y3 = odeint(dy, y0, t, args=(1.0, w0)) # kriti\u010dko gu\u0161enje\n",
      "y4 = odeint(dy, y0, t, args=(5.0, w0)) # pregu\u0161eno"
     ],
     "language": "python",
     "metadata": {
      "slideshow": {
       "slide_type": "subslide"
      }
     },
     "outputs": [],
     "prompt_number": 101
    },
    {
     "cell_type": "code",
     "collapsed": false,
     "input": [
      "fig, ax = subplots()\n",
      "ax.plot(t, y1[:,0], 'k', label=u\"negu\u0161eno\", linewidth=0.25)\n",
      "ax.plot(t, y2[:,0], 'r', label=u\"podgu\u0161eno\")\n",
      "ax.plot(t, y3[:,0], 'b', label=u\"kriti\u010dko gu\u0161enje\")\n",
      "ax.plot(t, y4[:,0], 'g', label=u\"pregu\u0161eno\")\n",
      "ax.legend();"
     ],
     "language": "python",
     "metadata": {
      "slideshow": {
       "slide_type": "subslide"
      }
     },
     "outputs": [
      {
       "metadata": {},
       "output_type": "display_data",
       "png": "[encoded data removed]",
       "text": [
        "<matplotlib.figure.Figure at 0x24fb950>"
       ]
      }
     ],
     "prompt_number": 102
    },
    {
     "cell_type": "markdown",
     "metadata": {
      "slideshow": {
       "slide_type": "slide"
      }
     },
     "source": [
      "## Fourierova transformacija\n",
      "\n",
      "Paket je `fftpack`:"
     ]
    },
    {
     "cell_type": "code",
     "collapsed": false,
     "input": [
      "from scipy.fftpack import *"
     ],
     "language": "python",
     "metadata": {
      "slideshow": {
       "slide_type": "fragment"
      }
     },
     "outputs": [],
     "prompt_number": 103
    },
    {
     "cell_type": "markdown",
     "metadata": {
      "slideshow": {
       "slide_type": "subslide"
      }
     },
     "source": [
      "Primjenimo Fourierovu transformaciju na prethodni primjer harmoni\u010dkog oscilatora."
     ]
    },
    {
     "cell_type": "code",
     "collapsed": false,
     "input": [
      "N = len(t)\n",
      "dt = t[1]-t[0]\n",
      "\n",
      "# y2 je rje\u0161enje podgu\u0161enog harmoni\u010dkog oscilatora\n",
      "F = fft(y2[:,0]) \n",
      "\n",
      "# izra\u010dunajmo frekvencije\n",
      "w = fftfreq(N, dt)"
     ],
     "language": "python",
     "metadata": {
      "slideshow": {
       "slide_type": "fragment"
      }
     },
     "outputs": [],
     "prompt_number": 104
    },
    {
     "cell_type": "code",
     "collapsed": false,
     "input": [
      "fig, ax = subplots(figsize=(9,3))\n",
      "ax.plot(w, abs(F));"
     ],
     "language": "python",
     "metadata": {
      "slideshow": {
       "slide_type": "subslide"
      }
     },
     "outputs": [
      {
       "metadata": {},
       "output_type": "display_data",
       "png": "[encoded data removed]",
       "text": [
        "<matplotlib.figure.Figure at 0x3244550>"
       ]
      }
     ],
     "prompt_number": 105
    },
    {
     "cell_type": "markdown",
     "metadata": {
      "slideshow": {
       "slide_type": "subslide"
      }
     },
     "source": [
      "Kako je signal realan, spektar je simetri\u010dan. Stoga nam je dosta nacrtati pozitivne frekvencije."
     ]
    },
    {
     "cell_type": "code",
     "collapsed": false,
     "input": [
      "indeksi = where(w > 0)\n",
      "w_pos = w[indeksi]\n",
      "F_pos = F[indeksi]"
     ],
     "language": "python",
     "metadata": {
      "slideshow": {
       "slide_type": "fragment"
      }
     },
     "outputs": [],
     "prompt_number": 106
    },
    {
     "cell_type": "code",
     "collapsed": false,
     "input": [
      "fig, ax = subplots(figsize=(9,3))\n",
      "ax.plot(w_pos, abs(F_pos))\n",
      "ax.set_xlim(0, 5);"
     ],
     "language": "python",
     "metadata": {
      "slideshow": {
       "slide_type": "subslide"
      }
     },
     "outputs": [
      {
       "metadata": {},
       "output_type": "display_data",
       "png": "[encoded data removed]",
       "text": [
        "<matplotlib.figure.Figure at 0x39f6e90>"
       ]
      }
     ],
     "prompt_number": 107
    },
    {
     "cell_type": "markdown",
     "metadata": {
      "slideshow": {
       "slide_type": "slide"
      }
     },
     "source": [
      "## Linearna algebra\n",
      "\n",
      "Detaljna dokumentacija: [http://docs.scipy.org/doc/scipy/reference/linalg.html](http://docs.scipy.org/doc/scipy/reference/linalg.html)\n",
      "\n",
      "Ne\u0107emo prolaziti kroz sve funkcije."
     ]
    },
    {
     "cell_type": "markdown",
     "metadata": {
      "slideshow": {
       "slide_type": "slide"
      }
     },
     "source": [
      "#### Sustavi linearnih jednad\u017ebi\n",
      "\n",
      "$A x = b$"
     ]
    },
    {
     "cell_type": "code",
     "collapsed": false,
     "input": [
      "A = array([[1,2,3], [4,5,6], [7,8,9]])\n",
      "b = array([1,2,3])"
     ],
     "language": "python",
     "metadata": {
      "slideshow": {
       "slide_type": "fragment"
      }
     },
     "outputs": [],
     "prompt_number": 108
    },
    {
     "cell_type": "code",
     "collapsed": false,
     "input": [
      "x = solve(A, b)\n",
      "x"
     ],
     "language": "python",
     "metadata": {
      "slideshow": {
       "slide_type": "fragment"
      }
     },
     "outputs": [
      {
       "metadata": {},
       "output_type": "pyout",
       "prompt_number": 109,
       "text": [
        "array([-0.33333333,  0.66666667,  0.        ])"
       ]
      }
     ],
     "prompt_number": 109
    },
    {
     "cell_type": "code",
     "collapsed": false,
     "input": [
      "# provjera\n",
      "dot(A, x) - b"
     ],
     "language": "python",
     "metadata": {
      "slideshow": {
       "slide_type": "fragment"
      }
     },
     "outputs": [
      {
       "metadata": {},
       "output_type": "pyout",
       "prompt_number": 110,
       "text": [
        "array([  0.00000000e+00,  -2.22044605e-16,   0.00000000e+00])"
       ]
      }
     ],
     "prompt_number": 110
    },
    {
     "cell_type": "markdown",
     "metadata": {
      "slideshow": {
       "slide_type": "subslide"
      }
     },
     "source": [
      "$A X = B$"
     ]
    },
    {
     "cell_type": "code",
     "collapsed": false,
     "input": [
      "A = rand(3,3)\n",
      "B = rand(3,3)"
     ],
     "language": "python",
     "metadata": {
      "slideshow": {
       "slide_type": "fragment"
      }
     },
     "outputs": [],
     "prompt_number": 111
    },
    {
     "cell_type": "code",
     "collapsed": false,
     "input": [
      "X = solve(A, B)\n",
      "X"
     ],
     "language": "python",
     "metadata": {
      "slideshow": {
       "slide_type": "fragment"
      }
     },
     "outputs": [
      {
       "metadata": {},
       "output_type": "pyout",
       "prompt_number": 112,
       "text": [
        "array([[  1.22891924e+01,   5.82153250e-01,  -8.16528180e-01],\n",
        "       [ -1.09387699e+02,   6.17392796e+00,   2.01607263e+01],\n",
        "       [  5.26327234e+00,   5.28707363e-01,   4.59846331e-02]])"
       ]
      }
     ],
     "prompt_number": 112
    },
    {
     "cell_type": "code",
     "collapsed": false,
     "input": [
      "# provjera\n",
      "norm(dot(A, X) - B)"
     ],
     "language": "python",
     "metadata": {
      "slideshow": {
       "slide_type": "fragment"
      }
     },
     "outputs": [
      {
       "metadata": {},
       "output_type": "pyout",
       "prompt_number": 113,
       "text": [
        "7.6113055862426159e-16"
       ]
      }
     ],
     "prompt_number": 113
    },
    {
     "cell_type": "markdown",
     "metadata": {
      "slideshow": {
       "slide_type": "slide"
      }
     },
     "source": [
      "#### Svojstveni problem"
     ]
    },
    {
     "cell_type": "markdown",
     "metadata": {
      "slideshow": {
       "slide_type": "fragment"
      }
     },
     "source": [
      "\\begin{equation}\\displaystyle A v = \\lambda v\\end{equation}"
     ]
    },
    {
     "cell_type": "code",
     "collapsed": false,
     "input": [
      "evals = eigvals(A)\n",
      "evals"
     ],
     "language": "python",
     "metadata": {
      "slideshow": {
       "slide_type": "fragment"
      }
     },
     "outputs": [
      {
       "metadata": {},
       "output_type": "pyout",
       "prompt_number": 114,
       "text": [
        "array([ 1.04854786,  0.15862621, -0.00936374])"
       ]
      }
     ],
     "prompt_number": 114
    },
    {
     "cell_type": "code",
     "collapsed": false,
     "input": [
      "evals, evecs = eig(A)"
     ],
     "language": "python",
     "metadata": {
      "slideshow": {
       "slide_type": "subslide"
      }
     },
     "outputs": [],
     "prompt_number": "*"
    },
    {
     "cell_type": "code",
     "collapsed": false,
     "input": [
      "evals"
     ],
     "language": "python",
     "metadata": {
      "slideshow": {
       "slide_type": "fragment"
      }
     },
     "outputs": [],
     "prompt_number": "*"
    },
    {
     "cell_type": "code",
     "collapsed": false,
     "input": [
      "evecs"
     ],
     "language": "python",
     "metadata": {
      "slideshow": {
       "slide_type": "fragment"
      }
     },
     "outputs": [],
     "prompt_number": 117
    },
    {
     "cell_type": "markdown",
     "metadata": {
      "slideshow": {
       "slide_type": "subslide"
      }
     },
     "source": [
      "Svojstveni vektori su stupci u `evecs`:"
     ]
    },
    {
     "cell_type": "code",
     "collapsed": false,
     "input": [
      "n = 1\n",
      "\n",
      "norm(dot(A, evecs[:,n]) - evals[n] * evecs[:,n])"
     ],
     "language": "python",
     "metadata": {
      "slideshow": {
       "slide_type": "fragment"
      }
     },
     "outputs": [
      {
       "metadata": {},
       "output_type": "pyout",
       "prompt_number": 118,
       "text": [
        "6.2450045135165055e-17"
       ]
      }
     ],
     "prompt_number": 118
    },
    {
     "cell_type": "markdown",
     "metadata": {
      "slideshow": {
       "slide_type": "fragment"
      }
     },
     "source": [
      "To nije sve, postoje i specijalizirane funkcije, kao npr. `eigh` za hermitske matrice"
     ]
    },
    {
     "cell_type": "markdown",
     "metadata": {
      "slideshow": {
       "slide_type": "slide"
      }
     },
     "source": [
      "#### Matri\u010dne operacije"
     ]
    },
    {
     "cell_type": "code",
     "collapsed": false,
     "input": [
      "# inverz\n",
      "inv(A)"
     ],
     "language": "python",
     "metadata": {
      "slideshow": {
       "slide_type": "fragment"
      }
     },
     "outputs": [
      {
       "metadata": {},
       "output_type": "pyout",
       "prompt_number": 119,
       "text": [
        "array([[ -21.99632613,   11.27019861,   11.55415712],\n",
        "       [ 211.63060252,  -83.78512343, -121.81391072],\n",
        "       [  -8.37703615,    2.76501218,    6.24437788]])"
       ]
      }
     ],
     "prompt_number": 119
    },
    {
     "cell_type": "code",
     "collapsed": false,
     "input": [
      "# determinanta\n",
      "det(A)"
     ],
     "language": "python",
     "metadata": {
      "slideshow": {
       "slide_type": "subslide"
      }
     },
     "outputs": [
      {
       "metadata": {},
       "output_type": "pyout",
       "prompt_number": 120,
       "text": [
        "-0.0015574448561462557"
       ]
      }
     ],
     "prompt_number": 120
    },
    {
     "cell_type": "code",
     "collapsed": false,
     "input": [
      "# razne norme\n",
      "norm(A, ord=2), norm(A, ord=Inf)"
     ],
     "language": "python",
     "metadata": {
      "slideshow": {
       "slide_type": "fragment"
      }
     },
     "outputs": [
      {
       "metadata": {},
       "output_type": "pyout",
       "prompt_number": 121,
       "text": [
        "(1.2167102535762071, 1.0784598354304924)"
       ]
      }
     ],
     "prompt_number": 121
    },
    {
     "cell_type": "markdown",
     "metadata": {
      "slideshow": {
       "slide_type": "slide"
      }
     },
     "source": [
      "## Rijetke matrice\n",
      "\n",
      "Vi\u0161e informacija na [http://en.wikipedia.org/wiki/Sparse_matrix](http://en.wikipedia.org/wiki/Sparse_matrix)\n",
      "\n",
      "Postoji vi\u0161e formata rijetkih matrica, mi ne\u0107emo ulaziti u detalje."
     ]
    },
    {
     "cell_type": "code",
     "collapsed": false,
     "input": [
      "from scipy.sparse import *"
     ],
     "language": "python",
     "metadata": {
      "slideshow": {
       "slide_type": "fragment"
      }
     },
     "outputs": [],
     "prompt_number": 122
    },
    {
     "cell_type": "code",
     "collapsed": false,
     "input": [
      "# gusta matrica\n",
      "M = array([[1,0,0,0], [0,3,0,0], [0,1,1,0], [1,0,0,1]]); M"
     ],
     "language": "python",
     "metadata": {
      "slideshow": {
       "slide_type": "subslide"
      }
     },
     "outputs": [
      {
       "metadata": {},
       "output_type": "pyout",
       "prompt_number": 123,
       "text": [
        "array([[1, 0, 0, 0],\n",
        "       [0, 3, 0, 0],\n",
        "       [0, 1, 1, 0],\n",
        "       [1, 0, 0, 1]])"
       ]
      }
     ],
     "prompt_number": 123
    },
    {
     "cell_type": "code",
     "collapsed": false,
     "input": [
      "# pretvorimo je u rijetku matricu\n",
      "A = csr_matrix(M); A"
     ],
     "language": "python",
     "metadata": {
      "slideshow": {
       "slide_type": "subslide"
      }
     },
     "outputs": [
      {
       "metadata": {},
       "output_type": "pyout",
       "prompt_number": 124,
       "text": [
        "<4x4 sparse matrix of type '<type 'numpy.int64'>'\n",
        "\twith 6 stored elements in Compressed Sparse Row format>"
       ]
      }
     ],
     "prompt_number": 124
    },
    {
     "cell_type": "code",
     "collapsed": false,
     "input": [
      "# vratimo natrag\n",
      "A.todense()"
     ],
     "language": "python",
     "metadata": {
      "slideshow": {
       "slide_type": "subslide"
      }
     },
     "outputs": [
      {
       "metadata": {},
       "output_type": "pyout",
       "prompt_number": 125,
       "text": [
        "matrix([[1, 0, 0, 0],\n",
        "        [0, 3, 0, 0],\n",
        "        [0, 1, 1, 0],\n",
        "        [1, 0, 0, 1]])"
       ]
      }
     ],
     "prompt_number": 125
    },
    {
     "cell_type": "markdown",
     "metadata": {
      "slideshow": {
       "slide_type": "subslide"
      }
     },
     "source": [
      "Pametniji na\u010din kreiranja rijetke matrice."
     ]
    },
    {
     "cell_type": "code",
     "collapsed": false,
     "input": [
      "A = lil_matrix((4,4)) # prazna 4x4 rijetka matrica\n",
      "A[0,0] = 1\n",
      "A[1,1] = 3\n",
      "A[2,2] = A[2,1] = 1\n",
      "A[3,3] = A[3,0] = 1\n",
      "A"
     ],
     "language": "python",
     "metadata": {
      "slideshow": {
       "slide_type": "fragment"
      }
     },
     "outputs": [
      {
       "metadata": {},
       "output_type": "pyout",
       "prompt_number": 126,
       "text": [
        "<4x4 sparse matrix of type '<type 'numpy.float64'>'\n",
        "\twith 6 stored elements in LInked List format>"
       ]
      }
     ],
     "prompt_number": 126
    },
    {
     "cell_type": "code",
     "collapsed": false,
     "input": [
      "A.todense()"
     ],
     "language": "python",
     "metadata": {
      "slideshow": {
       "slide_type": "subslide"
      }
     },
     "outputs": [
      {
       "metadata": {},
       "output_type": "pyout",
       "prompt_number": 127,
       "text": [
        "matrix([[ 1.,  0.,  0.,  0.],\n",
        "        [ 0.,  3.,  0.,  0.],\n",
        "        [ 0.,  1.,  1.,  0.],\n",
        "        [ 1.,  0.,  0.,  1.]])"
       ]
      }
     ],
     "prompt_number": 127
    },
    {
     "cell_type": "code",
     "collapsed": false,
     "input": [
      "# konvertiranje\n",
      "A = csr_matrix(A); A"
     ],
     "language": "python",
     "metadata": {
      "slideshow": {
       "slide_type": "subslide"
      }
     },
     "outputs": [
      {
       "metadata": {},
       "output_type": "pyout",
       "prompt_number": 128,
       "text": [
        "<4x4 sparse matrix of type '<type 'numpy.float64'>'\n",
        "\twith 6 stored elements in Compressed Sparse Row format>"
       ]
      }
     ],
     "prompt_number": 128
    },
    {
     "cell_type": "code",
     "collapsed": false,
     "input": [
      "A = csc_matrix(A); A"
     ],
     "language": "python",
     "metadata": {
      "slideshow": {
       "slide_type": "fragment"
      }
     },
     "outputs": [
      {
       "metadata": {},
       "output_type": "pyout",
       "prompt_number": 129,
       "text": [
        "<4x4 sparse matrix of type '<type 'numpy.float64'>'\n",
        "\twith 6 stored elements in Compressed Sparse Column format>"
       ]
      }
     ],
     "prompt_number": 129
    },
    {
     "cell_type": "code",
     "collapsed": false,
     "input": [
      "A.todense()"
     ],
     "language": "python",
     "metadata": {
      "slideshow": {
       "slide_type": "subslide"
      }
     },
     "outputs": [
      {
       "metadata": {},
       "output_type": "pyout",
       "prompt_number": 130,
       "text": [
        "matrix([[ 1.,  0.,  0.,  0.],\n",
        "        [ 0.,  3.,  0.,  0.],\n",
        "        [ 0.,  1.,  1.,  0.],\n",
        "        [ 1.,  0.,  0.,  1.]])"
       ]
      }
     ],
     "prompt_number": 130
    },
    {
     "cell_type": "code",
     "collapsed": false,
     "input": [
      "(A * A).todense()"
     ],
     "language": "python",
     "metadata": {
      "slideshow": {
       "slide_type": "subslide"
      }
     },
     "outputs": [
      {
       "metadata": {},
       "output_type": "pyout",
       "prompt_number": 131,
       "text": [
        "matrix([[ 1.,  0.,  0.,  0.],\n",
        "        [ 0.,  9.,  0.,  0.],\n",
        "        [ 0.,  4.,  1.,  0.],\n",
        "        [ 2.,  0.,  0.,  1.]])"
       ]
      }
     ],
     "prompt_number": 131
    },
    {
     "cell_type": "code",
     "collapsed": false,
     "input": [
      "A.dot(A).todense()"
     ],
     "language": "python",
     "metadata": {
      "slideshow": {
       "slide_type": "subslide"
      }
     },
     "outputs": [
      {
       "metadata": {},
       "output_type": "pyout",
       "prompt_number": 132,
       "text": [
        "matrix([[ 1.,  0.,  0.,  0.],\n",
        "        [ 0.,  9.,  0.,  0.],\n",
        "        [ 0.,  4.,  1.,  0.],\n",
        "        [ 2.,  0.,  0.,  1.]])"
       ]
      }
     ],
     "prompt_number": 132
    },
    {
     "cell_type": "code",
     "collapsed": false,
     "input": [
      "# ovo ne radi\n",
      "dot(A,A)\n",
      "# iz dokumentacije:\n",
      "# As of NumPy 1.7, np.dot is not aware of sparse matrices, therefore using it will result on unexpected results or errors."
     ],
     "language": "python",
     "metadata": {
      "slideshow": {
       "slide_type": "subslide"
      }
     },
     "outputs": [
      {
       "ename": "ValueError",
       "evalue": "Cannot find a common data type.",
       "output_type": "pyerr",
       "traceback": [
        "\u001b[1;31m---------------------------------------------------------------------------\u001b[0m\n\u001b[1;31mValueError\u001b[0m                                Traceback (most recent call last)",
        "\u001b[1;32m<ipython-input-133-ce3630a7fcf1>\u001b[0m in \u001b[0;36m<module>\u001b[1;34m()\u001b[0m\n\u001b[0;32m      1\u001b[0m \u001b[1;31m# ovo ne radi\u001b[0m\u001b[1;33m\u001b[0m\u001b[1;33m\u001b[0m\u001b[0m\n\u001b[1;32m----> 2\u001b[1;33m \u001b[0mdot\u001b[0m\u001b[1;33m(\u001b[0m\u001b[0mA\u001b[0m\u001b[1;33m,\u001b[0m\u001b[0mA\u001b[0m\u001b[1;33m)\u001b[0m\u001b[1;33m\u001b[0m\u001b[0m\n\u001b[0m\u001b[0;32m      3\u001b[0m \u001b[1;31m# iz dokumentacije:\u001b[0m\u001b[1;33m\u001b[0m\u001b[1;33m\u001b[0m\u001b[0m\n\u001b[0;32m      4\u001b[0m \u001b[1;31m# As of NumPy 1.7, np.dot is not aware of sparse matrices, therefore using it will result on unexpected results or errors.\u001b[0m\u001b[1;33m\u001b[0m\u001b[1;33m\u001b[0m\u001b[0m\n",
        "\u001b[1;31mValueError\u001b[0m: Cannot find a common data type."
       ]
      }
     ],
     "prompt_number": 133
    },
    {
     "cell_type": "code",
     "collapsed": false,
     "input": [
      "v = array([1,2,3,4])[:,newaxis]; v"
     ],
     "language": "python",
     "metadata": {
      "slideshow": {
       "slide_type": "subslide"
      }
     },
     "outputs": [
      {
       "metadata": {},
       "output_type": "pyout",
       "prompt_number": 134,
       "text": [
        "array([[1],\n",
        "       [2],\n",
        "       [3],\n",
        "       [4]])"
       ]
      }
     ],
     "prompt_number": 134
    },
    {
     "cell_type": "markdown",
     "metadata": {
      "slideshow": {
       "slide_type": "fragment"
      }
     },
     "source": [
      "Vektor `v` smo mogli konstruirati i druga\u010dije (vidjeli smo primjere u predavanju o NumPy-ju), no uvijek trebamo do\u0107i do dvodimenzionalnog niza. Za razliku od MATLAB-a u kojemu su svi nizovi 2D, u NumPy-ju 1D niz nije isto \u0161to i matrica $n\\times 1$ ili $1\\times n$.\n",
      "Npr. jedna mogu\u0107nost je\n",
      "```\n",
      "v = array([[1,2,3,4]]).T\n",
      "````"
     ]
    },
    {
     "cell_type": "code",
     "collapsed": false,
     "input": [
      "# rijetka matrica puta vektor\n",
      "A * v"
     ],
     "language": "python",
     "metadata": {
      "slideshow": {
       "slide_type": "subslide"
      }
     },
     "outputs": [
      {
       "metadata": {},
       "output_type": "pyout",
       "prompt_number": 135,
       "text": [
        "array([[ 1.],\n",
        "       [ 6.],\n",
        "       [ 5.],\n",
        "       [ 5.]])"
       ]
      }
     ],
     "prompt_number": 135
    },
    {
     "cell_type": "code",
     "collapsed": false,
     "input": [
      "A.todense() * v"
     ],
     "language": "python",
     "metadata": {
      "slideshow": {
       "slide_type": "subslide"
      }
     },
     "outputs": [
      {
       "metadata": {},
       "output_type": "pyout",
       "prompt_number": 136,
       "text": [
        "matrix([[ 1.],\n",
        "        [ 6.],\n",
        "        [ 5.],\n",
        "        [ 5.]])"
       ]
      }
     ],
     "prompt_number": 136
    },
    {
     "cell_type": "markdown",
     "metadata": {
      "slideshow": {
       "slide_type": "slide"
      }
     },
     "source": [
      "## Optimizacija\n",
      "\n",
      "Vi\u0161e na [http://scipy-lectures.github.com/advanced/mathematical_optimization/index.html](http://scipy-lectures.github.com/advanced/mathematical_optimization/index.html)\n",
      "\n",
      "Modul je `optimize`:"
     ]
    },
    {
     "cell_type": "code",
     "collapsed": false,
     "input": [
      "from scipy import optimize"
     ],
     "language": "python",
     "metadata": {
      "slideshow": {
       "slide_type": "fragment"
      }
     },
     "outputs": [],
     "prompt_number": 138
    },
    {
     "cell_type": "markdown",
     "metadata": {
      "slideshow": {
       "slide_type": "subslide"
      }
     },
     "source": [
      "### Nala\u017eenje minimuma"
     ]
    },
    {
     "cell_type": "code",
     "collapsed": false,
     "input": [
      "def f(x):\n",
      "    return 4*x**3 + (x-2)**2 + x**4"
     ],
     "language": "python",
     "metadata": {
      "slideshow": {
       "slide_type": "fragment"
      }
     },
     "outputs": [],
     "prompt_number": 139
    },
    {
     "cell_type": "code",
     "collapsed": false,
     "input": [
      "fig, ax  = subplots()\n",
      "x = linspace(-5, 3, 100)\n",
      "ax.plot(x, f(x));"
     ],
     "language": "python",
     "metadata": {
      "slideshow": {
       "slide_type": "subslide"
      }
     },
     "outputs": [
      {
       "metadata": {},
       "output_type": "display_data",
       "png": "[encoded data removed]",
       "text": [
        "<matplotlib.figure.Figure at 0x3275d90>"
       ]
      }
     ],
     "prompt_number": 140
    },
    {
     "cell_type": "code",
     "collapsed": false,
     "input": [
      "x_min = optimize.fmin_bfgs(f, -2)\n",
      "x_min"
     ],
     "language": "python",
     "metadata": {
      "slideshow": {
       "slide_type": "subslide"
      }
     },
     "outputs": [
      {
       "output_type": "stream",
       "stream": "stdout",
       "text": [
        "Optimization terminated successfully.\n",
        "         Current function value: -3.506641\n",
        "         Iterations: 6\n",
        "         Function evaluations: 30\n",
        "         Gradient evaluations: 10\n"
       ]
      },
      {
       "metadata": {},
       "output_type": "pyout",
       "prompt_number": 142,
       "text": [
        "array([-2.67298167])"
       ]
      }
     ],
     "prompt_number": 142
    },
    {
     "cell_type": "code",
     "collapsed": false,
     "input": [
      "optimize.fmin_bfgs(f, 0.5)"
     ],
     "language": "python",
     "metadata": {
      "slideshow": {
       "slide_type": "subslide"
      }
     },
     "outputs": [
      {
       "output_type": "stream",
       "stream": "stdout",
       "text": [
        "Optimization terminated successfully.\n",
        "         Current function value: 2.804988\n",
        "         Iterations: 3\n",
        "         Function evaluations: 15\n",
        "         Gradient evaluations: 5\n"
       ]
      },
      {
       "metadata": {},
       "output_type": "pyout",
       "prompt_number": 146,
       "text": [
        "array([ 0.46961745])"
       ]
      }
     ],
     "prompt_number": 146
    },
    {
     "cell_type": "code",
     "collapsed": false,
     "input": [
      "optimize.brent(f)"
     ],
     "language": "python",
     "metadata": {
      "slideshow": {
       "slide_type": "subslide"
      }
     },
     "outputs": [
      {
       "metadata": {},
       "output_type": "pyout",
       "prompt_number": 144,
       "text": [
        "0.46961743402759754"
       ]
      }
     ],
     "prompt_number": 144
    },
    {
     "cell_type": "code",
     "collapsed": false,
     "input": [
      "optimize.fminbound(f, -4, 2)"
     ],
     "language": "python",
     "metadata": {
      "slideshow": {
       "slide_type": "fragment"
      }
     },
     "outputs": [
      {
       "metadata": {},
       "output_type": "pyout",
       "prompt_number": 145,
       "text": [
        "-2.6729822917513886"
       ]
      }
     ],
     "prompt_number": 145
    },
    {
     "cell_type": "markdown",
     "metadata": {
      "slideshow": {
       "slide_type": "subslide"
      }
     },
     "source": [
      "### Nala\u017eenje rje\u0161enja jednad\u017ebi\n",
      "\n",
      "Problem oblika $f(x) = 0$ se rje\u0161ava `fsolve` funkcijom. "
     ]
    },
    {
     "cell_type": "code",
     "collapsed": false,
     "input": [
      "omega_c = 3.0\n",
      "def f(omega):\n",
      "    return tan(2*pi*omega) - omega_c/omega"
     ],
     "language": "python",
     "metadata": {
      "slideshow": {
       "slide_type": "fragment"
      }
     },
     "outputs": [],
     "prompt_number": 147
    },
    {
     "cell_type": "code",
     "collapsed": false,
     "input": [
      "fig, ax  = subplots(figsize=(10,4))\n",
      "x = linspace(0, 3, 1000)\n",
      "y = f(x)\n",
      "maska = where(abs(y) > 50)\n",
      "x[maska] = y[maska] = NaN # da se rije\u0161imo asimptote\n",
      "ax.plot(x, y)\n",
      "ax.plot([0, 3], [0, 0], 'k')\n",
      "ax.set_ylim(-5,5);"
     ],
     "language": "python",
     "metadata": {
      "slideshow": {
       "slide_type": "subslide"
      }
     },
     "outputs": [
      {
       "output_type": "stream",
       "stream": "stderr",
       "text": [
        "-c:3: RuntimeWarning: divide by zero encountered in divide\n"
       ]
      },
      {
       "metadata": {},
       "output_type": "display_data",
       "png": "[encoded data removed]",
       "text": [
        "<matplotlib.figure.Figure at 0x2f8fd50>"
       ]
      }
     ],
     "prompt_number": 148
    },
    {
     "cell_type": "code",
     "collapsed": false,
     "input": [
      "optimize.fsolve(f, 0.1)"
     ],
     "language": "python",
     "metadata": {
      "slideshow": {
       "slide_type": "subslide"
      }
     },
     "outputs": [
      {
       "metadata": {},
       "output_type": "pyout",
       "prompt_number": 149,
       "text": [
        "array([ 0.23743014])"
       ]
      }
     ],
     "prompt_number": 149
    },
    {
     "cell_type": "code",
     "collapsed": false,
     "input": [
      "optimize.fsolve(f, 0.6)"
     ],
     "language": "python",
     "metadata": {
      "slideshow": {
       "slide_type": "fragment"
      }
     },
     "outputs": [
      {
       "metadata": {},
       "output_type": "pyout",
       "prompt_number": 150,
       "text": [
        "array([ 0.71286972])"
       ]
      }
     ],
     "prompt_number": 150
    },
    {
     "cell_type": "code",
     "collapsed": false,
     "input": [
      "optimize.fsolve(f, 1.1)"
     ],
     "language": "python",
     "metadata": {
      "slideshow": {
       "slide_type": "fragment"
      }
     },
     "outputs": [
      {
       "metadata": {},
       "output_type": "pyout",
       "prompt_number": 151,
       "text": [
        "array([ 1.18990285])"
       ]
      }
     ],
     "prompt_number": 151
    },
    {
     "cell_type": "markdown",
     "metadata": {
      "slideshow": {
       "slide_type": "slide"
      }
     },
     "source": [
      "## Interpolacija\n",
      "\n",
      "Funkcija `interp1d`, za dane nizove $x$ i $y$ koordinata vra\u0107a objekt koji se pona\u0161a kao funkcija."
     ]
    },
    {
     "cell_type": "code",
     "collapsed": false,
     "input": [
      "from scipy.interpolate import *"
     ],
     "language": "python",
     "metadata": {
      "slideshow": {
       "slide_type": "fragment"
      }
     },
     "outputs": [],
     "prompt_number": 152
    },
    {
     "cell_type": "code",
     "collapsed": false,
     "input": [
      "def f(x):\n",
      "    return sin(x)"
     ],
     "language": "python",
     "metadata": {
      "slideshow": {
       "slide_type": "fragment"
      }
     },
     "outputs": [],
     "prompt_number": 153
    },
    {
     "cell_type": "code",
     "collapsed": false,
     "input": [
      "n = arange(0, 10)  \n",
      "x = linspace(0, 9, 100)\n",
      "\n",
      "y_meas = f(n) + 0.1 * randn(len(n)) # ubacujemo malo \u0161uma\n",
      "y_real = f(x)\n",
      "\n",
      "linear_interpolation = interp1d(n, y_meas)\n",
      "y_interp1 = linear_interpolation(x)\n",
      "\n",
      "cubic_interpolation = interp1d(n, y_meas, kind='cubic')\n",
      "y_interp2 = cubic_interpolation(x)"
     ],
     "language": "python",
     "metadata": {
      "slideshow": {
       "slide_type": "subslide"
      }
     },
     "outputs": [],
     "prompt_number": 154
    },
    {
     "cell_type": "code",
     "collapsed": false,
     "input": [
      "fig, ax = subplots(figsize=(10,4))\n",
      "ax.plot(n, y_meas, 'bs', label=u'podaci sa \u0161umom')\n",
      "ax.plot(x, y_real, 'k', lw=2, label='originalna funkcija')\n",
      "ax.plot(x, y_interp1, 'r', label='linearna interpolacija')\n",
      "ax.plot(x, y_interp2, 'g', label=u'kubi\u010dna interpolacija')\n",
      "ax.legend(loc=3);"
     ],
     "language": "python",
     "metadata": {
      "slideshow": {
       "slide_type": "subslide"
      }
     },
     "outputs": [
      {
       "metadata": {},
       "output_type": "display_data",
       "png": "[encoded data removed]",
       "text": [
        "<matplotlib.figure.Figure at 0x2f814d0>"
       ]
      }
     ],
     "prompt_number": 155
    },
    {
     "cell_type": "markdown",
     "metadata": {
      "slideshow": {
       "slide_type": "slide"
      }
     },
     "source": [
      "## Statistika\n",
      "\n",
      "Vi\u0161e na [http://docs.scipy.org/doc/scipy/reference/stats.html](http://docs.scipy.org/doc/scipy/reference/stats.html).\n",
      "\n",
      "Mi \u0107emo kasnije raditi s mo\u0107nijim paketom `pandas`."
     ]
    },
    {
     "cell_type": "code",
     "collapsed": false,
     "input": [
      "from scipy import stats"
     ],
     "language": "python",
     "metadata": {
      "slideshow": {
       "slide_type": "fragment"
      }
     },
     "outputs": [],
     "prompt_number": 156
    },
    {
     "cell_type": "code",
     "collapsed": false,
     "input": [
      "# slu\u010dajna varijabla s Poissionovom distribucijom\n",
      "\n",
      "X = stats.poisson(3.5)"
     ],
     "language": "python",
     "metadata": {
      "slideshow": {
       "slide_type": "subslide"
      }
     },
     "outputs": [],
     "prompt_number": 157
    },
    {
     "cell_type": "code",
     "collapsed": false,
     "input": [
      "n = arange(0,15)\n",
      "\n",
      "fig, axes = subplots(2,1, sharex=True)\n",
      "\n",
      "# kumulativna distribucija (CDF)\n",
      "axes[0].step(n, X.cdf(n))\n",
      "\n",
      "#  histogram 1000 slu\u010dajnih realizacija od X\n",
      "axes[1].hist(X.rvs(size=1000));"
     ],
     "language": "python",
     "metadata": {
      "slideshow": {
       "slide_type": "fragment"
      }
     },
     "outputs": [
      {
       "metadata": {},
       "output_type": "display_data",
       "png": "[encoded data removed]",
       "text": [
        "<matplotlib.figure.Figure at 0x297c490>"
       ]
      }
     ],
     "prompt_number": 158
    },
    {
     "cell_type": "code",
     "collapsed": false,
     "input": [
      "# normalna distribucija\n",
      "Y = stats.norm()"
     ],
     "language": "python",
     "metadata": {
      "slideshow": {
       "slide_type": "subslide"
      }
     },
     "outputs": [],
     "prompt_number": 159
    },
    {
     "cell_type": "code",
     "collapsed": false,
     "input": [
      "x = linspace(-5,5,100)\n",
      "fig, axes = subplots(3,1, sharex=True)\n",
      "# PDF\n",
      "axes[0].plot(x, Y.pdf(x))\n",
      "# CDF\n",
      "axes[1].plot(x, Y.cdf(x));\n",
      "# histogram\n",
      "axes[2].hist(Y.rvs(size=1000), bins=50);"
     ],
     "language": "python",
     "metadata": {
      "slideshow": {
       "slide_type": "fragment"
      }
     },
     "outputs": [
      {
       "metadata": {},
       "output_type": "display_data",
       "png": "[encoded data removed]",
       "text": [
        "<matplotlib.figure.Figure at 0x3255890>"
       ]
      }
     ],
     "prompt_number": 160
    },
    {
     "cell_type": "markdown",
     "metadata": {
      "slideshow": {
       "slide_type": "subslide"
      }
     },
     "source": [
      "Osnovna statistika:"
     ]
    },
    {
     "cell_type": "code",
     "collapsed": false,
     "input": [
      "X.mean(), X.std(), X.var()"
     ],
     "language": "python",
     "metadata": {
      "slideshow": {
       "slide_type": "fragment"
      }
     },
     "outputs": [
      {
       "metadata": {},
       "output_type": "pyout",
       "prompt_number": 161,
       "text": [
        "(3.5, 1.8708286933869707, 3.5)"
       ]
      }
     ],
     "prompt_number": 161
    },
    {
     "cell_type": "code",
     "collapsed": false,
     "input": [
      "Y.mean(), Y.std(), Y.var()"
     ],
     "language": "python",
     "metadata": {
      "slideshow": {
       "slide_type": "fragment"
      }
     },
     "outputs": [
      {
       "metadata": {},
       "output_type": "pyout",
       "prompt_number": 162,
       "text": [
        "(0.0, 1.0, 1.0)"
       ]
      }
     ],
     "prompt_number": 162
    },
    {
     "cell_type": "markdown",
     "metadata": {
      "slideshow": {
       "slide_type": "slide"
      }
     },
     "source": [
      "#Zadaci za vje\u017ebu\n",
      "\n",
      "- Konstruirajte $1000\\times 1000$ matricu tipa `lil_matrix`, konvertirajte je u  `CSR` format i rije\u0161ite $A x = b$ za neki $b$.\n",
      "- U\u010ditajte matricu [ODEP400A](http://math.nist.gov/MatrixMarket/data/NEP/mvmode/odep400a.html) te izra\u010dunajte 100 njenih svojstvenih vrijednosti.\n",
      "- Zadana je funkcija $f(x)=\\mathrm{exp}(-1/(0.1x^2 + y^2)$. Ta funkcija ima minimum u $(0,0)$. Krenuv\u0161i od po\u010detne to\u010dke $(1, 1)$, probajte do\u0107i $10^{-8}$ blizu minimuma koriste\u0107i funkcije za optimizaciju. \n",
      "- Rije\u0161ite [Lotka-Volterrin sustav ODJ](http://en.wikipedia.org/wiki/Lotka%E2%80%93Volterra_equation) za razli\u010dite parametre $\\alpha$, $\\beta$, $\\gamma$, $\\delta$.\n"
     ]
    },
    {
     "cell_type": "markdown",
     "metadata": {
      "slideshow": {
       "slide_type": "subslide"
      }
     },
     "source": [
      "Slika [moonlanding.png](http://scipy-lectures.github.io/_images/moonlanding.png) je puna \u0161uma. Zada\u0107a je o\u010distiti sliku koriste\u0107i Fourierovu transformaciju.\n",
      "\n",
      "- U\u010ditajte sliku s `pylab.imread()`.\n",
      "- Na\u0111ite i iskoristite 2-D FFT funkciju iz `scipy.fftpack` i nacrtajte spektar slike.\n",
      "- Spektar se sastoji od komponenti s viskom i niskom frekvencijom. \u0160um je smje\u0161ten u dijelu spektra s visokom frekvencijom, pa probajte neke od tih komponenti staviti na nulu.\n",
      "- Koristite inverznu Fourierovu transformaciju da pogledate da li ste napravili dobar posao."
     ]
    }
   ],
   "metadata": {}
  }
 ]
}